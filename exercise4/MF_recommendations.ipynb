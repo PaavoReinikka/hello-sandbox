{
 "cells": [
  {
   "cell_type": "code",
   "execution_count": 1,
   "id": "8b0d28f0",
   "metadata": {},
   "outputs": [],
   "source": [
    "import numpy as np"
   ]
  },
  {
   "cell_type": "code",
   "execution_count": 2,
   "id": "ad5854bb",
   "metadata": {},
   "outputs": [],
   "source": [
    "def random_initialization(D,rank):\n",
    "    number_of_documents = D.shape[0]\n",
    "    number_of_terms = D.shape[1]\n",
    "    U = np.random.uniform(1,2,(number_of_documents,rank))\n",
    "    V = np.random.uniform(1,2,(rank,number_of_terms))\n",
    "    return U,V.T\n",
    "\n",
    "# NNDSVD method, Boutsidis & Gallopoulos, 2007\n",
    "def nnd_svd_initialization(D,rank):\n",
    "    u,s,v=np.linalg.svd(D,full_matrices=False)\n",
    "    v=v.T\n",
    "    w=np.zeros((D.shape[0],rank))\n",
    "    h=np.zeros((rank,D.shape[1]))\n",
    "\n",
    "    w[:,0]=np.sqrt(s[0])*np.abs(u[:,0])\n",
    "    h[0,:]=np.sqrt(s[0])*np.abs(v[:,0].T)\n",
    "\n",
    "    for i in range(1,rank):\n",
    "        \n",
    "        ui=u[:,i]\n",
    "        vi=v[:,i]\n",
    "        ui_pos=(ui>=0)*ui\n",
    "        ui_neg=(ui<0)*-ui\n",
    "        vi_pos=(vi>=0)*vi\n",
    "        vi_neg=(vi<0)*-vi\n",
    "        \n",
    "        ui_pos_norm=np.linalg.norm(ui_pos,2)\n",
    "        ui_neg_norm=np.linalg.norm(ui_neg,2)\n",
    "        vi_pos_norm=np.linalg.norm(vi_pos,2)\n",
    "        vi_neg_norm=np.linalg.norm(vi_neg,2)\n",
    "        \n",
    "        norm_pos=ui_pos_norm*vi_pos_norm\n",
    "        norm_neg=ui_neg_norm*vi_neg_norm\n",
    "        \n",
    "        if norm_pos>=norm_neg:\n",
    "            w[:,i]=np.sqrt(s[i]*norm_pos)/ui_pos_norm*ui_pos\n",
    "            h[i,:]=np.sqrt(s[i]*norm_pos)/vi_pos_norm*vi_pos.T\n",
    "        else:\n",
    "            w[:,i]=np.sqrt(s[i]*norm_neg)/ui_neg_norm*ui_neg\n",
    "            h[i,:]=np.sqrt(s[i]*norm_neg)/vi_neg_norm*vi_neg.T\n",
    "\n",
    "    return w,h.T\n",
    "\n",
    "\n",
    "# This does not enforce non-negativity (just a direct minimization of reconstruction\n",
    "# error, possibly with L2 regularization term\n",
    "def matrix_factorization(ratings, U_init, V_init, latent_dims, n_iter=5000, alpha=0.0002, beta=0.02, tol=1e-3):\n",
    "    '''\n",
    "    D: rating matrix\n",
    "    U: #users x latent_dims\n",
    "    V: #items x latent_dims\n",
    "    alpha: learning rate\n",
    "    beta: regularization parameter'''\n",
    "    D = ratings\n",
    "    U = U_init\n",
    "    V = V_init.T\n",
    "    n_u, n_i = D.shape\n",
    "    \n",
    "    for step in range(n_iter):\n",
    "        for i in range(n_u):\n",
    "            for j in range(n_i):\n",
    "                if D[i,j] > 0:\n",
    "                    # calculate error for prediction\n",
    "                    e_ij = D[i,j] - np.dot(U[i,:],V[:,j])\n",
    "\n",
    "                    for k in range(latent_dims):\n",
    "                        # update with gradient information\n",
    "                        U[i,k] = U[i,k] + alpha * (2 * e_ij * V[k,j] - beta * U[i,k])\n",
    "                        V[k,j] = V[k,j] + alpha * (2 * e_ij * U[i,k] - beta * V[k,j])\n",
    "\n",
    "        e = (D - U@V)[np.where(D>0)].reshape(-1)\n",
    "        if(np.linalg.norm(e)<tol):\n",
    "            break\n",
    "    print(\"Number of steps: {}\".format(step+1))\n",
    "    return U, V.T\n",
    "\n",
    "\n",
    "#Using multiplicative updates. Enforces non-negativity (e.g., Aggarwals book)\n",
    "#This is a very \"banana\"-model - adding regularization should improve slightly.\n",
    "#Mostly interested in trying this with hybrid recommender systems,  where\n",
    "# initial sparse data is \"densified\" with content based method and only then\n",
    "# using NMF/MF for final recommendations (or svd-low-rank, collaborative filtering, etc.)\n",
    "def nn_matrix_factorization(ratings, U_init, V_init, latent_dims, n_iter=1000, tol=1e-3):\n",
    "    D = ratings\n",
    "    U = U_init\n",
    "    V = V_init\n",
    "    n_u, n_i = D.shape\n",
    "    K = latent_dims\n",
    "    err = []\n",
    "    for step in range(n_iter):\n",
    "        #update V\n",
    "        DtU = D.T@U\n",
    "        VUtU = V@U.T@U\n",
    "        for i in range(n_i):\n",
    "            for j in range(K):\n",
    "                V[i,j] *= DtU[i,j] / VUtU[i,j]\n",
    "        \n",
    "        #update U\n",
    "        DV = D@V\n",
    "        UVtV = U@V.T@V\n",
    "        for i in range(n_u):\n",
    "            for j in range(K):\n",
    "                U[i,j] *= DV[i,j] / UVtV[i,j]\n",
    "        e = np.linalg.norm(D-U@V.T, 'fro')\n",
    "        err.append(e)\n",
    "        if(e<tol):\n",
    "            break\n",
    "    return U,V\n",
    "    \n",
    "    \n",
    "    "
   ]
  },
  {
   "cell_type": "code",
   "execution_count": 2,
   "id": "b91fb04c",
   "metadata": {},
   "outputs": [],
   "source": [
    "data = np.array([[3,1,2,2,0,2],\n",
    "                [4,2,3,3,4,2],\n",
    "                [4,1,3,3,2,5],\n",
    "                [0,3,4,4,5,0],\n",
    "                [2,5,5,0,3,3],\n",
    "                [1,4,0,5,0,0]], dtype=float)"
   ]
  },
  {
   "cell_type": "code",
   "execution_count": 17,
   "id": "569794e7",
   "metadata": {},
   "outputs": [],
   "source": [
    "data = np.array([[3,1,2,2,np.nan,2],\n",
    "                [4,2,3,3,4,2],\n",
    "                [4,1,3,3,2,5],\n",
    "                [np.nan,3,4,4,5,np.nan],\n",
    "                [2,5,5,np.nan,3,3],\n",
    "                [1,4,np.nan,5,np.nan,np.nan]], dtype=float)"
   ]
  },
  {
   "cell_type": "code",
   "execution_count": 3,
   "id": "adef9b1e",
   "metadata": {},
   "outputs": [],
   "source": [
    "means=np.nanmean(np.array([[3,1,2,2,np.nan,2],\n",
    "                [4,2,3,3,4,2],\n",
    "                [4,1,3,3,2,5],\n",
    "                [np.nan,3,4,4,5,np.nan],\n",
    "                [2,5,5,np.nan,3,3],\n",
    "                [1,4,np.nan,5,np.nan,np.nan]], dtype=float), axis=1).reshape(-1,1)"
   ]
  },
  {
   "cell_type": "code",
   "execution_count": 21,
   "id": "8dfbdd7b",
   "metadata": {},
   "outputs": [],
   "source": [
    "for i in range(6):\n",
    "    for j in range(6):\n",
    "        if np.isnan(data[i,j]):\n",
    "            data[i,j]=np.random.normal(means[i],0.5)"
   ]
  },
  {
   "cell_type": "code",
   "execution_count": 19,
   "id": "4ba18882",
   "metadata": {},
   "outputs": [],
   "source": [
    "data_c = data - means"
   ]
  },
  {
   "cell_type": "code",
   "execution_count": 37,
   "id": "59198433",
   "metadata": {},
   "outputs": [
    {
     "data": {
      "text/plain": [
       "array([[ 2.76,  1.19,  1.37,  1.94,  0.42,  2.5 ],\n",
       "       [ 3.14,  1.71,  3.46,  3.39,  3.66,  2.6 ],\n",
       "       [ 4.7 ,  1.09,  3.03,  2.78,  2.01,  4.33],\n",
       "       [ 0.38,  3.17,  3.68,  3.81,  5.23, -0.21],\n",
       "       [ 1.96,  4.97,  5.06,  0.03,  2.96,  3.01],\n",
       "       [ 1.  ,  3.95,  0.16,  5.04, -0.1 , -0.07]])"
      ]
     },
     "execution_count": 37,
     "metadata": {},
     "output_type": "execute_result"
    }
   ],
   "source": [
    "latents=4\n",
    "u,s,v=np.linalg.svd(data, full_matrices=True)\n",
    "result=u[:,:latents]@np.diag(s[:latents])@v[:latents,:]\n",
    "np.round(result,2)"
   ]
  },
  {
   "cell_type": "code",
   "execution_count": 13,
   "id": "b15ef24b",
   "metadata": {},
   "outputs": [
    {
     "data": {
      "text/plain": [
       "array([[ 2.54,  0.88,  1.63,  1.93,  0.14,  2.49],\n",
       "       [ 3.07,  1.97,  3.24,  3.47,  3.89,  2.8 ],\n",
       "       [ 4.52,  1.1 ,  3.26,  2.98,  1.9 ,  4.49],\n",
       "       [ 0.24,  3.  ,  3.92,  3.87,  5.03, -0.2 ],\n",
       "       [ 1.84,  5.01,  5.11,  0.12,  2.95,  3.12],\n",
       "       [ 0.94,  4.02,  0.14,  5.1 , -0.05,  0.03]])"
      ]
     },
     "execution_count": 13,
     "metadata": {},
     "output_type": "execute_result"
    }
   ],
   "source": [
    "u,s,v=np.linalg.svd(data_c, full_matrices=True)\n",
    "result=u[:,:latents]@np.diag(s[:latents])@v[:latents,:]\n",
    "np.round(result + means.reshape(-1,1),2)"
   ]
  },
  {
   "cell_type": "code",
   "execution_count": 15,
   "id": "9c8645f9",
   "metadata": {},
   "outputs": [],
   "source": [
    "latents=5\n",
    "U_init,Vt_init = random_initialization(data_c, latents)"
   ]
  },
  {
   "cell_type": "code",
   "execution_count": 33,
   "id": "30a96bc3",
   "metadata": {},
   "outputs": [],
   "source": [
    "U_init,Vt_init = u,v.T"
   ]
  },
  {
   "cell_type": "code",
   "execution_count": 34,
   "id": "cb137afd",
   "metadata": {},
   "outputs": [
    {
     "name": "stdout",
     "output_type": "stream",
     "text": [
      "Number of steps: 10000\n"
     ]
    }
   ],
   "source": [
    "U,V=matrix_factorization(data, U_init,Vt_init, latents, n_iter=10000, alpha=0.0002, beta=0.001, tol=1e-2)"
   ]
  },
  {
   "cell_type": "code",
   "execution_count": 35,
   "id": "84ce0262",
   "metadata": {},
   "outputs": [],
   "source": [
    "tmp=U@V.T #+ means"
   ]
  },
  {
   "cell_type": "code",
   "execution_count": 36,
   "id": "a6c40247",
   "metadata": {},
   "outputs": [
    {
     "data": {
      "text/plain": [
       "array([[3.  , 1.02, 2.04, 1.95, 3.1 , 2.  ],\n",
       "       [4.  , 2.  , 2.98, 3.02, 4.  , 2.  ],\n",
       "       [4.  , 1.  , 3.  , 3.01, 2.  , 5.  ],\n",
       "       [3.21, 2.99, 3.99, 4.02, 5.  , 4.32],\n",
       "       [2.  , 4.99, 5.  , 5.62, 3.  , 3.  ],\n",
       "       [1.  , 4.01, 4.63, 4.99, 2.8 , 4.99]])"
      ]
     },
     "execution_count": 36,
     "metadata": {},
     "output_type": "execute_result"
    }
   ],
   "source": [
    "np.round(tmp,2)"
   ]
  },
  {
   "cell_type": "code",
   "execution_count": 26,
   "id": "89a3544c",
   "metadata": {},
   "outputs": [
    {
     "data": {
      "text/plain": [
       "array([[3.  , 1.  , 2.  , 2.  , 3.27, 2.  ],\n",
       "       [4.  , 2.  , 3.  , 3.  , 4.  , 2.  ],\n",
       "       [4.  , 1.  , 3.  , 3.  , 2.  , 5.  ],\n",
       "       [4.54, 3.  , 4.  , 4.  , 5.  , 6.98],\n",
       "       [2.  , 5.  , 5.  , 5.99, 3.  , 3.  ],\n",
       "       [1.  , 4.  , 5.08, 5.  , 3.47, 6.36]])"
      ]
     },
     "execution_count": 26,
     "metadata": {},
     "output_type": "execute_result"
    }
   ],
   "source": [
    "result = data.copy()\n",
    "result[0,4] = tmp[0,4]\n",
    "result[3,0] = tmp[3,0]\n",
    "result[3,5] = tmp[3,5]\n",
    "result[4,3] = tmp[4,3]\n",
    "result[5,2] = tmp[5,2]\n",
    "result[5,4] = tmp[5,4]\n",
    "result[5,5] = tmp[5,5]\n",
    "np.round(result,2)"
   ]
  },
  {
   "cell_type": "code",
   "execution_count": 27,
   "id": "09a5d302",
   "metadata": {},
   "outputs": [
    {
     "data": {
      "text/plain": [
       "array([ True])"
      ]
     },
     "execution_count": 27,
     "metadata": {},
     "output_type": "execute_result"
    }
   ],
   "source": [
    "result[0,4]>means[0]"
   ]
  },
  {
   "cell_type": "code",
   "execution_count": 28,
   "id": "865b770f",
   "metadata": {},
   "outputs": [
    {
     "data": {
      "text/plain": [
       "array([ True])"
      ]
     },
     "execution_count": 28,
     "metadata": {},
     "output_type": "execute_result"
    }
   ],
   "source": [
    "result[3,0]>means[3]"
   ]
  },
  {
   "cell_type": "code",
   "execution_count": 29,
   "id": "ed397531",
   "metadata": {},
   "outputs": [
    {
     "data": {
      "text/plain": [
       "array([ True])"
      ]
     },
     "execution_count": 29,
     "metadata": {},
     "output_type": "execute_result"
    }
   ],
   "source": [
    "result[3,5]>means[3]"
   ]
  },
  {
   "cell_type": "code",
   "execution_count": 30,
   "id": "d34ed287",
   "metadata": {},
   "outputs": [
    {
     "data": {
      "text/plain": [
       "array([ True])"
      ]
     },
     "execution_count": 30,
     "metadata": {},
     "output_type": "execute_result"
    }
   ],
   "source": [
    "result[4,3]>means[4]"
   ]
  },
  {
   "cell_type": "code",
   "execution_count": 31,
   "id": "447e8fc2",
   "metadata": {},
   "outputs": [
    {
     "data": {
      "text/plain": [
       "array([ True])"
      ]
     },
     "execution_count": 31,
     "metadata": {},
     "output_type": "execute_result"
    }
   ],
   "source": [
    "result[5,2]>means[5]"
   ]
  },
  {
   "cell_type": "code",
   "execution_count": 32,
   "id": "5381c4d3",
   "metadata": {},
   "outputs": [
    {
     "data": {
      "text/plain": [
       "array([ True])"
      ]
     },
     "execution_count": 32,
     "metadata": {},
     "output_type": "execute_result"
    }
   ],
   "source": [
    "result[5,4]>means[5]"
   ]
  },
  {
   "cell_type": "code",
   "execution_count": 33,
   "id": "79115a92",
   "metadata": {},
   "outputs": [
    {
     "data": {
      "text/plain": [
       "array([ True])"
      ]
     },
     "execution_count": 33,
     "metadata": {},
     "output_type": "execute_result"
    }
   ],
   "source": [
    "result[5,5]>means[5]"
   ]
  },
  {
   "cell_type": "markdown",
   "id": "25e686fc",
   "metadata": {},
   "source": [
    "## Collab filt"
   ]
  },
  {
   "cell_type": "code",
   "execution_count": 135,
   "id": "ef03ca1d",
   "metadata": {},
   "outputs": [
    {
     "data": {
      "text/plain": [
       "array([[3., 1., 2., 2., 0., 2.],\n",
       "       [4., 2., 3., 3., 4., 2.],\n",
       "       [4., 1., 3., 3., 2., 5.],\n",
       "       [0., 3., 4., 4., 5., 0.],\n",
       "       [2., 5., 5., 0., 3., 3.],\n",
       "       [1., 4., 0., 5., 0., 0.]])"
      ]
     },
     "execution_count": 135,
     "metadata": {},
     "output_type": "execute_result"
    }
   ],
   "source": [
    "data"
   ]
  },
  {
   "cell_type": "code",
   "execution_count": 136,
   "id": "f4c48f44",
   "metadata": {},
   "outputs": [
    {
     "data": {
      "text/plain": [
       "array([[2.        ],\n",
       "       [3.        ],\n",
       "       [3.        ],\n",
       "       [4.        ],\n",
       "       [3.6       ],\n",
       "       [3.33333333]])"
      ]
     },
     "execution_count": 136,
     "metadata": {},
     "output_type": "execute_result"
    }
   ],
   "source": [
    "means"
   ]
  },
  {
   "cell_type": "code",
   "execution_count": 137,
   "id": "486b0fdd",
   "metadata": {},
   "outputs": [
    {
     "data": {
      "text/plain": [
       "array([[1, 1, 1, 1, 0, 1],\n",
       "       [1, 1, 1, 1, 1, 1],\n",
       "       [1, 1, 1, 1, 1, 1],\n",
       "       [0, 1, 1, 1, 1, 0],\n",
       "       [1, 1, 1, 0, 1, 1],\n",
       "       [1, 1, 0, 1, 0, 0]])"
      ]
     },
     "execution_count": 137,
     "metadata": {},
     "output_type": "execute_result"
    }
   ],
   "source": [
    "mask = 1 - np.asarray(data==0, dtype=int)\n",
    "R_c = data - means\n",
    "mask"
   ]
  },
  {
   "cell_type": "code",
   "execution_count": 138,
   "id": "1747c51c",
   "metadata": {},
   "outputs": [
    {
     "data": {
      "text/plain": [
       "array([[ 1.        , -1.        ,  0.        ,  0.        , -2.        ,\n",
       "         0.        ],\n",
       "       [ 1.        , -1.        ,  0.        ,  0.        ,  1.        ,\n",
       "        -1.        ],\n",
       "       [ 1.        , -2.        ,  0.        ,  0.        , -1.        ,\n",
       "         2.        ],\n",
       "       [-4.        , -1.        ,  0.        ,  0.        ,  1.        ,\n",
       "        -4.        ],\n",
       "       [-1.6       ,  1.4       ,  1.4       , -3.6       , -0.6       ,\n",
       "        -0.6       ],\n",
       "       [-2.33333333,  0.66666667, -3.33333333,  1.66666667, -3.33333333,\n",
       "        -3.33333333]])"
      ]
     },
     "execution_count": 138,
     "metadata": {},
     "output_type": "execute_result"
    }
   ],
   "source": [
    "R_c"
   ]
  },
  {
   "cell_type": "code",
   "execution_count": 139,
   "id": "19199a0b",
   "metadata": {},
   "outputs": [],
   "source": [
    "def pearson(R_c, M):\n",
    "    n = R_c.shape[0]\n",
    "    result = np.zeros((n,n))\n",
    "    for i in range(n):\n",
    "        for j in range(n):\n",
    "            mask = M[i,:]*M[j,:]\n",
    "            u1 = mask*R_c[i,:]\n",
    "            u2 = mask*R_c[j,:]\n",
    "            u1 /= np.sqrt(u1@u1)\n",
    "            u2 /= np.sqrt(u2@u2)\n",
    "            result[i,j] = u1@u2\n",
    "    return result"
   ]
  },
  {
   "cell_type": "markdown",
   "id": "2bace14e",
   "metadata": {},
   "source": [
    "## Calculate the Pearson coef (subtracting the diagonal for NN calculation)"
   ]
  },
  {
   "cell_type": "code",
   "execution_count": 140,
   "id": "f65d102e",
   "metadata": {},
   "outputs": [
    {
     "data": {
      "text/plain": [
       "array([[ 0.   ,  0.816,  0.707,  1.   , -0.811, -0.721],\n",
       "       [ 0.816,  0.   ,  0.   ,  1.   , -0.559, -0.721],\n",
       "       [ 0.707,  0.   ,  0.   ,  0.316, -0.589, -0.557],\n",
       "       [ 1.   ,  1.   ,  0.316,  0.   , -0.684, -0.371],\n",
       "       [-0.811, -0.559, -0.589, -0.684,  0.   ,  0.905],\n",
       "       [-0.721, -0.721, -0.557, -0.371,  0.905,  0.   ]])"
      ]
     },
     "execution_count": 140,
     "metadata": {},
     "output_type": "execute_result"
    }
   ],
   "source": [
    "C=np.round(pearson(R_c, mask),3) - np.eye(6)\n",
    "C"
   ]
  },
  {
   "cell_type": "markdown",
   "id": "ebfe849b",
   "metadata": {},
   "source": [
    "## Check that at least 2 neighbors, make another mask"
   ]
  },
  {
   "cell_type": "code",
   "execution_count": 141,
   "id": "730b5f6c",
   "metadata": {},
   "outputs": [
    {
     "data": {
      "text/plain": [
       "array([[3],\n",
       "       [2],\n",
       "       [2],\n",
       "       [3],\n",
       "       [1],\n",
       "       [1]])"
      ]
     },
     "execution_count": 141,
     "metadata": {},
     "output_type": "execute_result"
    }
   ],
   "source": [
    "nn = np.sum((C>0),axis=1, keepdims=True)\n",
    "nn"
   ]
  },
  {
   "cell_type": "code",
   "execution_count": 142,
   "id": "a598c58b",
   "metadata": {},
   "outputs": [
    {
     "data": {
      "text/plain": [
       "array([[ True],\n",
       "       [ True],\n",
       "       [ True],\n",
       "       [ True],\n",
       "       [False],\n",
       "       [False]])"
      ]
     },
     "execution_count": 142,
     "metadata": {},
     "output_type": "execute_result"
    }
   ],
   "source": [
    "NN_mask = (nn >= 2)\n",
    "NN_mask"
   ]
  },
  {
   "cell_type": "markdown",
   "id": "a8f3d87a",
   "metadata": {},
   "source": [
    "## Get the indices of 2 nearest neighbors"
   ]
  },
  {
   "cell_type": "code",
   "execution_count": 143,
   "id": "96c4dd51",
   "metadata": {},
   "outputs": [
    {
     "data": {
      "text/plain": [
       "array([[1, 3],\n",
       "       [0, 3],\n",
       "       [3, 0],\n",
       "       [0, 1],\n",
       "       [4, 5],\n",
       "       [5, 4]], dtype=int64)"
      ]
     },
     "execution_count": 143,
     "metadata": {},
     "output_type": "execute_result"
    }
   ],
   "source": [
    "indices = np.argsort(C, axis=1)[:,-2:]\n",
    "indices"
   ]
  },
  {
   "cell_type": "markdown",
   "id": "34f7e6ba",
   "metadata": {},
   "source": [
    "## Make the NN matrix, and normalize it"
   ]
  },
  {
   "cell_type": "code",
   "execution_count": 144,
   "id": "b94902ee",
   "metadata": {},
   "outputs": [
    {
     "data": {
      "text/plain": [
       "array([[0. , 0.5, 0. , 0.5, 0. , 0. ],\n",
       "       [0.5, 0. , 0. , 0.5, 0. , 0. ],\n",
       "       [0.5, 0. , 0. , 0.5, 0. , 0. ],\n",
       "       [0.5, 0.5, 0. , 0. , 0. , 0. ],\n",
       "       [0. , 0. , 0. , 0. , 0.5, 0.5],\n",
       "       [0. , 0. , 0. , 0. , 0.5, 0.5]])"
      ]
     },
     "execution_count": 144,
     "metadata": {},
     "output_type": "execute_result"
    }
   ],
   "source": [
    "K=np.zeros((6,6))\n",
    "for i in range(6):\n",
    "    K[i,indices[i,0]]=1\n",
    "    K[i,indices[i,1]]=1\n",
    "K /= K.sum(axis=1)\n",
    "K"
   ]
  },
  {
   "cell_type": "markdown",
   "id": "4d002533",
   "metadata": {},
   "source": [
    "## Calculate the final predictions \n",
    "### Note: We can also include the NN_mask"
   ]
  },
  {
   "cell_type": "code",
   "execution_count": 153,
   "id": "2d9444f4",
   "metadata": {},
   "outputs": [
    {
     "data": {
      "text/plain": [
       "array([[ 0. ,  0. ,  0. ,  0. ,  3. , -0. ],\n",
       "       [ 0. ,  0. ,  0. ,  0. ,  0. ,  0. ],\n",
       "       [ 0. ,  0. ,  0. ,  0. ,  0. ,  0. ],\n",
       "       [ 5. ,  0. ,  0. ,  0. ,  0. ,  3.5],\n",
       "       [ 0. ,  0. ,  0. ,  0. ,  0. ,  0. ],\n",
       "       [ 0. ,  0. ,  0. ,  0. ,  0. ,  0. ]])"
      ]
     },
     "execution_count": 153,
     "metadata": {},
     "output_type": "execute_result"
    }
   ],
   "source": [
    "predictions = (1-mask)*(K@R_c + means)*NN_mask\n",
    "np.round(predictions, 3)"
   ]
  },
  {
   "cell_type": "code",
   "execution_count": 154,
   "id": "e88fcbe2",
   "metadata": {},
   "outputs": [
    {
     "data": {
      "text/plain": [
       "array([[3.   , 1.   , 2.   , 2.   , 3.   , 2.   ],\n",
       "       [4.   , 2.   , 3.   , 3.   , 4.   , 2.   ],\n",
       "       [4.   , 1.   , 3.   , 3.   , 2.   , 5.   ],\n",
       "       [5.   , 3.   , 4.   , 4.   , 5.   , 3.5  ],\n",
       "       [2.   , 5.   , 5.   , 2.633, 3.   , 3.   ],\n",
       "       [1.   , 4.   , 2.367, 5.   , 1.367, 1.367]])"
      ]
     },
     "execution_count": 154,
     "metadata": {},
     "output_type": "execute_result"
    }
   ],
   "source": [
    "complete_ratings = data + (1-mask)*(K@R_c + means)\n",
    "np.round(complete_ratings, 3)"
   ]
  },
  {
   "cell_type": "code",
   "execution_count": 155,
   "id": "239c38ac",
   "metadata": {},
   "outputs": [
    {
     "data": {
      "text/plain": [
       "array([[3. , 1. , 2. , 2. , 3. , 2. ],\n",
       "       [4. , 2. , 3. , 3. , 4. , 2. ],\n",
       "       [4. , 1. , 3. , 3. , 2. , 5. ],\n",
       "       [5. , 3. , 4. , 4. , 5. , 3.5],\n",
       "       [2. , 5. , 5. , 0. , 3. , 3. ],\n",
       "       [1. , 4. , 0. , 5. , 0. , 0. ]])"
      ]
     },
     "execution_count": 155,
     "metadata": {},
     "output_type": "execute_result"
    }
   ],
   "source": [
    "complete_ratings = data + NN_mask*(1-mask)*(K@R_c + means)\n",
    "np.round(complete_ratings, 3)"
   ]
  }
 ],
 "metadata": {
  "kernelspec": {
   "display_name": "Python 3 (ipykernel)",
   "language": "python",
   "name": "python3"
  },
  "language_info": {
   "codemirror_mode": {
    "name": "ipython",
    "version": 3
   },
   "file_extension": ".py",
   "mimetype": "text/x-python",
   "name": "python",
   "nbconvert_exporter": "python",
   "pygments_lexer": "ipython3",
   "version": "3.10.9"
  }
 },
 "nbformat": 4,
 "nbformat_minor": 5
}
