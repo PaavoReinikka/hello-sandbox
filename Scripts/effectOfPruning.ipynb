{
 "cells": [
  {
   "cell_type": "code",
   "execution_count": 1,
   "id": "8c0a0e79",
   "metadata": {},
   "outputs": [],
   "source": [
    "import numpy as np\n",
    "import pandas as pd\n",
    "from collections import defaultdict"
   ]
  },
  {
   "cell_type": "code",
   "execution_count": 2,
   "id": "43e5e840",
   "metadata": {},
   "outputs": [
    {
     "data": {
      "text/plain": [
       "['cellshilicneg_log2.csvALPHA0.05FC1.0MINVAR0.125.csv',\n",
       " 'cellshilicpos_log2.csvALPHA0.05FC1.0MINVAR0.125.csv',\n",
       " 'cellslipidomicsneg_log2.csvALPHA0.05FC1.0MINVAR0.125.csv',\n",
       " 'cellslipidomicspos_log2.csvALPHA0.05FC1.0MINVAR0.125.csv',\n",
       " 'cellsRPneg_log2.csvALPHA0.05FC1.0MINVAR0.125.csv',\n",
       " 'cellsRPpos_log2.csvALPHA0.05FC1.0MINVAR0.125.csv',\n",
       " 'mediumHILICneg_log2.csvALPHA0.05FC1.0MINVAR0.125.csv',\n",
       " 'mediumHILICpos_log2.csvALPHA0.05FC1.0MINVAR0.125.csv',\n",
       " 'mediumRPneg_log2.csvALPHA0.05FC1.0MINVAR0.125.csv',\n",
       " 'mediumRPpos_log2.csvALPHA0.05FC1.0MINVAR0.125.csv']"
      ]
     },
     "execution_count": 2,
     "metadata": {},
     "output_type": "execute_result"
    }
   ],
   "source": [
    "path1 = '../../PDproj/cellresults/ttest/ALPHA0.05FC1.0MINVAR0.125/'\n",
    "filenames1 = [line.rstrip() for line in open(path1 +'filenames.txt')]\n",
    "filenames1"
   ]
  },
  {
   "cell_type": "code",
   "execution_count": 5,
   "id": "b393b07b",
   "metadata": {},
   "outputs": [
    {
     "data": {
      "text/plain": [
       "['cellshilicnegALPHA0.05FC1.0MINVAR0.125.csv',\n",
       " 'cellshilicposALPHA0.05FC1.0MINVAR0.125.csv',\n",
       " 'cellslipidnegALPHA0.05FC1.0MINVAR0.125.csv',\n",
       " 'cellslipidposALPHA0.05FC1.0MINVAR0.125.csv',\n",
       " 'cellsRPnegALPHA0.05FC1.0MINVAR0.125.csv',\n",
       " 'cellsRPposALPHA0.05FC1.0MINVAR0.125.csv',\n",
       " 'mediumhilicnegALPHA0.05FC1.0MINVAR0.125.csv',\n",
       " 'mediumhilicposALPHA0.05FC1.0MINVAR0.125.csv',\n",
       " 'mediumRPnegALPHA0.05FC1.0MINVAR0.125.csv',\n",
       " 'mediumRPposALPHA0.05FC1.0MINVAR0.125.csv']"
      ]
     },
     "execution_count": 5,
     "metadata": {},
     "output_type": "execute_result"
    }
   ],
   "source": [
    "path2 = '../../PDproj/cellresults/ttest/withGF/ALPHA0.05FC1.0MINVAR0.125/'\n",
    "filenames2 = [line.rstrip() for line in open(path2 +'filenames.txt')]\n",
    "filenames2"
   ]
  },
  {
   "cell_type": "code",
   "execution_count": 50,
   "id": "0b84a334",
   "metadata": {},
   "outputs": [
    {
     "name": "stdout",
     "output_type": "stream",
     "text": [
      "cellshilicneg_log2.csvALPHA0.05FC1.0MINVAR0.125.csv\n",
      "cellshilicnegALPHA0.05FC1.0MINVAR0.125.csv\n"
     ]
    }
   ],
   "source": [
    "filenum = 0 #3,5\n",
    "data1 = pd.read_csv(path1 + filenames1[filenum], sep=';')\n",
    "data2 = pd.read_csv(path2 + filenames2[filenum], sep=';')\n",
    "print(filenames1[filenum])\n",
    "print(filenames2[filenum])\n",
    "mtime1=np.sort(np.unique(data1[' masstime']))\n",
    "mtime2=np.sort(np.unique(data2[' masstime']))"
   ]
  },
  {
   "cell_type": "code",
   "execution_count": 52,
   "id": "65a6b5cc",
   "metadata": {},
   "outputs": [
    {
     "data": {
      "text/plain": [
       "12"
      ]
     },
     "execution_count": 52,
     "metadata": {},
     "output_type": "execute_result"
    }
   ],
   "source": [
    "len(np.unique(mtime1))"
   ]
  },
  {
   "cell_type": "code",
   "execution_count": 32,
   "id": "4bbf31b9",
   "metadata": {},
   "outputs": [],
   "source": [
    "MTIME_name1 = defaultdict()\n",
    "for mt in np.unique(data1[' masstime']):\n",
    "    for i in range(data1.shape[0]):\n",
    "        if(data1[' masstime'][i]==mt):\n",
    "            MTIME_name1[mt]=data1[' compound'][i]\n",
    "MTIME_name2 = defaultdict()\n",
    "for mt in np.unique(data2[' masstime']):\n",
    "    for i in range(data2.shape[0]):\n",
    "        if(data2[' masstime'][i]==mt):\n",
    "            MTIME_name2[mt]=data2[' compound'][i]"
   ]
  },
  {
   "cell_type": "code",
   "execution_count": 28,
   "id": "4619d5cd",
   "metadata": {},
   "outputs": [
    {
     "data": {
      "text/plain": [
       "array(['131.04513@6.284', '191.01912@6.726', '306.07662@6.725',\n",
       "       '347.0399@6.896'], dtype=object)"
      ]
     },
     "execution_count": 28,
     "metadata": {},
     "output_type": "execute_result"
    }
   ],
   "source": [
    "mtime2"
   ]
  },
  {
   "cell_type": "code",
   "execution_count": 34,
   "id": "231819c4",
   "metadata": {
    "scrolled": false
   },
   "outputs": [
    {
     "name": "stdout",
     "output_type": "stream",
     "text": [
      "cellshilicneg_log2.csvALPHA0.05FC1.0MINVAR0.125.csv\n",
      "202.99696@5.677 : nan (gone with pruning)\n",
      "228.06399@6.902 : 2,3-Dihydroxypropyl 2-(methylamino)ethyl hydrogen phosphate (gone with pruning)\n",
      "323.02869@6.702 : Uridine monophosphate (gone with pruning)\n",
      "346.05595@6.623 : Adenosine 5'-monophosphate (gone with pruning)\n",
      "362.05087@7.254 : Guanosine monophosphate (GMP) (gone with pruning)\n",
      "606.07466@7.873 : nan (gone with pruning)\n",
      "747.56653@0.458 : nan (gone with pruning)\n",
      "747.56663@0.936 : nan (gone with pruning)\n",
      "--------------\n",
      "cellshilicnegALPHA0.05FC1.0MINVAR0.125.csv\n"
     ]
    }
   ],
   "source": [
    "print(filenames1[filenum])\n",
    "for elem1 in mtime1:\n",
    "    #if elem1.split(' ')[1] not in mtime2:\n",
    "    if elem1 not in mtime2:\n",
    "        print(\"{} : {} (gone with pruning)\".format(elem1,MTIME_name1[elem1]))\n",
    "print(\"--------------\")\n",
    "print(filenames2[filenum])\n",
    "for elem2 in mtime2:\n",
    "    #if ' ' + elem2 not in mtime1:\n",
    "    if elem2 not in mtime1:\n",
    "        print(\"{} : {} (discovered with pruning)\".format(elem2,MTIME_name2[elem2]))"
   ]
  },
  {
   "cell_type": "code",
   "execution_count": 53,
   "id": "1d5794dc",
   "metadata": {
    "scrolled": false
   },
   "outputs": [
    {
     "name": "stdout",
     "output_type": "stream",
     "text": [
      "##########################################\n",
      "cellshilicneg_log2.csvALPHA0.05FC1.0MINVAR0.125.csv\n",
      "------------------------------------------\n",
      "cellshilicnegALPHA0.05FC1.0MINVAR0.125.csv\n",
      "-----------------------------------------\n",
      "Gone: 8 (0.667)\n",
      "Found: 0\n",
      "Decrease: 0.667\n",
      "##########################################\n",
      "cellshilicpos_log2.csvALPHA0.05FC1.0MINVAR0.125.csv\n",
      "------------------------------------------\n",
      "cellshilicposALPHA0.05FC1.0MINVAR0.125.csv\n",
      "-----------------------------------------\n",
      "Gone: 33 (0.367)\n",
      "Found: 1\n",
      "Decrease: 0.356\n",
      "##########################################\n",
      "cellslipidomicsneg_log2.csvALPHA0.05FC1.0MINVAR0.125.csv\n",
      "------------------------------------------\n",
      "cellslipidnegALPHA0.05FC1.0MINVAR0.125.csv\n",
      "-----------------------------------------\n",
      "Gone: 149 (0.266)\n",
      "Found: 6\n",
      "Decrease: 0.255\n",
      "##########################################\n",
      "cellslipidomicspos_log2.csvALPHA0.05FC1.0MINVAR0.125.csv\n",
      "------------------------------------------\n",
      "cellslipidposALPHA0.05FC1.0MINVAR0.125.csv\n",
      "-----------------------------------------\n",
      "Gone: 511 (0.99)\n",
      "Found: 407\n",
      "Decrease: 0.202\n",
      "##########################################\n",
      "cellsRPneg_log2.csvALPHA0.05FC1.0MINVAR0.125.csv\n",
      "------------------------------------------\n",
      "cellsRPnegALPHA0.05FC1.0MINVAR0.125.csv\n",
      "-----------------------------------------\n",
      "Gone: 32 (0.368)\n",
      "Found: 1\n",
      "Decrease: 0.356\n",
      "##########################################\n",
      "cellsRPpos_log2.csvALPHA0.05FC1.0MINVAR0.125.csv\n",
      "------------------------------------------\n",
      "cellsRPposALPHA0.05FC1.0MINVAR0.125.csv\n",
      "-----------------------------------------\n",
      "Gone: 56 (0.311)\n",
      "Found: 2\n",
      "Decrease: 0.3\n",
      "##########################################\n",
      "mediumHILICneg_log2.csvALPHA0.05FC1.0MINVAR0.125.csv\n",
      "------------------------------------------\n",
      "mediumhilicnegALPHA0.05FC1.0MINVAR0.125.csv\n",
      "-----------------------------------------\n",
      "Gone: 7 (0.412)\n",
      "Found: 0\n",
      "Decrease: 0.412\n",
      "##########################################\n",
      "mediumHILICpos_log2.csvALPHA0.05FC1.0MINVAR0.125.csv\n",
      "------------------------------------------\n",
      "mediumhilicposALPHA0.05FC1.0MINVAR0.125.csv\n",
      "-----------------------------------------\n",
      "Gone: 14 (0.333)\n",
      "Found: 0\n",
      "Decrease: 0.333\n",
      "##########################################\n",
      "mediumRPneg_log2.csvALPHA0.05FC1.0MINVAR0.125.csv\n",
      "------------------------------------------\n",
      "mediumRPnegALPHA0.05FC1.0MINVAR0.125.csv\n",
      "-----------------------------------------\n",
      "Gone: 16 (0.34)\n",
      "Found: 0\n",
      "Decrease: 0.34\n",
      "##########################################\n",
      "mediumRPpos_log2.csvALPHA0.05FC1.0MINVAR0.125.csv\n",
      "------------------------------------------\n",
      "mediumRPposALPHA0.05FC1.0MINVAR0.125.csv\n",
      "-----------------------------------------\n",
      "Gone: 87 (0.989)\n",
      "Found: 76\n",
      "Decrease: 0.125\n"
     ]
    }
   ],
   "source": [
    "for filenum in range(10):\n",
    "    data1 = pd.read_csv(path1 + filenames1[filenum], sep=';')\n",
    "    data2 = pd.read_csv(path2 + filenames2[filenum], sep=';')\n",
    "    mtime1=np.sort(np.unique(data1[' masstime']))\n",
    "    mtime2=np.sort(np.unique(data2[' masstime']))\n",
    "\n",
    "    ####################################################\n",
    "    MTIME_name1 = defaultdict()\n",
    "    for mt in np.unique(data1[' masstime']):\n",
    "        for i in range(data1.shape[0]):\n",
    "            if(data1[' masstime'][i]==mt):\n",
    "                MTIME_name1[mt]=data1[' compound'][i]\n",
    "    MTIME_name2 = defaultdict()\n",
    "    for mt in np.unique(data2[' masstime']):\n",
    "        for i in range(data2.shape[0]):\n",
    "            if(data2[' masstime'][i]==mt):\n",
    "                MTIME_name2[mt]=data2[' compound'][i]\n",
    "    ####################################################\n",
    "    print(\"##########################################\")\n",
    "    print(filenames1[filenum])\n",
    "    lost=0\n",
    "    for elem1 in mtime1:\n",
    "        #if elem1.split(' ')[1] not in mtime2:\n",
    "        if elem1 not in mtime2:\n",
    "            #print(\"{} : {} (gone with pruning)\".format(elem1,MTIME_name1[elem1]))\n",
    "            lost+=1\n",
    "    print(\"------------------------------------------\")\n",
    "    print(filenames2[filenum])\n",
    "    found = 0\n",
    "    for elem2 in mtime2:\n",
    "        #if ' ' + elem2 not in mtime1:\n",
    "        if elem2 not in mtime1:\n",
    "            #print(\"{} : {} (discovered with pruning)\".format(elem2,MTIME_name2[elem2]))\n",
    "            found+=1\n",
    "    print(\"-----------------------------------------\\nGone: {} ({})\".format(lost,round(lost/len(mtime1),3)))\n",
    "    print(\"Found:\",found)\n",
    "    print(\"Decrease: {}\".format(round((lost-found)/len(mtime1),3)))"
   ]
  },
  {
   "cell_type": "code",
   "execution_count": null,
   "id": "4e35e08c",
   "metadata": {},
   "outputs": [],
   "source": []
  }
 ],
 "metadata": {
  "kernelspec": {
   "display_name": "Python 3 (ipykernel)",
   "language": "python",
   "name": "python3"
  },
  "language_info": {
   "codemirror_mode": {
    "name": "ipython",
    "version": 3
   },
   "file_extension": ".py",
   "mimetype": "text/x-python",
   "name": "python",
   "nbconvert_exporter": "python",
   "pygments_lexer": "ipython3",
   "version": "3.10.9"
  }
 },
 "nbformat": 4,
 "nbformat_minor": 5
}
