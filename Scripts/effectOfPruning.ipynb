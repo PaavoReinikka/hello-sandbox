{
 "cells": [
  {
   "cell_type": "code",
   "execution_count": 52,
   "id": "8c0a0e79",
   "metadata": {},
   "outputs": [],
   "source": [
    "import numpy as np\n",
    "import pandas as pd\n",
    "from collections import defaultdict"
   ]
  },
  {
   "cell_type": "code",
   "execution_count": 94,
   "id": "43e5e840",
   "metadata": {},
   "outputs": [
    {
     "data": {
      "text/plain": [
       "['resultscellshilicnegFC1minvar0.125sort.csv',\n",
       " 'resultscellshilicposFC1minvar0.125sort.csv',\n",
       " 'resultscelllipidnegFC1minvar0.125sort.csv',\n",
       " 'resultscelllipidposFC1minvar0.125sort.csv',\n",
       " 'resultscellsrpnegFC1minvar0.125sort.csv',\n",
       " 'resultscellsrpposFC1minvar0.125sort.csv',\n",
       " 'resultsmediumhilicnegFC1minvar0.125sort.csv',\n",
       " 'resultsmediumhilicposFC1minvar0.125sort.csv',\n",
       " 'resultsmediumrpnegFC1minvar0.125sort.csv',\n",
       " 'resultsmediumrpposFC1minvar0.125sort.csv']"
      ]
     },
     "execution_count": 94,
     "metadata": {},
     "output_type": "execute_result"
    }
   ],
   "source": [
    "path1 = '../PDproj/cellresults/ttest/signifFC1.0/'\n",
    "filenames1 = [line.rstrip() for line in open(path1 +'filenames.txt')]\n",
    "filenames1"
   ]
  },
  {
   "cell_type": "code",
   "execution_count": 95,
   "id": "b393b07b",
   "metadata": {},
   "outputs": [
    {
     "data": {
      "text/plain": [
       "['cellshilicnegALPHA0.05FC1.0MINVAR0.125.csv',\n",
       " 'cellshilicposALPHA0.05FC1.0MINVAR0.125.csv',\n",
       " 'cellslipidnegALPHA0.05FC1.0MINVAR0.125.csv',\n",
       " 'cellslipidposALPHA0.05FC1.0MINVAR0.125.csv',\n",
       " 'cellsRPnegALPHA0.05FC1.0MINVAR0.125.csv',\n",
       " 'cellsRPposALPHA0.05FC1.0MINVAR0.125.csv',\n",
       " 'mediumhilicnegALPHA0.05FC1.0MINVAR0.125.csv',\n",
       " 'mediumhilicposALPHA0.05FC1.0MINVAR0.125.csv',\n",
       " 'mediumRPnegALPHA0.05FC1.0MINVAR0.125.csv',\n",
       " 'mediumRPposALPHA0.05FC1.0MINVAR0.125.csv']"
      ]
     },
     "execution_count": 95,
     "metadata": {},
     "output_type": "execute_result"
    }
   ],
   "source": [
    "path2 = '../PDproj/cellresults/ttest/withGF/ALPHA0.05FC1.0MINVAR0.125/'\n",
    "filenames2 = [line.rstrip() for line in open(path2 +'filenames.txt')]\n",
    "filenames2"
   ]
  },
  {
   "cell_type": "code",
   "execution_count": 83,
   "id": "0b84a334",
   "metadata": {},
   "outputs": [
    {
     "name": "stdout",
     "output_type": "stream",
     "text": [
      "resultscellsrpposFC1.5minvar0.25sort.csv\n",
      "cellslipidposALPHA0.05FC1.5MINVAR0.250.csv\n"
     ]
    }
   ],
   "source": [
    "filenum = 3 #3,5\n",
    "data1 = pd.read_csv(path1 + filenames1[filenum], sep=';')\n",
    "data2 = pd.read_csv(path2 + filenames2[filenum], sep=';')\n",
    "print(filenames1[filenum])\n",
    "print(filenames2[filenum])\n",
    "mtime1=np.sort(np.unique(data1[' masstime']))\n",
    "mtime2=np.sort(np.unique(data2[' masstime']))"
   ]
  },
  {
   "cell_type": "code",
   "execution_count": 88,
   "id": "4bbf31b9",
   "metadata": {},
   "outputs": [],
   "source": [
    "MTIME_name1 = defaultdict()\n",
    "for mt in np.unique(data1[' masstime']):\n",
    "    for i in range(data1.shape[0]):\n",
    "        if(data1[' masstime'][i]==mt):\n",
    "            MTIME_name1[mt]=data1['compound'][i]\n",
    "MTIME_name2 = defaultdict()\n",
    "for mt in np.unique(data2[' masstime']):\n",
    "    for i in range(data2.shape[0]):\n",
    "        if(data2[' masstime'][i]==mt):\n",
    "            MTIME_name2[mt]=data2[' compound'][i]"
   ]
  },
  {
   "cell_type": "code",
   "execution_count": 81,
   "id": "231819c4",
   "metadata": {
    "scrolled": false
   },
   "outputs": [
    {
     "name": "stdout",
     "output_type": "stream",
     "text": [
      "resultscellshilicposFC1.5minvar0.25sort.csv\n",
      " 205.09735@4.052 : !DL-Tryptophan (gone with pruning)\n",
      " 219.11298@0.718 : !N-Acetylserotonin (gone with pruning)\n",
      " 512.31706@0.815 : nan (gone with pruning)\n",
      "--------------\n",
      "cellshilicposALPHA0.05FC1.5MINVAR0.250.csv\n"
     ]
    }
   ],
   "source": [
    "print(filenames1[filenum])\n",
    "for elem1 in mtime1:\n",
    "    if elem1.split(' ')[1] not in mtime2:\n",
    "        print(\"{} : {} (gone with pruning)\".format(elem1,MTIME_name1[elem1]))\n",
    "print(\"--------------\")\n",
    "print(filenames2[filenum])\n",
    "for elem2 in mtime2:\n",
    "    if ' ' + elem2 not in mtime1:\n",
    "        print(\"{} : {} (discovered with pruning)\".format(elem2,MTIME_name2[elem2]))"
   ]
  },
  {
   "cell_type": "code",
   "execution_count": 96,
   "id": "1d5794dc",
   "metadata": {
    "scrolled": false
   },
   "outputs": [
    {
     "name": "stdout",
     "output_type": "stream",
     "text": [
      "##########################################\n",
      "resultscellshilicnegFC1minvar0.125sort.csv\n",
      "------------------------------------------\n",
      "cellshilicnegALPHA0.05FC1.0MINVAR0.125.csv\n",
      "##########################################\n",
      "resultscellshilicposFC1minvar0.125sort.csv\n",
      " 205.09735@4.052 : !DL-Tryptophan (gone with pruning)\n",
      " 219.11298@0.718 : !N-Acetylserotonin (gone with pruning)\n",
      " 512.31706@0.815 : nan (gone with pruning)\n",
      " 522.35546@1.229 : 13-hydroxy-6-(1-hydroxyethyl)-12,14-dimethyl-3-methylidene-15-nonyl-9-(propan-2-yl)-1-oxa-4,7,10-triazacyclopentadecane-2,5,8,11-tetrone (gone with pruning)\n",
      "------------------------------------------\n",
      "cellshilicposALPHA0.05FC1.0MINVAR0.125.csv\n",
      "704.52229@0.689 : 1-myristoyl-2-palmitoleoyl-sn-glycero-3-phosphocholine (discovered with pruning)\n",
      "##########################################\n",
      "resultscelllipidnegFC1minvar0.125sort.csv\n",
      " 1454.09947@14.654 : nan (gone with pruning)\n",
      " 1519.12313@14.645 : nan (gone with pruning)\n",
      " 505.35076@14.023 : nan (gone with pruning)\n",
      " 554.479@14.874 : nan (gone with pruning)\n",
      " 612.55758@18.148 : nan (gone with pruning)\n",
      " 678.52924@17.69 : nan (gone with pruning)\n",
      " 688.52915@16.704 : nan (gone with pruning)\n",
      " 688.52921@16.701 : nan (gone with pruning)\n",
      " 706.48578@16.986 : nan (gone with pruning)\n",
      " 706.48584@16.983 : (2R,14R,24Z,26Z)-5,8,11-Trihydroxy-14-{[(11-methyldodecanoyl)oxy]methyl}-2-[(9Z,11Z)-9,11-octadecadienoyloxy]-5,11-dioxido-16-oxo-4,6,10,12,15-pentaoxa-5lambda~5~,11lambda~5~-diphosphatritriaconta-24,26-dien-1-yl 18-methylnonadecanoate (gone with pruning)\n",
      " 731.56039@16.493 : nan (gone with pruning)\n",
      " 736.60791@20.182 : nan (gone with pruning)\n",
      " 814.43372@15.434 : nan (gone with pruning)\n",
      " 824.46729@15.112 : nan (gone with pruning)\n",
      " 864.53529@17.581 : nan (gone with pruning)\n",
      "------------------------------------------\n",
      "cellslipidnegALPHA0.05FC1.0MINVAR0.125.csv\n",
      "674.51364@15.992 : 1-O-[{[(6E,10E,14E,18E,22E,26E,30E,34E,38E,42E,46E,50E,54E,58E)-3,7,11,15,19,23,27,31,35,39,43,47,51,55,59,63-Hexadecamethyl-6,10,14,18,22,26,30,34,38,42,46,50,54,58,62-tetrahexacontapentadecaen-1-yl]oxy}(hydroxy)phosphoryl]-beta-D-mannopyranose (discovered with pruning)\n",
      "738.50877@14.856 : nan (discovered with pruning)\n",
      "738.50891@14.86 : nan (discovered with pruning)\n",
      "762.50808@14.869 : nan (discovered with pruning)\n",
      "837.54657@17.089 : nan (discovered with pruning)\n",
      "939.52693@17.156 : nan (discovered with pruning)\n",
      "973.66884@19.905 : nan (discovered with pruning)\n",
      "##########################################\n",
      "resultscelllipidposFC1minvar0.125sort.csv\n",
      " 1175.86511@16.445 : nan (gone with pruning)\n",
      " 1267.86202@18.209 : ! (gone with pruning)\n",
      " 337.27361@12.313 : !2-Linoleoyl glycerol (gone with pruning)\n",
      " 536.33473@6.161 : 1-[(9Z)-hexadecenoyl]-2-acetyl-sn-glycero-3-phosphocholine (gone with pruning)\n",
      " 596.59747@19.401 : nan (gone with pruning)\n",
      " 638.4753@14.254 : nan (gone with pruning)\n",
      " 665.51136@17.228 : nan (gone with pruning)\n",
      " 691.57447@14.713 : nan (gone with pruning)\n",
      " 695.55792@19.444 : nan (gone with pruning)\n",
      " 757.58034@15.043 : nan (gone with pruning)\n",
      " 782.50941@16.951 : nan (gone with pruning)\n",
      " 828.47223@15.636 : nan (gone with pruning)\n",
      " 838.53172@16.814 : nan (gone with pruning)\n",
      " 866.58285@15.964 : ! (gone with pruning)\n",
      " 898.82124@24.31 : nan (gone with pruning)\n",
      " 929.73465@23.86 : nan (gone with pruning)\n",
      " 934.82149@23.95 : ! (gone with pruning)\n",
      "------------------------------------------\n",
      "cellslipidposALPHA0.05FC1.0MINVAR0.125.csv\n",
      "1460.10515@16.336 : nan (discovered with pruning)\n",
      "369.3515@23.515 : FZ5600000 (discovered with pruning)\n",
      "523.47227@14.252 : nan (discovered with pruning)\n",
      "749.5323@14.265 : nan (discovered with pruning)\n",
      "789.68427@19.416 : (2R,3S)-2-(Docosanoylamino)-3-hydroxyoctadecyl 2-(trimethylammonio)ethyl phosphate (discovered with pruning)\n",
      "792.57446@14.297 : nan (discovered with pruning)\n",
      "##########################################\n",
      "resultscellsrpnegFC1minvar0.125sort.csv\n",
      "------------------------------------------\n",
      "cellsRPnegALPHA0.05FC1.0MINVAR0.125.csv\n",
      "840.61427@14.091 : nan (discovered with pruning)\n",
      "##########################################\n",
      "resultscellsrpposFC1minvar0.125sort.csv\n",
      " 209.09209@1.969 : !L-Kynurenine (gone with pruning)\n",
      " 219.11274@3.952 : !NP-013736 (gone with pruning)\n",
      "------------------------------------------\n",
      "cellsRPposALPHA0.05FC1.0MINVAR0.125.csv\n",
      "372.31055@10.681 : nan (discovered with pruning)\n",
      "372.31075@10.682 : nan (discovered with pruning)\n",
      "478.42526@12.321 : nan (discovered with pruning)\n",
      "##########################################\n",
      "resultsmediumhilicnegFC1minvar0.125sort.csv\n",
      " 216.06711@6.208 : Ethyl 4-hydroxy-3-quinolinecarboxylate (gone with pruning)\n",
      "------------------------------------------\n",
      "mediumhilicnegALPHA0.05FC1.0MINVAR0.125.csv\n",
      "##########################################\n",
      "resultsmediumhilicposFC1minvar0.125sort.csv\n",
      " 584.26261@0.394 : nan (gone with pruning)\n",
      "------------------------------------------\n",
      "mediumhilicposALPHA0.05FC1.0MINVAR0.125.csv\n",
      "##########################################\n",
      "resultsmediumrpnegFC1minvar0.125sort.csv\n",
      "------------------------------------------\n",
      "mediumRPnegALPHA0.05FC1.0MINVAR0.125.csv\n",
      "##########################################\n",
      "resultsmediumrpposFC1minvar0.125sort.csv\n",
      " 210.06084@1.017 : nan (gone with pruning)\n",
      " 434.03366@6.651 : nan (gone with pruning)\n",
      " 447.38304@12.426 : nan (gone with pruning)\n",
      " 595.71266@5.385 : nan (gone with pruning)\n",
      " 741.273@5.375 : nan (gone with pruning)\n",
      " 926.8524@6.344 : nan (gone with pruning)\n",
      "------------------------------------------\n",
      "mediumRPposALPHA0.05FC1.0MINVAR0.125.csv\n",
      "160.13329@3.87 : nan (discovered with pruning)\n",
      "192.10192@5.647 : 5-Methoxytryptophol (discovered with pruning)\n",
      "218.11317@0.558 : nan (discovered with pruning)\n",
      "235.15396@5.722 : nan (discovered with pruning)\n",
      "235.15398@5.811 : nan (discovered with pruning)\n",
      "240.09547@0.564 : [Similar to: AQH: ΔMass: -115.0770 Da] (discovered with pruning)\n",
      "262.07688@0.554 : nan (discovered with pruning)\n",
      "312.32583@11.598 : nan (discovered with pruning)\n",
      "325.24844@7.14 : nan (discovered with pruning)\n",
      "370.30613@7.14 : nan (discovered with pruning)\n",
      "380.16607@0.593 : nan (discovered with pruning)\n",
      "435.95234@0.551 : nan (discovered with pruning)\n",
      "496.33951@10.498 : nan (discovered with pruning)\n"
     ]
    }
   ],
   "source": [
    "for filenum in range(10):\n",
    "    data1 = pd.read_csv(path1 + filenames1[filenum], sep=';')\n",
    "    data2 = pd.read_csv(path2 + filenames2[filenum], sep=';')\n",
    "    mtime1=np.sort(np.unique(data1[' masstime']))\n",
    "    mtime2=np.sort(np.unique(data2[' masstime']))\n",
    "\n",
    "    ####################################################\n",
    "    MTIME_name1 = defaultdict()\n",
    "    for mt in np.unique(data1[' masstime']):\n",
    "        for i in range(data1.shape[0]):\n",
    "            if(data1[' masstime'][i]==mt):\n",
    "                MTIME_name1[mt]=data1['compound'][i]\n",
    "    MTIME_name2 = defaultdict()\n",
    "    for mt in np.unique(data2[' masstime']):\n",
    "        for i in range(data2.shape[0]):\n",
    "            if(data2[' masstime'][i]==mt):\n",
    "                MTIME_name2[mt]=data2[' compound'][i]\n",
    "    ####################################################\n",
    "    print(\"##########################################\")\n",
    "    print(filenames1[filenum])\n",
    "    for elem1 in mtime1:\n",
    "        if elem1.split(' ')[1] not in mtime2:\n",
    "            print(\"{} : {} (gone with pruning)\".format(elem1,MTIME_name1[elem1]))\n",
    "    print(\"------------------------------------------\")\n",
    "    print(filenames2[filenum])\n",
    "    for elem2 in mtime2:\n",
    "        if ' ' + elem2 not in mtime1:\n",
    "            print(\"{} : {} (discovered with pruning)\".format(elem2,MTIME_name2[elem2]))"
   ]
  },
  {
   "cell_type": "code",
   "execution_count": null,
   "id": "4e35e08c",
   "metadata": {},
   "outputs": [],
   "source": []
  }
 ],
 "metadata": {
  "kernelspec": {
   "display_name": "Python 3 (ipykernel)",
   "language": "python",
   "name": "python3"
  },
  "language_info": {
   "codemirror_mode": {
    "name": "ipython",
    "version": 3
   },
   "file_extension": ".py",
   "mimetype": "text/x-python",
   "name": "python",
   "nbconvert_exporter": "python",
   "pygments_lexer": "ipython3",
   "version": "3.9.13"
  }
 },
 "nbformat": 4,
 "nbformat_minor": 5
}
