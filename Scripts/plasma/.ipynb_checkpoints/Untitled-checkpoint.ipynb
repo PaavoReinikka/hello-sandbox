{
 "cells": [
  {
   "cell_type": "code",
   "execution_count": 1,
   "id": "4e7ac4db",
   "metadata": {},
   "outputs": [],
   "source": [
    "import numpy as np\n",
    "import pandas as pd\n",
    "from sklearn.linear_model import LogisticRegression, LogisticRegressionCV\n",
    "from sklearn.preprocessing import LabelBinarizer, Normalizer\n",
    "from sklearn.decomposition import PCA\n",
    "import matplotlib.pyplot as plt\n",
    "\n",
    "import sys\n",
    "sys.path.insert(1, \"../utilities\")\n",
    "from plot_utils import *\n",
    "from extract import *\n",
    "from assigners import *\n",
    "from effect_estimators import *\n",
    "from design_matrices import *"
   ]
  },
  {
   "cell_type": "code",
   "execution_count": 2,
   "id": "9bad4c01",
   "metadata": {},
   "outputs": [
    {
     "data": {
      "text/plain": [
       "['plasmaHILICnegGFstatus_pori_var0.06FC0.5.csv',\n",
       " 'plasmaHILICposGFstatus_pori_var0.06FC0.5.csv',\n",
       " 'plasmaRPnegGFstatus_pori_var0.06FC0.5.csv',\n",
       " 'plasmaRPposGFstatus_pori_var0.06FC0.5.csv',\n",
       " 'plasmalipidnegwithGFstatus_pori_var0.06FC0.5.csv',\n",
       " 'plasmalipidposwithGFstatus_pori_var0.06FC0.5.csv']"
      ]
     },
     "execution_count": 2,
     "metadata": {},
     "output_type": "execute_result"
    }
   ],
   "source": [
    "path_ttest = '../../../PARKINSONS/PDproj/plasmaresults/ttest/mv_32/pori0.05_FC0.5/'\n",
    "filenames_ttest = [line.rstrip() for line in open(path_ttest +'filenames.txt')]\n",
    "filenames_ttest"
   ]
  },
  {
   "cell_type": "code",
   "execution_count": 3,
   "id": "ce284ed6",
   "metadata": {},
   "outputs": [
    {
     "data": {
      "text/plain": [
       "['plasmaHILICnegGFstatus_log2.csv',\n",
       " 'plasmaHILICposGFstatus_log2.csv',\n",
       " 'plasmaRPnegGFstatus_log2.csv',\n",
       " 'plasmaRPposGFstatus_log2.csv',\n",
       " 'plasmalipidnegwithGFstatus_log2.csv',\n",
       " 'plasmalipidposwithGFstatus_log2.csv']"
      ]
     },
     "execution_count": 3,
     "metadata": {},
     "output_type": "execute_result"
    }
   ],
   "source": [
    "path = '../../../PARKINSONS/PDproj/plasmadata/clean/'\n",
    "filenames = [line.rstrip() for line in open(path +'filenames.txt')]\n",
    "filenames"
   ]
  },
  {
   "cell_type": "code",
   "execution_count": 4,
   "id": "3ca132f7",
   "metadata": {},
   "outputs": [
    {
     "data": {
      "text/html": [
       "<div>\n",
       "<style scoped>\n",
       "    .dataframe tbody tr th:only-of-type {\n",
       "        vertical-align: middle;\n",
       "    }\n",
       "\n",
       "    .dataframe tbody tr th {\n",
       "        vertical-align: top;\n",
       "    }\n",
       "\n",
       "    .dataframe thead th {\n",
       "        text-align: right;\n",
       "    }\n",
       "</style>\n",
       "<table border=\"1\" class=\"dataframe\">\n",
       "  <thead>\n",
       "    <tr style=\"text-align: right;\">\n",
       "      <th></th>\n",
       "      <th>0</th>\n",
       "      <th>1</th>\n",
       "      <th>2</th>\n",
       "      <th>3</th>\n",
       "      <th>4</th>\n",
       "      <th>5</th>\n",
       "      <th>6</th>\n",
       "      <th>7</th>\n",
       "      <th>8</th>\n",
       "      <th>9</th>\n",
       "      <th>...</th>\n",
       "      <th>214</th>\n",
       "      <th>215</th>\n",
       "      <th>216</th>\n",
       "      <th>217</th>\n",
       "      <th>218</th>\n",
       "      <th>219</th>\n",
       "      <th>220</th>\n",
       "      <th>221</th>\n",
       "      <th>222</th>\n",
       "      <th>223</th>\n",
       "    </tr>\n",
       "  </thead>\n",
       "  <tbody>\n",
       "    <tr>\n",
       "      <th>0</th>\n",
       "      <td>NaN</td>\n",
       "      <td>NaN</td>\n",
       "      <td>NaN</td>\n",
       "      <td>NaN</td>\n",
       "      <td>NaN</td>\n",
       "      <td>NaN</td>\n",
       "      <td>NaN</td>\n",
       "      <td>NaN</td>\n",
       "      <td>female</td>\n",
       "      <td>female</td>\n",
       "      <td>...</td>\n",
       "      <td>NaN</td>\n",
       "      <td>NaN</td>\n",
       "      <td>NaN</td>\n",
       "      <td>NaN</td>\n",
       "      <td>NaN</td>\n",
       "      <td>NaN</td>\n",
       "      <td>NaN</td>\n",
       "      <td>NaN</td>\n",
       "      <td>NaN</td>\n",
       "      <td>NaN</td>\n",
       "    </tr>\n",
       "    <tr>\n",
       "      <th>1</th>\n",
       "      <td>NaN</td>\n",
       "      <td>NaN</td>\n",
       "      <td>NaN</td>\n",
       "      <td>NaN</td>\n",
       "      <td>NaN</td>\n",
       "      <td>NaN</td>\n",
       "      <td>NaN</td>\n",
       "      <td>NaN</td>\n",
       "      <td>Control</td>\n",
       "      <td>Control</td>\n",
       "      <td>...</td>\n",
       "      <td>NaN</td>\n",
       "      <td>NaN</td>\n",
       "      <td>NaN</td>\n",
       "      <td>NaN</td>\n",
       "      <td>NaN</td>\n",
       "      <td>NaN</td>\n",
       "      <td>NaN</td>\n",
       "      <td>NaN</td>\n",
       "      <td>NaN</td>\n",
       "      <td>NaN</td>\n",
       "    </tr>\n",
       "    <tr>\n",
       "      <th>2</th>\n",
       "      <td>NaN</td>\n",
       "      <td>NaN</td>\n",
       "      <td>NaN</td>\n",
       "      <td>NaN</td>\n",
       "      <td>NaN</td>\n",
       "      <td>NaN</td>\n",
       "      <td>NaN</td>\n",
       "      <td>NaN</td>\n",
       "      <td>2</td>\n",
       "      <td>3</td>\n",
       "      <td>...</td>\n",
       "      <td>NaN</td>\n",
       "      <td>NaN</td>\n",
       "      <td>NaN</td>\n",
       "      <td>NaN</td>\n",
       "      <td>NaN</td>\n",
       "      <td>NaN</td>\n",
       "      <td>NaN</td>\n",
       "      <td>NaN</td>\n",
       "      <td>NaN</td>\n",
       "      <td>NaN</td>\n",
       "    </tr>\n",
       "    <tr>\n",
       "      <th>3</th>\n",
       "      <td>Name</td>\n",
       "      <td>Formula</td>\n",
       "      <td>Annot. DeltaMass [ppm]</td>\n",
       "      <td>Calc. MW</td>\n",
       "      <td>m/z</td>\n",
       "      <td>RT [min]</td>\n",
       "      <td>MS2</td>\n",
       "      <td>Reference Ion</td>\n",
       "      <td>Area: 221010_SarkaLehtonen_Plasma_RP_neg_0020....</td>\n",
       "      <td>Area: 221010_SarkaLehtonen_Plasma_RP_neg_0021....</td>\n",
       "      <td>...</td>\n",
       "      <td>Gap Fill Status: 221010_SarkaLehtonen_Plasma_R...</td>\n",
       "      <td>Gap Fill Status: 221010_SarkaLehtonen_Plasma_R...</td>\n",
       "      <td>Gap Fill Status: 221010_SarkaLehtonen_Plasma_R...</td>\n",
       "      <td>Gap Fill Status: 221010_SarkaLehtonen_Plasma_R...</td>\n",
       "      <td>Gap Fill Status: 221010_SarkaLehtonen_Plasma_R...</td>\n",
       "      <td>Gap Fill Status: 221010_SarkaLehtonen_Plasma_R...</td>\n",
       "      <td>Gap Fill Status: 221010_SarkaLehtonen_Plasma_R...</td>\n",
       "      <td>Gap Fill Status: 221010_SarkaLehtonen_Plasma_R...</td>\n",
       "      <td>Gap Fill Status: 221010_SarkaLehtonen_Plasma_R...</td>\n",
       "      <td>Gap Fill Status: 221010_SarkaLehtonen_Plasma_R...</td>\n",
       "    </tr>\n",
       "    <tr>\n",
       "      <th>4</th>\n",
       "      <td>NaN</td>\n",
       "      <td>NaN</td>\n",
       "      <td>NaN</td>\n",
       "      <td>125.01354</td>\n",
       "      <td>124.00626</td>\n",
       "      <td>0.536</td>\n",
       "      <td>No MS2</td>\n",
       "      <td>[M-H]-1</td>\n",
       "      <td>17.596049046912402</td>\n",
       "      <td>17.34269994657802</td>\n",
       "      <td>...</td>\n",
       "      <td>128</td>\n",
       "      <td>128</td>\n",
       "      <td>0</td>\n",
       "      <td>128</td>\n",
       "      <td>0</td>\n",
       "      <td>128</td>\n",
       "      <td>128</td>\n",
       "      <td>128</td>\n",
       "      <td>128</td>\n",
       "      <td>128</td>\n",
       "    </tr>\n",
       "  </tbody>\n",
       "</table>\n",
       "<p>5 rows × 224 columns</p>\n",
       "</div>"
      ],
      "text/plain": [
       "    0        1                       2          3          4         5    \\\n",
       "0   NaN      NaN                     NaN        NaN        NaN       NaN   \n",
       "1   NaN      NaN                     NaN        NaN        NaN       NaN   \n",
       "2   NaN      NaN                     NaN        NaN        NaN       NaN   \n",
       "3  Name  Formula  Annot. DeltaMass [ppm]   Calc. MW        m/z  RT [min]   \n",
       "4   NaN      NaN                     NaN  125.01354  124.00626     0.536   \n",
       "\n",
       "      6              7                                                  8    \\\n",
       "0     NaN            NaN                                             female   \n",
       "1     NaN            NaN                                            Control   \n",
       "2     NaN            NaN                                                  2   \n",
       "3     MS2  Reference Ion  Area: 221010_SarkaLehtonen_Plasma_RP_neg_0020....   \n",
       "4  No MS2        [M-H]-1                                 17.596049046912402   \n",
       "\n",
       "                                                 9    ...  \\\n",
       "0                                             female  ...   \n",
       "1                                            Control  ...   \n",
       "2                                                  3  ...   \n",
       "3  Area: 221010_SarkaLehtonen_Plasma_RP_neg_0021....  ...   \n",
       "4                                  17.34269994657802  ...   \n",
       "\n",
       "                                                 214  \\\n",
       "0                                                NaN   \n",
       "1                                                NaN   \n",
       "2                                                NaN   \n",
       "3  Gap Fill Status: 221010_SarkaLehtonen_Plasma_R...   \n",
       "4                                                128   \n",
       "\n",
       "                                                 215  \\\n",
       "0                                                NaN   \n",
       "1                                                NaN   \n",
       "2                                                NaN   \n",
       "3  Gap Fill Status: 221010_SarkaLehtonen_Plasma_R...   \n",
       "4                                                128   \n",
       "\n",
       "                                                 216  \\\n",
       "0                                                NaN   \n",
       "1                                                NaN   \n",
       "2                                                NaN   \n",
       "3  Gap Fill Status: 221010_SarkaLehtonen_Plasma_R...   \n",
       "4                                                  0   \n",
       "\n",
       "                                                 217  \\\n",
       "0                                                NaN   \n",
       "1                                                NaN   \n",
       "2                                                NaN   \n",
       "3  Gap Fill Status: 221010_SarkaLehtonen_Plasma_R...   \n",
       "4                                                128   \n",
       "\n",
       "                                                 218  \\\n",
       "0                                                NaN   \n",
       "1                                                NaN   \n",
       "2                                                NaN   \n",
       "3  Gap Fill Status: 221010_SarkaLehtonen_Plasma_R...   \n",
       "4                                                  0   \n",
       "\n",
       "                                                 219  \\\n",
       "0                                                NaN   \n",
       "1                                                NaN   \n",
       "2                                                NaN   \n",
       "3  Gap Fill Status: 221010_SarkaLehtonen_Plasma_R...   \n",
       "4                                                128   \n",
       "\n",
       "                                                 220  \\\n",
       "0                                                NaN   \n",
       "1                                                NaN   \n",
       "2                                                NaN   \n",
       "3  Gap Fill Status: 221010_SarkaLehtonen_Plasma_R...   \n",
       "4                                                128   \n",
       "\n",
       "                                                 221  \\\n",
       "0                                                NaN   \n",
       "1                                                NaN   \n",
       "2                                                NaN   \n",
       "3  Gap Fill Status: 221010_SarkaLehtonen_Plasma_R...   \n",
       "4                                                128   \n",
       "\n",
       "                                                 222  \\\n",
       "0                                                NaN   \n",
       "1                                                NaN   \n",
       "2                                                NaN   \n",
       "3  Gap Fill Status: 221010_SarkaLehtonen_Plasma_R...   \n",
       "4                                                128   \n",
       "\n",
       "                                                 223  \n",
       "0                                                NaN  \n",
       "1                                                NaN  \n",
       "2                                                NaN  \n",
       "3  Gap Fill Status: 221010_SarkaLehtonen_Plasma_R...  \n",
       "4                                                128  \n",
       "\n",
       "[5 rows x 224 columns]"
      ]
     },
     "execution_count": 4,
     "metadata": {},
     "output_type": "execute_result"
    }
   ],
   "source": [
    "fnum=2\n",
    "df = pd.read_csv(path + filenames[fnum],sep=';', header=None)\n",
    "df.head()"
   ]
  },
  {
   "cell_type": "code",
   "execution_count": 112,
   "id": "19d13da8",
   "metadata": {},
   "outputs": [
    {
     "data": {
      "text/html": [
       "<div>\n",
       "<style scoped>\n",
       "    .dataframe tbody tr th:only-of-type {\n",
       "        vertical-align: middle;\n",
       "    }\n",
       "\n",
       "    .dataframe tbody tr th {\n",
       "        vertical-align: top;\n",
       "    }\n",
       "\n",
       "    .dataframe thead th {\n",
       "        text-align: right;\n",
       "    }\n",
       "</style>\n",
       "<table border=\"1\" class=\"dataframe\">\n",
       "  <thead>\n",
       "    <tr style=\"text-align: right;\">\n",
       "      <th></th>\n",
       "      <th>compound</th>\n",
       "      <th>masstime</th>\n",
       "      <th>test</th>\n",
       "      <th>p_orig</th>\n",
       "      <th>p_FDR</th>\n",
       "      <th>p_Bonf</th>\n",
       "      <th>FC</th>\n",
       "      <th>ms</th>\n",
       "      <th>ur_P</th>\n",
       "      <th>ur_C</th>\n",
       "    </tr>\n",
       "  </thead>\n",
       "  <tbody>\n",
       "    <tr>\n",
       "      <th>0</th>\n",
       "      <td>(1S,6S,7S,8S,9R)-7,8,9-Trihydroxy-2,4,10-triox...</td>\n",
       "      <td>222.9916@0.715</td>\n",
       "      <td>PD-Control</td>\n",
       "      <td>7.141800e-11</td>\n",
       "      <td>3.494400e-07</td>\n",
       "      <td>4.913600e-08</td>\n",
       "      <td>1.740</td>\n",
       "      <td>0</td>\n",
       "      <td>4</td>\n",
       "      <td>23</td>\n",
       "    </tr>\n",
       "    <tr>\n",
       "      <th>1</th>\n",
       "      <td>O-(Hydroxy{(2R)-2-hydroxy-3-[(8Z,11Z,14Z)-8,11...</td>\n",
       "      <td>546.28186@10.621</td>\n",
       "      <td>PD-Control</td>\n",
       "      <td>3.286500e-09</td>\n",
       "      <td>8.040300e-06</td>\n",
       "      <td>2.261100e-06</td>\n",
       "      <td>0.744</td>\n",
       "      <td>0</td>\n",
       "      <td>0</td>\n",
       "      <td>0</td>\n",
       "    </tr>\n",
       "    <tr>\n",
       "      <th>2</th>\n",
       "      <td>1-Oleoyl-2-hydroxy-sn-glycero-3-PE</td>\n",
       "      <td>478.29422@10.618</td>\n",
       "      <td>PD-Control</td>\n",
       "      <td>1.416100e-08</td>\n",
       "      <td>2.309600e-05</td>\n",
       "      <td>9.742600e-06</td>\n",
       "      <td>0.710</td>\n",
       "      <td>0</td>\n",
       "      <td>0</td>\n",
       "      <td>0</td>\n",
       "    </tr>\n",
       "    <tr>\n",
       "      <th>3</th>\n",
       "      <td>NaN</td>\n",
       "      <td>446.29176@8.635</td>\n",
       "      <td>PD-Control</td>\n",
       "      <td>4.978100e-08</td>\n",
       "      <td>6.089300e-05</td>\n",
       "      <td>3.425000e-05</td>\n",
       "      <td>2.508</td>\n",
       "      <td>0</td>\n",
       "      <td>0</td>\n",
       "      <td>8</td>\n",
       "    </tr>\n",
       "    <tr>\n",
       "      <th>4</th>\n",
       "      <td>NaN</td>\n",
       "      <td>534.25133@9.333</td>\n",
       "      <td>PD-Control</td>\n",
       "      <td>8.587300e-08</td>\n",
       "      <td>8.403300e-05</td>\n",
       "      <td>5.908000e-05</td>\n",
       "      <td>1.659</td>\n",
       "      <td>0</td>\n",
       "      <td>0</td>\n",
       "      <td>4</td>\n",
       "    </tr>\n",
       "  </tbody>\n",
       "</table>\n",
       "</div>"
      ],
      "text/plain": [
       "                                            compound           masstime  \\\n",
       "0  (1S,6S,7S,8S,9R)-7,8,9-Trihydroxy-2,4,10-triox...     222.9916@0.715   \n",
       "1  O-(Hydroxy{(2R)-2-hydroxy-3-[(8Z,11Z,14Z)-8,11...   546.28186@10.621   \n",
       "2                 1-Oleoyl-2-hydroxy-sn-glycero-3-PE   478.29422@10.618   \n",
       "3                                                NaN    446.29176@8.635   \n",
       "4                                                NaN    534.25133@9.333   \n",
       "\n",
       "          test        p_orig         p_FDR        p_Bonf     FC   ms   ur_P  \\\n",
       "0   PD-Control  7.141800e-11  3.494400e-07  4.913600e-08  1.740    0      4   \n",
       "1   PD-Control  3.286500e-09  8.040300e-06  2.261100e-06  0.744    0      0   \n",
       "2   PD-Control  1.416100e-08  2.309600e-05  9.742600e-06  0.710    0      0   \n",
       "3   PD-Control  4.978100e-08  6.089300e-05  3.425000e-05  2.508    0      0   \n",
       "4   PD-Control  8.587300e-08  8.403300e-05  5.908000e-05  1.659    0      0   \n",
       "\n",
       "    ur_C  \n",
       "0     23  \n",
       "1      0  \n",
       "2      0  \n",
       "3      8  \n",
       "4      4  "
      ]
     },
     "execution_count": 112,
     "metadata": {},
     "output_type": "execute_result"
    }
   ],
   "source": [
    "df_ttest = pd.read_csv(path_ttest + filenames_ttest[fnum],sep=';')\n",
    "df_ttest.head()"
   ]
  },
  {
   "cell_type": "markdown",
   "id": "adb2261a",
   "metadata": {},
   "source": [
    "## Get the indices of significant features wrt. source data (keep meta info)"
   ]
  },
  {
   "cell_type": "code",
   "execution_count": 6,
   "id": "2806560c",
   "metadata": {},
   "outputs": [
    {
     "data": {
      "text/plain": [
       "(95, 10)"
      ]
     },
     "execution_count": 6,
     "metadata": {},
     "output_type": "execute_result"
    }
   ],
   "source": [
    "df_ttest.shape"
   ]
  },
  {
   "cell_type": "code",
   "execution_count": 11,
   "id": "9fb182b8",
   "metadata": {},
   "outputs": [],
   "source": [
    "masstime = np.unique(df_ttest[' masstime'].to_numpy())\n",
    "data_significant=get_features(masstime, df, True,[0,1,2,3],' ')"
   ]
  },
  {
   "cell_type": "code",
   "execution_count": 12,
   "id": "26511a6d",
   "metadata": {},
   "outputs": [
    {
     "data": {
      "text/plain": [
       "(99, 224)"
      ]
     },
     "execution_count": 12,
     "metadata": {},
     "output_type": "execute_result"
    }
   ],
   "source": [
    "data_significant.shape"
   ]
  },
  {
   "cell_type": "code",
   "execution_count": 110,
   "id": "65e709b1",
   "metadata": {},
   "outputs": [],
   "source": [
    "sorted_ind=np.argsort(data_significant.iloc[4:,5])\n",
    "X=data_significant.iloc[sorted_ind+4,8:80].to_numpy(dtype=float).T\n",
    "rtime=data_significant.iloc[sorted_ind+4,5].to_numpy(dtype=float)[:,np.newaxis]\n",
    "mass=data_significant.iloc[sorted_ind+4,4].to_numpy(dtype=float)[:,np.newaxis]\n",
    "masstime=[' ' + \"{}@{}\".format(m[0],t[0]) for m,t in zip(mass, rtime)]\n",
    "compound_names = data_significant.iloc[sorted_ind+4,0].to_numpy(dtype=str)"
   ]
  },
  {
   "cell_type": "code",
   "execution_count": 69,
   "id": "958f8937",
   "metadata": {},
   "outputs": [],
   "source": [
    "group = data_significant.iloc[1,8:80]\n",
    "LE = LabelEncoder()\n",
    "labels = LE.fit_transform(group)\n",
    "gender = data_significant.iloc[0,8:80]"
   ]
  },
  {
   "cell_type": "code",
   "execution_count": 70,
   "id": "868fabfe",
   "metadata": {},
   "outputs": [
    {
     "data": {
      "text/html": [
       "<div>\n",
       "<style scoped>\n",
       "    .dataframe tbody tr th:only-of-type {\n",
       "        vertical-align: middle;\n",
       "    }\n",
       "\n",
       "    .dataframe tbody tr th {\n",
       "        vertical-align: top;\n",
       "    }\n",
       "\n",
       "    .dataframe thead th {\n",
       "        text-align: right;\n",
       "    }\n",
       "</style>\n",
       "<table border=\"1\" class=\"dataframe\">\n",
       "  <thead>\n",
       "    <tr style=\"text-align: right;\">\n",
       "      <th></th>\n",
       "      <th>0</th>\n",
       "      <th>1</th>\n",
       "      <th>2</th>\n",
       "      <th>3</th>\n",
       "      <th>4</th>\n",
       "      <th>5</th>\n",
       "      <th>6</th>\n",
       "      <th>7</th>\n",
       "      <th>8</th>\n",
       "      <th>9</th>\n",
       "      <th>...</th>\n",
       "      <th>214</th>\n",
       "      <th>215</th>\n",
       "      <th>216</th>\n",
       "      <th>217</th>\n",
       "      <th>218</th>\n",
       "      <th>219</th>\n",
       "      <th>220</th>\n",
       "      <th>221</th>\n",
       "      <th>222</th>\n",
       "      <th>223</th>\n",
       "    </tr>\n",
       "  </thead>\n",
       "  <tbody>\n",
       "    <tr>\n",
       "      <th>86</th>\n",
       "      <td>D-Gluconic acid</td>\n",
       "      <td>C6 H12 O7</td>\n",
       "      <td>-2.6</td>\n",
       "      <td>196.05779</td>\n",
       "      <td>195.05052</td>\n",
       "      <td>0.563</td>\n",
       "      <td>No MS2</td>\n",
       "      <td>[M-H]-1</td>\n",
       "      <td>17.893528427150457</td>\n",
       "      <td>18.00144276865585</td>\n",
       "      <td>...</td>\n",
       "      <td>64</td>\n",
       "      <td>64</td>\n",
       "      <td>64</td>\n",
       "      <td>64</td>\n",
       "      <td>64</td>\n",
       "      <td>64</td>\n",
       "      <td>64</td>\n",
       "      <td>64</td>\n",
       "      <td>64</td>\n",
       "      <td>64</td>\n",
       "    </tr>\n",
       "    <tr>\n",
       "      <th>85</th>\n",
       "      <td>2,3,4,5-Tetrahydroxypentanal</td>\n",
       "      <td>C5 H10 O5</td>\n",
       "      <td>-4.89</td>\n",
       "      <td>150.05209</td>\n",
       "      <td>195.05047</td>\n",
       "      <td>0.563</td>\n",
       "      <td>No MS2</td>\n",
       "      <td>[M+FA-H]-1</td>\n",
       "      <td>17.893528427150457</td>\n",
       "      <td>18.00144276865585</td>\n",
       "      <td>...</td>\n",
       "      <td>64</td>\n",
       "      <td>64</td>\n",
       "      <td>64</td>\n",
       "      <td>64</td>\n",
       "      <td>64</td>\n",
       "      <td>64</td>\n",
       "      <td>64</td>\n",
       "      <td>64</td>\n",
       "      <td>64</td>\n",
       "      <td>0</td>\n",
       "    </tr>\n",
       "    <tr>\n",
       "      <th>18</th>\n",
       "      <td>2,3,4,5-Tetrahydroxypentanal</td>\n",
       "      <td>C5 H10 O5</td>\n",
       "      <td>-3.38</td>\n",
       "      <td>150.05232</td>\n",
       "      <td>149.04458</td>\n",
       "      <td>0.619</td>\n",
       "      <td>No MS2</td>\n",
       "      <td>[M-H]-1</td>\n",
       "      <td>17.71192517594584</td>\n",
       "      <td>17.00598950057925</td>\n",
       "      <td>...</td>\n",
       "      <td>0</td>\n",
       "      <td>0</td>\n",
       "      <td>0</td>\n",
       "      <td>0</td>\n",
       "      <td>0</td>\n",
       "      <td>0</td>\n",
       "      <td>0</td>\n",
       "      <td>0</td>\n",
       "      <td>0</td>\n",
       "      <td>0</td>\n",
       "    </tr>\n",
       "    <tr>\n",
       "      <th>49</th>\n",
       "      <td>2,4-DIOXO-5-THIAZOLIDINEACETIC ACID</td>\n",
       "      <td>C5 H5 N O4 S</td>\n",
       "      <td>-4.17</td>\n",
       "      <td>174.9932</td>\n",
       "      <td>173.98592</td>\n",
       "      <td>0.712</td>\n",
       "      <td>No MS2</td>\n",
       "      <td>[M-H]-1</td>\n",
       "      <td>16.81534446677103</td>\n",
       "      <td>15.150999463480126</td>\n",
       "      <td>...</td>\n",
       "      <td>0</td>\n",
       "      <td>0</td>\n",
       "      <td>0</td>\n",
       "      <td>0</td>\n",
       "      <td>0</td>\n",
       "      <td>128</td>\n",
       "      <td>0</td>\n",
       "      <td>0</td>\n",
       "      <td>32</td>\n",
       "      <td>0</td>\n",
       "    </tr>\n",
       "    <tr>\n",
       "      <th>21</th>\n",
       "      <td>NaN</td>\n",
       "      <td>C5 H12 O S2</td>\n",
       "      <td>-2.84</td>\n",
       "      <td>152.03252</td>\n",
       "      <td>151.02523</td>\n",
       "      <td>0.714</td>\n",
       "      <td>No MS2</td>\n",
       "      <td>[M-H]-1</td>\n",
       "      <td>15.382986326076104</td>\n",
       "      <td>16.028427289376488</td>\n",
       "      <td>...</td>\n",
       "      <td>128</td>\n",
       "      <td>128</td>\n",
       "      <td>32</td>\n",
       "      <td>128</td>\n",
       "      <td>128</td>\n",
       "      <td>32</td>\n",
       "      <td>32</td>\n",
       "      <td>32</td>\n",
       "      <td>0</td>\n",
       "      <td>128</td>\n",
       "    </tr>\n",
       "  </tbody>\n",
       "</table>\n",
       "<p>5 rows × 224 columns</p>\n",
       "</div>"
      ],
      "text/plain": [
       "                                    0             1      2          3    \\\n",
       "86                      D-Gluconic acid     C6 H12 O7   -2.6  196.05779   \n",
       "85         2,3,4,5-Tetrahydroxypentanal     C5 H10 O5  -4.89  150.05209   \n",
       "18         2,3,4,5-Tetrahydroxypentanal     C5 H10 O5  -3.38  150.05232   \n",
       "49  2,4-DIOXO-5-THIAZOLIDINEACETIC ACID  C5 H5 N O4 S  -4.17   174.9932   \n",
       "21                                  NaN   C5 H12 O S2  -2.84  152.03252   \n",
       "\n",
       "          4      5       6           7                   8    \\\n",
       "86  195.05052  0.563  No MS2     [M-H]-1  17.893528427150457   \n",
       "85  195.05047  0.563  No MS2  [M+FA-H]-1  17.893528427150457   \n",
       "18  149.04458  0.619  No MS2     [M-H]-1   17.71192517594584   \n",
       "49  173.98592  0.712  No MS2     [M-H]-1   16.81534446677103   \n",
       "21  151.02523  0.714  No MS2     [M-H]-1  15.382986326076104   \n",
       "\n",
       "                   9    ...  214  215 216  217  218  219 220 221 222  223  \n",
       "86   18.00144276865585  ...   64   64  64   64   64   64  64  64  64   64  \n",
       "85   18.00144276865585  ...   64   64  64   64   64   64  64  64  64    0  \n",
       "18   17.00598950057925  ...    0    0   0    0    0    0   0   0   0    0  \n",
       "49  15.150999463480126  ...    0    0   0    0    0  128   0   0  32    0  \n",
       "21  16.028427289376488  ...  128  128  32  128  128   32  32  32   0  128  \n",
       "\n",
       "[5 rows x 224 columns]"
      ]
     },
     "execution_count": 70,
     "metadata": {},
     "output_type": "execute_result"
    }
   ],
   "source": [
    "data_significant.iloc[sorted_ind + 4,:].head()"
   ]
  },
  {
   "cell_type": "markdown",
   "id": "f18e94ec",
   "metadata": {},
   "source": [
    "### ---------------------------------------------------------------------------------------------------------"
   ]
  },
  {
   "cell_type": "code",
   "execution_count": 37,
   "id": "11aef04d",
   "metadata": {},
   "outputs": [],
   "source": [
    "\n",
    "def make_twoWay_design(covariates, c1, c2):\n",
    "    n_samples = covariates.shape[0]\n",
    "    \n",
    "    design = np.zeros((n_samples, 4), dtype=int)\n",
    "    design[:,0]=1\n",
    "    design[:,1]=covariates[:,0]==c1\n",
    "    design[:,2]=covariates[:,1]==c2\n",
    "    design[:,3]=(covariates[:,0]==c1) & (covariates[:,1]==c2) \n",
    "    \n",
    "    return design"
   ]
  },
  {
   "cell_type": "code",
   "execution_count": 71,
   "id": "4beebe25",
   "metadata": {},
   "outputs": [],
   "source": [
    "covs = np.vstack((group, gender)).T\n",
    "twoWay_design=make_twoWay_design(covs,'PD', 'male')"
   ]
  },
  {
   "cell_type": "code",
   "execution_count": 76,
   "id": "2ea00cbd",
   "metadata": {},
   "outputs": [],
   "source": [
    "var=0\n",
    "y=X[:,var]"
   ]
  },
  {
   "cell_type": "code",
   "execution_count": 77,
   "id": "4af31b6a",
   "metadata": {},
   "outputs": [],
   "source": [
    "β = np.linalg.inv(twoWay_design.T@twoWay_design)@twoWay_design.T@y"
   ]
  },
  {
   "cell_type": "code",
   "execution_count": 78,
   "id": "49f63f1b",
   "metadata": {},
   "outputs": [
    {
     "data": {
      "text/plain": [
       "array([19.36948309, -1.14381278,  0.46017866, -0.57206328])"
      ]
     },
     "execution_count": 78,
     "metadata": {},
     "output_type": "execute_result"
    }
   ],
   "source": [
    "β"
   ]
  },
  {
   "cell_type": "code",
   "execution_count": 82,
   "id": "4c66b944",
   "metadata": {},
   "outputs": [],
   "source": [
    "MeanOP = np.array([\n",
    "    \n",
    "    [1,0,0,0],\n",
    "    [1,1,0,0],\n",
    "    [1,0,1,0],\n",
    "    [1,1,1,1]\n",
    "])"
   ]
  },
  {
   "cell_type": "code",
   "execution_count": 83,
   "id": "6a100f27",
   "metadata": {},
   "outputs": [
    {
     "data": {
      "text/plain": [
       "array([19.36948309, 18.22567031, 19.82966175, 18.11378568])"
      ]
     },
     "execution_count": 83,
     "metadata": {},
     "output_type": "execute_result"
    }
   ],
   "source": [
    "MeanOP@β"
   ]
  },
  {
   "cell_type": "code",
   "execution_count": 101,
   "id": "5c27ff77",
   "metadata": {},
   "outputs": [
    {
     "data": {
      "text/plain": [
       "19.369483091259614"
      ]
     },
     "execution_count": 101,
     "metadata": {},
     "output_type": "execute_result"
    }
   ],
   "source": [
    "y[np.where(np.bitwise_and((gender=='female') , (group=='Control')))[0]].mean()"
   ]
  },
  {
   "cell_type": "code",
   "execution_count": 150,
   "id": "40da5ac1",
   "metadata": {},
   "outputs": [],
   "source": [
    "n1=np.sum(np.bitwise_and((gender=='male') , (group=='Control')))\n",
    "n2=np.sum(np.bitwise_and((gender=='female') , (group=='Control')))\n",
    "n3=np.sum(np.bitwise_and((gender=='male') , (group=='PD')))\n",
    "n4=np.sum(np.bitwise_and((gender=='female') , (group=='PD')))\n",
    "n=n1+n2+n3+n4"
   ]
  },
  {
   "cell_type": "code",
   "execution_count": 151,
   "id": "93f8125b",
   "metadata": {},
   "outputs": [
    {
     "data": {
      "text/plain": [
       "9.833389255901231"
      ]
     },
     "execution_count": 151,
     "metadata": {},
     "output_type": "execute_result"
    }
   ],
   "source": [
    "np.array([1,1,0,0])@β*n4/n + np.ones((4,))@β*n3/n"
   ]
  },
  {
   "cell_type": "code",
   "execution_count": 132,
   "id": "1e041c16",
   "metadata": {},
   "outputs": [
    {
     "data": {
      "text/plain": [
       "-2.8596888481880685"
      ]
     },
     "execution_count": 132,
     "metadata": {},
     "output_type": "execute_result"
    }
   ],
   "source": [
    "np.array([0,2,0,1])@β"
   ]
  },
  {
   "cell_type": "code",
   "execution_count": 161,
   "id": "cb42d371",
   "metadata": {},
   "outputs": [],
   "source": [
    "b=β"
   ]
  },
  {
   "cell_type": "code",
   "execution_count": 163,
   "id": "32f69925",
   "metadata": {},
   "outputs": [
    {
     "data": {
      "text/plain": [
       "19.369483091259603"
      ]
     },
     "execution_count": 163,
     "metadata": {},
     "output_type": "execute_result"
    }
   ],
   "source": [
    "b[0]"
   ]
  },
  {
   "cell_type": "code",
   "execution_count": 165,
   "id": "3dbfc14a",
   "metadata": {},
   "outputs": [
    {
     "data": {
      "text/plain": [
       "19.369483091259614"
      ]
     },
     "execution_count": 165,
     "metadata": {},
     "output_type": "execute_result"
    }
   ],
   "source": [
    "y[np.where(np.bitwise_and((gender=='female') , (group=='Control')))[0]].mean()"
   ]
  },
  {
   "cell_type": "code",
   "execution_count": 136,
   "id": "c0e0e03b",
   "metadata": {},
   "outputs": [
    {
     "data": {
      "text/plain": [
       "-1.3968161975192643"
      ]
     },
     "execution_count": 136,
     "metadata": {},
     "output_type": "execute_result"
    }
   ],
   "source": [
    "y[np.where(group=='PD')[0]].mean() - y[np.where(group=='Control')[0]].mean()"
   ]
  },
  {
   "cell_type": "code",
   "execution_count": 153,
   "id": "3b08650b",
   "metadata": {},
   "outputs": [
    {
     "data": {
      "text/plain": [
       "19.55076559302923"
      ]
     },
     "execution_count": 153,
     "metadata": {},
     "output_type": "execute_result"
    }
   ],
   "source": [
    "y[np.where(group=='Control')[0]].mean()"
   ]
  },
  {
   "cell_type": "code",
   "execution_count": 157,
   "id": "8a318dc1",
   "metadata": {},
   "outputs": [],
   "source": [
    "mp=((β[0]+β[1])*n4 + (β[0]+β[1]+β[2]+β[3])*n3)/n"
   ]
  },
  {
   "cell_type": "code",
   "execution_count": 158,
   "id": "e3b0615f",
   "metadata": {},
   "outputs": [],
   "source": [
    "mc=(β[0]*n2 + (β[0]+β[1])*n1)/n"
   ]
  },
  {
   "cell_type": "code",
   "execution_count": 159,
   "id": "95963c08",
   "metadata": {},
   "outputs": [
    {
     "data": {
      "text/plain": [
       "1.1622312582104275"
      ]
     },
     "execution_count": 159,
     "metadata": {},
     "output_type": "execute_result"
    }
   ],
   "source": [
    "mp-mc"
   ]
  },
  {
   "cell_type": "code",
   "execution_count": 139,
   "id": "468b89bb",
   "metadata": {},
   "outputs": [
    {
     "data": {
      "text/plain": [
       "-21.085359156537738"
      ]
     },
     "execution_count": 139,
     "metadata": {},
     "output_type": "execute_result"
    }
   ],
   "source": [
    "np.ones((4,))@β - np.array([2,0,1,0])@β"
   ]
  },
  {
   "cell_type": "code",
   "execution_count": 124,
   "id": "0d3d211c",
   "metadata": {},
   "outputs": [
    {
     "data": {
      "text/plain": [
       "array([[  0.        ,  20.51329587,  18.90930443,  19.94154637],\n",
       "       [-20.51329587,   0.        ,  -1.60399144,  -0.5717495 ],\n",
       "       [-18.90930443,   1.60399144,   0.        ,   1.03224194],\n",
       "       [-19.94154637,   0.5717495 ,  -1.03224194,   0.        ]])"
      ]
     },
     "execution_count": 124,
     "metadata": {},
     "output_type": "execute_result"
    }
   ],
   "source": [
    "β[:,np.newaxis]- β[np.newaxis,:]"
   ]
  },
  {
   "cell_type": "code",
   "execution_count": 109,
   "id": "d39b7ffe",
   "metadata": {},
   "outputs": [
    {
     "data": {
      "text/plain": [
       "' 195.05052@0.563'"
      ]
     },
     "execution_count": 109,
     "metadata": {},
     "output_type": "execute_result"
    }
   ],
   "source": [
    "masstime[var]"
   ]
  },
  {
   "cell_type": "code",
   "execution_count": 111,
   "id": "88654e15",
   "metadata": {},
   "outputs": [
    {
     "data": {
      "text/plain": [
       "'D-Gluconic acid'"
      ]
     },
     "execution_count": 111,
     "metadata": {},
     "output_type": "execute_result"
    }
   ],
   "source": [
    "compound_names[var]"
   ]
  },
  {
   "cell_type": "code",
   "execution_count": 113,
   "id": "ac209187",
   "metadata": {},
   "outputs": [
    {
     "data": {
      "text/html": [
       "<div>\n",
       "<style scoped>\n",
       "    .dataframe tbody tr th:only-of-type {\n",
       "        vertical-align: middle;\n",
       "    }\n",
       "\n",
       "    .dataframe tbody tr th {\n",
       "        vertical-align: top;\n",
       "    }\n",
       "\n",
       "    .dataframe thead th {\n",
       "        text-align: right;\n",
       "    }\n",
       "</style>\n",
       "<table border=\"1\" class=\"dataframe\">\n",
       "  <thead>\n",
       "    <tr style=\"text-align: right;\">\n",
       "      <th></th>\n",
       "      <th>compound</th>\n",
       "      <th>masstime</th>\n",
       "      <th>test</th>\n",
       "      <th>p_orig</th>\n",
       "      <th>p_FDR</th>\n",
       "      <th>p_Bonf</th>\n",
       "      <th>FC</th>\n",
       "      <th>ms</th>\n",
       "      <th>ur_P</th>\n",
       "      <th>ur_C</th>\n",
       "    </tr>\n",
       "  </thead>\n",
       "  <tbody>\n",
       "    <tr>\n",
       "      <th>0</th>\n",
       "      <td>(1S,6S,7S,8S,9R)-7,8,9-Trihydroxy-2,4,10-triox...</td>\n",
       "      <td>222.9916@0.715</td>\n",
       "      <td>PD-Control</td>\n",
       "      <td>7.141800e-11</td>\n",
       "      <td>3.494400e-07</td>\n",
       "      <td>4.913600e-08</td>\n",
       "      <td>1.740</td>\n",
       "      <td>0</td>\n",
       "      <td>4</td>\n",
       "      <td>23</td>\n",
       "    </tr>\n",
       "    <tr>\n",
       "      <th>1</th>\n",
       "      <td>O-(Hydroxy{(2R)-2-hydroxy-3-[(8Z,11Z,14Z)-8,11...</td>\n",
       "      <td>546.28186@10.621</td>\n",
       "      <td>PD-Control</td>\n",
       "      <td>3.286500e-09</td>\n",
       "      <td>8.040300e-06</td>\n",
       "      <td>2.261100e-06</td>\n",
       "      <td>0.744</td>\n",
       "      <td>0</td>\n",
       "      <td>0</td>\n",
       "      <td>0</td>\n",
       "    </tr>\n",
       "    <tr>\n",
       "      <th>2</th>\n",
       "      <td>1-Oleoyl-2-hydroxy-sn-glycero-3-PE</td>\n",
       "      <td>478.29422@10.618</td>\n",
       "      <td>PD-Control</td>\n",
       "      <td>1.416100e-08</td>\n",
       "      <td>2.309600e-05</td>\n",
       "      <td>9.742600e-06</td>\n",
       "      <td>0.710</td>\n",
       "      <td>0</td>\n",
       "      <td>0</td>\n",
       "      <td>0</td>\n",
       "    </tr>\n",
       "    <tr>\n",
       "      <th>3</th>\n",
       "      <td>NaN</td>\n",
       "      <td>446.29176@8.635</td>\n",
       "      <td>PD-Control</td>\n",
       "      <td>4.978100e-08</td>\n",
       "      <td>6.089300e-05</td>\n",
       "      <td>3.425000e-05</td>\n",
       "      <td>2.508</td>\n",
       "      <td>0</td>\n",
       "      <td>0</td>\n",
       "      <td>8</td>\n",
       "    </tr>\n",
       "    <tr>\n",
       "      <th>4</th>\n",
       "      <td>NaN</td>\n",
       "      <td>534.25133@9.333</td>\n",
       "      <td>PD-Control</td>\n",
       "      <td>8.587300e-08</td>\n",
       "      <td>8.403300e-05</td>\n",
       "      <td>5.908000e-05</td>\n",
       "      <td>1.659</td>\n",
       "      <td>0</td>\n",
       "      <td>0</td>\n",
       "      <td>4</td>\n",
       "    </tr>\n",
       "  </tbody>\n",
       "</table>\n",
       "</div>"
      ],
      "text/plain": [
       "                                            compound           masstime  \\\n",
       "0  (1S,6S,7S,8S,9R)-7,8,9-Trihydroxy-2,4,10-triox...     222.9916@0.715   \n",
       "1  O-(Hydroxy{(2R)-2-hydroxy-3-[(8Z,11Z,14Z)-8,11...   546.28186@10.621   \n",
       "2                 1-Oleoyl-2-hydroxy-sn-glycero-3-PE   478.29422@10.618   \n",
       "3                                                NaN    446.29176@8.635   \n",
       "4                                                NaN    534.25133@9.333   \n",
       "\n",
       "          test        p_orig         p_FDR        p_Bonf     FC   ms   ur_P  \\\n",
       "0   PD-Control  7.141800e-11  3.494400e-07  4.913600e-08  1.740    0      4   \n",
       "1   PD-Control  3.286500e-09  8.040300e-06  2.261100e-06  0.744    0      0   \n",
       "2   PD-Control  1.416100e-08  2.309600e-05  9.742600e-06  0.710    0      0   \n",
       "3   PD-Control  4.978100e-08  6.089300e-05  3.425000e-05  2.508    0      0   \n",
       "4   PD-Control  8.587300e-08  8.403300e-05  5.908000e-05  1.659    0      0   \n",
       "\n",
       "    ur_C  \n",
       "0     23  \n",
       "1      0  \n",
       "2      0  \n",
       "3      8  \n",
       "4      4  "
      ]
     },
     "execution_count": 113,
     "metadata": {},
     "output_type": "execute_result"
    }
   ],
   "source": [
    "df_ttest.head()"
   ]
  },
  {
   "cell_type": "code",
   "execution_count": 160,
   "id": "83083fc2",
   "metadata": {},
   "outputs": [
    {
     "name": "stdout",
     "output_type": "stream",
     "text": [
      "-----------------------\n",
      "Peak:  195.05052@0.563\n",
      "P-values: [0.014487]\n",
      "Tests: [' PD-Control']\n",
      "Effects: [-1.397]\n",
      "-----------------------\n",
      "Peak:  195.05047@0.563\n",
      "P-values: [0.014487]\n",
      "Tests: [' PD-Control']\n",
      "Effects: [-1.397]\n"
     ]
    }
   ],
   "source": [
    "mts, ps, ts, es = extract_pvalues(df_ttest,masstime[:2], pvalue_col=' p_orig')\n",
    "display_pvalues(mts, ps, ts, es)"
   ]
  },
  {
   "cell_type": "markdown",
   "id": "7911a472",
   "metadata": {},
   "source": [
    "### ----------------------------------------------------------------------------------------------------------------"
   ]
  },
  {
   "cell_type": "code",
   "execution_count": 17,
   "id": "1ad37621",
   "metadata": {},
   "outputs": [],
   "source": [
    "gender = df_sgnf.iloc[0,8:80]\n",
    "group = df_sgnf.iloc[1,8:80]\n",
    "area = df_sgnf.iloc[4:,8:80]\n",
    "LE = LabelEncoder()\n",
    "label = LE.fit_transform(group)"
   ]
  },
  {
   "cell_type": "code",
   "execution_count": 236,
   "id": "6355d711",
   "metadata": {},
   "outputs": [],
   "source": [
    "Gender = LabelBinarizer().fit_transform(gender)\n",
    "Group = LabelBinarizer().fit_transform(group)\n",
    "A = area.to_numpy(dtype=float)\n",
    "RT = df_sgnf.iloc[4:,5].to_numpy(dtype=float)[:,np.newaxis]\n",
    "assert(RT.shape[0]==A.shape[0])"
   ]
  },
  {
   "cell_type": "code",
   "execution_count": 238,
   "id": "3943b32f",
   "metadata": {},
   "outputs": [],
   "source": [
    "dt=0.1\n",
    "mask = np.abs(RT-RT.T)<=dt\n",
    "C = np.corrcoef(A)*mask\n",
    "DC = 1 - C\n",
    "DC-=np.diag(DC)*np.eye(DC.shape[0])"
   ]
  },
  {
   "cell_type": "code",
   "execution_count": 247,
   "id": "2fdeac40",
   "metadata": {},
   "outputs": [
    {
     "data": {
      "text/plain": [
       "1.4962163725793434"
      ]
     },
     "execution_count": 247,
     "metadata": {},
     "output_type": "execute_result"
    }
   ],
   "source": [
    "np.max(DC)"
   ]
  },
  {
   "cell_type": "code",
   "execution_count": 243,
   "id": "bb5c62b2",
   "metadata": {},
   "outputs": [
    {
     "data": {
      "text/plain": [
       "array([0.        , 0.        , 0.21906109, 0.25286129, 1.07294712,\n",
       "       0.56488514, 1.3331359 , 1.16789749, 1.30472851, 1.48375516,\n",
       "       1.32486517, 1.1441725 , 1.34306061, 1.06976171, 1.34653116,\n",
       "       1.34847826, 1.35179735, 1.34983186, 1.28261526, 1.35027484,\n",
       "       1.        , 1.        , 1.        , 1.        , 1.        ,\n",
       "       1.        , 1.        , 1.        , 1.        , 1.        ,\n",
       "       1.        , 1.        , 1.        , 1.        , 1.        ,\n",
       "       1.        , 1.        , 1.        , 1.        , 1.        ,\n",
       "       1.        , 1.        , 1.        , 1.        , 1.        ,\n",
       "       1.        , 1.        , 1.        , 1.        , 1.        ,\n",
       "       1.        , 1.        , 1.        , 1.        , 1.        ,\n",
       "       1.        , 1.        , 1.        , 1.        , 1.        ,\n",
       "       1.        , 1.        , 1.        , 1.        , 1.        ,\n",
       "       1.        , 1.        , 1.        , 1.        , 1.        ])"
      ]
     },
     "execution_count": 243,
     "metadata": {},
     "output_type": "execute_result"
    }
   ],
   "source": [
    "DC[1,:]"
   ]
  },
  {
   "cell_type": "code",
   "execution_count": null,
   "id": "b173976e",
   "metadata": {},
   "outputs": [],
   "source": []
  }
 ],
 "metadata": {
  "kernelspec": {
   "display_name": "Python 3 (ipykernel)",
   "language": "python",
   "name": "python3"
  },
  "language_info": {
   "codemirror_mode": {
    "name": "ipython",
    "version": 3
   },
   "file_extension": ".py",
   "mimetype": "text/x-python",
   "name": "python",
   "nbconvert_exporter": "python",
   "pygments_lexer": "ipython3",
   "version": "3.8.5"
  }
 },
 "nbformat": 4,
 "nbformat_minor": 5
}
