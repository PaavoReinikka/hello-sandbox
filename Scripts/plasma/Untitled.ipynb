{
 "cells": [
  {
   "cell_type": "code",
   "execution_count": 98,
   "id": "4e7ac4db",
   "metadata": {},
   "outputs": [],
   "source": [
    "import numpy as np\n",
    "import pandas as pd\n",
    "from sklearn.linear_model import LogisticRegression, LogisticRegressionCV\n",
    "from sklearn.preprocessing import LabelBinarizer, Normalizer\n",
    "from sklearn.decomposition import PCA\n",
    "import matplotlib.pyplot as plt"
   ]
  },
  {
   "cell_type": "code",
   "execution_count": 52,
   "id": "ce284ed6",
   "metadata": {},
   "outputs": [
    {
     "data": {
      "text/plain": [
       "['plasmaHILICnegGFstatus_log2.csv',\n",
       " 'plasmaHILICposGFstatus_log2.csv',\n",
       " 'plasmalipidnegwithGFstatus_log2.csv',\n",
       " 'plasmalipidposwithGFstatus_log2.csv',\n",
       " 'plasmaRPnegGFstatus_log2.csv',\n",
       " 'plasmaRPposGFstatus_log2.csv']"
      ]
     },
     "execution_count": 52,
     "metadata": {},
     "output_type": "execute_result"
    }
   ],
   "source": [
    "path = '../../PDproj/plasmadata/clean/'\n",
    "filenames = [line.rstrip() for line in open(path +'filenames.txt')]\n",
    "filenames"
   ]
  },
  {
   "cell_type": "code",
   "execution_count": 53,
   "id": "3ca132f7",
   "metadata": {},
   "outputs": [
    {
     "data": {
      "text/html": [
       "<div>\n",
       "<style scoped>\n",
       "    .dataframe tbody tr th:only-of-type {\n",
       "        vertical-align: middle;\n",
       "    }\n",
       "\n",
       "    .dataframe tbody tr th {\n",
       "        vertical-align: top;\n",
       "    }\n",
       "\n",
       "    .dataframe thead th {\n",
       "        text-align: right;\n",
       "    }\n",
       "</style>\n",
       "<table border=\"1\" class=\"dataframe\">\n",
       "  <thead>\n",
       "    <tr style=\"text-align: right;\">\n",
       "      <th></th>\n",
       "      <th>0</th>\n",
       "      <th>1</th>\n",
       "      <th>2</th>\n",
       "      <th>3</th>\n",
       "      <th>4</th>\n",
       "      <th>5</th>\n",
       "      <th>6</th>\n",
       "      <th>7</th>\n",
       "      <th>8</th>\n",
       "      <th>9</th>\n",
       "      <th>...</th>\n",
       "      <th>214</th>\n",
       "      <th>215</th>\n",
       "      <th>216</th>\n",
       "      <th>217</th>\n",
       "      <th>218</th>\n",
       "      <th>219</th>\n",
       "      <th>220</th>\n",
       "      <th>221</th>\n",
       "      <th>222</th>\n",
       "      <th>223</th>\n",
       "    </tr>\n",
       "  </thead>\n",
       "  <tbody>\n",
       "    <tr>\n",
       "      <th>0</th>\n",
       "      <td>NaN</td>\n",
       "      <td>NaN</td>\n",
       "      <td>NaN</td>\n",
       "      <td>NaN</td>\n",
       "      <td>NaN</td>\n",
       "      <td>NaN</td>\n",
       "      <td>NaN</td>\n",
       "      <td>NaN</td>\n",
       "      <td>female</td>\n",
       "      <td>female</td>\n",
       "      <td>...</td>\n",
       "      <td>NaN</td>\n",
       "      <td>NaN</td>\n",
       "      <td>NaN</td>\n",
       "      <td>NaN</td>\n",
       "      <td>NaN</td>\n",
       "      <td>NaN</td>\n",
       "      <td>NaN</td>\n",
       "      <td>NaN</td>\n",
       "      <td>NaN</td>\n",
       "      <td>NaN</td>\n",
       "    </tr>\n",
       "    <tr>\n",
       "      <th>1</th>\n",
       "      <td>NaN</td>\n",
       "      <td>NaN</td>\n",
       "      <td>NaN</td>\n",
       "      <td>NaN</td>\n",
       "      <td>NaN</td>\n",
       "      <td>NaN</td>\n",
       "      <td>NaN</td>\n",
       "      <td>NaN</td>\n",
       "      <td>Control</td>\n",
       "      <td>Control</td>\n",
       "      <td>...</td>\n",
       "      <td>NaN</td>\n",
       "      <td>NaN</td>\n",
       "      <td>NaN</td>\n",
       "      <td>NaN</td>\n",
       "      <td>NaN</td>\n",
       "      <td>NaN</td>\n",
       "      <td>NaN</td>\n",
       "      <td>NaN</td>\n",
       "      <td>NaN</td>\n",
       "      <td>NaN</td>\n",
       "    </tr>\n",
       "    <tr>\n",
       "      <th>2</th>\n",
       "      <td>NaN</td>\n",
       "      <td>NaN</td>\n",
       "      <td>NaN</td>\n",
       "      <td>NaN</td>\n",
       "      <td>NaN</td>\n",
       "      <td>NaN</td>\n",
       "      <td>NaN</td>\n",
       "      <td>NaN</td>\n",
       "      <td>2</td>\n",
       "      <td>3</td>\n",
       "      <td>...</td>\n",
       "      <td>NaN</td>\n",
       "      <td>NaN</td>\n",
       "      <td>NaN</td>\n",
       "      <td>NaN</td>\n",
       "      <td>NaN</td>\n",
       "      <td>NaN</td>\n",
       "      <td>NaN</td>\n",
       "      <td>NaN</td>\n",
       "      <td>NaN</td>\n",
       "      <td>NaN</td>\n",
       "    </tr>\n",
       "    <tr>\n",
       "      <th>3</th>\n",
       "      <td>Name</td>\n",
       "      <td>Formula</td>\n",
       "      <td>Annot. DeltaMass [ppm]</td>\n",
       "      <td>Calc. MW</td>\n",
       "      <td>m/z</td>\n",
       "      <td>RT [min]</td>\n",
       "      <td>MS2</td>\n",
       "      <td>Reference Ion</td>\n",
       "      <td>Area: 221013_SarkaLehtonen_Plasma_Hilic_neg_00...</td>\n",
       "      <td>Area: 221013_SarkaLehtonen_Plasma_Hilic_neg_00...</td>\n",
       "      <td>...</td>\n",
       "      <td>Gap Fill Status: 221013_SarkaLehtonen_Plasma_H...</td>\n",
       "      <td>Gap Fill Status: 221013_SarkaLehtonen_Plasma_H...</td>\n",
       "      <td>Gap Fill Status: 221013_SarkaLehtonen_Plasma_H...</td>\n",
       "      <td>Gap Fill Status: 221013_SarkaLehtonen_Plasma_H...</td>\n",
       "      <td>Gap Fill Status: 221013_SarkaLehtonen_Plasma_H...</td>\n",
       "      <td>Gap Fill Status: 221013_SarkaLehtonen_Plasma_H...</td>\n",
       "      <td>Gap Fill Status: 221013_SarkaLehtonen_Plasma_H...</td>\n",
       "      <td>Gap Fill Status: 221013_SarkaLehtonen_Plasma_H...</td>\n",
       "      <td>Gap Fill Status: 221013_SarkaLehtonen_Plasma_H...</td>\n",
       "      <td>Gap Fill Status: 221013_SarkaLehtonen_Plasma_H...</td>\n",
       "    </tr>\n",
       "    <tr>\n",
       "      <th>4</th>\n",
       "      <td>NaN</td>\n",
       "      <td>NaN</td>\n",
       "      <td>NaN</td>\n",
       "      <td>58.98158</td>\n",
       "      <td>57.9743</td>\n",
       "      <td>0.524</td>\n",
       "      <td>DDA for preferred ion</td>\n",
       "      <td>[M-H]-1</td>\n",
       "      <td>21.9069624983412</td>\n",
       "      <td>22.29011804606081</td>\n",
       "      <td>...</td>\n",
       "      <td>0</td>\n",
       "      <td>0</td>\n",
       "      <td>0</td>\n",
       "      <td>0</td>\n",
       "      <td>0</td>\n",
       "      <td>0</td>\n",
       "      <td>0</td>\n",
       "      <td>0</td>\n",
       "      <td>0</td>\n",
       "      <td>0</td>\n",
       "    </tr>\n",
       "  </tbody>\n",
       "</table>\n",
       "<p>5 rows × 224 columns</p>\n",
       "</div>"
      ],
      "text/plain": [
       "    0        1                       2         3        4         5    \\\n",
       "0   NaN      NaN                     NaN       NaN      NaN       NaN   \n",
       "1   NaN      NaN                     NaN       NaN      NaN       NaN   \n",
       "2   NaN      NaN                     NaN       NaN      NaN       NaN   \n",
       "3  Name  Formula  Annot. DeltaMass [ppm]  Calc. MW      m/z  RT [min]   \n",
       "4   NaN      NaN                     NaN  58.98158  57.9743     0.524   \n",
       "\n",
       "                     6              7    \\\n",
       "0                    NaN            NaN   \n",
       "1                    NaN            NaN   \n",
       "2                    NaN            NaN   \n",
       "3                    MS2  Reference Ion   \n",
       "4  DDA for preferred ion        [M-H]-1   \n",
       "\n",
       "                                                 8    \\\n",
       "0                                             female   \n",
       "1                                            Control   \n",
       "2                                                  2   \n",
       "3  Area: 221013_SarkaLehtonen_Plasma_Hilic_neg_00...   \n",
       "4                                   21.9069624983412   \n",
       "\n",
       "                                                 9    ...  \\\n",
       "0                                             female  ...   \n",
       "1                                            Control  ...   \n",
       "2                                                  3  ...   \n",
       "3  Area: 221013_SarkaLehtonen_Plasma_Hilic_neg_00...  ...   \n",
       "4                                  22.29011804606081  ...   \n",
       "\n",
       "                                                 214  \\\n",
       "0                                                NaN   \n",
       "1                                                NaN   \n",
       "2                                                NaN   \n",
       "3  Gap Fill Status: 221013_SarkaLehtonen_Plasma_H...   \n",
       "4                                                  0   \n",
       "\n",
       "                                                 215  \\\n",
       "0                                                NaN   \n",
       "1                                                NaN   \n",
       "2                                                NaN   \n",
       "3  Gap Fill Status: 221013_SarkaLehtonen_Plasma_H...   \n",
       "4                                                  0   \n",
       "\n",
       "                                                 216  \\\n",
       "0                                                NaN   \n",
       "1                                                NaN   \n",
       "2                                                NaN   \n",
       "3  Gap Fill Status: 221013_SarkaLehtonen_Plasma_H...   \n",
       "4                                                  0   \n",
       "\n",
       "                                                 217  \\\n",
       "0                                                NaN   \n",
       "1                                                NaN   \n",
       "2                                                NaN   \n",
       "3  Gap Fill Status: 221013_SarkaLehtonen_Plasma_H...   \n",
       "4                                                  0   \n",
       "\n",
       "                                                 218  \\\n",
       "0                                                NaN   \n",
       "1                                                NaN   \n",
       "2                                                NaN   \n",
       "3  Gap Fill Status: 221013_SarkaLehtonen_Plasma_H...   \n",
       "4                                                  0   \n",
       "\n",
       "                                                 219  \\\n",
       "0                                                NaN   \n",
       "1                                                NaN   \n",
       "2                                                NaN   \n",
       "3  Gap Fill Status: 221013_SarkaLehtonen_Plasma_H...   \n",
       "4                                                  0   \n",
       "\n",
       "                                                 220  \\\n",
       "0                                                NaN   \n",
       "1                                                NaN   \n",
       "2                                                NaN   \n",
       "3  Gap Fill Status: 221013_SarkaLehtonen_Plasma_H...   \n",
       "4                                                  0   \n",
       "\n",
       "                                                 221  \\\n",
       "0                                                NaN   \n",
       "1                                                NaN   \n",
       "2                                                NaN   \n",
       "3  Gap Fill Status: 221013_SarkaLehtonen_Plasma_H...   \n",
       "4                                                  0   \n",
       "\n",
       "                                                 222  \\\n",
       "0                                                NaN   \n",
       "1                                                NaN   \n",
       "2                                                NaN   \n",
       "3  Gap Fill Status: 221013_SarkaLehtonen_Plasma_H...   \n",
       "4                                                  0   \n",
       "\n",
       "                                                 223  \n",
       "0                                                NaN  \n",
       "1                                                NaN  \n",
       "2                                                NaN  \n",
       "3  Gap Fill Status: 221013_SarkaLehtonen_Plasma_H...  \n",
       "4                                                  0  \n",
       "\n",
       "[5 rows x 224 columns]"
      ]
     },
     "execution_count": 53,
     "metadata": {},
     "output_type": "execute_result"
    }
   ],
   "source": [
    "fnum=0\n",
    "df = pd.read_csv(path + filenames[fnum],sep=';', header=None)\n",
    "df.head()"
   ]
  },
  {
   "cell_type": "code",
   "execution_count": 64,
   "id": "1ad37621",
   "metadata": {},
   "outputs": [],
   "source": [
    "gender = df.iloc[0,8:80]\n",
    "group = df.iloc[1,8:80]\n",
    "time = df.iloc[2,8:80]\n",
    "area = df.iloc[4:,8:80]"
   ]
  },
  {
   "cell_type": "code",
   "execution_count": 99,
   "id": "6355d711",
   "metadata": {},
   "outputs": [],
   "source": [
    "Gen = LabelBinarizer().fit_transform(gender)\n",
    "Grp = LabelBinarizer().fit_transform(group)\n",
    "T = LabelBinarizer().fit_transform(time)\n",
    "A = area.to_numpy(dtype=float)\n",
    "X=Normalizer().fit_transform(A.T)"
   ]
  },
  {
   "cell_type": "code",
   "execution_count": 67,
   "id": "2c39d774",
   "metadata": {},
   "outputs": [],
   "source": [
    "pca = PCA(n_components=10).fit_transform(A.T)"
   ]
  },
  {
   "cell_type": "code",
   "execution_count": 82,
   "id": "7eede641",
   "metadata": {},
   "outputs": [],
   "source": [
    "mark = []\n",
    "for gen in Gen:\n",
    "    if gen==0:\n",
    "        mark.append('o')\n",
    "    else:\n",
    "        mark.append('x')\n",
    "mark = np.asarray(mark)"
   ]
  },
  {
   "cell_type": "code",
   "execution_count": 83,
   "id": "0f83ced4",
   "metadata": {},
   "outputs": [],
   "source": [
    "ind1 = np.where(mark=='o')[0]\n",
    "ind2 = np.where(mark=='x')[0]"
   ]
  },
  {
   "cell_type": "code",
   "execution_count": 86,
   "id": "55e49239",
   "metadata": {},
   "outputs": [
    {
     "data": {
      "text/plain": [
       "array([ 4,  5,  6, 11, 13, 18, 20, 21, 22, 24, 25, 31, 32, 33, 34, 35, 37,\n",
       "       39, 41, 42, 44, 45, 49, 50, 51, 52, 53, 57, 59, 61, 63, 64, 65, 66,\n",
       "       67, 69, 70, 71])"
      ]
     },
     "execution_count": 86,
     "metadata": {},
     "output_type": "execute_result"
    }
   ],
   "source": [
    "ind2"
   ]
  },
  {
   "cell_type": "code",
   "execution_count": 96,
   "id": "d8f3a8fa",
   "metadata": {},
   "outputs": [
    {
     "data": {
      "text/plain": [
       "<matplotlib.collections.PathCollection at 0x7fe00fa87910>"
      ]
     },
     "execution_count": 96,
     "metadata": {},
     "output_type": "execute_result"
    },
    {
     "data": {
      "image/png": "[encoded data removed]",
      "text/plain": [
       "<Figure size 640x480 with 1 Axes>"
      ]
     },
     "metadata": {},
     "output_type": "display_data"
    }
   ],
   "source": [
    "plt.scatter(pca[ind1,0],pca[ind1,1], c=Grp[ind1],marker='o')\n",
    "plt.scatter(pca[ind2,0],pca[ind2,1], c=Grp[ind2],marker='x')"
   ]
  },
  {
   "cell_type": "code",
   "execution_count": 113,
   "id": "a6a84b75",
   "metadata": {},
   "outputs": [
    {
     "data": {
      "text/plain": [
       "[<matplotlib.lines.Line2D at 0x7fe0240675e0>]"
      ]
     },
     "execution_count": 113,
     "metadata": {},
     "output_type": "execute_result"
    },
    {
     "data": {
      "image/png": "[encoded data removed]",
      "text/plain": [
       "<Figure size 640x480 with 1 Axes>"
      ]
     },
     "metadata": {},
     "output_type": "display_data"
    }
   ],
   "source": [
    "plt.plot(X[:,0],Grp,'x')"
   ]
  },
  {
   "cell_type": "code",
   "execution_count": 108,
   "id": "ef6c8a0d",
   "metadata": {},
   "outputs": [
    {
     "data": {
      "text/plain": [
       "(72,)"
      ]
     },
     "execution_count": 108,
     "metadata": {},
     "output_type": "execute_result"
    }
   ],
   "source": [
    "Grp.flatten().shape"
   ]
  },
  {
   "cell_type": "code",
   "execution_count": 114,
   "id": "d5e695a1",
   "metadata": {},
   "outputs": [],
   "source": [
    "model=LogisticRegression().fit(pca,Grp.flatten())"
   ]
  },
  {
   "cell_type": "code",
   "execution_count": 117,
   "id": "acc6b595",
   "metadata": {},
   "outputs": [
    {
     "data": {
      "text/plain": [
       "array([0, 0, 0, 0, 0, 0, 0, 0, 0, 1, 0, 0, 0, 0, 0, 0, 0, 0, 0, 0, 0, 0,\n",
       "       0, 0, 0, 0, 0, 0, 0, 0, 0, 0, 0, 1, 1, 1, 1, 1, 1, 1, 1, 1, 1, 1,\n",
       "       0, 1, 1, 1, 1, 1, 1, 1, 1, 1, 1, 1, 1, 1, 1, 0, 1, 1, 1, 1, 1, 1,\n",
       "       1, 1, 1, 1, 1, 1])"
      ]
     },
     "execution_count": 117,
     "metadata": {},
     "output_type": "execute_result"
    }
   ],
   "source": [
    "model.predict(pca)"
   ]
  },
  {
   "cell_type": "code",
   "execution_count": 119,
   "id": "72debc63",
   "metadata": {},
   "outputs": [
    {
     "data": {
      "text/plain": [
       "array([0, 0, 0, 0, 0, 0, 0, 0, 0, 0, 0, 0, 0, 0, 0, 0, 0, 0, 0, 0, 0, 0,\n",
       "       0, 0, 0, 0, 0, 0, 0, 0, 0, 0, 0, 1, 1, 1, 1, 1, 1, 1, 1, 1, 1, 1,\n",
       "       1, 1, 1, 1, 1, 1, 1, 1, 1, 1, 1, 1, 1, 1, 1, 1, 1, 1, 1, 1, 1, 1,\n",
       "       1, 1, 1, 1, 1, 1])"
      ]
     },
     "execution_count": 119,
     "metadata": {},
     "output_type": "execute_result"
    }
   ],
   "source": [
    "Grp.flatten()"
   ]
  },
  {
   "cell_type": "code",
   "execution_count": 118,
   "id": "ebd8e5e4",
   "metadata": {},
   "outputs": [
    {
     "data": {
      "text/plain": [
       "0.9583333333333334"
      ]
     },
     "execution_count": 118,
     "metadata": {},
     "output_type": "execute_result"
    }
   ],
   "source": [
    "model.score(pca,Grp.flatten())"
   ]
  },
  {
   "cell_type": "code",
   "execution_count": 149,
   "id": "35089f23",
   "metadata": {},
   "outputs": [],
   "source": [
    "model=LogisticRegression().fit(pca[:,:30],Gen.flatten())"
   ]
  },
  {
   "cell_type": "code",
   "execution_count": 150,
   "id": "35f41280",
   "metadata": {},
   "outputs": [
    {
     "data": {
      "text/plain": [
       "0.8611111111111112"
      ]
     },
     "execution_count": 150,
     "metadata": {},
     "output_type": "execute_result"
    }
   ],
   "source": [
    "model.score(pca[:,:30],Gen.flatten())"
   ]
  }
 ],
 "metadata": {
  "kernelspec": {
   "display_name": "Python 3 (ipykernel)",
   "language": "python",
   "name": "python3"
  },
  "language_info": {
   "codemirror_mode": {
    "name": "ipython",
    "version": 3
   },
   "file_extension": ".py",
   "mimetype": "text/x-python",
   "name": "python",
   "nbconvert_exporter": "python",
   "pygments_lexer": "ipython3",
   "version": "3.9.13"
  }
 },
 "nbformat": 4,
 "nbformat_minor": 5
}
