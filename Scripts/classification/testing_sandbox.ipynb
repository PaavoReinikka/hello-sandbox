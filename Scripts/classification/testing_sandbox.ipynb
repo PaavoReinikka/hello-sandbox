{
 "cells": [
  {
   "cell_type": "code",
   "execution_count": 1,
   "id": "651a4c81",
   "metadata": {},
   "outputs": [],
   "source": [
    "import numpy as np\n",
    "import pandas as pd\n",
    "import matplotlib.pyplot as plt\n",
    "from sklearn.decomposition import PCA\n",
    "from sklearn.preprocessing import LabelEncoder\n",
    "from sklearn.manifold import TSNE\n",
    "from sklearn.discriminant_analysis import LinearDiscriminantAnalysis\n",
    "from sklearn.linear_model import LogisticRegression\n",
    "\n",
    "from sklearn.model_selection import cross_validate\n",
    "from sklearn.model_selection import LeaveOneOut\n",
    "from sklearn.model_selection import LeavePOut\n",
    "from sklearn.model_selection import cross_val_score\n",
    "from sklearn.cross_decomposition import PLSRegression\n",
    "\n",
    "from scipy.stats import ttest_ind\n",
    "from statsmodels.formula.api import ols\n",
    "from scipy.stats import t, f_oneway\n",
    "import pingouin as pg"
   ]
  },
  {
   "cell_type": "code",
   "execution_count": 2,
   "id": "eebbb250",
   "metadata": {},
   "outputs": [],
   "source": [
    "from statsmodels.stats.multitest import fdrcorrection, fdrcorrection_twostage"
   ]
  },
  {
   "cell_type": "code",
   "execution_count": 178,
   "id": "ea38e103",
   "metadata": {},
   "outputs": [],
   "source": [
    "def dof_estimate(x1, x2):\n",
    "    n1, n2 = len(x1), len(x2)\n",
    "    s1, s2 = x1.var(ddof=1)/n1, x2.var(ddof=1)/n2\n",
    "\n",
    "    return (s1 + s2)**2 / (s1**2/(n1-1) + s2**2/(n2-1))\n",
    "    \n",
    "def t_stat(x1,x2):\n",
    "    n1, n2 = len(x1), len(x2)\n",
    "    m1, m2 = x1.mean(), x2.mean()\n",
    "    s1, s2 = x1.var(ddof=1)/n1, x2.var(ddof=1)/n2\n",
    "    \n",
    "    return (m1 - m2) / np.sqrt(s1 + s2)\n",
    "\n",
    "def t_test_(x1, x2):\n",
    "    # p-value for 2-sided test\n",
    "    tstat = t_stat(x1, x2)\n",
    "    dof = dof_estimate(x1,x2)\n",
    "    \n",
    "    return 2*(1 - t.cdf(abs(tstat), dof)), tstat, dof\n",
    "\n",
    "\n",
    "def t_test(X1, X2):\n",
    "    assert(np.all(X1.shape==X2.shape))\n",
    "    n_tests = X1.shape[1]\n",
    "    pvalues = np.zeros((n_tests,))\n",
    "    tstats = np.zeros((n_tests,))\n",
    "    dofs = np.zeros((n_tests,))\n",
    "    \n",
    "    for i in range(n_tests):\n",
    "        p, ts, d = t_test_(X1[:,i], X2[:,i])\n",
    "        pvalues[i] = p\n",
    "        tstats[i] = ts\n",
    "        dofs[i] = d\n",
    "        \n",
    "    return pvalues, tstats, dofs\n",
    "\n",
    "\n",
    "def bh_correction(pvalues, alpha = 0.05, is_sorted=False):\n",
    "    if is_sorted:\n",
    "        ix = np.arange(len(pvalues))\n",
    "        ixix = ix\n",
    "    else:\n",
    "        ix = np.argsort(pvalues)\n",
    "        ixix = np.argsort(ix)\n",
    "    \n",
    "    m = len(pvalues)\n",
    "    pvals = pvalues[ix]\n",
    "    Ghat = np.arange(1,m+1)/m\n",
    "    \n",
    "    pvals /= Ghat\n",
    "    h = pvals<=alpha\n",
    "    \n",
    "    return h[ixix], np.minimum(1,pvals[ixix])\n",
    "    \n",
    "    \n",
    "def by_correction(pvalues, alpha = 0.05, is_sorted=False):\n",
    "    if is_sorted:\n",
    "        ix = np.arange(len(pvalues))\n",
    "        ixix = ix\n",
    "    else:\n",
    "        ix = np.argsort(pvalues)\n",
    "        ixix = np.argsort(ix)\n",
    "    \n",
    "    pvals = pvalues[ix]\n",
    "    m = len(pvalues)\n",
    "    c_m=np.sum(1./np.arange(1,m+1))\n",
    "    Ghat = np.arange(1,m+1)/m\n",
    "    \n",
    "    pvals /= Ghat/c_m\n",
    "    \n",
    "    for i in range(m-1, 0, -1):\n",
    "        if(pvals[i-1]>pvals[i]):\n",
    "            pvals[i-1]=pvals[i]\n",
    "    h = pvals <= alpha\n",
    "    return h[ixix], np.minimum(1,pvals[ixix])\n",
    "    \n"
   ]
  },
  {
   "cell_type": "code",
   "execution_count": 3,
   "id": "e146571d",
   "metadata": {},
   "outputs": [
    {
     "data": {
      "text/plain": [
       "['cellshilicneg_log2.csv',\n",
       " 'cellshilicpos_log2.csv',\n",
       " 'cellsRPneg_log2.csv',\n",
       " 'cellsRPpos_log2.csv',\n",
       " 'cellslipidomicsneg_log2.csv',\n",
       " 'cellslipidomicspos_log2.csv',\n",
       " 'mediumHILICneg_log2.csv',\n",
       " 'mediumHILICpos_log2.csv',\n",
       " 'mediumRPneg_log2.csv',\n",
       " 'mediumRPpos_log2.csv']"
      ]
     },
     "execution_count": 3,
     "metadata": {},
     "output_type": "execute_result"
    }
   ],
   "source": [
    "path = \"../../../PARKINSONS/PDproj/celldata/clean/\"\n",
    "filenames = [line.split('\\n')[0] for line in open(path + \"filenames.txt\")]\n",
    "filenames"
   ]
  },
  {
   "cell_type": "code",
   "execution_count": 13,
   "id": "d993730e",
   "metadata": {},
   "outputs": [
    {
     "data": {
      "text/plain": [
       "'cellshilicneg_log2.csv'"
      ]
     },
     "execution_count": 13,
     "metadata": {},
     "output_type": "execute_result"
    }
   ],
   "source": [
    "fnum=0 # 2 is good example\n",
    "fname = filenames[fnum]\n",
    "data = pd.read_csv(path + fname, sep=';', header=None)\n",
    "fname"
   ]
  },
  {
   "cell_type": "code",
   "execution_count": 14,
   "id": "ae4446c0",
   "metadata": {},
   "outputs": [
    {
     "name": "stdout",
     "output_type": "stream",
     "text": [
      "cellshilicnegALPHA0.05FC1.0MINVAR0.125.csv\n"
     ]
    }
   ],
   "source": [
    "path_s = \"../../../PARKINSONS/PDproj/cellresults/ttest/withGF/ALPHA0.05FC1.0MINVAR0.125/\"\n",
    "filenames_s = [line.split('\\n')[0] for line in open(path_s + \"filenames.txt\")]\n",
    "print(filenames_s[fnum])\n",
    "df_s = pd.read_csv(path_s + filenames_s[fnum],sep=';')\n",
    "\n",
    "masstime_s = np.unique(df_s[' masstime'].to_numpy())"
   ]
  },
  {
   "cell_type": "code",
   "execution_count": 15,
   "id": "a163ec76",
   "metadata": {},
   "outputs": [
    {
     "data": {
      "text/html": [
       "<div>\n",
       "<style scoped>\n",
       "    .dataframe tbody tr th:only-of-type {\n",
       "        vertical-align: middle;\n",
       "    }\n",
       "\n",
       "    .dataframe tbody tr th {\n",
       "        vertical-align: top;\n",
       "    }\n",
       "\n",
       "    .dataframe thead th {\n",
       "        text-align: right;\n",
       "    }\n",
       "</style>\n",
       "<table border=\"1\" class=\"dataframe\">\n",
       "  <thead>\n",
       "    <tr style=\"text-align: right;\">\n",
       "      <th></th>\n",
       "      <th>compound</th>\n",
       "      <th>masstime</th>\n",
       "      <th>testi</th>\n",
       "      <th>p_orig</th>\n",
       "      <th>p_FDR</th>\n",
       "      <th>p_Bonf</th>\n",
       "      <th>FC</th>\n",
       "      <th>ms</th>\n",
       "      <th>mv1</th>\n",
       "      <th>mv2</th>\n",
       "    </tr>\n",
       "  </thead>\n",
       "  <tbody>\n",
       "    <tr>\n",
       "      <th>0</th>\n",
       "      <td>L-Glutathione (reduced)</td>\n",
       "      <td>306.07662@6.725</td>\n",
       "      <td>comb.--UT</td>\n",
       "      <td>3.521294e-07</td>\n",
       "      <td>0.000699</td>\n",
       "      <td>0.000202</td>\n",
       "      <td>1.485396</td>\n",
       "      <td>0.450677</td>\n",
       "      <td>0</td>\n",
       "      <td>0</td>\n",
       "    </tr>\n",
       "    <tr>\n",
       "      <th>1</th>\n",
       "      <td>L-Glutathione (reduced)</td>\n",
       "      <td>306.07662@6.725</td>\n",
       "      <td>INFg--UT</td>\n",
       "      <td>5.766389e-06</td>\n",
       "      <td>0.003271</td>\n",
       "      <td>0.003304</td>\n",
       "      <td>1.271771</td>\n",
       "      <td>0.000000</td>\n",
       "      <td>0</td>\n",
       "      <td>0</td>\n",
       "    </tr>\n",
       "    <tr>\n",
       "      <th>2</th>\n",
       "      <td>L-Glutathione (reduced)</td>\n",
       "      <td>306.07662@6.725</td>\n",
       "      <td>aSYN--comb.</td>\n",
       "      <td>1.429716e-05</td>\n",
       "      <td>0.005008</td>\n",
       "      <td>0.008192</td>\n",
       "      <td>-1.636064</td>\n",
       "      <td>0.580163</td>\n",
       "      <td>0</td>\n",
       "      <td>0</td>\n",
       "    </tr>\n",
       "    <tr>\n",
       "      <th>4</th>\n",
       "      <td>L-Glutathione (reduced)</td>\n",
       "      <td>306.07662@6.725</td>\n",
       "      <td>aSYN--INFg</td>\n",
       "      <td>4.899348e-05</td>\n",
       "      <td>0.012157</td>\n",
       "      <td>0.028073</td>\n",
       "      <td>-1.422439</td>\n",
       "      <td>0.000000</td>\n",
       "      <td>0</td>\n",
       "      <td>0</td>\n",
       "    </tr>\n",
       "  </tbody>\n",
       "</table>\n",
       "</div>"
      ],
      "text/plain": [
       "                  compound         masstime        testi        p_orig  \\\n",
       "0  L-Glutathione (reduced)  306.07662@6.725    comb.--UT  3.521294e-07   \n",
       "1  L-Glutathione (reduced)  306.07662@6.725     INFg--UT  5.766389e-06   \n",
       "2  L-Glutathione (reduced)  306.07662@6.725  aSYN--comb.  1.429716e-05   \n",
       "4  L-Glutathione (reduced)  306.07662@6.725   aSYN--INFg  4.899348e-05   \n",
       "\n",
       "      p_FDR    p_Bonf        FC        ms   mv1   mv2  \n",
       "0  0.000699  0.000202  1.485396  0.450677     0     0  \n",
       "1  0.003271  0.003304  1.271771  0.000000     0     0  \n",
       "2  0.005008  0.008192 -1.636064  0.580163     0     0  \n",
       "4  0.012157  0.028073 -1.422439  0.000000     0     0  "
      ]
     },
     "execution_count": 15,
     "metadata": {},
     "output_type": "execute_result"
    }
   ],
   "source": [
    "df_s.iloc[np.where(df_s[' masstime']==\"306.07662@6.725\")[0],:]"
   ]
  },
  {
   "cell_type": "code",
   "execution_count": 16,
   "id": "e376787b",
   "metadata": {},
   "outputs": [],
   "source": [
    "metadata = data.iloc[3:,:8]\n",
    "masstime = np.array([\"{}@{}\".format(m,t) for m,t in zip(metadata.iloc[:,4],metadata.iloc[:,5])])\n",
    "Area = data.iloc[3:,8:48]\n",
    "groups = data.iloc[0,8:48]\n",
    "LE = LabelEncoder()\n",
    "labels = LE.fit_transform(groups)"
   ]
  },
  {
   "cell_type": "code",
   "execution_count": 17,
   "id": "9ba96eb1",
   "metadata": {},
   "outputs": [],
   "source": [
    "X=Area.to_numpy(dtype=float).T"
   ]
  },
  {
   "cell_type": "code",
   "execution_count": 18,
   "id": "691c0d00",
   "metadata": {},
   "outputs": [
    {
     "data": {
      "text/plain": [
       "96"
      ]
     },
     "execution_count": 18,
     "metadata": {},
     "output_type": "execute_result"
    }
   ],
   "source": [
    "pick_ind = np.where(masstime==\"306.07662@6.725\")[0][0]\n",
    "pick_ind"
   ]
  },
  {
   "cell_type": "code",
   "execution_count": 19,
   "id": "433b63d3",
   "metadata": {},
   "outputs": [
    {
     "data": {
      "text/plain": [
       "0    L-Glutathione (reduced)\n",
       "1            C10 H17 N3 O6 S\n",
       "2                       0.29\n",
       "3                   307.0839\n",
       "4                  306.07662\n",
       "5                      6.725\n",
       "6      DDA for preferred ion\n",
       "7                    [M-H]-1\n",
       "Name: 99, dtype: object"
      ]
     },
     "execution_count": 19,
     "metadata": {},
     "output_type": "execute_result"
    }
   ],
   "source": [
    "metadata.iloc[pick_ind,:]"
   ]
  },
  {
   "cell_type": "code",
   "execution_count": 20,
   "id": "9fbfb0cf",
   "metadata": {},
   "outputs": [
    {
     "data": {
      "text/plain": [
       "Ttest_indResult(statistic=-7.078108796836535, pvalue=1.42971624049035e-05)"
      ]
     },
     "execution_count": 20,
     "metadata": {},
     "output_type": "execute_result"
    }
   ],
   "source": [
    "ttest_ind(X[:10,pick_ind],X[10:20,pick_ind], equal_var=False)"
   ]
  },
  {
   "cell_type": "code",
   "execution_count": 23,
   "id": "ce74a42f",
   "metadata": {},
   "outputs": [
    {
     "data": {
      "text/plain": [
       "(1.4297162404863784e-05, -7.078108796836535, 11.767117912369418)"
      ]
     },
     "execution_count": 23,
     "metadata": {},
     "output_type": "execute_result"
    }
   ],
   "source": [
    "t_test_(X[:10,pick_ind],X[10:20,pick_ind])"
   ]
  },
  {
   "cell_type": "code",
   "execution_count": 24,
   "id": "2004ef1e",
   "metadata": {
    "scrolled": false
   },
   "outputs": [],
   "source": [
    "from numba import njit, prange\n",
    "from numba_stats import t as numba_t\n",
    "\n",
    "@njit(parallel=False)\n",
    "def dof_estimate_par(x1, x2):\n",
    "    n1, n2 = len(x1), len(x2)\n",
    "    #s1, s2 = x1.var()/n1, x2.var()/n2\n",
    "    s1 = (x1-x1.mean()).T@(x1-x1.mean())/(len(x1)-1)/n1\n",
    "    s2 = (x2-x2.mean()).T@(x2-x2.mean())/(len(x2)-1)/n2\n",
    "\n",
    "    return (s1 + s2)**2 / (s1**2/(n1-1) + s2**2/(n2-1))\n",
    "\n",
    "@njit(parallel=False)\n",
    "def t_stat_par(x1,x2):\n",
    "    n1, n2 = len(x1), len(x2)\n",
    "    m1, m2 = x1.mean(), x2.mean()\n",
    "    #s1, s2 = x1.var()/n1, x2.var()/n2\n",
    "    s1 = (x1-x1.mean()).T@(x1-x1.mean())/(len(x1)-1)/n1\n",
    "    s2 = (x2-x2.mean()).T@(x2-x2.mean())/(len(x2)-1)/n2\n",
    "    \n",
    "    return (m1 - m2) / np.sqrt(s1 + s2)\n",
    "\n",
    "@njit(parallel=False)\n",
    "def t_test_par(x1, x2):\n",
    "    # p-value for 2-sided test\n",
    "    tstat = t_stat_par(x1, x2)\n",
    "    dof = dof_estimate_par(x1,x2)\n",
    "    \n",
    "    return 2*(1 - numba_t.cdf(abs(tstat), dof)), tstat, dof\n",
    "\n",
    "\n",
    "@njit(parallel=False)\n",
    "def test_run(X1, X2):\n",
    "    tstats = np.zeros((X1.shape[1],), dtype=float)\n",
    "    dofs = np.zeros((X1.shape[1],), dtype=float)\n",
    "    \n",
    "    for i in range(X1.shape[1]):\n",
    "        ts = t_stat_par(X1[:,i], X2[:,i])\n",
    "        d = dof_estimate_par(X1[:,i], X2[:,i])\n",
    "        \n",
    "        tstats[i] = ts\n",
    "        dofs[i] = d\n",
    "    \n",
    "    return tstats, dofs \n",
    "    \n",
    "@njit(parallel=False)\n",
    "def make_newX(X, ind):\n",
    "    # include the unpermuted data\n",
    "    if ind==0:\n",
    "        group_ind = np.arange(40)\n",
    "    else:\n",
    "        group_ind = np.random.choice(np.arange(40),40, replace=False)\n",
    "    \n",
    "    group_ind1 = group_ind[:10]\n",
    "    group_ind2 = group_ind[10:20]\n",
    "    group_ind3 = group_ind[20:30]\n",
    "    group_ind4 = group_ind[30:]\n",
    "\n",
    "    X_rand = np.hstack((np.vstack((X[group_ind1,:],X[group_ind2,:])),\n",
    "               np.vstack((X[group_ind1,:],X[group_ind3,:])),\n",
    "               np.vstack((X[group_ind1,:],X[group_ind4,:])),\n",
    "               np.vstack((X[group_ind2,:],X[group_ind3,:])),\n",
    "               np.vstack((X[group_ind2,:],X[group_ind4,:])),\n",
    "               np.vstack((X[group_ind3,:],X[group_ind4,:])),))\n",
    "    return X_rand\n",
    "\n",
    "@njit(parallel=True)\n",
    "def group_permutation(X, it=1000):\n",
    "    s = np.ones((it, X.shape[1]*6))\n",
    "    d = np.ones((it, X.shape[1]*6))\n",
    "    \n",
    "    for i in prange(0,it):\n",
    "        X_new = make_newX(X, i)\n",
    "        ss, dd = test_run(X_new[:10,:],X_new[10:,:])\n",
    "        s[i,:]=ss\n",
    "        d[i,:]=dd\n",
    "        \n",
    "    return s, d\n",
    "\n",
    "#############################################################################################\n",
    "    \n",
    "def dof_estimate(x1, x2):\n",
    "    n1, n2 = len(x1), len(x2)\n",
    "    s1, s2 = x1.var(ddof=1)/n1, x2.var(ddof=1)/n2\n",
    "\n",
    "    return (s1 + s2)**2 / (s1**2/(n1-1) + s2**2/(n2-1))\n",
    "    \n",
    "def t_stat(x1,x2):\n",
    "    n1, n2 = len(x1), len(x2)\n",
    "    m1, m2 = x1.mean(), x2.mean()\n",
    "    s1, s2 = x1.var(ddof=1)/n1, x2.var(ddof=1)/n2\n",
    "    \n",
    "    return (m1 - m2) / np.sqrt(s1 + s2)\n",
    "\n",
    "def t_test_(x1, x2):\n",
    "    # p-value for 2-sided test\n",
    "    tstat = t_stat(x1, x2)\n",
    "    dof = dof_estimate(x1,x2)\n",
    "    \n",
    "    return 2*(1 - t.cdf(abs(tstat), dof)), tstat, dof\n",
    "\n",
    "\n",
    "def t_test(X1, X2):\n",
    "    assert(np.all(X1.shape==X2.shape))\n",
    "    n_tests = X1.shape[1]\n",
    "    pvalues = np.zeros((n_tests,))\n",
    "    tstats = np.zeros((n_tests,))\n",
    "    dofs = np.zeros((n_tests,))\n",
    "    \n",
    "    for i in range(n_tests):\n",
    "        p, ts, d = t_test_(X1[:,i], X2[:,i])\n",
    "        pvalues[i] = p\n",
    "        tstats[i] = ts\n",
    "        dofs[i] = d\n",
    "        \n",
    "    return pvalues, tstats, dofs\n",
    "\n",
    "\n",
    "def group_pvalues(stats, dofs):\n",
    "    pvalues = np.ones_like(stats)\n",
    "    for i in range(pvalues.shape[0]):\n",
    "        for j in range(pvalues.shape[1]):\n",
    "            p = 2*(1 - t.cdf(abs(stats[i,j]), dofs[i,j]))\n",
    "            pvalues[i,j]=p\n",
    "    return pvalues\n",
    "\n",
    "def group_pvalues_par(stats, dofs):\n",
    "    pvalues = np.ones_like(stats)\n",
    "    for i in prange(pvalues.shape[0]):\n",
    "        p = 2*(1 - t.cdf(abs(stats[i,:]), dofs[i,:]))\n",
    "        pvalues[i,:]=p\n",
    "    return pvalues"
   ]
  },
  {
   "cell_type": "code",
   "execution_count": 25,
   "id": "44379cff",
   "metadata": {},
   "outputs": [],
   "source": [
    "group_ind1=np.arange(10)\n",
    "group_ind2=np.arange(10,20)\n",
    "group_ind3=np.arange(20,30)\n",
    "group_ind4=np.arange(30,40)\n",
    "\n",
    "X_all = np.hstack((np.vstack((X[group_ind1,:],X[group_ind2,:])),\n",
    "           np.vstack((X[group_ind1,:],X[group_ind3,:])),\n",
    "           np.vstack((X[group_ind1,:],X[group_ind4,:])),\n",
    "           np.vstack((X[group_ind2,:],X[group_ind3,:])),\n",
    "           np.vstack((X[group_ind2,:],X[group_ind4,:])),\n",
    "           np.vstack((X[group_ind3,:],X[group_ind4,:])),))\n",
    "p,_,__=t_test(X_all[:10,:],X_all[10:,:])"
   ]
  },
  {
   "cell_type": "code",
   "execution_count": 26,
   "id": "3ba198f3",
   "metadata": {},
   "outputs": [],
   "source": [
    "resPERM = group_permutation(X,it=1000)"
   ]
  },
  {
   "cell_type": "code",
   "execution_count": 27,
   "id": "b375cc5a",
   "metadata": {},
   "outputs": [],
   "source": [
    "ps = group_pvalues_par(resPERM[0], resPERM[1])"
   ]
  },
  {
   "cell_type": "code",
   "execution_count": 28,
   "id": "465c1b42",
   "metadata": {},
   "outputs": [],
   "source": [
    "new_p=np.sort(ps,axis=1)[:int(np.floor(ps.shape[1]*0.05))]"
   ]
  },
  {
   "cell_type": "code",
   "execution_count": 29,
   "id": "1a8576be",
   "metadata": {},
   "outputs": [
    {
     "data": {
      "image/png": "[encoded data removed]",
      "text/plain": [
       "<Figure size 640x480 with 1 Axes>"
      ]
     },
     "metadata": {},
     "output_type": "display_data"
    }
   ],
   "source": [
    "plt.hist(new_p.flatten(), bins=100)\n",
    "plt.show()"
   ]
  },
  {
   "cell_type": "code",
   "execution_count": 30,
   "id": "901dfc19",
   "metadata": {},
   "outputs": [
    {
     "data": {
      "image/png": "[encoded data removed]",
      "text/plain": [
       "<Figure size 640x480 with 1 Axes>"
      ]
     },
     "metadata": {},
     "output_type": "display_data"
    }
   ],
   "source": [
    "plt.hist(ps.flatten(), bins=100)\n",
    "plt.show()"
   ]
  },
  {
   "cell_type": "code",
   "execution_count": 31,
   "id": "b8a70d5f",
   "metadata": {},
   "outputs": [
    {
     "data": {
      "text/plain": [
       "0.05634408240558786"
      ]
     },
     "execution_count": 31,
     "metadata": {},
     "output_type": "execute_result"
    }
   ],
   "source": [
    "p_all = np.sort(ps.flatten())\n",
    "p_all[int(np.floor(0.05*len(p_all)))]"
   ]
  },
  {
   "cell_type": "code",
   "execution_count": 32,
   "id": "976759ae",
   "metadata": {},
   "outputs": [
    {
     "data": {
      "image/png": "[encoded data removed]",
      "text/plain": [
       "<Figure size 640x480 with 1 Axes>"
      ]
     },
     "metadata": {},
     "output_type": "display_data"
    }
   ],
   "source": [
    "plt.hist(ps[0,:])\n",
    "plt.show()"
   ]
  },
  {
   "cell_type": "code",
   "execution_count": 33,
   "id": "76bd19d1",
   "metadata": {},
   "outputs": [
    {
     "data": {
      "image/png": "[encoded data removed]",
      "text/plain": [
       "<Figure size 640x480 with 1 Axes>"
      ]
     },
     "metadata": {},
     "output_type": "display_data"
    }
   ],
   "source": [
    "plt.hist(p)\n",
    "plt.show()"
   ]
  },
  {
   "cell_type": "code",
   "execution_count": 136,
   "id": "b7f02c90",
   "metadata": {},
   "outputs": [],
   "source": [
    "pvals, stats, dofs = t_test(X_all[:10,:], X_all[10:,:])"
   ]
  },
  {
   "cell_type": "code",
   "execution_count": 137,
   "id": "2f273250",
   "metadata": {},
   "outputs": [],
   "source": [
    "resBY = fdrcorrection(pvals, alpha=0.05, method='n', is_sorted=False)"
   ]
  },
  {
   "cell_type": "code",
   "execution_count": 138,
   "id": "d96465c9",
   "metadata": {},
   "outputs": [],
   "source": [
    "resby = by_correction(pvals, is_sorted=False)"
   ]
  },
  {
   "cell_type": "code",
   "execution_count": 139,
   "id": "5d31ad8e",
   "metadata": {},
   "outputs": [
    {
     "data": {
      "text/plain": [
       "23"
      ]
     },
     "execution_count": 139,
     "metadata": {},
     "output_type": "execute_result"
    }
   ],
   "source": [
    "np.sum(resby[0])"
   ]
  },
  {
   "cell_type": "code",
   "execution_count": 140,
   "id": "c6b43799",
   "metadata": {},
   "outputs": [
    {
     "data": {
      "text/plain": [
       "23"
      ]
     },
     "execution_count": 140,
     "metadata": {},
     "output_type": "execute_result"
    }
   ],
   "source": [
    "np.sum(resBY[0])"
   ]
  },
  {
   "cell_type": "code",
   "execution_count": 141,
   "id": "4855d526",
   "metadata": {},
   "outputs": [
    {
     "data": {
      "text/plain": [
       "array([0.00012245, 0.00081306, 0.00172098, 0.00172098, 0.00224476,\n",
       "       0.00380413, 0.00380413, 0.00390739, 0.00443034, 0.00582536,\n",
       "       0.00582536, 0.00582536, 0.00846814, 0.00970624, 0.01297688,\n",
       "       0.01414059, 0.02384883, 0.026581  , 0.03203058, 0.03463381,\n",
       "       0.03680455, 0.0422127 , 0.04807682])"
      ]
     },
     "execution_count": 141,
     "metadata": {},
     "output_type": "execute_result"
    }
   ],
   "source": [
    "np.sort(resby[1])[:23]"
   ]
  },
  {
   "cell_type": "code",
   "execution_count": 248,
   "id": "396a4a6d",
   "metadata": {},
   "outputs": [
    {
     "name": "stdout",
     "output_type": "stream",
     "text": [
      "(8.543295853202793e-06, -7.460981774825836, 11.767117912369418) \n",
      "\n",
      "(2.787508385804216e-05, -5.879548970902987, 15.30687267179199) \n",
      "\n",
      "(0.5497319681778765, -0.6111919406430332, 15.861949929349908) \n",
      "\n",
      "(0.18401342648788566, 1.3925232355674768, 15.037749807977788) \n",
      "\n",
      "(1.8297943338296818e-07, 9.252351976230951, 14.49012759954857) \n",
      "\n",
      "(2.929281677888085e-06, 6.682514782640689, 17.93142954880716) \n",
      "\n"
     ]
    }
   ],
   "source": [
    "print(t_test_(X[:10,pick_ind],X[10:20,pick_ind]),'\\n')\n",
    "print(t_test_(X[:10,pick_ind],X[20:30,pick_ind]),'\\n')\n",
    "print(t_test_(X[:10,pick_ind],X[30:,pick_ind]),'\\n')\n",
    "print(t_test_(X[10:20,pick_ind],X[20:30,pick_ind]),'\\n')\n",
    "print(t_test_(X[10:20,pick_ind],X[30:,pick_ind]),'\\n')\n",
    "print(t_test_(X[20:30,pick_ind],X[30:,pick_ind]),'\\n')"
   ]
  },
  {
   "cell_type": "code",
   "execution_count": 246,
   "id": "ff71233f",
   "metadata": {},
   "outputs": [],
   "source": [
    "pvals, stats, dofs = t_test(X[:10,:], X[10:20, :])"
   ]
  },
  {
   "cell_type": "code",
   "execution_count": 247,
   "id": "81f263c4",
   "metadata": {},
   "outputs": [
    {
     "data": {
      "text/plain": [
       "(133,)"
      ]
     },
     "execution_count": 247,
     "metadata": {},
     "output_type": "execute_result"
    }
   ],
   "source": [
    "pvals.shape"
   ]
  },
  {
   "cell_type": "code",
   "execution_count": 249,
   "id": "d2d8999b",
   "metadata": {},
   "outputs": [
    {
     "data": {
      "text/plain": [
       "F_onewayResult(statistic=30.575686933620617, pvalue=5.270536181484816e-10)"
      ]
     },
     "execution_count": 249,
     "metadata": {},
     "output_type": "execute_result"
    }
   ],
   "source": [
    "f_oneway(X[:10,pick_ind],X[10:20,pick_ind],X[20:30,pick_ind],X[30:,pick_ind])"
   ]
  },
  {
   "cell_type": "code",
   "execution_count": 250,
   "id": "334336e7",
   "metadata": {},
   "outputs": [
    {
     "data": {
      "text/html": [
       "<div>\n",
       "<style scoped>\n",
       "    .dataframe tbody tr th:only-of-type {\n",
       "        vertical-align: middle;\n",
       "    }\n",
       "\n",
       "    .dataframe tbody tr th {\n",
       "        vertical-align: top;\n",
       "    }\n",
       "\n",
       "    .dataframe thead th {\n",
       "        text-align: right;\n",
       "    }\n",
       "</style>\n",
       "<table border=\"1\" class=\"dataframe\">\n",
       "  <thead>\n",
       "    <tr style=\"text-align: right;\">\n",
       "      <th></th>\n",
       "      <th>Source</th>\n",
       "      <th>ddof1</th>\n",
       "      <th>ddof2</th>\n",
       "      <th>F</th>\n",
       "      <th>p-unc</th>\n",
       "      <th>np2</th>\n",
       "    </tr>\n",
       "  </thead>\n",
       "  <tbody>\n",
       "    <tr>\n",
       "      <th>0</th>\n",
       "      <td>group</td>\n",
       "      <td>3</td>\n",
       "      <td>19.039426</td>\n",
       "      <td>34.722007</td>\n",
       "      <td>6.387264e-08</td>\n",
       "      <td>0.718149</td>\n",
       "    </tr>\n",
       "  </tbody>\n",
       "</table>\n",
       "</div>"
      ],
      "text/plain": [
       "  Source  ddof1      ddof2          F         p-unc       np2\n",
       "0  group      3  19.039426  34.722007  6.387264e-08  0.718149"
      ]
     },
     "execution_count": 250,
     "metadata": {},
     "output_type": "execute_result"
    }
   ],
   "source": [
    "df_test = pd.DataFrame({'score':X[:,pick_ind],'group':groups})\n",
    "pg.welch_anova(dv='score',between='group', data=df_test)"
   ]
  },
  {
   "cell_type": "code",
   "execution_count": 251,
   "id": "1d325353",
   "metadata": {},
   "outputs": [
    {
     "name": "stdout",
     "output_type": "stream",
     "text": [
      "  Source  ddof1      ddof2          F     p-unc       np2\n",
      "0  group      1  11.767118  50.099624  0.000014  0.735681 \n",
      "\n",
      "  Source  ddof1      ddof2          F     p-unc       np2\n",
      "0  group      1  15.306873  31.112186  0.000049  0.633492 \n",
      "\n",
      "  Source  ddof1     ddof2       F     p-unc       np2\n",
      "0  group      1  15.86195  0.3362  0.570176  0.018335 \n",
      "\n",
      "  Source  ddof1     ddof2         F     p-unc       np2\n",
      "0  group      1  15.03775  1.745209  0.206231  0.088386 \n",
      "\n",
      "  Source  ddof1      ddof2          F         p-unc       np2\n",
      "0  group      1  14.490128  77.045415  3.521294e-07  0.810617 \n",
      "\n",
      "  Source  ddof1     ddof2          F     p-unc       np2\n",
      "0  group      1  17.93143  40.190403  0.000006  0.690671 \n",
      "\n"
     ]
    }
   ],
   "source": [
    "group_ind1=np.arange(10)\n",
    "group_ind2=np.arange(10,20)\n",
    "group_ind3=np.arange(20,30)\n",
    "group_ind4=np.arange(30,40)\n",
    "X_test1 = np.hstack((X[group_ind1,pick_ind],X[group_ind2,pick_ind]))\n",
    "groups1 = groups.to_numpy()[np.hstack((group_ind1,group_ind2))]\n",
    "\n",
    "X_test2 = np.hstack((X[group_ind1,pick_ind],X[group_ind3,pick_ind]))\n",
    "groups2 = groups.to_numpy()[np.hstack((group_ind1,group_ind3))]\n",
    "\n",
    "X_test3 = np.hstack((X[group_ind1,pick_ind],X[group_ind4,pick_ind]))\n",
    "groups3 = groups.to_numpy()[np.hstack((group_ind1,group_ind4))]\n",
    "\n",
    "X_test4 = np.hstack((X[group_ind2,pick_ind],X[group_ind3,pick_ind]))\n",
    "groups4 = groups.to_numpy()[np.hstack((group_ind2,group_ind3))]\n",
    "\n",
    "X_test5 = np.hstack((X[group_ind2,pick_ind],X[group_ind4,pick_ind]))\n",
    "groups5 = groups.to_numpy()[np.hstack((group_ind2,group_ind4))]\n",
    "\n",
    "X_test6 = np.hstack((X[group_ind3,pick_ind],X[group_ind4,pick_ind]))\n",
    "groups6 = groups.to_numpy()[np.hstack((group_ind3,group_ind4))]\n",
    "\n",
    "df_test1 = pd.DataFrame({'score':X_test1,'group':groups1})\n",
    "df_test2 = pd.DataFrame({'score':X_test2,'group':groups2})\n",
    "df_test3 = pd.DataFrame({'score':X_test3,'group':groups3})\n",
    "df_test4 = pd.DataFrame({'score':X_test4,'group':groups4})\n",
    "df_test5 = pd.DataFrame({'score':X_test5,'group':groups5})\n",
    "df_test6 = pd.DataFrame({'score':X_test6,'group':groups6})\n",
    "\n",
    "print(pg.welch_anova(dv='score',between='group', data=df_test1),'\\n')\n",
    "print(pg.welch_anova(dv='score',between='group', data=df_test2),'\\n')\n",
    "print(pg.welch_anova(dv='score',between='group', data=df_test3),'\\n')\n",
    "print(pg.welch_anova(dv='score',between='group', data=df_test4),'\\n')\n",
    "print(pg.welch_anova(dv='score',between='group', data=df_test5),'\\n')\n",
    "print(pg.welch_anova(dv='score',between='group', data=df_test6),'\\n')"
   ]
  },
  {
   "cell_type": "code",
   "execution_count": 252,
   "id": "cb818cc1",
   "metadata": {},
   "outputs": [
    {
     "name": "stdout",
     "output_type": "stream",
     "text": [
      "(8.543295853202793e-06, -7.460981774825836, 11.767117912369418) \n",
      "\n",
      "(2.787508385804216e-05, -5.879548970902987, 15.30687267179199) \n",
      "\n",
      "(0.5497319681778765, -0.6111919406430332, 15.861949929349906) \n",
      "\n",
      "(0.18401342648788566, 1.3925232355674768, 15.037749807977788) \n",
      "\n",
      "(1.8297943338296818e-07, 9.252351976230951, 14.49012759954857) \n",
      "\n",
      "(2.929281677888085e-06, 6.682514782640689, 17.93142954880716) \n",
      "\n"
     ]
    }
   ],
   "source": [
    "print(t_test_(X[:10,pick_ind],X[10:20,pick_ind]),'\\n')\n",
    "print(t_test_(X[:10,pick_ind],X[20:30,pick_ind]),'\\n')\n",
    "print(t_test_(X[:10,pick_ind],X[30:,pick_ind]),'\\n')\n",
    "print(t_test_(X[10:20,pick_ind],X[20:30,pick_ind]),'\\n')\n",
    "print(t_test_(X[10:20,pick_ind],X[30:,pick_ind]),'\\n')\n",
    "print(t_test_(X[20:30,pick_ind],X[30:,pick_ind]),'\\n')"
   ]
  },
  {
   "cell_type": "code",
   "execution_count": 56,
   "id": "cfc050b6",
   "metadata": {},
   "outputs": [
    {
     "data": {
      "text/html": [
       "<div>\n",
       "<style scoped>\n",
       "    .dataframe tbody tr th:only-of-type {\n",
       "        vertical-align: middle;\n",
       "    }\n",
       "\n",
       "    .dataframe tbody tr th {\n",
       "        vertical-align: top;\n",
       "    }\n",
       "\n",
       "    .dataframe thead th {\n",
       "        text-align: right;\n",
       "    }\n",
       "</style>\n",
       "<table border=\"1\" class=\"dataframe\">\n",
       "  <thead>\n",
       "    <tr style=\"text-align: right;\">\n",
       "      <th></th>\n",
       "      <th>Source</th>\n",
       "      <th>ddof1</th>\n",
       "      <th>ddof2</th>\n",
       "      <th>F</th>\n",
       "      <th>p-unc</th>\n",
       "      <th>np2</th>\n",
       "    </tr>\n",
       "  </thead>\n",
       "  <tbody>\n",
       "    <tr>\n",
       "      <th>0</th>\n",
       "      <td>group</td>\n",
       "      <td>3</td>\n",
       "      <td>19.039426</td>\n",
       "      <td>34.722007</td>\n",
       "      <td>6.387264e-08</td>\n",
       "      <td>0.718149</td>\n",
       "    </tr>\n",
       "  </tbody>\n",
       "</table>\n",
       "</div>"
      ],
      "text/plain": [
       "  Source  ddof1      ddof2          F         p-unc       np2\n",
       "0  group      3  19.039426  34.722007  6.387264e-08  0.718149"
      ]
     },
     "execution_count": 56,
     "metadata": {},
     "output_type": "execute_result"
    }
   ],
   "source": [
    "res=pg.welch_anova(dv='score',between='group', data=df_test)\n",
    "res"
   ]
  },
  {
   "cell_type": "code",
   "execution_count": 58,
   "id": "23b92f77",
   "metadata": {},
   "outputs": [
    {
     "data": {
      "text/html": [
       "<div>\n",
       "<style scoped>\n",
       "    .dataframe tbody tr th:only-of-type {\n",
       "        vertical-align: middle;\n",
       "    }\n",
       "\n",
       "    .dataframe tbody tr th {\n",
       "        vertical-align: top;\n",
       "    }\n",
       "\n",
       "    .dataframe thead th {\n",
       "        text-align: right;\n",
       "    }\n",
       "</style>\n",
       "<table border=\"1\" class=\"dataframe\">\n",
       "  <thead>\n",
       "    <tr style=\"text-align: right;\">\n",
       "      <th></th>\n",
       "      <th>A</th>\n",
       "      <th>B</th>\n",
       "      <th>mean(A)</th>\n",
       "      <th>mean(B)</th>\n",
       "      <th>diff</th>\n",
       "      <th>se</th>\n",
       "      <th>T</th>\n",
       "      <th>df</th>\n",
       "      <th>pval</th>\n",
       "      <th>hedges</th>\n",
       "    </tr>\n",
       "  </thead>\n",
       "  <tbody>\n",
       "    <tr>\n",
       "      <th>0</th>\n",
       "      <td>INFg</td>\n",
       "      <td>UT</td>\n",
       "      <td>23.045073</td>\n",
       "      <td>21.773302</td>\n",
       "      <td>1.271771</td>\n",
       "      <td>0.200608</td>\n",
       "      <td>6.339590</td>\n",
       "      <td>17.931430</td>\n",
       "      <td>0.000032</td>\n",
       "      <td>2.715356</td>\n",
       "    </tr>\n",
       "    <tr>\n",
       "      <th>1</th>\n",
       "      <td>INFg</td>\n",
       "      <td>aSYN</td>\n",
       "      <td>23.045073</td>\n",
       "      <td>21.622634</td>\n",
       "      <td>1.422439</td>\n",
       "      <td>0.255017</td>\n",
       "      <td>5.577830</td>\n",
       "      <td>15.306873</td>\n",
       "      <td>0.000258</td>\n",
       "      <td>2.389081</td>\n",
       "    </tr>\n",
       "    <tr>\n",
       "      <th>2</th>\n",
       "      <td>INFg</td>\n",
       "      <td>comb.</td>\n",
       "      <td>23.045073</td>\n",
       "      <td>23.258698</td>\n",
       "      <td>-0.213625</td>\n",
       "      <td>0.161707</td>\n",
       "      <td>-1.321064</td>\n",
       "      <td>15.037750</td>\n",
       "      <td>0.564350</td>\n",
       "      <td>-0.565834</td>\n",
       "    </tr>\n",
       "    <tr>\n",
       "      <th>3</th>\n",
       "      <td>UT</td>\n",
       "      <td>aSYN</td>\n",
       "      <td>21.773302</td>\n",
       "      <td>21.622634</td>\n",
       "      <td>0.150668</td>\n",
       "      <td>0.259850</td>\n",
       "      <td>0.579828</td>\n",
       "      <td>15.861950</td>\n",
       "      <td>0.936695</td>\n",
       "      <td>0.248350</td>\n",
       "    </tr>\n",
       "    <tr>\n",
       "      <th>4</th>\n",
       "      <td>UT</td>\n",
       "      <td>comb.</td>\n",
       "      <td>21.773302</td>\n",
       "      <td>23.258698</td>\n",
       "      <td>-1.485396</td>\n",
       "      <td>0.169227</td>\n",
       "      <td>-8.777552</td>\n",
       "      <td>14.490128</td>\n",
       "      <td>0.000002</td>\n",
       "      <td>-3.759577</td>\n",
       "    </tr>\n",
       "    <tr>\n",
       "      <th>5</th>\n",
       "      <td>aSYN</td>\n",
       "      <td>comb.</td>\n",
       "      <td>21.622634</td>\n",
       "      <td>23.258698</td>\n",
       "      <td>-1.636064</td>\n",
       "      <td>0.231144</td>\n",
       "      <td>-7.078109</td>\n",
       "      <td>11.767118</td>\n",
       "      <td>0.000073</td>\n",
       "      <td>-3.031676</td>\n",
       "    </tr>\n",
       "  </tbody>\n",
       "</table>\n",
       "</div>"
      ],
      "text/plain": [
       "      A      B    mean(A)    mean(B)      diff        se         T         df  \\\n",
       "0  INFg     UT  23.045073  21.773302  1.271771  0.200608  6.339590  17.931430   \n",
       "1  INFg   aSYN  23.045073  21.622634  1.422439  0.255017  5.577830  15.306873   \n",
       "2  INFg  comb.  23.045073  23.258698 -0.213625  0.161707 -1.321064  15.037750   \n",
       "3    UT   aSYN  21.773302  21.622634  0.150668  0.259850  0.579828  15.861950   \n",
       "4    UT  comb.  21.773302  23.258698 -1.485396  0.169227 -8.777552  14.490128   \n",
       "5  aSYN  comb.  21.622634  23.258698 -1.636064  0.231144 -7.078109  11.767118   \n",
       "\n",
       "       pval    hedges  \n",
       "0  0.000032  2.715356  \n",
       "1  0.000258  2.389081  \n",
       "2  0.564350 -0.565834  \n",
       "3  0.936695  0.248350  \n",
       "4  0.000002 -3.759577  \n",
       "5  0.000073 -3.031676  "
      ]
     },
     "execution_count": 58,
     "metadata": {},
     "output_type": "execute_result"
    }
   ],
   "source": [
    "pg.pairwise_gameshowell(dv='score', between='group', data=df_test)"
   ]
  },
  {
   "cell_type": "code",
   "execution_count": 239,
   "id": "6bdf3165",
   "metadata": {},
   "outputs": [],
   "source": [
    "pvals  = pvals[np.argsort(pvals)]"
   ]
  },
  {
   "cell_type": "code",
   "execution_count": 228,
   "id": "283700c1",
   "metadata": {},
   "outputs": [],
   "source": [
    "resBH = fdrcorrection(pvals, alpha=0.05, method='indep', is_sorted=True)"
   ]
  },
  {
   "cell_type": "code",
   "execution_count": 240,
   "id": "1766da92",
   "metadata": {},
   "outputs": [],
   "source": [
    "resbh = bh_correction(pvals, is_sorted=True)"
   ]
  },
  {
   "cell_type": "code",
   "execution_count": 299,
   "id": "a8a9d0c2",
   "metadata": {},
   "outputs": [],
   "source": [
    "resby = by_correction(pvals, is_sorted=True)"
   ]
  },
  {
   "cell_type": "code",
   "execution_count": 107,
   "id": "67252a3e",
   "metadata": {},
   "outputs": [],
   "source": [
    "resBY = fdrcorrection(pvals, alpha=0.05, method='n', is_sorted=False)"
   ]
  },
  {
   "cell_type": "code",
   "execution_count": 108,
   "id": "60d2657c",
   "metadata": {},
   "outputs": [
    {
     "data": {
      "text/plain": [
       "11"
      ]
     },
     "execution_count": 108,
     "metadata": {},
     "output_type": "execute_result"
    }
   ],
   "source": [
    "np.sum(resBY[0])"
   ]
  },
  {
   "cell_type": "code",
   "execution_count": 302,
   "id": "41fa5c7e",
   "metadata": {},
   "outputs": [
    {
     "data": {
      "text/plain": [
       "11"
      ]
     },
     "execution_count": 302,
     "metadata": {},
     "output_type": "execute_result"
    }
   ],
   "source": [
    "np.sum(resby[0])"
   ]
  }
 ],
 "metadata": {
  "kernelspec": {
   "display_name": "Python 3 (ipykernel)",
   "language": "python",
   "name": "python3"
  },
  "language_info": {
   "codemirror_mode": {
    "name": "ipython",
    "version": 3
   },
   "file_extension": ".py",
   "mimetype": "text/x-python",
   "name": "python",
   "nbconvert_exporter": "python",
   "pygments_lexer": "ipython3",
   "version": "3.10.9"
  }
 },
 "nbformat": 4,
 "nbformat_minor": 5
}
