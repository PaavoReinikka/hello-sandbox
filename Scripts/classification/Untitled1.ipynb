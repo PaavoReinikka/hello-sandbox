{
 "cells": [
  {
   "cell_type": "code",
   "execution_count": 3,
   "id": "a16c4c66",
   "metadata": {
    "scrolled": false
   },
   "outputs": [],
   "source": [
    "import numpy as np\n",
    "import pandas as pd\n",
    "\n",
    "import seaborn as sns\n",
    "import matplotlib.pyplot as plt\n",
    "\n",
    "from scipy import stats\n",
    "from scipy.spatial.distance import pdist, squareform\n",
    "from scipy.cluster import hierarchy\n",
    "\n",
    "from sklearn.preprocessing import StandardScaler, MinMaxScaler\n",
    "from sklearn.decomposition import PCA\n",
    "from sklearn.preprocessing import LabelEncoder\n",
    "%matplotlib inline\n"
   ]
  },
  {
   "cell_type": "code",
   "execution_count": 4,
   "id": "ff12d9df",
   "metadata": {},
   "outputs": [],
   "source": [
    "from sklearn.cross_decomposition import PLSRegression\n",
    "from sklearn.discriminant_analysis import LinearDiscriminantAnalysis, QuadraticDiscriminantAnalysis\n",
    "from sklearn.linear_model import LogisticRegression\n",
    "from sklearn.metrics import normalized_mutual_info_score as NMI"
   ]
  },
  {
   "cell_type": "code",
   "execution_count": 7,
   "id": "485ad9be",
   "metadata": {},
   "outputs": [],
   "source": [
    "import sys\n",
    "sys.path.insert(1, \"../utilities\")\n",
    "from plot_utils import *\n",
    "from extract import *\n",
    "from assigners import *\n",
    "from effect_estimators import *\n",
    "#from experimental import *"
   ]
  },
  {
   "cell_type": "code",
   "execution_count": 8,
   "id": "70b344bd",
   "metadata": {},
   "outputs": [],
   "source": [
    "def get_ids(data):\n",
    "    ID=[]\n",
    "    for line in data.iloc[2,8:]:\n",
    "        ID.append(line.split('_')[-1].split('.')[0])\n",
    "    return np.array(ID)\n",
    "\n",
    "def add_noise(x, magnitude):\n",
    "    return x + np.random.normal(0,magnitude, x.shape)"
   ]
  },
  {
   "cell_type": "markdown",
   "id": "ae2c9ade",
   "metadata": {},
   "source": [
    "### Celldata"
   ]
  },
  {
   "cell_type": "code",
   "execution_count": 9,
   "id": "10143ba7",
   "metadata": {},
   "outputs": [
    {
     "name": "stdout",
     "output_type": "stream",
     "text": [
      "cellshilicposGFstatus.csv\n",
      "cellshilicposALPHA0.05FC1.0MINVAR0.125.csv\n"
     ]
    }
   ],
   "source": [
    "fnum=3\n",
    "pathGF = \"../../../PARKINSONS/PDproj/celldata/datawithGFstatus/clean/\"\n",
    "filenamesGF = [line.split('\\n')[0] for line in open(pathGF + \"filenames.txt\")]\n",
    "print(filenamesGF[fnum])\n",
    "data = pd.read_csv(pathGF + filenamesGF[fnum],sep=';', header=None)\n",
    "\n",
    "path_s2 = \"../../../PARKINSONS/PDproj/cellresults/ttest/withGF/only32/ALPHA0.05FC1.0MINVAR0.125/\"\n",
    "filenames_s2 = [line.split('\\n')[0] for line in open(path_s2 + \"filenames.txt\")]\n",
    "print(filenames_s2[fnum])\n",
    "df_select = pd.read_csv(path_s2 + filenames_s2[fnum],sep=';')\n",
    "\n",
    "fname = filenames_s2[fnum]"
   ]
  },
  {
   "cell_type": "code",
   "execution_count": 10,
   "id": "3624076b",
   "metadata": {},
   "outputs": [],
   "source": [
    "masstime = np.unique(df_select[' masstime'].to_numpy())\n",
    "data_significant=get_features(masstime, data, True,[0,1,2])\n",
    "\n",
    "Area = data_significant.iloc[3:,8:48]\n",
    "groups = data.iloc[0,8:48]\n",
    "labels = LabelEncoder().fit_transform(groups)"
   ]
  },
  {
   "cell_type": "markdown",
   "id": "71ed1907",
   "metadata": {},
   "source": [
    "### Plasmadata"
   ]
  },
  {
   "cell_type": "code",
   "execution_count": 313,
   "id": "639462f1",
   "metadata": {},
   "outputs": [
    {
     "name": "stdout",
     "output_type": "stream",
     "text": [
      "plasmaHILICposGFstatus_log2.csv\n",
      "plasmaHILICposGFstatus_pori_var0.06FC0.5.csv\n"
     ]
    }
   ],
   "source": [
    "fnum=1\n",
    "pathGF = \"../../../PARKINSONS/PDproj/plasmadata/clean/\"\n",
    "filenamesGF = [line.split('\\n')[0] for line in open(pathGF + \"filenames.txt\")]\n",
    "print(filenamesGF[fnum])\n",
    "data = pd.read_csv(pathGF + filenamesGF[fnum],sep=';', header=None)\n",
    "\n",
    "path_s2 = \"../../../PARKINSONS/PDproj/plasmaresults/ttest/mv_32/pori0.05_FC0.5/\"\n",
    "filenames_s2 = [line.split('\\n')[0] for line in open(path_s2 + \"filenames.txt\")]\n",
    "print(filenames_s2[fnum])\n",
    "df_select = pd.read_csv(path_s2 + filenames_s2[fnum],sep=';')\n",
    "\n",
    "fname = filenames_s2[fnum]"
   ]
  },
  {
   "cell_type": "code",
   "execution_count": 314,
   "id": "c4c2de76",
   "metadata": {},
   "outputs": [],
   "source": [
    "masstime = np.unique(df_select[' masstime'].to_numpy())\n",
    "data_significant=get_features(masstime, data, True,[0,1,2,3], ' ')\n",
    "\n",
    "Area = data_significant.iloc[4:,8:80]\n",
    "groups = data.iloc[1,8:80]\n",
    "gender = data.iloc[0,8:80]\n",
    "labels = LabelEncoder().fit_transform(groups)"
   ]
  },
  {
   "cell_type": "markdown",
   "id": "def252be",
   "metadata": {},
   "source": [
    "### Analysis"
   ]
  },
  {
   "cell_type": "code",
   "execution_count": 11,
   "id": "a3764c00",
   "metadata": {},
   "outputs": [
    {
     "data": {
      "text/html": [
       "<div>\n",
       "<style scoped>\n",
       "    .dataframe tbody tr th:only-of-type {\n",
       "        vertical-align: middle;\n",
       "    }\n",
       "\n",
       "    .dataframe tbody tr th {\n",
       "        vertical-align: top;\n",
       "    }\n",
       "\n",
       "    .dataframe thead th {\n",
       "        text-align: right;\n",
       "    }\n",
       "</style>\n",
       "<table border=\"1\" class=\"dataframe\">\n",
       "  <thead>\n",
       "    <tr style=\"text-align: right;\">\n",
       "      <th></th>\n",
       "      <th>0</th>\n",
       "      <th>1</th>\n",
       "      <th>2</th>\n",
       "      <th>3</th>\n",
       "      <th>4</th>\n",
       "      <th>5</th>\n",
       "      <th>6</th>\n",
       "      <th>7</th>\n",
       "      <th>8</th>\n",
       "      <th>9</th>\n",
       "      <th>...</th>\n",
       "      <th>118</th>\n",
       "      <th>119</th>\n",
       "      <th>120</th>\n",
       "      <th>121</th>\n",
       "      <th>122</th>\n",
       "      <th>123</th>\n",
       "      <th>124</th>\n",
       "      <th>125</th>\n",
       "      <th>126</th>\n",
       "      <th>127</th>\n",
       "    </tr>\n",
       "  </thead>\n",
       "  <tbody>\n",
       "    <tr>\n",
       "      <th>94</th>\n",
       "      <td>NaN</td>\n",
       "      <td>C30 H57 N O4</td>\n",
       "      <td>-0.07</td>\n",
       "      <td>495.42873</td>\n",
       "      <td>496.436</td>\n",
       "      <td>0.372</td>\n",
       "      <td>No MS2</td>\n",
       "      <td>[M+H]+1</td>\n",
       "      <td>19.054911837856597</td>\n",
       "      <td>18.620844098722333</td>\n",
       "      <td>...</td>\n",
       "      <td>0</td>\n",
       "      <td>0</td>\n",
       "      <td>0</td>\n",
       "      <td>0</td>\n",
       "      <td>0</td>\n",
       "      <td>0</td>\n",
       "      <td>0</td>\n",
       "      <td>0</td>\n",
       "      <td>64</td>\n",
       "      <td>0</td>\n",
       "    </tr>\n",
       "    <tr>\n",
       "      <th>106</th>\n",
       "      <td>NaN</td>\n",
       "      <td>C30 H54 O4</td>\n",
       "      <td>-0.21</td>\n",
       "      <td>478.40211</td>\n",
       "      <td>496.436</td>\n",
       "      <td>0.373</td>\n",
       "      <td>No MS2</td>\n",
       "      <td>[M+NH4]+1</td>\n",
       "      <td>19.054911837856597</td>\n",
       "      <td>18.620844098722333</td>\n",
       "      <td>...</td>\n",
       "      <td>64</td>\n",
       "      <td>64</td>\n",
       "      <td>64</td>\n",
       "      <td>64</td>\n",
       "      <td>64</td>\n",
       "      <td>64</td>\n",
       "      <td>64</td>\n",
       "      <td>64</td>\n",
       "      <td>0</td>\n",
       "      <td>64</td>\n",
       "    </tr>\n",
       "    <tr>\n",
       "      <th>24</th>\n",
       "      <td>13-hydroxy-alpha-tocopherol</td>\n",
       "      <td>C29 H50 O3</td>\n",
       "      <td>0.19</td>\n",
       "      <td>446.37608</td>\n",
       "      <td>447.38325</td>\n",
       "      <td>0.374</td>\n",
       "      <td>DDA for preferred ion</td>\n",
       "      <td>[M+H]+1</td>\n",
       "      <td>20.88434273807616</td>\n",
       "      <td>20.704578329289475</td>\n",
       "      <td>...</td>\n",
       "      <td>0</td>\n",
       "      <td>0</td>\n",
       "      <td>0</td>\n",
       "      <td>0</td>\n",
       "      <td>0</td>\n",
       "      <td>0</td>\n",
       "      <td>0</td>\n",
       "      <td>0</td>\n",
       "      <td>0</td>\n",
       "      <td>0</td>\n",
       "    </tr>\n",
       "    <tr>\n",
       "      <th>303</th>\n",
       "      <td>MFCD09743629</td>\n",
       "      <td>C27 H48 O2</td>\n",
       "      <td>0.67</td>\n",
       "      <td>404.3657</td>\n",
       "      <td>405.3727</td>\n",
       "      <td>0.378</td>\n",
       "      <td>No MS2</td>\n",
       "      <td>[M+H]+1</td>\n",
       "      <td>16.552989929027294</td>\n",
       "      <td>16.172452223805614</td>\n",
       "      <td>...</td>\n",
       "      <td>128</td>\n",
       "      <td>8</td>\n",
       "      <td>8</td>\n",
       "      <td>128</td>\n",
       "      <td>8</td>\n",
       "      <td>128</td>\n",
       "      <td>128</td>\n",
       "      <td>128</td>\n",
       "      <td>128</td>\n",
       "      <td>128</td>\n",
       "    </tr>\n",
       "    <tr>\n",
       "      <th>245</th>\n",
       "      <td>NaN</td>\n",
       "      <td>C21 H49 N4 O3 P</td>\n",
       "      <td>1.94</td>\n",
       "      <td>436.35507</td>\n",
       "      <td>419.35186</td>\n",
       "      <td>0.381</td>\n",
       "      <td>No MS2</td>\n",
       "      <td>[M+H-H2O]+1</td>\n",
       "      <td>17.760054334192844</td>\n",
       "      <td>17.391996173856526</td>\n",
       "      <td>...</td>\n",
       "      <td>64</td>\n",
       "      <td>64</td>\n",
       "      <td>64</td>\n",
       "      <td>64</td>\n",
       "      <td>64</td>\n",
       "      <td>128</td>\n",
       "      <td>64</td>\n",
       "      <td>64</td>\n",
       "      <td>128</td>\n",
       "      <td>128</td>\n",
       "    </tr>\n",
       "  </tbody>\n",
       "</table>\n",
       "<p>5 rows × 128 columns</p>\n",
       "</div>"
      ],
      "text/plain": [
       "                             0                1      2          3    \\\n",
       "94                           NaN     C30 H57 N O4  -0.07  495.42873   \n",
       "106                          NaN       C30 H54 O4  -0.21  478.40211   \n",
       "24   13-hydroxy-alpha-tocopherol       C29 H50 O3   0.19  446.37608   \n",
       "303                 MFCD09743629       C27 H48 O2   0.67   404.3657   \n",
       "245                          NaN  C21 H49 N4 O3 P   1.94  436.35507   \n",
       "\n",
       "           4      5                      6            7                   8    \\\n",
       "94     496.436  0.372                 No MS2      [M+H]+1  19.054911837856597   \n",
       "106    496.436  0.373                 No MS2    [M+NH4]+1  19.054911837856597   \n",
       "24   447.38325  0.374  DDA for preferred ion      [M+H]+1   20.88434273807616   \n",
       "303   405.3727  0.378                 No MS2      [M+H]+1  16.552989929027294   \n",
       "245  419.35186  0.381                 No MS2  [M+H-H2O]+1  17.760054334192844   \n",
       "\n",
       "                    9    ...  118 119 120  121 122  123  124  125  126  127  \n",
       "94   18.620844098722333  ...    0   0   0    0   0    0    0    0   64    0  \n",
       "106  18.620844098722333  ...   64  64  64   64  64   64   64   64    0   64  \n",
       "24   20.704578329289475  ...    0   0   0    0   0    0    0    0    0    0  \n",
       "303  16.172452223805614  ...  128   8   8  128   8  128  128  128  128  128  \n",
       "245  17.391996173856526  ...   64  64  64   64  64  128   64   64  128  128  \n",
       "\n",
       "[5 rows x 128 columns]"
      ]
     },
     "execution_count": 11,
     "metadata": {},
     "output_type": "execute_result"
    }
   ],
   "source": [
    "sorted_ind=np.argsort(data_significant.iloc[3:,5])\n",
    "data_significant.iloc[sorted_ind+3,:].head()"
   ]
  },
  {
   "cell_type": "code",
   "execution_count": 12,
   "id": "a775a6d4",
   "metadata": {},
   "outputs": [],
   "source": [
    "X=data_significant.iloc[sorted_ind+3,8:48].to_numpy(dtype=float).T\n",
    "rtime=data_significant.iloc[sorted_ind+3,5].to_numpy(dtype=float)\n",
    "mass=data_significant.iloc[sorted_ind+3,4].to_numpy(dtype=float)"
   ]
  },
  {
   "cell_type": "code",
   "execution_count": 13,
   "id": "f2b894e7",
   "metadata": {},
   "outputs": [],
   "source": [
    "Y=pd.get_dummies(groups)"
   ]
  },
  {
   "cell_type": "code",
   "execution_count": 32,
   "id": "ffe39587",
   "metadata": {},
   "outputs": [],
   "source": [
    "pls=PLSRegression(n_components=2).fit(X, Y)\n",
    "xhat, yhat=pls.transform(X,Y)\n",
    "y_pred=pls.predict(X)"
   ]
  },
  {
   "cell_type": "code",
   "execution_count": 35,
   "id": "4c26e6c0",
   "metadata": {},
   "outputs": [
    {
     "data": {
      "text/plain": [
       "array([2, 2, 1, 1, 1, 1, 1, 2, 1, 1, 3, 3, 0, 3, 0, 0, 3, 0, 0, 3, 0, 0,\n",
       "       0, 0, 3, 3, 0, 0, 3, 0, 2, 1, 1, 1, 1, 1, 1, 1, 1, 1], dtype=int64)"
      ]
     },
     "execution_count": 35,
     "metadata": {},
     "output_type": "execute_result"
    }
   ],
   "source": [
    "np.argmax(y_pred, axis=1)"
   ]
  },
  {
   "cell_type": "code",
   "execution_count": 37,
   "id": "9b9533b7",
   "metadata": {},
   "outputs": [
    {
     "data": {
      "text/plain": [
       "<matplotlib.collections.PathCollection at 0x21529888250>"
      ]
     },
     "execution_count": 37,
     "metadata": {},
     "output_type": "execute_result"
    },
    {
     "data": {
      "image/png": "[encoded data removed]",
      "text/plain": [
       "<Figure size 640x480 with 1 Axes>"
      ]
     },
     "metadata": {},
     "output_type": "display_data"
    }
   ],
   "source": [
    "plt.scatter(xhat[:,0],xhat[:,1], c=labels)"
   ]
  },
  {
   "cell_type": "code",
   "execution_count": 38,
   "id": "5e457690",
   "metadata": {},
   "outputs": [
    {
     "data": {
      "text/plain": [
       "<matplotlib.collections.PathCollection at 0x215298e51e0>"
      ]
     },
     "execution_count": 38,
     "metadata": {},
     "output_type": "execute_result"
    },
    {
     "data": {
      "image/png": "[encoded data removed]",
      "text/plain": [
       "<Figure size 640x480 with 1 Axes>"
      ]
     },
     "metadata": {},
     "output_type": "display_data"
    }
   ],
   "source": [
    "plt.scatter(xhat[:,0],xhat[:,1], c=np.argmax(y_pred, axis=1))"
   ]
  },
  {
   "cell_type": "code",
   "execution_count": 76,
   "id": "62c7f466",
   "metadata": {},
   "outputs": [],
   "source": [
    "lda=LinearDiscriminantAnalysis(n_components=3, shrinkage=0.5, solver='eigen').fit(X,labels)\n",
    "xhat = lda.transform(X)\n",
    "yhat = lda.predict(X)"
   ]
  },
  {
   "cell_type": "code",
   "execution_count": 87,
   "id": "45bab167",
   "metadata": {},
   "outputs": [],
   "source": [
    "lda=LinearDiscriminantAnalysis(n_components=3, shrinkage=0.9, solver='eigen').fit(X,labels)\n",
    "xhat = lda.transform(X)\n",
    "yhat = lda.predict(X)"
   ]
  },
  {
   "cell_type": "code",
   "execution_count": 89,
   "id": "d08915b8",
   "metadata": {},
   "outputs": [
    {
     "data": {
      "text/plain": [
       "<matplotlib.collections.PathCollection at 0x2152fc8a290>"
      ]
     },
     "execution_count": 89,
     "metadata": {},
     "output_type": "execute_result"
    },
    {
     "data": {
      "image/png": "[encoded data removed]",
      "text/plain": [
       "<Figure size 640x480 with 1 Axes>"
      ]
     },
     "metadata": {},
     "output_type": "display_data"
    }
   ],
   "source": [
    "plt.scatter(xhat[:,0],xhat[:,1], c=labels)"
   ]
  },
  {
   "cell_type": "code",
   "execution_count": 65,
   "id": "4477bc9f",
   "metadata": {},
   "outputs": [
    {
     "data": {
      "text/plain": [
       "<matplotlib.collections.PathCollection at 0x2152ddfe0b0>"
      ]
     },
     "execution_count": 65,
     "metadata": {},
     "output_type": "execute_result"
    },
    {
     "data": {
      "image/png": "[encoded data removed]",
      "text/plain": [
       "<Figure size 640x480 with 1 Axes>"
      ]
     },
     "metadata": {},
     "output_type": "display_data"
    }
   ],
   "source": [
    "plt.scatter(xhat[:,0],xhat[:,1], c=yhat)"
   ]
  },
  {
   "cell_type": "code",
   "execution_count": 116,
   "id": "f6d71399",
   "metadata": {},
   "outputs": [],
   "source": [
    "X_std = StandardScaler().fit_transform(X)\n",
    "lr = LogisticRegression(max_iter=2000, penalty='l1', solver='saga').fit(X_std,labels)"
   ]
  },
  {
   "cell_type": "code",
   "execution_count": 117,
   "id": "75dfd552",
   "metadata": {},
   "outputs": [],
   "source": [
    "yhat = lr.predict(X_std)"
   ]
  },
  {
   "cell_type": "code",
   "execution_count": 122,
   "id": "6ed0151a",
   "metadata": {},
   "outputs": [
    {
     "data": {
      "text/plain": [
       "<matplotlib.collections.PathCollection at 0x2153168c2b0>"
      ]
     },
     "execution_count": 122,
     "metadata": {},
     "output_type": "execute_result"
    },
    {
     "data": {
      "image/png": "[encoded data removed]",
      "text/plain": [
       "<Figure size 640x480 with 1 Axes>"
      ]
     },
     "metadata": {},
     "output_type": "display_data"
    }
   ],
   "source": [
    "plt.scatter(xhat[:,0],xhat[:,1], c=labels)"
   ]
  },
  {
   "cell_type": "code",
   "execution_count": 120,
   "id": "3a15a2ce",
   "metadata": {},
   "outputs": [
    {
     "data": {
      "text/plain": [
       "0.9404185439808235"
      ]
     },
     "execution_count": 120,
     "metadata": {},
     "output_type": "execute_result"
    }
   ],
   "source": [
    "NMI(labels, yhat)"
   ]
  },
  {
   "cell_type": "code",
   "execution_count": 108,
   "id": "9295d22d",
   "metadata": {},
   "outputs": [
    {
     "data": {
      "text/plain": [
       "array([20, 26, 40, 46, 52,  8, 40, 50, 56, 38, 43, 56,  3,  4,  7, 12, 53],\n",
       "      dtype=int64)"
      ]
     },
     "execution_count": 108,
     "metadata": {},
     "output_type": "execute_result"
    }
   ],
   "source": [
    "np.where(lr.coef_!=0)[1]"
   ]
  },
  {
   "cell_type": "code",
   "execution_count": 112,
   "id": "100a50dc",
   "metadata": {},
   "outputs": [
    {
     "data": {
      "text/plain": [
       "array(['118.06147@5.74', '118.0866@3.543', '127.05048@5.447',\n",
       "       '144.10209@4.64', '146.11771@3.084', '179.04861@6.716',\n",
       "       '205.09724@4.043', '219.11294@0.719', '349.0542@6.887',\n",
       "       '405.3727@0.378', '419.35184@0.386', '419.35186@0.381',\n",
       "       '675.54318@0.46', '675.54347@0.954', '716.55819@0.458'],\n",
       "      dtype='<U15')"
      ]
     },
     "execution_count": 112,
     "metadata": {},
     "output_type": "execute_result"
    }
   ],
   "source": [
    "masstime = np.array([\"{}@{}\".format(m, t) for m, t in zip(mass, rtime)])\n",
    "np.unique(masstime[np.where(lr.coef_!=0)[1]])"
   ]
  }
 ],
 "metadata": {
  "kernelspec": {
   "display_name": "Python 3 (ipykernel)",
   "language": "python",
   "name": "python3"
  },
  "language_info": {
   "codemirror_mode": {
    "name": "ipython",
    "version": 3
   },
   "file_extension": ".py",
   "mimetype": "text/x-python",
   "name": "python",
   "nbconvert_exporter": "python",
   "pygments_lexer": "ipython3",
   "version": "3.9.10"
  }
 },
 "nbformat": 4,
 "nbformat_minor": 5
}
