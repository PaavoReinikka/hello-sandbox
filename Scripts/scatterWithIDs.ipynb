{
 "cells": [
  {
   "cell_type": "code",
   "execution_count": 16,
   "id": "48ece6da",
   "metadata": {},
   "outputs": [],
   "source": [
    "import numpy as np\n",
    "import pandas as pd\n",
    "import matplotlib.pyplot as plt\n",
    "from sklearn.decomposition import PCA\n",
    "from sklearn.preprocessing import LabelEncoder\n",
    "from sklearn.manifold import TSNE\n",
    "\n",
    "def get_feature_matrix(masstime, data, significant=True):\n",
    "    if not significant:\n",
    "        return data.iloc[3:,8:].to_numpy(dtype=float).T\n",
    "    inds=[]\n",
    "    for i in range(3,data.shape[0]):\n",
    "        mt=data.iloc[i,4] + '@' + data.iloc[i,5]\n",
    "        if mt in masstime:\n",
    "            inds.append(i)\n",
    "    inds=np.asarray(inds, dtype=int)\n",
    "    return data.iloc[inds,8:].to_numpy(dtype=float).T\n",
    "\n",
    "def get_features(masstime, data, significant=True):\n",
    "    if not significant:\n",
    "        return data\n",
    "    inds=[0,1,2]\n",
    "    for i in range(3,data.shape[0]):\n",
    "        mt=data.iloc[i,4] + '@' + data.iloc[i,5]\n",
    "        if mt in masstime:\n",
    "            inds.append(i)\n",
    "    inds=np.asarray(inds, dtype=int)\n",
    "    return data.iloc[inds,:]\n",
    "\n",
    "\n",
    "def get_ids(data):\n",
    "    ID=[]\n",
    "    for line in data.iloc[2,8:]:\n",
    "        ID.append(line.split('_')[-1].split('.')[0])\n",
    "    return np.array(ID)\n",
    "\n",
    "def add_noise(x, magnitude):\n",
    "    return x + np.random.normal(0,magnitude, x.shape)"
   ]
  },
  {
   "cell_type": "code",
   "execution_count": 2,
   "id": "fb78a335",
   "metadata": {},
   "outputs": [
    {
     "data": {
      "text/plain": [
       "['cellshilicneg_log2.csvALPHA0.05FC1.0MINVAR0.125.csv',\n",
       " 'cellshilicpos_log2.csvALPHA0.05FC1.0MINVAR0.125.csv',\n",
       " 'cellslipidomicsneg_log2.csvALPHA0.05FC1.0MINVAR0.125.csv',\n",
       " 'cellslipidomicspos_log2.csvALPHA0.05FC1.0MINVAR0.125.csv',\n",
       " 'cellsRPneg_log2.csvALPHA0.05FC1.0MINVAR0.125.csv',\n",
       " 'cellsRPpos_log2.csvALPHA0.05FC1.0MINVAR0.125.csv',\n",
       " 'mediumHILICneg_log2.csvALPHA0.05FC1.0MINVAR0.125.csv',\n",
       " 'mediumHILICpos_log2.csvALPHA0.05FC1.0MINVAR0.125.csv',\n",
       " 'mediumRPneg_log2.csvALPHA0.05FC1.0MINVAR0.125.csv',\n",
       " 'mediumRPpos_log2.csvALPHA0.05FC1.0MINVAR0.125.csv']"
      ]
     },
     "execution_count": 2,
     "metadata": {},
     "output_type": "execute_result"
    }
   ],
   "source": [
    "path_s = \"../../PDproj/cellresults/ttest/ALPHA0.05FC1.0MINVAR0.125/\"\n",
    "filenames_s = [line.split('\\n')[0] for line in open(path_s + \"filenames.txt\")]\n",
    "filenames_s"
   ]
  },
  {
   "cell_type": "code",
   "execution_count": 3,
   "id": "85920aad",
   "metadata": {},
   "outputs": [
    {
     "data": {
      "text/plain": [
       "['cellshilicnegALPHA0.05FC1.0MINVAR0.125.csv',\n",
       " 'cellshilicposALPHA0.05FC1.0MINVAR0.125.csv',\n",
       " 'cellslipidnegALPHA0.05FC1.0MINVAR0.125.csv',\n",
       " 'cellslipidposALPHA0.05FC1.0MINVAR0.125.csv',\n",
       " 'cellsRPnegALPHA0.05FC1.0MINVAR0.125.csv',\n",
       " 'cellsRPposALPHA0.05FC1.0MINVAR0.125.csv',\n",
       " 'mediumhilicnegALPHA0.05FC1.0MINVAR0.125.csv',\n",
       " 'mediumhilicposALPHA0.05FC1.0MINVAR0.125.csv',\n",
       " 'mediumRPnegALPHA0.05FC1.0MINVAR0.125.csv',\n",
       " 'mediumRPposALPHA0.05FC1.0MINVAR0.125.csv']"
      ]
     },
     "execution_count": 3,
     "metadata": {},
     "output_type": "execute_result"
    }
   ],
   "source": [
    "path_s2 = \"../../PDproj/cellresults/ttest/withGF/ALPHA0.05FC1.0MINVAR0.125/\"\n",
    "filenames_s2 = [line.split('\\n')[0] for line in open(path_s2 + \"filenames.txt\")]\n",
    "filenames_s2"
   ]
  },
  {
   "cell_type": "code",
   "execution_count": 4,
   "id": "e5dc0a69",
   "metadata": {},
   "outputs": [
    {
     "data": {
      "text/plain": [
       "['cellshilicneg_log2.csv',\n",
       " 'cellshilicpos_log2.csv',\n",
       " 'cellslipidomicsneg_log2.csv',\n",
       " 'cellslipidomicspos_log2.csv',\n",
       " 'cellsRPneg_log2.csv',\n",
       " 'cellsRPpos_log2.csv',\n",
       " 'mediumHILICneg_log2.csv',\n",
       " 'mediumHILICpos_log2.csv',\n",
       " 'mediumRPneg_log2.csv',\n",
       " 'mediumRPpos_log2.csv']"
      ]
     },
     "execution_count": 4,
     "metadata": {},
     "output_type": "execute_result"
    }
   ],
   "source": [
    "path = \"../../PDproj/celldata/clean/\"\n",
    "filenames = [line.split('\\n')[0] for line in open(path + \"filenames.txt\")]\n",
    "filenames"
   ]
  },
  {
   "cell_type": "code",
   "execution_count": 5,
   "id": "67b45865",
   "metadata": {},
   "outputs": [],
   "source": [
    "fnum=3 # 2 is good example\n",
    "data = pd.read_csv(path + filenames[fnum], sep=';', header=None)\n",
    "tle = filenames[fnum].split('_')[0]\n",
    "df = pd.read_csv(path_s + filenames_s[fnum],sep=';')\n",
    "df_GF = pd.read_csv(path_s2 + filenames_s2[fnum],sep=';')"
   ]
  },
  {
   "cell_type": "code",
   "execution_count": 6,
   "id": "beaee1ae",
   "metadata": {},
   "outputs": [
    {
     "name": "stdout",
     "output_type": "stream",
     "text": [
      "cellslipidomicspos_log2.csv\n",
      "cellslipidomicspos_log2.csvALPHA0.05FC1.0MINVAR0.125.csv\n",
      "cellslipidposALPHA0.05FC1.0MINVAR0.125.csv\n"
     ]
    }
   ],
   "source": [
    "print(filenames[fnum])\n",
    "print(filenames_s[fnum])\n",
    "print(filenames_s2[fnum])"
   ]
  },
  {
   "cell_type": "markdown",
   "id": "514cb4d4",
   "metadata": {},
   "source": [
    "### Get significant features with GAP status"
   ]
  },
  {
   "cell_type": "code",
   "execution_count": 28,
   "id": "023fc452",
   "metadata": {},
   "outputs": [],
   "source": [
    "pathGF = \"../../PDproj/celldata/datawithGFstatus/clean/\"\n",
    "filenamesGF = [line.split('\\n')[0] for line in open(pathGF + \"filenames.txt\")]\n",
    "GF = pd.read_csv(pathGF + filenamesGF[fnum],sep=';', header=None)\n",
    "cls = GF.iloc[0,8:48]\n",
    "\n",
    "masstime = df_GF[' masstime'].to_numpy()\n",
    "GF=get_features(masstime, GF, True)\n",
    "GFcols = [i for i in range(0,GF.shape[1]) if i not in np.arange(8,88)]\n",
    "Area = GF.iloc[3:,8:48]\n",
    "groups = GF.iloc[0,8:48]\n",
    "labels = LabelEncoder().fit_transform(groups)\n",
    "GF=GF.iloc[:,GFcols]"
   ]
  },
  {
   "cell_type": "code",
   "execution_count": 51,
   "id": "b698b680",
   "metadata": {},
   "outputs": [],
   "source": [
    "aSYN=GF.iloc[:,8:18]\n",
    "comb=GF.iloc[:,18:28]\n",
    "INFg=GF.iloc[:,28:38]\n",
    "UT=GF.iloc[:,38:]"
   ]
  },
  {
   "cell_type": "code",
   "execution_count": 60,
   "id": "84d0fa84",
   "metadata": {},
   "outputs": [],
   "source": [
    "tol=10\n",
    "token=8\n",
    "inds=[]\n",
    "ls=['aSYN','comb','INFg','UT']\n",
    "for k, group in enumerate([aSYN,comb,INFg,UT]):\n",
    "    for i in range(3,group.shape[0]):\n",
    "        arr=np.asarray(group.iloc[i,:], dtype=int)\n",
    "        s=np.sum(arr==token)\n",
    "        if s>=tol:\n",
    "            inds.append((ls[k],i))"
   ]
  },
  {
   "cell_type": "code",
   "execution_count": 61,
   "id": "ea3dba8e",
   "metadata": {},
   "outputs": [
    {
     "data": {
      "text/plain": [
       "[('UT', 406)]"
      ]
     },
     "execution_count": 61,
     "metadata": {},
     "output_type": "execute_result"
    }
   ],
   "source": [
    "inds"
   ]
  },
  {
   "cell_type": "code",
   "execution_count": 15,
   "id": "b140943f",
   "metadata": {},
   "outputs": [],
   "source": [
    "#pd.DataFrame(np.stack((GF.iloc[inds[0][1],8:], cls), axis=1))"
   ]
  },
  {
   "cell_type": "code",
   "execution_count": 25,
   "id": "a5e4d57d",
   "metadata": {},
   "outputs": [],
   "source": [
    "tsne=TSNE().fit_transform(Area.T)"
   ]
  },
  {
   "cell_type": "code",
   "execution_count": 34,
   "id": "1778efcd",
   "metadata": {},
   "outputs": [
    {
     "data": {
      "text/plain": [
       "<matplotlib.collections.PathCollection at 0x7f2b0b007a00>"
      ]
     },
     "execution_count": 34,
     "metadata": {},
     "output_type": "execute_result"
    },
    {
     "data": {
      "image/png": "[encoded data removed]",
      "text/plain": [
       "<Figure size 640x480 with 1 Axes>"
      ]
     },
     "metadata": {},
     "output_type": "display_data"
    }
   ],
   "source": [
    "plt.scatter(tsne[:,0],tsne[:,1],c=labels)"
   ]
  },
  {
   "cell_type": "code",
   "execution_count": null,
   "id": "9a9a74a1",
   "metadata": {},
   "outputs": [],
   "source": []
  },
  {
   "cell_type": "markdown",
   "id": "bc5e1e34",
   "metadata": {},
   "source": [
    "### Get significant features by matching masstimes"
   ]
  },
  {
   "cell_type": "code",
   "execution_count": 61,
   "id": "eb413f03",
   "metadata": {},
   "outputs": [
    {
     "data": {
      "text/html": [
       "<div>\n",
       "<style scoped>\n",
       "    .dataframe tbody tr th:only-of-type {\n",
       "        vertical-align: middle;\n",
       "    }\n",
       "\n",
       "    .dataframe tbody tr th {\n",
       "        vertical-align: top;\n",
       "    }\n",
       "\n",
       "    .dataframe thead th {\n",
       "        text-align: right;\n",
       "    }\n",
       "</style>\n",
       "<table border=\"1\" class=\"dataframe\">\n",
       "  <thead>\n",
       "    <tr style=\"text-align: right;\">\n",
       "      <th></th>\n",
       "      <th>0</th>\n",
       "      <th>1</th>\n",
       "      <th>2</th>\n",
       "      <th>3</th>\n",
       "      <th>4</th>\n",
       "      <th>5</th>\n",
       "      <th>6</th>\n",
       "      <th>7</th>\n",
       "      <th>8</th>\n",
       "      <th>9</th>\n",
       "      <th>...</th>\n",
       "      <th>38</th>\n",
       "      <th>39</th>\n",
       "      <th>40</th>\n",
       "      <th>41</th>\n",
       "      <th>42</th>\n",
       "      <th>43</th>\n",
       "      <th>44</th>\n",
       "      <th>45</th>\n",
       "      <th>46</th>\n",
       "      <th>47</th>\n",
       "    </tr>\n",
       "  </thead>\n",
       "  <tbody>\n",
       "    <tr>\n",
       "      <th>0</th>\n",
       "      <td>NaN</td>\n",
       "      <td>NaN</td>\n",
       "      <td>NaN</td>\n",
       "      <td>NaN</td>\n",
       "      <td>NaN</td>\n",
       "      <td>NaN</td>\n",
       "      <td>NaN</td>\n",
       "      <td>NaN</td>\n",
       "      <td>aSYN</td>\n",
       "      <td>aSYN</td>\n",
       "      <td>...</td>\n",
       "      <td>UT</td>\n",
       "      <td>UT</td>\n",
       "      <td>UT</td>\n",
       "      <td>UT</td>\n",
       "      <td>UT</td>\n",
       "      <td>UT</td>\n",
       "      <td>UT</td>\n",
       "      <td>UT</td>\n",
       "      <td>UT</td>\n",
       "      <td>UT</td>\n",
       "    </tr>\n",
       "    <tr>\n",
       "      <th>1</th>\n",
       "      <td>NaN</td>\n",
       "      <td>NaN</td>\n",
       "      <td>NaN</td>\n",
       "      <td>NaN</td>\n",
       "      <td>NaN</td>\n",
       "      <td>NaN</td>\n",
       "      <td>NaN</td>\n",
       "      <td>NaN</td>\n",
       "      <td>5</td>\n",
       "      <td>9</td>\n",
       "      <td>...</td>\n",
       "      <td>6</td>\n",
       "      <td>11</td>\n",
       "      <td>15</td>\n",
       "      <td>17</td>\n",
       "      <td>24</td>\n",
       "      <td>28</td>\n",
       "      <td>37</td>\n",
       "      <td>39</td>\n",
       "      <td>42</td>\n",
       "      <td>45</td>\n",
       "    </tr>\n",
       "    <tr>\n",
       "      <th>2</th>\n",
       "      <td>Name</td>\n",
       "      <td>Formula</td>\n",
       "      <td>Annot. DeltaMass [ppm]</td>\n",
       "      <td>Calc. MW</td>\n",
       "      <td>m/z</td>\n",
       "      <td>RT [min]</td>\n",
       "      <td>MS2</td>\n",
       "      <td>Reference Ion</td>\n",
       "      <td>Area: 221031_SL_Solu_Lipidi_pos_0022.raw (F20)</td>\n",
       "      <td>Area: 221031_SL_Solu_Lipidi_pos_0026.raw (F24)</td>\n",
       "      <td>...</td>\n",
       "      <td>Area: 221031_SL_Solu_Lipidi_pos_0023.raw (F21)</td>\n",
       "      <td>Area: 221031_SL_Solu_Lipidi_pos_0028.raw (F26)</td>\n",
       "      <td>Area: 221031_SL_Solu_Lipidi_pos_0033.raw (F31)</td>\n",
       "      <td>Area: 221031_SL_Solu_Lipidi_pos_0034.raw (F32)</td>\n",
       "      <td>Area: 221031_SL_Solu_Lipidi_pos_0042.raw (F40)</td>\n",
       "      <td>Area: 221031_SL_Solu_Lipidi_pos_0046.raw (F44)</td>\n",
       "      <td>Area: 221031_SL_Solu_Lipidi_pos_0053.raw (F51)</td>\n",
       "      <td>Area: 221031_SL_Solu_Lipidi_pos_0055.raw (F53)</td>\n",
       "      <td>Area: 221031_SL_Solu_Lipidi_pos_0058.raw (F56)</td>\n",
       "      <td>Area: 221031_SL_Solu_Lipidi_pos_0061.raw (F59)</td>\n",
       "    </tr>\n",
       "    <tr>\n",
       "      <th>3</th>\n",
       "      <td>Locustol</td>\n",
       "      <td>C9 H12 O2</td>\n",
       "      <td>0.19</td>\n",
       "      <td>152.08376</td>\n",
       "      <td>153.09103</td>\n",
       "      <td>3.196</td>\n",
       "      <td>DDA for preferred ion</td>\n",
       "      <td>[M+H]+1</td>\n",
       "      <td>21.5121549448339</td>\n",
       "      <td>21.4746055343211</td>\n",
       "      <td>...</td>\n",
       "      <td>21.308044881936</td>\n",
       "      <td>21.7245216015449</td>\n",
       "      <td>21.6292650464469</td>\n",
       "      <td>22.0231531260167</td>\n",
       "      <td>21.9426964137303</td>\n",
       "      <td>21.2713111063914</td>\n",
       "      <td>21.6074902185448</td>\n",
       "      <td>21.4169468102385</td>\n",
       "      <td>21.8943911629971</td>\n",
       "      <td>21.3672395225328</td>\n",
       "    </tr>\n",
       "    <tr>\n",
       "      <th>4</th>\n",
       "      <td>2,6-Dioxo(4-~14~C)-1,2,3,6-tetrahydro-4-pyrimi...</td>\n",
       "      <td>C4 [14]C H4 N2 O4</td>\n",
       "      <td>0.96</td>\n",
       "      <td>158.0205</td>\n",
       "      <td>159.02778</td>\n",
       "      <td>0.643</td>\n",
       "      <td>DDA for preferred ion</td>\n",
       "      <td>[M+H]+1</td>\n",
       "      <td>19.907024097623</td>\n",
       "      <td>19.8469039901301</td>\n",
       "      <td>...</td>\n",
       "      <td>19.3230595530306</td>\n",
       "      <td>16.4559465651049</td>\n",
       "      <td>18.8605503575636</td>\n",
       "      <td>19.5323735697553</td>\n",
       "      <td>17.8498050793163</td>\n",
       "      <td>16.1039287915096</td>\n",
       "      <td>16.7310567331204</td>\n",
       "      <td>17.0202763827131</td>\n",
       "      <td>17.3905257336149</td>\n",
       "      <td>18.8759688440033</td>\n",
       "    </tr>\n",
       "  </tbody>\n",
       "</table>\n",
       "<p>5 rows × 48 columns</p>\n",
       "</div>"
      ],
      "text/plain": [
       "                                                  0                  1    \n",
       "0                                                NaN                NaN  \\\n",
       "1                                                NaN                NaN   \n",
       "2                                               Name            Formula   \n",
       "3                                           Locustol          C9 H12 O2   \n",
       "4  2,6-Dioxo(4-~14~C)-1,2,3,6-tetrahydro-4-pyrimi...  C4 [14]C H4 N2 O4   \n",
       "\n",
       "                       2          3          4         5    \n",
       "0                     NaN        NaN        NaN       NaN  \\\n",
       "1                     NaN        NaN        NaN       NaN   \n",
       "2  Annot. DeltaMass [ppm]   Calc. MW        m/z  RT [min]   \n",
       "3                    0.19  152.08376  153.09103     3.196   \n",
       "4                    0.96   158.0205  159.02778     0.643   \n",
       "\n",
       "                      6              7    \n",
       "0                    NaN            NaN  \\\n",
       "1                    NaN            NaN   \n",
       "2                    MS2  Reference Ion   \n",
       "3  DDA for preferred ion        [M+H]+1   \n",
       "4  DDA for preferred ion        [M+H]+1   \n",
       "\n",
       "                                               8    \n",
       "0                                            aSYN  \\\n",
       "1                                               5   \n",
       "2  Area: 221031_SL_Solu_Lipidi_pos_0022.raw (F20)   \n",
       "3                                21.5121549448339   \n",
       "4                                 19.907024097623   \n",
       "\n",
       "                                               9   ...   \n",
       "0                                            aSYN  ...  \\\n",
       "1                                               9  ...   \n",
       "2  Area: 221031_SL_Solu_Lipidi_pos_0026.raw (F24)  ...   \n",
       "3                                21.4746055343211  ...   \n",
       "4                                19.8469039901301  ...   \n",
       "\n",
       "                                               38   \n",
       "0                                              UT  \\\n",
       "1                                               6   \n",
       "2  Area: 221031_SL_Solu_Lipidi_pos_0023.raw (F21)   \n",
       "3                                 21.308044881936   \n",
       "4                                19.3230595530306   \n",
       "\n",
       "                                               39   \n",
       "0                                              UT  \\\n",
       "1                                              11   \n",
       "2  Area: 221031_SL_Solu_Lipidi_pos_0028.raw (F26)   \n",
       "3                                21.7245216015449   \n",
       "4                                16.4559465651049   \n",
       "\n",
       "                                               40   \n",
       "0                                              UT  \\\n",
       "1                                              15   \n",
       "2  Area: 221031_SL_Solu_Lipidi_pos_0033.raw (F31)   \n",
       "3                                21.6292650464469   \n",
       "4                                18.8605503575636   \n",
       "\n",
       "                                               41   \n",
       "0                                              UT  \\\n",
       "1                                              17   \n",
       "2  Area: 221031_SL_Solu_Lipidi_pos_0034.raw (F32)   \n",
       "3                                22.0231531260167   \n",
       "4                                19.5323735697553   \n",
       "\n",
       "                                               42   \n",
       "0                                              UT  \\\n",
       "1                                              24   \n",
       "2  Area: 221031_SL_Solu_Lipidi_pos_0042.raw (F40)   \n",
       "3                                21.9426964137303   \n",
       "4                                17.8498050793163   \n",
       "\n",
       "                                               43   \n",
       "0                                              UT  \\\n",
       "1                                              28   \n",
       "2  Area: 221031_SL_Solu_Lipidi_pos_0046.raw (F44)   \n",
       "3                                21.2713111063914   \n",
       "4                                16.1039287915096   \n",
       "\n",
       "                                               44   \n",
       "0                                              UT  \\\n",
       "1                                              37   \n",
       "2  Area: 221031_SL_Solu_Lipidi_pos_0053.raw (F51)   \n",
       "3                                21.6074902185448   \n",
       "4                                16.7310567331204   \n",
       "\n",
       "                                               45   \n",
       "0                                              UT  \\\n",
       "1                                              39   \n",
       "2  Area: 221031_SL_Solu_Lipidi_pos_0055.raw (F53)   \n",
       "3                                21.4169468102385   \n",
       "4                                17.0202763827131   \n",
       "\n",
       "                                               46   \n",
       "0                                              UT  \\\n",
       "1                                              42   \n",
       "2  Area: 221031_SL_Solu_Lipidi_pos_0058.raw (F56)   \n",
       "3                                21.8943911629971   \n",
       "4                                17.3905257336149   \n",
       "\n",
       "                                               47  \n",
       "0                                              UT  \n",
       "1                                              45  \n",
       "2  Area: 221031_SL_Solu_Lipidi_pos_0061.raw (F59)  \n",
       "3                                21.3672395225328  \n",
       "4                                18.8759688440033  \n",
       "\n",
       "[5 rows x 48 columns]"
      ]
     },
     "execution_count": 61,
     "metadata": {},
     "output_type": "execute_result"
    }
   ],
   "source": [
    "data.head()"
   ]
  },
  {
   "cell_type": "code",
   "execution_count": 30,
   "id": "c158c44c",
   "metadata": {},
   "outputs": [],
   "source": [
    "masstime = df[' masstime'].to_numpy()\n",
    "groups=data.iloc[0,8:]\n",
    "labels = LabelEncoder().fit_transform(groups)\n",
    "ID=get_ids(data)\n",
    "x=get_feature_matrix(masstime, data, True)\n",
    "assert(x.shape[0]==40)"
   ]
  },
  {
   "cell_type": "code",
   "execution_count": 31,
   "id": "f5f5c3ff",
   "metadata": {},
   "outputs": [],
   "source": [
    "pca = PCA().fit_transform(x)\n",
    "pca = add_noise(pca, 1)"
   ]
  },
  {
   "cell_type": "code",
   "execution_count": 32,
   "id": "625d6ba5",
   "metadata": {},
   "outputs": [
    {
     "data": {
      "image/png": "[encoded data removed]",
      "text/plain": [
       "<Figure size 1300x1300 with 1 Axes>"
      ]
     },
     "metadata": {},
     "output_type": "display_data"
    }
   ],
   "source": [
    "SAVE=False\n",
    "k=1\n",
    "fig, ax = plt.subplots(figsize=(13,13))\n",
    "ax.scatter(pca[:10,0],pca[:10,k], marker='^', c='red', s=100)\n",
    "ax.scatter(pca[10:20,0],pca[10:20,k], marker='o', c='blue', s=100)\n",
    "ax.scatter(pca[20:30,0],pca[20:30,k], marker='v', c='green', s=100)\n",
    "ax.scatter(pca[30:,0],pca[30:,k], marker='s', c='gold', s=100)\n",
    "ax.legend(['aSYN','comb.','INFg','UT'], fontsize=15)\n",
    "\n",
    "for i, txt in enumerate(ID):\n",
    "    ax.annotate(txt, (pca[i,0], pca[i,k]),fontsize=12)\n",
    "plt.xlabel('PC 1', fontsize=25)\n",
    "plt.ylabel('PC {}'.format(k+1), fontsize=25)\n",
    "plt.title(tle, fontsize=20)\n",
    "plt.show()\n",
    "\n",
    "if SAVE:\n",
    "    fig.savefig('../../PDproj/paavo/plots/pca/eps/{}.eps'.format(tle))\n",
    "    fig.savefig('../../PDproj/paavo/plots/pca/tifs/{}.tif'.format(tle))\n",
    "    fig.savefig('../../PDproj/paavo/plots/pca/jpeg/{}.jpg'.format(tle))"
   ]
  },
  {
   "cell_type": "code",
   "execution_count": null,
   "id": "05e094b3",
   "metadata": {},
   "outputs": [],
   "source": []
  },
  {
   "cell_type": "code",
   "execution_count": null,
   "id": "6cda32ff",
   "metadata": {},
   "outputs": [],
   "source": []
  }
 ],
 "metadata": {
  "kernelspec": {
   "display_name": "Python 3 (ipykernel)",
   "language": "python",
   "name": "python3"
  },
  "language_info": {
   "codemirror_mode": {
    "name": "ipython",
    "version": 3
   },
   "file_extension": ".py",
   "mimetype": "text/x-python",
   "name": "python",
   "nbconvert_exporter": "python",
   "pygments_lexer": "ipython3",
   "version": "3.10.9"
  }
 },
 "nbformat": 4,
 "nbformat_minor": 5
}
