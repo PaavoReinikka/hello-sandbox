{
 "cells": [
  {
   "cell_type": "code",
   "execution_count": 2,
   "id": "386a4ed3",
   "metadata": {},
   "outputs": [],
   "source": [
    "import numpy as np\n",
    "import pandas as pd\n",
    "import matplotlib.pyplot as plt\n",
    "from sklearn.decomposition import PCA\n",
    "from sklearn.preprocessing import LabelEncoder\n",
    "from sklearn.manifold import TSNE\n",
    "from sklearn.discriminant_analysis import LinearDiscriminantAnalysis\n",
    "from sklearn.linear_model import LogisticRegression\n",
    "\n",
    "from sklearn.model_selection import cross_validate\n",
    "from sklearn.model_selection import LeaveOneOut\n",
    "from sklearn.model_selection import LeavePOut\n",
    "from sklearn.model_selection import cross_val_score\n",
    "from sklearn.cross_decomposition import PLSRegression"
   ]
  },
  {
   "cell_type": "code",
   "execution_count": 40,
   "id": "48ece6da",
   "metadata": {},
   "outputs": [],
   "source": [
    "def get_feature_matrix(masstime, data, significant=True):\n",
    "    if not significant:\n",
    "        return data.iloc[3:,8:].to_numpy(dtype=float).T\n",
    "    inds=[]\n",
    "    for i in range(3,data.shape[0]):\n",
    "        mt=data.iloc[i,4] + '@' + data.iloc[i,5]\n",
    "        if mt in masstime:\n",
    "            inds.append(i)\n",
    "    inds=np.unique(np.asarray(inds, dtype=int))\n",
    "    return data.iloc[inds,8:].to_numpy(dtype=float).T\n",
    "\n",
    "def get_features(masstime, data, significant=True):\n",
    "    if not significant:\n",
    "        return data\n",
    "    inds=[0,1,2]\n",
    "    for i in range(3,data.shape[0]):\n",
    "        mt=data.iloc[i,4] + '@' + data.iloc[i,5]\n",
    "        if mt in masstime:\n",
    "            inds.append(i)\n",
    "    inds=np.unique(np.asarray(inds, dtype=int))\n",
    "    return data.iloc[inds,:]\n",
    "\n",
    "\n",
    "def get_ids(data):\n",
    "    ID=[]\n",
    "    for line in data.iloc[2,8:]:\n",
    "        ID.append(line.split('_')[-1].split('.')[0])\n",
    "    return np.array(ID)\n",
    "\n",
    "def add_noise(x, magnitude):\n",
    "    return x + np.random.normal(0,magnitude, x.shape)\n",
    "\n",
    "def make_oneWay_design(covariates):\n",
    "    LE = LabelEncoder()\n",
    "    codes = LE.fit_transform(covariates)\n",
    "    levels = np.unique(codes)\n",
    "    k = len(levels)\n",
    "    n = len(codes)\n",
    "    \n",
    "    design = np.zeros((n,k))\n",
    "    mapping = []\n",
    "    for j in range(k):\n",
    "        for i in range(n):\n",
    "            mapping.append(levels[j])\n",
    "            design[i,j] = (codes[i]==levels[j])\n",
    "            \n",
    "    return design, LE.inverse_transform(levels)"
   ]
  },
  {
   "cell_type": "code",
   "execution_count": 81,
   "id": "fb78a335",
   "metadata": {},
   "outputs": [
    {
     "data": {
      "text/plain": [
       "['cellshilicneg_log2.csvALPHA0.05FC1.0MINVAR0.125.csv',\n",
       " 'cellshilicpos_log2.csvALPHA0.05FC1.0MINVAR0.125.csv',\n",
       " 'cellslipidomicsneg_log2.csvALPHA0.05FC1.0MINVAR0.125.csv',\n",
       " 'cellslipidomicspos_log2.csvALPHA0.05FC1.0MINVAR0.125.csv',\n",
       " 'cellsRPneg_log2.csvALPHA0.05FC1.0MINVAR0.125.csv',\n",
       " 'cellsRPpos_log2.csvALPHA0.05FC1.0MINVAR0.125.csv',\n",
       " 'mediumHILICneg_log2.csvALPHA0.05FC1.0MINVAR0.125.csv',\n",
       " 'mediumHILICpos_log2.csvALPHA0.05FC1.0MINVAR0.125.csv',\n",
       " 'mediumRPneg_log2.csvALPHA0.05FC1.0MINVAR0.125.csv',\n",
       " 'mediumRPpos_log2.csvALPHA0.05FC1.0MINVAR0.125.csv']"
      ]
     },
     "execution_count": 81,
     "metadata": {},
     "output_type": "execute_result"
    }
   ],
   "source": [
    "path_s = \"../../PDproj/cellresults/ttest/ALPHA0.05FC1.0MINVAR0.125/\"\n",
    "filenames_s = [line.split('\\n')[0] for line in open(path_s + \"filenames.txt\")]\n",
    "filenames_s"
   ]
  },
  {
   "cell_type": "code",
   "execution_count": 105,
   "id": "85920aad",
   "metadata": {},
   "outputs": [
    {
     "data": {
      "text/plain": [
       "['cellshilicnegALPHA0.05FC1.0MINVAR0.125.csv',\n",
       " 'cellshilicposALPHA0.05FC1.0MINVAR0.125.csv',\n",
       " 'cellslipidnegALPHA0.05FC1.0MINVAR0.125.csv',\n",
       " 'cellslipidposALPHA0.05FC1.0MINVAR0.125.csv',\n",
       " 'cellsRPnegALPHA0.05FC1.0MINVAR0.125.csv',\n",
       " 'cellsRPposALPHA0.05FC1.0MINVAR0.125.csv',\n",
       " 'mediumhilicnegALPHA0.05FC1.0MINVAR0.125.csv',\n",
       " 'mediumhilicposALPHA0.05FC1.0MINVAR0.125.csv',\n",
       " 'mediumRPnegALPHA0.05FC1.0MINVAR0.125.csv',\n",
       " 'mediumRPposALPHA0.05FC1.0MINVAR0.125.csv']"
      ]
     },
     "execution_count": 105,
     "metadata": {},
     "output_type": "execute_result"
    }
   ],
   "source": [
    "path_s2 = \"../../PDproj/cellresults/ttest/withGF/ALPHA0.05FC1.0MINVAR0.125/\"\n",
    "filenames_s2 = [line.split('\\n')[0] for line in open(path_s2 + \"filenames.txt\")]\n",
    "filenames_s2"
   ]
  },
  {
   "cell_type": "code",
   "execution_count": 106,
   "id": "e5dc0a69",
   "metadata": {},
   "outputs": [
    {
     "data": {
      "text/plain": [
       "['cellshilicneg_log2.csv',\n",
       " 'cellshilicpos_log2.csv',\n",
       " 'cellslipidomicsneg_log2.csv',\n",
       " 'cellslipidomicspos_log2.csv',\n",
       " 'cellsRPneg_log2.csv',\n",
       " 'cellsRPpos_log2.csv',\n",
       " 'mediumHILICneg_log2.csv',\n",
       " 'mediumHILICpos_log2.csv',\n",
       " 'mediumRPneg_log2.csv',\n",
       " 'mediumRPpos_log2.csv']"
      ]
     },
     "execution_count": 106,
     "metadata": {},
     "output_type": "execute_result"
    }
   ],
   "source": [
    "path = \"../../PDproj/celldata/clean/\"\n",
    "filenames = [line.split('\\n')[0] for line in open(path + \"filenames.txt\")]\n",
    "filenames"
   ]
  },
  {
   "cell_type": "code",
   "execution_count": 107,
   "id": "67b45865",
   "metadata": {},
   "outputs": [],
   "source": [
    "fnum=2 # 2 is good example\n",
    "data = pd.read_csv(path + filenames[fnum], sep=';', header=None)\n",
    "tle = filenames[fnum].split('_')[0]\n",
    "df = pd.read_csv(path_s + filenames_s[fnum],sep=';')\n",
    "df_GF = pd.read_csv(path_s2 + filenames_s2[fnum],sep=';')"
   ]
  },
  {
   "cell_type": "code",
   "execution_count": 108,
   "id": "beaee1ae",
   "metadata": {},
   "outputs": [
    {
     "name": "stdout",
     "output_type": "stream",
     "text": [
      "cellslipidomicsneg_log2.csv\n",
      "cellslipidomicsneg_log2.csvALPHA0.05FC1.0MINVAR0.125.csv\n",
      "cellslipidnegALPHA0.05FC1.0MINVAR0.125.csv\n"
     ]
    }
   ],
   "source": [
    "print(filenames[fnum])\n",
    "print(filenames_s[fnum])\n",
    "print(filenames_s2[fnum])"
   ]
  },
  {
   "cell_type": "markdown",
   "id": "514cb4d4",
   "metadata": {},
   "source": [
    "### Get significant features with GAP status"
   ]
  },
  {
   "cell_type": "code",
   "execution_count": 103,
   "id": "023fc452",
   "metadata": {},
   "outputs": [
    {
     "name": "stdout",
     "output_type": "stream",
     "text": [
      "cellslipidnegGFstatus.csv\n",
      "cellslipidnegALPHA0.05FC1.0MINVAR0.125.csv\n"
     ]
    }
   ],
   "source": [
    "fnum=2\n",
    "pathGF = \"../../PDproj/celldata/datawithGFstatus/clean/\"\n",
    "filenamesGF = [line.split('\\n')[0] for line in open(pathGF + \"filenames.txt\")]\n",
    "print(filenamesGF[fnum])\n",
    "data = pd.read_csv(pathGF + filenamesGF[fnum],sep=';', header=None)\n",
    "\n",
    "path_s2 = \"../../PDproj/cellresults/ttest/withGF/ALPHA0.05FC1.0MINVAR0.125/\"\n",
    "filenames_s2 = [line.split('\\n')[0] for line in open(path_s2 + \"filenames.txt\")]\n",
    "print(filenames_s2[fnum])\n",
    "df_select = pd.read_csv(path_s2 + filenames_s2[fnum],sep=';')\n",
    "\n",
    "masstime = np.unique(df_select[' masstime'].to_numpy())\n",
    "GF=get_features(masstime, data, True)\n",
    "GFcols = [i for i in range(0,GF.shape[1]) if i not in np.arange(8,88)]\n",
    "GF=GF.iloc[:,GFcols]\n",
    "Area = GF.iloc[3:,8:48]\n",
    "Area_all = data.iloc[3:,8:48]\n",
    "groups = data.iloc[0,8:48]\n",
    "LE = LabelEncoder()\n",
    "labels = LE.fit_transform(groups)"
   ]
  },
  {
   "cell_type": "code",
   "execution_count": 91,
   "id": "5c1c0877",
   "metadata": {},
   "outputs": [],
   "source": [
    "design, levels = make_oneWay_design(groups)"
   ]
  },
  {
   "cell_type": "code",
   "execution_count": 94,
   "id": "96f63aeb",
   "metadata": {},
   "outputs": [],
   "source": [
    "x=Area_all.to_numpy().T\n",
    "#feats = x[:,np.random.choice(np.arange(x.shape[1]),40)]\n",
    "feats = PCA(n_components=20).fit_transform(x) \n",
    "#feats = x"
   ]
  },
  {
   "cell_type": "code",
   "execution_count": 95,
   "id": "8725f59c",
   "metadata": {},
   "outputs": [
    {
     "data": {
      "text/plain": [
       "0.675"
      ]
     },
     "execution_count": 95,
     "metadata": {},
     "output_type": "execute_result"
    }
   ],
   "source": [
    "logreg = LogisticRegression(penalty='elasticnet', solver='saga', l1_ratio=1,C=0.1).fit(feats, labels)\n",
    "logreg.score(feats, labels)"
   ]
  },
  {
   "cell_type": "code",
   "execution_count": 96,
   "id": "68e8e242",
   "metadata": {},
   "outputs": [
    {
     "data": {
      "text/plain": [
       "0.675"
      ]
     },
     "execution_count": 96,
     "metadata": {},
     "output_type": "execute_result"
    }
   ],
   "source": [
    "logreg.score(feats, labels)"
   ]
  },
  {
   "cell_type": "code",
   "execution_count": 97,
   "id": "a5e4d57d",
   "metadata": {},
   "outputs": [
    {
     "name": "stderr",
     "output_type": "stream",
     "text": [
      "/opt/software/lib/python3.9/site-packages/sklearn/manifold/_t_sne.py:780: FutureWarning: The default initialization in TSNE will change from 'random' to 'pca' in 1.2.\n",
      "  warnings.warn(\n",
      "/opt/software/lib/python3.9/site-packages/sklearn/manifold/_t_sne.py:790: FutureWarning: The default learning rate in TSNE will change from 200.0 to 'auto' in 1.2.\n",
      "  warnings.warn(\n"
     ]
    }
   ],
   "source": [
    "tsne=TSNE().fit_transform(feats)"
   ]
  },
  {
   "cell_type": "code",
   "execution_count": 98,
   "id": "1778efcd",
   "metadata": {},
   "outputs": [
    {
     "data": {
      "text/plain": [
       "<matplotlib.collections.PathCollection at 0x7f209bead730>"
      ]
     },
     "execution_count": 98,
     "metadata": {},
     "output_type": "execute_result"
    },
    {
     "data": {
      "image/png": "[encoded data removed]",
      "text/plain": [
       "<Figure size 432x288 with 1 Axes>"
      ]
     },
     "metadata": {
      "needs_background": "light"
     },
     "output_type": "display_data"
    }
   ],
   "source": [
    "plt.scatter(tsne[:,0],tsne[:,1],c=labels,marker='s', alpha=0.2)\n",
    "plt.scatter(tsne[:,0],tsne[:,1],c=logreg.predict(feats),marker='*')"
   ]
  },
  {
   "cell_type": "markdown",
   "id": "1d92e217",
   "metadata": {},
   "source": [
    "### Check GAP fill patterns"
   ]
  },
  {
   "cell_type": "code",
   "execution_count": 290,
   "id": "b698b680",
   "metadata": {},
   "outputs": [],
   "source": [
    "aSYN=GF.iloc[:,8:18]\n",
    "comb=GF.iloc[:,18:28]\n",
    "INFg=GF.iloc[:,28:38]\n",
    "UT=GF.iloc[:,38:]"
   ]
  },
  {
   "cell_type": "code",
   "execution_count": 291,
   "id": "84d0fa84",
   "metadata": {},
   "outputs": [],
   "source": [
    "tol=10\n",
    "token=8\n",
    "inds=[]\n",
    "ls=['aSYN','comb','INFg','UT']\n",
    "for k, group in enumerate([aSYN,comb,INFg,UT]):\n",
    "    for i in range(3,group.shape[0]):\n",
    "        arr=np.asarray(group.iloc[i,:], dtype=int)\n",
    "        s=np.sum(arr==token)\n",
    "        if s>=tol:\n",
    "            inds.append((ls[k],i))"
   ]
  },
  {
   "cell_type": "markdown",
   "id": "bc5e1e34",
   "metadata": {},
   "source": [
    "### Get significant features by matching masstimes"
   ]
  },
  {
   "cell_type": "code",
   "execution_count": 89,
   "id": "eb413f03",
   "metadata": {},
   "outputs": [
    {
     "data": {
      "text/html": [
       "<div>\n",
       "<style scoped>\n",
       "    .dataframe tbody tr th:only-of-type {\n",
       "        vertical-align: middle;\n",
       "    }\n",
       "\n",
       "    .dataframe tbody tr th {\n",
       "        vertical-align: top;\n",
       "    }\n",
       "\n",
       "    .dataframe thead th {\n",
       "        text-align: right;\n",
       "    }\n",
       "</style>\n",
       "<table border=\"1\" class=\"dataframe\">\n",
       "  <thead>\n",
       "    <tr style=\"text-align: right;\">\n",
       "      <th></th>\n",
       "      <th>0</th>\n",
       "      <th>1</th>\n",
       "      <th>2</th>\n",
       "      <th>3</th>\n",
       "      <th>4</th>\n",
       "      <th>5</th>\n",
       "      <th>6</th>\n",
       "      <th>7</th>\n",
       "      <th>8</th>\n",
       "      <th>9</th>\n",
       "      <th>...</th>\n",
       "      <th>118</th>\n",
       "      <th>119</th>\n",
       "      <th>120</th>\n",
       "      <th>121</th>\n",
       "      <th>122</th>\n",
       "      <th>123</th>\n",
       "      <th>124</th>\n",
       "      <th>125</th>\n",
       "      <th>126</th>\n",
       "      <th>127</th>\n",
       "    </tr>\n",
       "  </thead>\n",
       "  <tbody>\n",
       "    <tr>\n",
       "      <th>0</th>\n",
       "      <td>NaN</td>\n",
       "      <td>NaN</td>\n",
       "      <td>NaN</td>\n",
       "      <td>NaN</td>\n",
       "      <td>NaN</td>\n",
       "      <td>NaN</td>\n",
       "      <td>NaN</td>\n",
       "      <td>NaN</td>\n",
       "      <td>aSYN</td>\n",
       "      <td>aSYN</td>\n",
       "      <td>...</td>\n",
       "      <td>NaN</td>\n",
       "      <td>NaN</td>\n",
       "      <td>NaN</td>\n",
       "      <td>NaN</td>\n",
       "      <td>NaN</td>\n",
       "      <td>NaN</td>\n",
       "      <td>NaN</td>\n",
       "      <td>NaN</td>\n",
       "      <td>NaN</td>\n",
       "      <td>NaN</td>\n",
       "    </tr>\n",
       "    <tr>\n",
       "      <th>1</th>\n",
       "      <td>NaN</td>\n",
       "      <td>NaN</td>\n",
       "      <td>NaN</td>\n",
       "      <td>NaN</td>\n",
       "      <td>NaN</td>\n",
       "      <td>NaN</td>\n",
       "      <td>NaN</td>\n",
       "      <td>NaN</td>\n",
       "      <td>5</td>\n",
       "      <td>9</td>\n",
       "      <td>...</td>\n",
       "      <td>NaN</td>\n",
       "      <td>NaN</td>\n",
       "      <td>NaN</td>\n",
       "      <td>NaN</td>\n",
       "      <td>NaN</td>\n",
       "      <td>NaN</td>\n",
       "      <td>NaN</td>\n",
       "      <td>NaN</td>\n",
       "      <td>NaN</td>\n",
       "      <td>NaN</td>\n",
       "    </tr>\n",
       "    <tr>\n",
       "      <th>2</th>\n",
       "      <td>Name</td>\n",
       "      <td>Formula</td>\n",
       "      <td>Annot. DeltaMass [ppm]</td>\n",
       "      <td>Calc. MW</td>\n",
       "      <td>m/z</td>\n",
       "      <td>RT [min]</td>\n",
       "      <td>MS2</td>\n",
       "      <td>Reference Ion</td>\n",
       "      <td>Area: 221005_SarkaLehtonen_Hilic_neg_0088.raw ...</td>\n",
       "      <td>Area: 221005_SarkaLehtonen_Hilic_neg_0092.raw ...</td>\n",
       "      <td>...</td>\n",
       "      <td>Gap Fill Status: 221005_SarkaLehtonen_Hilic_ne...</td>\n",
       "      <td>Gap Fill Status: 221005_SarkaLehtonen_Hilic_ne...</td>\n",
       "      <td>Gap Fill Status: 221005_SarkaLehtonen_Hilic_ne...</td>\n",
       "      <td>Gap Fill Status: 221005_SarkaLehtonen_Hilic_ne...</td>\n",
       "      <td>Gap Fill Status: 221005_SarkaLehtonen_Hilic_ne...</td>\n",
       "      <td>Gap Fill Status: 221005_SarkaLehtonen_Hilic_ne...</td>\n",
       "      <td>Gap Fill Status: 221005_SarkaLehtonen_Hilic_ne...</td>\n",
       "      <td>Gap Fill Status: 221005_SarkaLehtonen_Hilic_ne...</td>\n",
       "      <td>Gap Fill Status: 221005_SarkaLehtonen_Hilic_ne...</td>\n",
       "      <td>Gap Fill Status: 221005_SarkaLehtonen_Hilic_ne...</td>\n",
       "    </tr>\n",
       "    <tr>\n",
       "      <th>3</th>\n",
       "      <td>NaN</td>\n",
       "      <td>NaN</td>\n",
       "      <td>NaN</td>\n",
       "      <td>58.98161</td>\n",
       "      <td>57.97433</td>\n",
       "      <td>0.488</td>\n",
       "      <td>No MS2</td>\n",
       "      <td>[M-H]-1</td>\n",
       "      <td>15.254605783169879</td>\n",
       "      <td>18.360317981857623</td>\n",
       "      <td>...</td>\n",
       "      <td>128</td>\n",
       "      <td>128</td>\n",
       "      <td>128</td>\n",
       "      <td>128</td>\n",
       "      <td>128</td>\n",
       "      <td>0</td>\n",
       "      <td>128</td>\n",
       "      <td>128</td>\n",
       "      <td>128</td>\n",
       "      <td>128</td>\n",
       "    </tr>\n",
       "    <tr>\n",
       "      <th>4</th>\n",
       "      <td>NaN</td>\n",
       "      <td>NaN</td>\n",
       "      <td>NaN</td>\n",
       "      <td>81.98079</td>\n",
       "      <td>80.97352</td>\n",
       "      <td>3.193</td>\n",
       "      <td>DDA for preferred ion</td>\n",
       "      <td>[M-H]-1</td>\n",
       "      <td>22.41036428087723</td>\n",
       "      <td>22.46497735819375</td>\n",
       "      <td>...</td>\n",
       "      <td>0</td>\n",
       "      <td>0</td>\n",
       "      <td>0</td>\n",
       "      <td>0</td>\n",
       "      <td>0</td>\n",
       "      <td>0</td>\n",
       "      <td>0</td>\n",
       "      <td>0</td>\n",
       "      <td>0</td>\n",
       "      <td>0</td>\n",
       "    </tr>\n",
       "  </tbody>\n",
       "</table>\n",
       "<p>5 rows × 128 columns</p>\n",
       "</div>"
      ],
      "text/plain": [
       "    0        1                       2         3         4         5    \\\n",
       "0   NaN      NaN                     NaN       NaN       NaN       NaN   \n",
       "1   NaN      NaN                     NaN       NaN       NaN       NaN   \n",
       "2  Name  Formula  Annot. DeltaMass [ppm]  Calc. MW       m/z  RT [min]   \n",
       "3   NaN      NaN                     NaN  58.98161  57.97433     0.488   \n",
       "4   NaN      NaN                     NaN  81.98079  80.97352     3.193   \n",
       "\n",
       "                     6              7    \\\n",
       "0                    NaN            NaN   \n",
       "1                    NaN            NaN   \n",
       "2                    MS2  Reference Ion   \n",
       "3                 No MS2        [M-H]-1   \n",
       "4  DDA for preferred ion        [M-H]-1   \n",
       "\n",
       "                                                 8    \\\n",
       "0                                               aSYN   \n",
       "1                                                  5   \n",
       "2  Area: 221005_SarkaLehtonen_Hilic_neg_0088.raw ...   \n",
       "3                                 15.254605783169879   \n",
       "4                                  22.41036428087723   \n",
       "\n",
       "                                                 9    ...  \\\n",
       "0                                               aSYN  ...   \n",
       "1                                                  9  ...   \n",
       "2  Area: 221005_SarkaLehtonen_Hilic_neg_0092.raw ...  ...   \n",
       "3                                 18.360317981857623  ...   \n",
       "4                                  22.46497735819375  ...   \n",
       "\n",
       "                                                 118  \\\n",
       "0                                                NaN   \n",
       "1                                                NaN   \n",
       "2  Gap Fill Status: 221005_SarkaLehtonen_Hilic_ne...   \n",
       "3                                                128   \n",
       "4                                                  0   \n",
       "\n",
       "                                                 119  \\\n",
       "0                                                NaN   \n",
       "1                                                NaN   \n",
       "2  Gap Fill Status: 221005_SarkaLehtonen_Hilic_ne...   \n",
       "3                                                128   \n",
       "4                                                  0   \n",
       "\n",
       "                                                 120  \\\n",
       "0                                                NaN   \n",
       "1                                                NaN   \n",
       "2  Gap Fill Status: 221005_SarkaLehtonen_Hilic_ne...   \n",
       "3                                                128   \n",
       "4                                                  0   \n",
       "\n",
       "                                                 121  \\\n",
       "0                                                NaN   \n",
       "1                                                NaN   \n",
       "2  Gap Fill Status: 221005_SarkaLehtonen_Hilic_ne...   \n",
       "3                                                128   \n",
       "4                                                  0   \n",
       "\n",
       "                                                 122  \\\n",
       "0                                                NaN   \n",
       "1                                                NaN   \n",
       "2  Gap Fill Status: 221005_SarkaLehtonen_Hilic_ne...   \n",
       "3                                                128   \n",
       "4                                                  0   \n",
       "\n",
       "                                                 123  \\\n",
       "0                                                NaN   \n",
       "1                                                NaN   \n",
       "2  Gap Fill Status: 221005_SarkaLehtonen_Hilic_ne...   \n",
       "3                                                  0   \n",
       "4                                                  0   \n",
       "\n",
       "                                                 124  \\\n",
       "0                                                NaN   \n",
       "1                                                NaN   \n",
       "2  Gap Fill Status: 221005_SarkaLehtonen_Hilic_ne...   \n",
       "3                                                128   \n",
       "4                                                  0   \n",
       "\n",
       "                                                 125  \\\n",
       "0                                                NaN   \n",
       "1                                                NaN   \n",
       "2  Gap Fill Status: 221005_SarkaLehtonen_Hilic_ne...   \n",
       "3                                                128   \n",
       "4                                                  0   \n",
       "\n",
       "                                                 126  \\\n",
       "0                                                NaN   \n",
       "1                                                NaN   \n",
       "2  Gap Fill Status: 221005_SarkaLehtonen_Hilic_ne...   \n",
       "3                                                128   \n",
       "4                                                  0   \n",
       "\n",
       "                                                 127  \n",
       "0                                                NaN  \n",
       "1                                                NaN  \n",
       "2  Gap Fill Status: 221005_SarkaLehtonen_Hilic_ne...  \n",
       "3                                                128  \n",
       "4                                                  0  \n",
       "\n",
       "[5 rows x 128 columns]"
      ]
     },
     "execution_count": 89,
     "metadata": {},
     "output_type": "execute_result"
    }
   ],
   "source": [
    "data.head()"
   ]
  },
  {
   "cell_type": "code",
   "execution_count": 109,
   "id": "c158c44c",
   "metadata": {},
   "outputs": [],
   "source": [
    "masstime = df[' masstime'].to_numpy()\n",
    "groups=data.iloc[0,8:]\n",
    "labels = LabelEncoder().fit_transform(groups)\n",
    "ID=get_ids(data)\n",
    "x=get_feature_matrix(masstime, data, True)\n",
    "#x=Area.T\n",
    "assert(x.shape[0]==40)"
   ]
  },
  {
   "cell_type": "code",
   "execution_count": 110,
   "id": "df9c580f",
   "metadata": {},
   "outputs": [],
   "source": [
    "model = PLSRegression().fit(x,design)"
   ]
  },
  {
   "cell_type": "code",
   "execution_count": 111,
   "id": "5a733d65",
   "metadata": {},
   "outputs": [],
   "source": [
    "pls = model.transform(x)"
   ]
  },
  {
   "cell_type": "code",
   "execution_count": 122,
   "id": "8692283e",
   "metadata": {},
   "outputs": [],
   "source": [
    "lds=model.x_loadings_"
   ]
  },
  {
   "cell_type": "code",
   "execution_count": 123,
   "id": "3216770c",
   "metadata": {},
   "outputs": [
    {
     "data": {
      "text/plain": [
       "<matplotlib.collections.PathCollection at 0x7f2099df5c70>"
      ]
     },
     "execution_count": 123,
     "metadata": {},
     "output_type": "execute_result"
    },
    {
     "data": {
      "image/png": "[encoded data removed]",
      "text/plain": [
       "<Figure size 432x288 with 1 Axes>"
      ]
     },
     "metadata": {
      "needs_background": "light"
     },
     "output_type": "display_data"
    }
   ],
   "source": [
    "plt.scatter(lds[:,0],lds[:,1])"
   ]
  },
  {
   "cell_type": "code",
   "execution_count": 112,
   "id": "5bda11e7",
   "metadata": {},
   "outputs": [
    {
     "data": {
      "text/plain": [
       "<matplotlib.legend.Legend at 0x7f20a35a7d30>"
      ]
     },
     "execution_count": 112,
     "metadata": {},
     "output_type": "execute_result"
    },
    {
     "data": {
      "image/png": "[encoded data removed]",
      "text/plain": [
       "<Figure size 936x936 with 1 Axes>"
      ]
     },
     "metadata": {
      "needs_background": "light"
     },
     "output_type": "display_data"
    }
   ],
   "source": [
    "k=1\n",
    "fig, ax = plt.subplots(figsize=(13,13))\n",
    "ax.scatter(pls[:10,0],pls[:10,k], marker='^', c='red', s=100)\n",
    "ax.scatter(pls[10:20,0],pls[10:20,k], marker='o', c='blue', s=100)\n",
    "ax.scatter(pls[20:30,0],pls[20:30,k], marker='v', c='green', s=100)\n",
    "ax.scatter(pls[30:,0],pls[30:,k], marker='s', c='gold', s=100)\n",
    "ax.legend(['aSYN','comb.','INFg','UT'], fontsize=15)\n"
   ]
  },
  {
   "cell_type": "code",
   "execution_count": 113,
   "id": "f5f5c3ff",
   "metadata": {},
   "outputs": [],
   "source": [
    "pca = PCA().fit_transform(x)\n",
    "pca = add_noise(pca, 1)"
   ]
  },
  {
   "cell_type": "code",
   "execution_count": 114,
   "id": "625d6ba5",
   "metadata": {},
   "outputs": [
    {
     "data": {
      "image/png": "[encoded data removed]",
      "text/plain": [
       "<Figure size 936x936 with 1 Axes>"
      ]
     },
     "metadata": {
      "needs_background": "light"
     },
     "output_type": "display_data"
    }
   ],
   "source": [
    "SAVE=False\n",
    "k=1\n",
    "fig, ax = plt.subplots(figsize=(13,13))\n",
    "ax.scatter(pca[:10,0],pca[:10,k], marker='^', c='red', s=100)\n",
    "ax.scatter(pca[10:20,0],pca[10:20,k], marker='o', c='blue', s=100)\n",
    "ax.scatter(pca[20:30,0],pca[20:30,k], marker='v', c='green', s=100)\n",
    "ax.scatter(pca[30:,0],pca[30:,k], marker='s', c='gold', s=100)\n",
    "ax.legend(['aSYN','comb.','INFg','UT'], fontsize=15)\n",
    "\n",
    "for i, txt in enumerate(ID):\n",
    "    ax.annotate(txt, (pca[i,0], pca[i,k]),fontsize=12)\n",
    "plt.xlabel('PC 1', fontsize=25)\n",
    "plt.ylabel('PC {}'.format(k+1), fontsize=25)\n",
    "plt.title(tle, fontsize=20)\n",
    "plt.show()\n",
    "\n",
    "if SAVE:\n",
    "    fig.savefig('../../PDproj/paavo/plots/pca/eps/{}.eps'.format(tle))\n",
    "    fig.savefig('../../PDproj/paavo/plots/pca/tifs/{}.tif'.format(tle))\n",
    "    fig.savefig('../../PDproj/paavo/plots/pca/jpeg/{}.jpg'.format(tle))"
   ]
  },
  {
   "cell_type": "code",
   "execution_count": null,
   "id": "3a6102b5",
   "metadata": {},
   "outputs": [],
   "source": []
  },
  {
   "cell_type": "code",
   "execution_count": null,
   "id": "fc8ad30e",
   "metadata": {},
   "outputs": [],
   "source": []
  },
  {
   "cell_type": "code",
   "execution_count": null,
   "id": "fe33338f",
   "metadata": {},
   "outputs": [],
   "source": []
  },
  {
   "cell_type": "code",
   "execution_count": null,
   "id": "60741d2c",
   "metadata": {},
   "outputs": [],
   "source": []
  }
 ],
 "metadata": {
  "kernelspec": {
   "display_name": "Python 3",
   "language": "python",
   "name": "python3"
  },
  "language_info": {
   "codemirror_mode": {
    "name": "ipython",
    "version": 3
   },
   "file_extension": ".py",
   "mimetype": "text/x-python",
   "name": "python",
   "nbconvert_exporter": "python",
   "pygments_lexer": "ipython3",
   "version": "3.9.16"
  }
 },
 "nbformat": 4,
 "nbformat_minor": 5
}
