{
 "cells": [
  {
   "cell_type": "code",
   "execution_count": 120,
   "id": "31971156",
   "metadata": {},
   "outputs": [],
   "source": [
    "import numpy as np\n",
    "from numpy import linalg as la\n",
    "import pandas as pd\n",
    "from scipy.stats import *\n",
    "from scipy.linalg import block_diag\n",
    "\n",
    "import matplotlib.pyplot as plt"
   ]
  },
  {
   "cell_type": "code",
   "execution_count": 145,
   "id": "0aeea84c",
   "metadata": {},
   "outputs": [],
   "source": [
    "def nearestPD(A):\n",
    "    \"\"\"Find the nearest positive-definite matrix to input\n",
    "\n",
    "    A Python/Numpy port of John D'Errico's `nearestSPD` MATLAB code [1], which\n",
    "    credits [2].\n",
    "\n",
    "    [1] https://www.mathworks.com/matlabcentral/fileexchange/42885-nearestspd\n",
    "\n",
    "    [2] N.J. Higham, \"Computing a nearest symmetric positive semidefinite\n",
    "    matrix\" (1988): https://doi.org/10.1016/0024-3795(88)90223-6\n",
    "    \"\"\"\n",
    "\n",
    "    B = (A + A.T) / 2\n",
    "    _, s, V = la.svd(B)\n",
    "\n",
    "    H = np.dot(V.T, np.dot(np.diag(s), V))\n",
    "\n",
    "    A2 = (B + H) / 2\n",
    "\n",
    "    A3 = (A2 + A2.T) / 2\n",
    "\n",
    "    if isPD(A3):\n",
    "        return A3\n",
    "\n",
    "    spacing = np.spacing(la.norm(A))\n",
    "    # The above is different from [1]. It appears that MATLAB's `chol` Cholesky\n",
    "    # decomposition will accept matrixes with exactly 0-eigenvalue, whereas\n",
    "    # Numpy's will not. So where [1] uses `eps(mineig)` (where `eps` is Matlab\n",
    "    # for `np.spacing`), we use the above definition. CAVEAT: our `spacing`\n",
    "    # will be much larger than [1]'s `eps(mineig)`, since `mineig` is usually on\n",
    "    # the order of 1e-16, and `eps(1e-16)` is on the order of 1e-34, whereas\n",
    "    # `spacing` will, for Gaussian random matrixes of small dimension, be on\n",
    "    # othe order of 1e-16. In practice, both ways converge, as the unit test\n",
    "    # below suggests.\n",
    "    \n",
    "    I = np.eye(A.shape[0])\n",
    "    k = 1\n",
    "    while not isPD(A3):\n",
    "        mineig = np.min(np.real(la.eigvals(A3)))\n",
    "        A3 += I * (-mineig * k**2 + spacing)\n",
    "        k += 1\n",
    "\n",
    "    return A3\n",
    "\n",
    "\n",
    "def isPD(B):\n",
    "    \"\"\"Returns true when input is positive-definite, via Cholesky\"\"\"\n",
    "    try:\n",
    "        _ = la.cholesky(B)\n",
    "        return True\n",
    "    except la.LinAlgError:\n",
    "        return False\n",
    "\n",
    "\n",
    "def make_block_covariance(n, n_eff, rho):\n",
    "    assert(n>=n_eff)\n",
    "    \n",
    "    s = np.random.gamma(1, 1, n_eff)\n",
    "    blocksize = int(np.floor(n/n_eff))\n",
    "    blocks=[]\n",
    "    \n",
    "    for i in range(0,n_eff):\n",
    "        block = np.ones((blocksize,blocksize))*rho\n",
    "        np.fill_diagonal(block,s[i]*np.ones((block.shape[0],)))\n",
    "        blocks.append(block)\n",
    "        \n",
    "    return nearestPD(block_diag(*blocks))\n",
    "    \n",
    "def correlated_null_samples(n_samples, covariance):\n",
    "    m = np.zeros((covariance.shape[0],))    \n",
    "    return np.random.multivariate_normal(m, covariance, n_samples).T\n",
    "    "
   ]
  },
  {
   "cell_type": "code",
   "execution_count": null,
   "id": "ba565dfd",
   "metadata": {},
   "outputs": [],
   "source": [
    "np.one"
   ]
  },
  {
   "cell_type": "code",
   "execution_count": 59,
   "id": "b8108ab3",
   "metadata": {},
   "outputs": [
    {
     "data": {
      "text/plain": [
       "3.0"
      ]
     },
     "execution_count": 59,
     "metadata": {},
     "output_type": "execute_result"
    }
   ],
   "source": [
    "np.floor(6/2)"
   ]
  },
  {
   "cell_type": "code",
   "execution_count": null,
   "id": "ae3cf04f",
   "metadata": {},
   "outputs": [],
   "source": [
    "stats.ttest_ind(data_group1, data_group2, equal_var = False)"
   ]
  },
  {
   "cell_type": "code",
   "execution_count": 24,
   "id": "5dbe75f3",
   "metadata": {},
   "outputs": [
    {
     "data": {
      "text/plain": [
       "array([[2., 1.],\n",
       "       [1., 3.]])"
      ]
     },
     "execution_count": 24,
     "metadata": {},
     "output_type": "execute_result"
    }
   ],
   "source": [
    "tmp=np.ones((2,2))\n",
    "np.fill_diagonal(tmp,[2,3])\n",
    "tmp"
   ]
  },
  {
   "cell_type": "code",
   "execution_count": 196,
   "id": "6b7ed7ec",
   "metadata": {},
   "outputs": [],
   "source": [
    "n=1000\n",
    "n_eff=100\n",
    "COV = make_block_covariance(n,n_eff,0.8)"
   ]
  },
  {
   "cell_type": "code",
   "execution_count": 199,
   "id": "707b2244",
   "metadata": {},
   "outputs": [],
   "source": [
    "cov = np.eye(COV.shape[0])"
   ]
  },
  {
   "cell_type": "code",
   "execution_count": 201,
   "id": "6edca179",
   "metadata": {},
   "outputs": [],
   "source": [
    "cov=COV"
   ]
  },
  {
   "cell_type": "code",
   "execution_count": 209,
   "id": "a5affdfb",
   "metadata": {},
   "outputs": [
    {
     "data": {
      "image/png": "[encoded data removed]",
      "text/plain": [
       "<Figure size 640x480 with 1 Axes>"
      ]
     },
     "metadata": {},
     "output_type": "display_data"
    }
   ],
   "source": [
    "sample=correlated_null_samples(40,cov)\n",
    "X = sample[:,:20]\n",
    "Y = sample[:,20:]\n",
    "pvalues=np.zeros((n,))\n",
    "for i in range(n):\n",
    "    test=ttest_ind(X[i,:], Y[i,:], equal_var = False)\n",
    "    pvalues[i]=test.pvalue\n",
    "\n",
    "plt.hist(pvalues)\n",
    "plt.show()    "
   ]
  },
  {
   "cell_type": "code",
   "execution_count": null,
   "id": "756be661",
   "metadata": {},
   "outputs": [],
   "source": []
  }
 ],
 "metadata": {
  "kernelspec": {
   "display_name": "Python 3 (ipykernel)",
   "language": "python",
   "name": "python3"
  },
  "language_info": {
   "codemirror_mode": {
    "name": "ipython",
    "version": 3
   },
   "file_extension": ".py",
   "mimetype": "text/x-python",
   "name": "python",
   "nbconvert_exporter": "python",
   "pygments_lexer": "ipython3",
   "version": "3.10.9"
  }
 },
 "nbformat": 4,
 "nbformat_minor": 5
}
