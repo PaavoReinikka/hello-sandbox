{
 "cells": [
  {
   "cell_type": "code",
   "execution_count": null,
   "id": "8dc4a1fe",
   "metadata": {},
   "outputs": [],
   "source": [
    "import numpy as np\n",
    "import pandas as pd\n",
    "from scipy import stats\n",
    "\n",
    "from scipy.cluster import hierarchy\n",
    "from sklearn.preprocessing import StandardScaler, MinMaxScaler\n",
    "from sklearn.decomposition import PCA\n",
    "from scipy.spatial.distance import pdist, squareform"
   ]
  },
  {
   "cell_type": "code",
   "execution_count": null,
   "id": "ce2545d6",
   "metadata": {},
   "outputs": [],
   "source": [
    "def get_feature_matrix(masstime, data, significant=True):\n",
    "    if not significant:\n",
    "        return data.iloc[3:,8:].to_numpy(dtype=float).T\n",
    "    inds=[]\n",
    "    for i in range(3,data.shape[0]):\n",
    "        mt=data.iloc[i,4] + '@' + data.iloc[i,5]\n",
    "        if mt in masstime:\n",
    "            inds.append(i)\n",
    "    inds=np.unique(np.asarray(inds, dtype=int))\n",
    "    return data.iloc[inds,8:].to_numpy(dtype=float).T\n",
    "\n",
    "def get_features(masstime, data, significant=True):\n",
    "    if not significant:\n",
    "        return data\n",
    "    inds=[0,1,2]\n",
    "    for i in range(3,data.shape[0]):\n",
    "        mt=data.iloc[i,4] + '@' + data.iloc[i,5]\n",
    "        if mt in masstime:\n",
    "            inds.append(i)\n",
    "    inds=np.unique(np.asarray(inds, dtype=int))\n",
    "    return data.iloc[inds,:]\n",
    "\n",
    "\n",
    "def get_ids(data):\n",
    "    ID=[]\n",
    "    for line in data.iloc[2,8:]:\n",
    "        ID.append(line.split('_')[-1].split('.')[0])\n",
    "    return np.array(ID)\n",
    "\n",
    "def add_noise(x, magnitude):\n",
    "    return x + np.random.normal(0,magnitude, x.shape)"
   ]
  },
  {
   "cell_type": "code",
   "execution_count": 1,
   "id": "a7521a71",
   "metadata": {},
   "outputs": [
    {
     "ename": "FileNotFoundError",
     "evalue": "[Errno 2] No such file or directory: '../../PDproj/celldata/datawithGFstatus/clean/filenames.txt'",
     "output_type": "error",
     "traceback": [
      "\u001b[0;31m---------------------------------------------------------------------------\u001b[0m",
      "\u001b[0;31mFileNotFoundError\u001b[0m                         Traceback (most recent call last)",
      "Input \u001b[0;32mIn [1]\u001b[0m, in \u001b[0;36m<cell line: 2>\u001b[0;34m()\u001b[0m\n\u001b[1;32m      1\u001b[0m pathGF \u001b[38;5;241m=\u001b[39m \u001b[38;5;124m\"\u001b[39m\u001b[38;5;124m../../PDproj/celldata/datawithGFstatus/clean/\u001b[39m\u001b[38;5;124m\"\u001b[39m\n\u001b[0;32m----> 2\u001b[0m filenamesGF \u001b[38;5;241m=\u001b[39m [line\u001b[38;5;241m.\u001b[39msplit(\u001b[38;5;124m'\u001b[39m\u001b[38;5;130;01m\\n\u001b[39;00m\u001b[38;5;124m'\u001b[39m)[\u001b[38;5;241m0\u001b[39m] \u001b[38;5;28;01mfor\u001b[39;00m line \u001b[38;5;129;01min\u001b[39;00m \u001b[38;5;28;43mopen\u001b[39;49m\u001b[43m(\u001b[49m\u001b[43mpathGF\u001b[49m\u001b[43m \u001b[49m\u001b[38;5;241;43m+\u001b[39;49m\u001b[43m \u001b[49m\u001b[38;5;124;43m\"\u001b[39;49m\u001b[38;5;124;43mfilenames.txt\u001b[39;49m\u001b[38;5;124;43m\"\u001b[39;49m\u001b[43m)\u001b[49m]\n\u001b[1;32m      3\u001b[0m \u001b[38;5;28mprint\u001b[39m(filenamesGF[fnum])\n\u001b[1;32m      4\u001b[0m data \u001b[38;5;241m=\u001b[39m pd\u001b[38;5;241m.\u001b[39mread_csv(pathGF \u001b[38;5;241m+\u001b[39m filenamesGF[fnum],sep\u001b[38;5;241m=\u001b[39m\u001b[38;5;124m'\u001b[39m\u001b[38;5;124m;\u001b[39m\u001b[38;5;124m'\u001b[39m, header\u001b[38;5;241m=\u001b[39m\u001b[38;5;28;01mNone\u001b[39;00m)\n",
      "\u001b[0;31mFileNotFoundError\u001b[0m: [Errno 2] No such file or directory: '../../PDproj/celldata/datawithGFstatus/clean/filenames.txt'"
     ]
    }
   ],
   "source": [
    "pathGF = \"../../PDproj/celldata/datawithGFstatus/clean/\"\n",
    "filenamesGF = [line.split('\\n')[0] for line in open(pathGF + \"filenames.txt\")]\n",
    "print(filenamesGF[fnum])\n",
    "data = pd.read_csv(pathGF + filenamesGF[fnum],sep=';', header=None)\n",
    "\n",
    "path_s2 = \"../../PDproj/cellresults/ttest/withGF/ALPHA0.05FC1.0MINVAR0.125/\"\n",
    "filenames_s2 = [line.split('\\n')[0] for line in open(path_s2 + \"filenames.txt\")]\n",
    "print(filenames_s2[fnum])\n",
    "df_select = pd.read_csv(path_s2 + filenames_s2[fnum],sep=';')"
   ]
  },
  {
   "cell_type": "code",
   "execution_count": 2,
   "id": "51f64e4c",
   "metadata": {},
   "outputs": [
    {
     "ename": "FileNotFoundError",
     "evalue": "[Errno 2] No such file or directory: '../../PDproj/cellresults/ttest/withGF/ALPHA0.05FC1.0MINVAR0.125/filenames.txt'",
     "output_type": "error",
     "traceback": [
      "\u001b[0;31m---------------------------------------------------------------------------\u001b[0m",
      "\u001b[0;31mFileNotFoundError\u001b[0m                         Traceback (most recent call last)",
      "Input \u001b[0;32mIn [2]\u001b[0m, in \u001b[0;36m<cell line: 2>\u001b[0;34m()\u001b[0m\n\u001b[1;32m      1\u001b[0m path_s2 \u001b[38;5;241m=\u001b[39m \u001b[38;5;124m\"\u001b[39m\u001b[38;5;124m../../PDproj/cellresults/ttest/withGF/ALPHA0.05FC1.0MINVAR0.125/\u001b[39m\u001b[38;5;124m\"\u001b[39m\n\u001b[0;32m----> 2\u001b[0m filenames_s2 \u001b[38;5;241m=\u001b[39m [line\u001b[38;5;241m.\u001b[39msplit(\u001b[38;5;124m'\u001b[39m\u001b[38;5;130;01m\\n\u001b[39;00m\u001b[38;5;124m'\u001b[39m)[\u001b[38;5;241m0\u001b[39m] \u001b[38;5;28;01mfor\u001b[39;00m line \u001b[38;5;129;01min\u001b[39;00m \u001b[38;5;28;43mopen\u001b[39;49m\u001b[43m(\u001b[49m\u001b[43mpath_s2\u001b[49m\u001b[43m \u001b[49m\u001b[38;5;241;43m+\u001b[39;49m\u001b[43m \u001b[49m\u001b[38;5;124;43m\"\u001b[39;49m\u001b[38;5;124;43mfilenames.txt\u001b[39;49m\u001b[38;5;124;43m\"\u001b[39;49m\u001b[43m)\u001b[49m]\n\u001b[1;32m      3\u001b[0m \u001b[38;5;28mprint\u001b[39m(filenames_s2[fnum])\n\u001b[1;32m      4\u001b[0m df_select \u001b[38;5;241m=\u001b[39m pd\u001b[38;5;241m.\u001b[39mread_csv(path_s2 \u001b[38;5;241m+\u001b[39m filenames_s2[fnum],sep\u001b[38;5;241m=\u001b[39m\u001b[38;5;124m'\u001b[39m\u001b[38;5;124m;\u001b[39m\u001b[38;5;124m'\u001b[39m)\n",
      "\u001b[0;31mFileNotFoundError\u001b[0m: [Errno 2] No such file or directory: '../../PDproj/cellresults/ttest/withGF/ALPHA0.05FC1.0MINVAR0.125/filenames.txt'"
     ]
    }
   ],
   "source": [
    "path_s2 = \"../../PDproj/cellresults/ttest/withGF/ALPHA0.05FC1.0MINVAR0.125/\"\n",
    "filenames_s2 = [line.split('\\n')[0] for line in open(path_s2 + \"filenames.txt\")]\n",
    "print(filenames_s2[fnum])\n",
    "df_select = pd.read_csv(path_s2 + filenames_s2[fnum],sep=';')"
   ]
  },
  {
   "cell_type": "code",
   "execution_count": null,
   "id": "3ae22f65",
   "metadata": {},
   "outputs": [],
   "source": [
    "masstime = np.unique(df_select[' masstime'].to_numpy())\n",
    "GF=get_features(masstime, data, True)\n",
    "GFcols = [i for i in range(0,GF.shape[1]) if i not in np.arange(8,88)]\n",
    "GF=GF.iloc[:,GFcols]\n",
    "Area = GF.iloc[3:,8:48]\n",
    "Area_all = data.iloc[3:,8:48]\n",
    "groups = data.iloc[0,8:48]\n",
    "labels = LabelEncoder().fit_transform(groups)"
   ]
  }
 ],
 "metadata": {
  "kernelspec": {
   "display_name": "Python 3",
   "language": "python",
   "name": "python3"
  },
  "language_info": {
   "codemirror_mode": {
    "name": "ipython",
    "version": 3
   },
   "file_extension": ".py",
   "mimetype": "text/x-python",
   "name": "python",
   "nbconvert_exporter": "python",
   "pygments_lexer": "ipython3",
   "version": "3.9.16"
  }
 },
 "nbformat": 4,
 "nbformat_minor": 5
}
