{
 "cells": [
  {
   "cell_type": "code",
   "execution_count": 20,
   "id": "ea677a79",
   "metadata": {},
   "outputs": [],
   "source": [
    "import pandas as pd\n",
    "import numpy as np\n",
    "from collections import defaultdict\n",
    "import matplotlib.pyplot as plt\n",
    "from postTestDuplicates import *\n",
    "import os"
   ]
  },
  {
   "cell_type": "code",
   "execution_count": 6,
   "id": "80937f77",
   "metadata": {},
   "outputs": [],
   "source": [
    "def print_duplicates(path, filenames, column_str, tol, split_token = '_'):\n",
    "    dm, dt = tol[0], tol[1]\n",
    "    token = split_token\n",
    "    n_duplicates=0\n",
    "    for i in range(1,9):\n",
    "        for j in range(i+1,10):\n",
    "            data1 = pd.read_csv(path + filenames[i], sep=';')\n",
    "            data2 = pd.read_csv(path + filenames[j], sep=';')\n",
    "            MT1 = np.unique(data1[column_str])\n",
    "            MT2 = np.unique(data2[column_str])\n",
    "            n_duplicates+=print_equals(MT1,MT2,filenames[i].split(token)[0],filenames[j].split(token)[0], dm, dt)\n",
    "    \n",
    "    print(\"Number of pairs: {}\".format(n_duplicates))\n",
    "    "
   ]
  },
  {
   "cell_type": "code",
   "execution_count": 29,
   "id": "b286fd9f",
   "metadata": {},
   "outputs": [],
   "source": [
    "def print_duplicates_full(path, filenames, column_str, dm_list, dt_list, split_token = '_'):\n",
    "    token = split_token\n",
    "    n_duplicates=0\n",
    "    for i in range(1,9):\n",
    "        for j in range(i+1,10):\n",
    "            dm = max(dm_list[i],dm_list[j])\n",
    "            dt = max(dt_list[i],dt_list[j])\n",
    "            data1 = pd.read_csv(path + filenames[i], sep=';')\n",
    "            data2 = pd.read_csv(path + filenames[j], sep=';')\n",
    "            MT1 = np.unique(data1[column_str])\n",
    "            MT2 = np.unique(data2[column_str])\n",
    "            n_duplicates+=print_equals_full(MT1,MT2,filenames[i].split(token)[0],filenames[j].split(token)[0], dm, dt)\n",
    "    \n",
    "    print(\"Number of pairs: {}\".format(n_duplicates))\n",
    "    \n",
    "    \n",
    "def print_equals_full(arr1, arr2, f1, f2, dm, dt):\n",
    "    n_duplicates=0\n",
    "    for mt1 in arr1:\n",
    "        for mt2 in arr2:\n",
    "            b, dm_actual, dt_actual = equality_full(mt1, mt2, dm, dt)\n",
    "            if(b):\n",
    "                n_duplicates+=1\n",
    "                print('{};{};{};{};{};{}'.format(f1,mt1,f2,mt2,\\\n",
    "                                                                         round(dm_actual,4),\\\n",
    "                                                                         round(dt_actual,4)))\n",
    "    \n",
    "    return n_duplicates\n",
    "\n",
    "def equality_full(mt1, mt2, dm, dt):\n",
    "    m1, t1 = np.float64(mt1.split('@'))\n",
    "    m2, t2 = np.float64(mt2.split('@'))\n",
    "    dm_actual = np.abs(m1-m2)\n",
    "    dt_actual = np.abs(t1-t2)\n",
    "    bm = dm_actual<=dm\n",
    "    bt = dt_actual<=dt\n",
    "    \n",
    "    return bm & bt, dm_actual, dt_actual"
   ]
  },
  {
   "cell_type": "code",
   "execution_count": 46,
   "id": "f9791a42",
   "metadata": {},
   "outputs": [
    {
     "data": {
      "text/plain": [
       "['cellshilicnegALPHA0.05FC1.0MINVAR0.125.csv',\n",
       " 'cellshilicposALPHA0.05FC1.0MINVAR0.125.csv',\n",
       " 'cellsRPnegALPHA0.05FC1.0MINVAR0.125.csv',\n",
       " 'cellsRPposALPHA0.05FC1.0MINVAR0.125.csv',\n",
       " 'cellslipidnegALPHA0.05FC1.0MINVAR0.125.csv',\n",
       " 'cellslipidposALPHA0.05FC1.0MINVAR0.125.csv',\n",
       " 'mediumhilicnegALPHA0.05FC1.0MINVAR0.125.csv',\n",
       " 'mediumhilicposALPHA0.05FC1.0MINVAR0.125.csv',\n",
       " 'mediumRPnegALPHA0.05FC1.0MINVAR0.125.csv',\n",
       " 'mediumRPposALPHA0.05FC1.0MINVAR0.125.csv']"
      ]
     },
     "execution_count": 46,
     "metadata": {},
     "output_type": "execute_result"
    }
   ],
   "source": [
    "#path = '../PDproj/cellresults/ttest/withGF/ALPHA0.05FC1.5MINVAR0.250/'\n",
    "path = '../PDproj/cellresults/ttest/withGF/ALPHA0.05FC1.0MINVAR0.125/'\n",
    "filenames = [line.rstrip() for line in open(path +'filenames.txt')]\n",
    "column = 'masstime'\n",
    "filenames"
   ]
  },
  {
   "cell_type": "code",
   "execution_count": 8,
   "id": "82c9b634",
   "metadata": {},
   "outputs": [
    {
     "data": {
      "text/plain": [
       "['resultscellshilicnegFC1minvar0.125sort.csv',\n",
       " 'resultscellshilicposFC1minvar0.125sort.csv',\n",
       " 'resultscelllipidnegFC1minvar0.125sort.csv',\n",
       " 'resultscelllipidposFC1minvar0.125sort.csv',\n",
       " 'resultscellsrpnegFC1minvar0.125sort.csv',\n",
       " 'resultscellsrpposFC1minvar0.125sort.csv',\n",
       " 'resultsmediumhilicnegFC1minvar0.125sort.csv',\n",
       " 'resultsmediumhilicposFC1minvar0.125sort.csv',\n",
       " 'resultsmediumrpnegFC1minvar0.125sort.csv',\n",
       " 'resultsmediumrpposFC1minvar0.125sort.csv']"
      ]
     },
     "execution_count": 8,
     "metadata": {},
     "output_type": "execute_result"
    }
   ],
   "source": [
    "path='../PDproj/cellresults/ttest/signifFC1.0/'\n",
    "#resultscellshilicposFC1.5minvar0.25sort.csv'\n",
    "filenames = [line.rstrip() for line in open(path +'filenames.txt')]\n",
    "column = ' masstime'\n",
    "filenames"
   ]
  },
  {
   "cell_type": "code",
   "execution_count": 47,
   "id": "44577bde",
   "metadata": {},
   "outputs": [],
   "source": [
    "dms=np.ones((10,))*0.002\n",
    "dts=np.ones((10,))*0.3"
   ]
  },
  {
   "cell_type": "code",
   "execution_count": 48,
   "id": "336ff98d",
   "metadata": {},
   "outputs": [
    {
     "name": "stdout",
     "output_type": "stream",
     "text": [
      "cellshilicpos;123.05559@0.665;cellsRPpos;123.05548@0.964;0.0001;0.299\n",
      "cellshilicpos;205.09724@4.043;mediumhilicpos;205.09724@4.043;0.0;0.0\n",
      "cellshilicpos;205.09724@4.043;mediumhilicpos;205.09726@4.045;0.0;0.002\n",
      "cellshilicpos;209.09228@4.045;mediumhilicpos;209.09211@4.04;0.0002;0.005\n",
      "cellshilicpos;209.09228@4.045;mediumhilicpos;209.09212@4.042;0.0002;0.003\n",
      "cellsRPneg;203.08233@2.933;mediumRPneg;203.08234@2.935;0.0;0.002\n",
      "cellsRPpos;403.35658@11.437;cellslipidpos;403.35703@11.228;0.0005;0.209\n",
      "cellsRPpos;136.03938@2.533;mediumRPpos;136.03937@2.537;0.0;0.004\n",
      "cellsRPpos;136.03938@2.535;mediumRPpos;136.03937@2.537;0.0;0.002\n",
      "cellsRPpos;146.0601@2.937;mediumRPpos;146.06014@2.948;0.0;0.011\n",
      "cellsRPpos;159.09168@2.936;mediumRPpos;159.09178@2.95;0.0001;0.014\n",
      "cellsRPpos;188.07063@2.939;mediumRPpos;188.07069@2.948;0.0001;0.009\n",
      "cellsRPpos;209.09209@1.971;mediumRPpos;209.09212@1.976;0.0;0.005\n",
      "cellsRPpos;221.09203@1.709;mediumRPpos;221.09204@1.723;0.0;0.014\n",
      "cellsRPpos;237.08689@2.193;mediumRPpos;237.08688@2.188;0.0;0.005\n",
      "cellsRPpos;335.1057@6.641;mediumRPpos;335.10592@6.651;0.0002;0.01\n",
      "cellslipidneg;1237.81503@17.059;cellslipidpos;1237.81481@16.881;0.0002;0.178\n",
      "cellslipidneg;1261.81555@16.085;cellslipidpos;1261.81465@15.88;0.0009;0.205\n",
      "cellslipidneg;1263.83102@16.991;cellslipidpos;1263.83036@16.812;0.0007;0.179\n",
      "cellslipidneg;1265.84698@18.053;cellslipidpos;1265.84599@17.892;0.001;0.161\n",
      "cellslipidneg;702.5451@17.28;cellslipidpos;702.54322@17.288;0.0019;0.008\n",
      "cellslipidneg;726.54517@16.352;cellslipidpos;726.54342@16.343;0.0018;0.009\n",
      "cellslipidneg;768.55583@16.692;cellslipidpos;768.554@16.775;0.0018;0.083\n",
      "cellslipidneg;768.55598@16.807;cellslipidpos;768.554@16.775;0.002;0.032\n",
      "cellslipidneg;779.57971@17.041;cellslipidpos;779.57848@17.234;0.0012;0.193\n",
      "mediumRPneg;152.03458@2.54;mediumRPpos;152.0343@2.542;0.0003;0.002\n",
      "Number of pairs: 26\n"
     ]
    }
   ],
   "source": [
    "print_duplicates_full(path, filenames, ' masstime',dms, dts,'A')"
   ]
  },
  {
   "cell_type": "code",
   "execution_count": 6,
   "id": "e8b4d0cb",
   "metadata": {
    "scrolled": false
   },
   "outputs": [
    {
     "name": "stdout",
     "output_type": "stream",
     "text": [
      "cellshilicpos:123.05559@0.665\n",
      "cellsRPpos:123.05548@0.964\n",
      "-----------\n",
      "cellshilicpos:205.09724@4.043\n",
      "mediumhilicpos:205.09724@4.043\n",
      "-----------\n",
      "cellshilicpos:205.09724@4.043\n",
      "mediumhilicpos:205.09726@4.045\n",
      "-----------\n",
      "cellshilicpos:209.09228@4.045\n",
      "mediumhilicpos:209.09211@4.04\n",
      "-----------\n",
      "cellshilicpos:209.09228@4.045\n",
      "mediumhilicpos:209.09212@4.042\n",
      "-----------\n",
      "cellsRPneg:203.08233@2.933\n",
      "mediumRPneg:203.08234@2.935\n",
      "-----------\n",
      "cellsRPpos:403.35658@11.437\n",
      "cellslipidpos:403.35703@11.228\n",
      "-----------\n",
      "cellsRPpos:136.03938@2.533\n",
      "mediumRPpos:136.03937@2.537\n",
      "-----------\n",
      "cellsRPpos:136.03938@2.535\n",
      "mediumRPpos:136.03937@2.537\n",
      "-----------\n",
      "cellsRPpos:146.0601@2.937\n",
      "mediumRPpos:146.06014@2.948\n",
      "-----------\n",
      "cellsRPpos:159.09168@2.936\n",
      "mediumRPpos:159.09178@2.95\n",
      "-----------\n",
      "cellsRPpos:188.07063@2.939\n",
      "mediumRPpos:188.07069@2.948\n",
      "-----------\n",
      "cellsRPpos:209.09209@1.971\n",
      "mediumRPpos:209.09212@1.976\n",
      "-----------\n",
      "cellsRPpos:221.09203@1.709\n",
      "mediumRPpos:221.09204@1.723\n",
      "-----------\n",
      "cellsRPpos:237.08689@2.193\n",
      "mediumRPpos:237.08688@2.188\n",
      "-----------\n",
      "cellsRPpos:335.1057@6.641\n",
      "mediumRPpos:335.10592@6.651\n",
      "-----------\n",
      "cellslipidneg:1237.81503@17.059\n",
      "cellslipidpos:1237.81481@16.881\n",
      "-----------\n",
      "cellslipidneg:1261.81555@16.085\n",
      "cellslipidpos:1261.81465@15.88\n",
      "-----------\n",
      "cellslipidneg:1263.83102@16.991\n",
      "cellslipidpos:1263.83036@16.812\n",
      "-----------\n",
      "cellslipidneg:1265.84698@18.053\n",
      "cellslipidpos:1265.84599@17.892\n",
      "-----------\n",
      "cellslipidneg:730.57632@18.393\n",
      "cellslipidpos:730.57404@18.384\n",
      "-----------\n",
      "cellslipidneg:769.55963@16.671\n",
      "cellslipidpos:769.55667@16.916\n",
      "-----------\n",
      "cellslipidneg:779.57971@17.041\n",
      "cellslipidpos:779.57848@17.234\n",
      "-----------\n",
      "cellslipidneg:792.55564@16.618\n",
      "cellslipidpos:792.55292@16.442\n",
      "-----------\n",
      "mediumhilicpos:380.16348@0.818\n",
      "mediumRPpos:380.16607@0.593\n",
      "-----------\n",
      "mediumRPneg:152.03458@2.54\n",
      "mediumRPpos:152.0343@2.542\n",
      "-----------\n",
      "Number of pairs: 26\n"
     ]
    }
   ],
   "source": [
    "print_duplicates(path, filenames, ' masstime',(0.003,0.3),'A')"
   ]
  },
  {
   "cell_type": "code",
   "execution_count": null,
   "id": "0d423064",
   "metadata": {},
   "outputs": [],
   "source": []
  },
  {
   "cell_type": "code",
   "execution_count": 7,
   "id": "35b5d1a2",
   "metadata": {},
   "outputs": [
    {
     "name": "stdout",
     "output_type": "stream",
     "text": [
      "Number of duplicates: 28\n"
     ]
    }
   ],
   "source": [
    "save_duplicates(path, filenames, 'masstime',(0.003,0.3))"
   ]
  }
 ],
 "metadata": {
  "kernelspec": {
   "display_name": "Python 3 (ipykernel)",
   "language": "python",
   "name": "python3"
  },
  "language_info": {
   "codemirror_mode": {
    "name": "ipython",
    "version": 3
   },
   "file_extension": ".py",
   "mimetype": "text/x-python",
   "name": "python",
   "nbconvert_exporter": "python",
   "pygments_lexer": "ipython3",
   "version": "3.10.9"
  }
 },
 "nbformat": 4,
 "nbformat_minor": 5
}
