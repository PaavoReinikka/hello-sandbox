{
 "cells": [
  {
   "cell_type": "code",
   "execution_count": 112,
   "id": "2986f1dc",
   "metadata": {},
   "outputs": [],
   "source": [
    "import numpy as np\n",
    "import pandas as pd\n",
    "import matplotlib.pyplot as plt\n",
    "from scipy.stats.contingency import crosstab"
   ]
  },
  {
   "cell_type": "code",
   "execution_count": 75,
   "id": "151a3a46",
   "metadata": {},
   "outputs": [],
   "source": [
    "def unreliable(x,codes=[8,32],tol=1):\n",
    "    inds = []\n",
    "    bools = np.zeros((x.shape[0],), dtype=int)\n",
    "    for i in range(x.shape[0]):\n",
    "        s=0\n",
    "        for j in range(x.shape[1]):\n",
    "            s+=int(np.any(x[i,j]==codes))\n",
    "        if s/x.shape[1]>=tol:\n",
    "            inds.append(i)\n",
    "            bools[i]=1\n",
    "    return np.array(inds), bools\n",
    "\n",
    "def unreliable_count(x,codes=[8,32]):\n",
    "    counts = np.zeros((x.shape[0],1), dtype=int)\n",
    "    for i in range(x.shape[0]):\n",
    "        s=0\n",
    "        for j in range(x.shape[1]):\n",
    "            s+=int(np.any(x[i,j]==codes))\n",
    "        counts[i]=s\n",
    "    return counts\n",
    "\n",
    "\n",
    "def test_stat(x1,x2):\n",
    "    n1, n2 = len(x1), len(x2)\n",
    "    s1, s2 = np.std(x1,ddof=1)/np.sqrt(n1), np.std(x2,ddof=1)/np.sqrt(n2)\n",
    "    m1, m2 = np.mean(x1), np.mean(x2)\n",
    "    \n",
    "    v1, v2 = n1-1, n2-1\n",
    "    numer_v = (s1**2 + s2**2)**2\n",
    "    denom_v = s1**4/v1 + s2**4/v2\n",
    "    \n",
    "    denom = np.sqrt(s1**2 + s2**2)\n",
    "    return (m1-m2)/denom, numer_v/denom_v\n",
    "    \n",
    "    \n",
    "def test_stat_ev(x1,x2):\n",
    "    s = np.std(np.concatenate([unrel,null]),ddof=1)\n",
    "    m1, m2 = np.mean(x1), np.mean(x2)\n",
    "    \n",
    "    denom = s*(1/len(x1) + 1/len(x2))\n",
    "    return (m1-m2)/denom\n",
    "\n",
    "def make_binTable(gap, code=[32], tol=1):\n",
    "    _,result = unreliable(gap[:,:10],codes=code, tol=tol)\n",
    "    result = result[:,np.newaxis]\n",
    "    for i in range(1,4):\n",
    "        _, tmp = unreliable(gap[:,i*10:(i+1)*10],codes=code, tol=tol)\n",
    "        result = np.hstack((result, tmp[:,np.newaxis]))\n",
    "    return result\n",
    "\n",
    "def make_countTable(gap, code=[32], tol=1):\n",
    "    result = unreliable_count(gap[:,:10],codes=code)\n",
    "    for i in range(1,4):\n",
    "        count = unreliable_count(gap[:,i*10:(i+1)*10],codes=code)\n",
    "        result = np.hstack((result, count))\n",
    "    return result\n"
   ]
  },
  {
   "cell_type": "code",
   "execution_count": 12,
   "id": "ad2b9310",
   "metadata": {},
   "outputs": [
    {
     "data": {
      "text/plain": [
       "['cellshilicnegGFstatus.csv',\n",
       " 'cellshilicposGFstatus.csv',\n",
       " 'cellslipidnegGFstatus.csv',\n",
       " 'cellslipidposGFstatus.csv',\n",
       " 'cellsRPnegGFstatus.csv',\n",
       " 'cellsRPposGFstatus.csv',\n",
       " 'mediumhilicnegGFstatus.csv',\n",
       " 'mediumhilicposGFstatus.csv',\n",
       " 'mediumRPnegGFstatus.csv',\n",
       " 'mediumRPposGFstatus.csv']"
      ]
     },
     "execution_count": 12,
     "metadata": {},
     "output_type": "execute_result"
    }
   ],
   "source": [
    "path = '../PDproj/celldata/datawithGFstatus/clean/'\n",
    "filenames = [line.rstrip() for line in open(path +'filenames.txt')]\n",
    "filenames"
   ]
  },
  {
   "cell_type": "code",
   "execution_count": 61,
   "id": "f89b5fb9",
   "metadata": {},
   "outputs": [
    {
     "name": "stdout",
     "output_type": "stream",
     "text": [
      "cellslipidnegGFstatus.csv\n"
     ]
    }
   ],
   "source": [
    "filenum = 2\n",
    "data = pd.read_csv(path + filenames[filenum],sep=';')\n",
    "print(filenames[filenum])"
   ]
  },
  {
   "cell_type": "code",
   "execution_count": 169,
   "id": "af9c26a3",
   "metadata": {},
   "outputs": [
    {
     "name": "stdout",
     "output_type": "stream",
     "text": [
      "mediumRPposGFstatus.csv\n"
     ]
    }
   ],
   "source": [
    "filenum = 9\n",
    "data = pd.read_csv(path + filenames[filenum],sep=';')\n",
    "print(filenames[filenum])\n",
    "tol=1\n",
    "\n",
    "GAP = data.iloc[2:,88:128].to_numpy(dtype=int)\n",
    "aSYN=data.iloc[2:,88:98].to_numpy(dtype=int)\n",
    "comb=data.iloc[2:,98:108].to_numpy(dtype=int)\n",
    "INFg=data.iloc[2:,108:118].to_numpy(dtype=int)\n",
    "UT=data.iloc[2:,118:128].to_numpy(dtype=int)\n",
    "aSYNinds, aSYNbool=unreliable(aSYN, tol=tol)\n",
    "combinds, combbool=unreliable(comb, tol=tol)\n",
    "INFginds, INFgbool=unreliable(INFg, tol=tol)\n",
    "UTinds, UTbool=unreliable(UT, tol=tol)\n",
    "ALLinds, ALLbool = unreliable(GAP, tol=tol)\n",
    "N, n=GAP.flatten().shape[0], aSYN.flatten().shape[0]"
   ]
  },
  {
   "cell_type": "code",
   "execution_count": 175,
   "id": "dcf717a8",
   "metadata": {},
   "outputs": [
    {
     "name": "stdout",
     "output_type": "stream",
     "text": [
      "From 859 rows\n"
     ]
    },
    {
     "data": {
      "text/plain": [
       "array([12, 15,  6,  0])"
      ]
     },
     "execution_count": 175,
     "metadata": {},
     "output_type": "execute_result"
    }
   ],
   "source": [
    "res=make_binTable(GAP,code=[32])\n",
    "print('From {} rows'.format(GAP.shape[0]))\n",
    "np.sum(res,axis=0)"
   ]
  },
  {
   "cell_type": "code",
   "execution_count": 188,
   "id": "840042bb",
   "metadata": {},
   "outputs": [
    {
     "name": "stdout",
     "output_type": "stream",
     "text": [
      "22: [0 1 0 0]\n",
      "72: [1 0 0 0]\n",
      "99: [0 1 0 0]\n",
      "123: [1 0 0 0]\n",
      "130: [0 1 0 0]\n",
      "206: [1 0 0 0]\n",
      "443: [1 0 0 0]\n",
      "491: [1 0 0 0]\n",
      "524: [0 1 0 0]\n",
      "668: [1 0 0 0]\n"
     ]
    }
   ],
   "source": [
    "ind=np.where(np.sum(res, axis=1)==1)[0]\n",
    "for i in ind:\n",
    "    print(\"{}: {}\".format(i,res[i,:]))"
   ]
  },
  {
   "cell_type": "code",
   "execution_count": 170,
   "id": "074dce8a",
   "metadata": {},
   "outputs": [],
   "source": [
    "res=make_countTable(GAP,code=[32])\n",
    "counts=res.flatten(order='F')[:,np.newaxis]\n",
    "tmp=np.zeros((res.shape[0],1))\n",
    "groups=np.vstack((tmp,1+tmp,2+tmp,3+tmp))"
   ]
  },
  {
   "cell_type": "code",
   "execution_count": 171,
   "id": "04e3a857",
   "metadata": {},
   "outputs": [
    {
     "data": {
      "text/plain": [
       "[<matplotlib.lines.Line2D at 0x7ffb9a93ba60>]"
      ]
     },
     "execution_count": 171,
     "metadata": {},
     "output_type": "execute_result"
    },
    {
     "data": {
      "image/png": "[encoded data removed]",
      "text/plain": [
       "<Figure size 640x480 with 1 Axes>"
      ]
     },
     "metadata": {},
     "output_type": "display_data"
    }
   ],
   "source": [
    "plt.plot(groups,counts,'x')"
   ]
  },
  {
   "cell_type": "code",
   "execution_count": 172,
   "id": "6c507a33",
   "metadata": {},
   "outputs": [],
   "source": [
    "tab=crosstab(groups,counts)"
   ]
  },
  {
   "cell_type": "code",
   "execution_count": 173,
   "id": "02ee05e8",
   "metadata": {},
   "outputs": [
    {
     "data": {
      "text/plain": [
       "((array([0., 1., 2., 3.]),\n",
       "  array([ 0,  1,  2,  3,  4,  5,  6,  7,  8,  9, 10])),\n",
       " array([[775,  28,  12,   7,   7,  12,   1,   0,   1,   4,  12],\n",
       "        [773,  33,  13,   5,   1,  13,   2,   3,   0,   1,  15],\n",
       "        [791,  23,  13,   5,   2,  10,   3,   1,   2,   3,   6],\n",
       "        [814,  32,   6,   3,   3,   1,   0,   0,   0,   0,   0]]))"
      ]
     },
     "execution_count": 173,
     "metadata": {},
     "output_type": "execute_result"
    }
   ],
   "source": [
    "tab"
   ]
  },
  {
   "cell_type": "code",
   "execution_count": 79,
   "id": "8bca34e3",
   "metadata": {
    "scrolled": true
   },
   "outputs": [
    {
     "name": "stdout",
     "output_type": "stream",
     "text": [
      "\n",
      "#####################################\n",
      " cellshilicnegGFstatus.csv\n",
      "\n",
      "Number of Values:  5240\n",
      "GAP fill status!=0 in 2646 fields (0.505)\n",
      "GAP fill status==0 in 2594 fields (0.495)\n",
      "\n",
      "Status 8\n",
      "unreliably filled values in aSYN: 24 (0.018)\n",
      "unreliably filled values in comb: 24 (0.018)\n",
      "unreliably filled values in INFg: 25 (0.019)\n",
      "unreliably filled values in UT: 18 (0.014)\n",
      "unreliably filled values in ALL: 91 (0.017)\n",
      "\n",
      "Status 32\n",
      "unreliably filled values in aSYN: 95 (0.073)\n",
      "unreliably filled values in comb: 80 (0.061)\n",
      "unreliably filled values in INFg: 67 (0.051)\n",
      "unreliably filled values in UT: 90 (0.069)\n",
      "unreliably filled values in ALL: 332 (0.063)\n",
      "\n",
      "Status 32 or 8\n",
      "unreliably filled values in ALL: 0.081\n",
      "\n",
      "number of compounds with more than 2 unreliable values in aSYN: 20 (0.153)\n",
      "number of compounds with more than 2 unreliable values in comb: 13 (0.099)\n",
      "number of compounds with more than 2 unreliable values in INFg: 15 (0.115)\n",
      "number of compounds with more than 2 unreliable values in UT: 19 (0.145)\n",
      "\n",
      "Over all reliable values, mean: 19.0703465641377\n",
      "Over all unreliable values (8 and 32), mean: 13.546228528422237\n",
      "Over all GAP 8 values, mean: 14.950258447104263\n",
      "Over all GAP 32 values, mean: 13.161389002518428\n",
      "\n",
      "#####################################\n",
      " cellshilicposGFstatus.csv\n",
      "\n",
      "Number of Values:  20240\n",
      "GAP fill status!=0 in 11284 fields (0.558)\n",
      "GAP fill status==0 in 8956 fields (0.442)\n",
      "\n",
      "Status 8\n",
      "unreliably filled values in aSYN: 267 (0.053)\n",
      "unreliably filled values in comb: 230 (0.045)\n",
      "unreliably filled values in INFg: 226 (0.045)\n",
      "unreliably filled values in UT: 287 (0.057)\n",
      "unreliably filled values in ALL: 1010 (0.05)\n",
      "\n",
      "Status 32\n",
      "unreliably filled values in aSYN: 355 (0.07)\n",
      "unreliably filled values in comb: 218 (0.043)\n",
      "unreliably filled values in INFg: 255 (0.05)\n",
      "unreliably filled values in UT: 304 (0.06)\n",
      "unreliably filled values in ALL: 1132 (0.056)\n",
      "\n",
      "Status 32 or 8\n",
      "unreliably filled values in ALL: 0.106\n",
      "\n",
      "number of compounds with more than 2 unreliable values in aSYN: 87 (0.172)\n",
      "number of compounds with more than 2 unreliable values in comb: 70 (0.138)\n",
      "number of compounds with more than 2 unreliable values in INFg: 72 (0.142)\n",
      "number of compounds with more than 2 unreliable values in UT: 89 (0.176)\n",
      "\n",
      "Over all reliable values, mean: 19.402134079498424\n",
      "Over all unreliable values (8 and 32), mean: 15.719017217063586\n",
      "Over all GAP 8 values, mean: 17.157163399753045\n",
      "Over all GAP 32 values, mean: 14.435865587632179\n",
      "\n",
      "#####################################\n",
      " cellslipidnegGFstatus.csv\n",
      "\n",
      "Number of Values:  45400\n",
      "GAP fill status!=0 in 25789 fields (0.568)\n",
      "GAP fill status==0 in 19611 fields (0.432)\n",
      "\n",
      "Status 8\n",
      "unreliably filled values in aSYN: 1027 (0.09)\n",
      "unreliably filled values in comb: 596 (0.053)\n",
      "unreliably filled values in INFg: 624 (0.055)\n",
      "unreliably filled values in UT: 1043 (0.092)\n",
      "unreliably filled values in ALL: 3290 (0.072)\n",
      "\n",
      "Status 32\n",
      "unreliably filled values in aSYN: 254 (0.022)\n",
      "unreliably filled values in comb: 124 (0.011)\n",
      "unreliably filled values in INFg: 120 (0.011)\n",
      "unreliably filled values in UT: 272 (0.024)\n",
      "unreliably filled values in ALL: 770 (0.017)\n",
      "\n",
      "Status 32 or 8\n",
      "unreliably filled values in ALL: 0.089\n",
      "\n",
      "number of compounds with more than 2 unreliable values in aSYN: 199 (0.175)\n",
      "number of compounds with more than 2 unreliable values in comb: 117 (0.103)\n",
      "number of compounds with more than 2 unreliable values in INFg: 118 (0.104)\n",
      "number of compounds with more than 2 unreliable values in UT: 199 (0.175)\n",
      "\n",
      "Over all reliable values, mean: 19.693822237214235\n",
      "Over all unreliable values (8 and 32), mean: 16.389080484636477\n",
      "Over all GAP 8 values, mean: 16.846919755496593\n",
      "Over all GAP 32 values, mean: 14.43285814550688\n",
      "\n",
      "#####################################\n",
      " cellslipidposGFstatus.csv\n",
      "\n",
      "Number of Values:  88680\n",
      "GAP fill status!=0 in 45362 fields (0.512)\n",
      "GAP fill status==0 in 43318 fields (0.488)\n",
      "\n",
      "Status 8\n",
      "unreliably filled values in aSYN: 2310 (0.104)\n",
      "unreliably filled values in comb: 1736 (0.078)\n",
      "unreliably filled values in INFg: 1735 (0.078)\n",
      "unreliably filled values in UT: 2383 (0.107)\n",
      "unreliably filled values in ALL: 8164 (0.092)\n",
      "\n",
      "Status 32\n",
      "unreliably filled values in aSYN: 638 (0.029)\n",
      "unreliably filled values in comb: 775 (0.035)\n",
      "unreliably filled values in INFg: 735 (0.033)\n",
      "unreliably filled values in UT: 728 (0.033)\n",
      "unreliably filled values in ALL: 2876 (0.032)\n",
      "\n",
      "Status 32 or 8\n",
      "unreliably filled values in ALL: 0.124\n",
      "\n",
      "number of compounds with more than 2 unreliable values in aSYN: 446 (0.201)\n",
      "number of compounds with more than 2 unreliable values in comb: 420 (0.189)\n",
      "number of compounds with more than 2 unreliable values in INFg: 393 (0.177)\n",
      "number of compounds with more than 2 unreliable values in UT: 472 (0.213)\n",
      "\n",
      "Over all reliable values, mean: 20.785581723338485\n",
      "Over all unreliable values (8 and 32), mean: 17.10641748188406\n",
      "Over all GAP 8 values, mean: 17.559034419402252\n",
      "Over all GAP 32 values, mean: 15.82158970792768\n",
      "\n",
      "#####################################\n",
      " cellsRPnegGFstatus.csv\n",
      "\n",
      "Number of Values:  16520\n",
      "GAP fill status!=0 in 7223 fields (0.437)\n",
      "GAP fill status==0 in 9297 fields (0.563)\n",
      "\n",
      "Status 8\n",
      "unreliably filled values in aSYN: 123 (0.03)\n",
      "unreliably filled values in comb: 118 (0.029)\n",
      "unreliably filled values in INFg: 145 (0.035)\n",
      "unreliably filled values in UT: 156 (0.038)\n",
      "unreliably filled values in ALL: 542 (0.033)\n",
      "\n",
      "Status 32\n",
      "unreliably filled values in aSYN: 161 (0.039)\n",
      "unreliably filled values in comb: 118 (0.029)\n",
      "unreliably filled values in INFg: 90 (0.022)\n",
      "unreliably filled values in UT: 113 (0.027)\n",
      "unreliably filled values in ALL: 482 (0.029)\n",
      "\n",
      "Status 32 or 8\n",
      "unreliably filled values in ALL: 0.062\n",
      "\n",
      "number of compounds with more than 2 unreliable values in aSYN: 36 (0.087)\n",
      "number of compounds with more than 2 unreliable values in comb: 36 (0.087)\n",
      "number of compounds with more than 2 unreliable values in INFg: 38 (0.092)\n",
      "number of compounds with more than 2 unreliable values in UT: 46 (0.111)\n",
      "\n",
      "Over all reliable values, mean: 18.64172120477329\n",
      "Over all unreliable values (8 and 32), mean: 14.633228324969128\n",
      "Over all GAP 8 values, mean: 15.650427246578003\n",
      "Over all GAP 32 values, mean: 13.489407130960812\n",
      "\n",
      "#####################################\n",
      " cellsRPposGFstatus.csv\n",
      "\n",
      "Number of Values:  42040\n",
      "GAP fill status!=0 in 22334 fields (0.531)\n",
      "GAP fill status==0 in 19706 fields (0.469)\n",
      "\n",
      "Status 8\n",
      "unreliably filled values in aSYN: 437 (0.042)\n",
      "unreliably filled values in comb: 428 (0.041)\n",
      "unreliably filled values in INFg: 465 (0.044)\n",
      "unreliably filled values in UT: 476 (0.045)\n",
      "unreliably filled values in ALL: 1806 (0.043)\n",
      "\n",
      "Status 32\n",
      "unreliably filled values in aSYN: 829 (0.079)\n",
      "unreliably filled values in comb: 550 (0.052)\n",
      "unreliably filled values in INFg: 595 (0.057)\n",
      "unreliably filled values in UT: 654 (0.062)\n",
      "unreliably filled values in ALL: 2628 (0.063)\n",
      "\n",
      "Status 32 or 8\n",
      "unreliably filled values in ALL: 0.105\n",
      "\n",
      "number of compounds with more than 2 unreliable values in aSYN: 188 (0.179)\n",
      "number of compounds with more than 2 unreliable values in comb: 146 (0.139)\n",
      "number of compounds with more than 2 unreliable values in INFg: 164 (0.156)\n",
      "number of compounds with more than 2 unreliable values in UT: 177 (0.168)\n",
      "\n",
      "Over all reliable values, mean: 19.553398657297517\n",
      "Over all unreliable values (8 and 32), mean: 15.921978384877395\n",
      "Over all GAP 8 values, mean: 16.967772839005693\n",
      "Over all GAP 32 values, mean: 15.203293154985579\n",
      "\n",
      "#####################################\n",
      " mediumhilicnegGFstatus.csv\n",
      "\n",
      "Number of Values:  3800\n",
      "GAP fill status!=0 in 1548 fields (0.407)\n",
      "GAP fill status==0 in 2252 fields (0.593)\n",
      "\n",
      "Status 8\n",
      "unreliably filled values in aSYN: 28 (0.029)\n",
      "unreliably filled values in comb: 26 (0.027)\n",
      "unreliably filled values in INFg: 25 (0.026)\n",
      "unreliably filled values in UT: 22 (0.023)\n",
      "unreliably filled values in ALL: 101 (0.027)\n",
      "\n",
      "Status 32\n",
      "unreliably filled values in aSYN: 44 (0.046)\n",
      "unreliably filled values in comb: 33 (0.035)\n",
      "unreliably filled values in INFg: 10 (0.011)\n",
      "unreliably filled values in UT: 35 (0.037)\n",
      "unreliably filled values in ALL: 122 (0.032)\n",
      "\n",
      "Status 32 or 8\n",
      "unreliably filled values in ALL: 0.059\n",
      "\n",
      "number of compounds with more than 2 unreliable values in aSYN: 9 (0.095)\n",
      "number of compounds with more than 2 unreliable values in comb: 9 (0.095)\n",
      "number of compounds with more than 2 unreliable values in INFg: 5 (0.053)\n",
      "number of compounds with more than 2 unreliable values in UT: 7 (0.074)\n",
      "\n",
      "Over all reliable values, mean: 19.313175520633614\n",
      "Over all unreliable values (8 and 32), mean: 13.809209749520495\n",
      "Over all GAP 8 values, mean: 15.082554266788664\n",
      "Over all GAP 32 values, mean: 12.755047485224713\n"
     ]
    },
    {
     "name": "stdout",
     "output_type": "stream",
     "text": [
      "\n",
      "#####################################\n",
      " mediumhilicposGFstatus.csv\n",
      "\n",
      "Number of Values:  17800\n",
      "GAP fill status!=0 in 7970 fields (0.448)\n",
      "GAP fill status==0 in 9830 fields (0.552)\n",
      "\n",
      "Status 8\n",
      "unreliably filled values in aSYN: 80 (0.018)\n",
      "unreliably filled values in comb: 81 (0.018)\n",
      "unreliably filled values in INFg: 101 (0.023)\n",
      "unreliably filled values in UT: 90 (0.02)\n",
      "unreliably filled values in ALL: 352 (0.02)\n",
      "\n",
      "Status 32\n",
      "unreliably filled values in aSYN: 248 (0.056)\n",
      "unreliably filled values in comb: 278 (0.062)\n",
      "unreliably filled values in INFg: 149 (0.033)\n",
      "unreliably filled values in UT: 258 (0.058)\n",
      "unreliably filled values in ALL: 933 (0.052)\n",
      "\n",
      "Status 32 or 8\n",
      "unreliably filled values in ALL: 0.072\n",
      "\n",
      "number of compounds with more than 2 unreliable values in aSYN: 53 (0.119)\n",
      "number of compounds with more than 2 unreliable values in comb: 56 (0.126)\n",
      "number of compounds with more than 2 unreliable values in INFg: 42 (0.094)\n",
      "number of compounds with more than 2 unreliable values in UT: 48 (0.108)\n",
      "\n",
      "Over all reliable values, mean: 20.80573931157083\n",
      "Over all unreliable values (8 and 32), mean: 15.574091614240992\n",
      "Over all GAP 8 values, mean: 17.048002782609448\n",
      "Over all GAP 32 values, mean: 15.018017947289545\n",
      "\n",
      "#####################################\n",
      " mediumRPnegGFstatus.csv\n",
      "\n",
      "Number of Values:  8640\n",
      "GAP fill status!=0 in 4034 fields (0.467)\n",
      "GAP fill status==0 in 4606 fields (0.533)\n",
      "\n",
      "Status 8\n",
      "unreliably filled values in aSYN: 24 (0.011)\n",
      "unreliably filled values in comb: 44 (0.02)\n",
      "unreliably filled values in INFg: 37 (0.017)\n",
      "unreliably filled values in UT: 31 (0.014)\n",
      "unreliably filled values in ALL: 136 (0.016)\n",
      "\n",
      "Status 32\n",
      "unreliably filled values in aSYN: 168 (0.078)\n",
      "unreliably filled values in comb: 146 (0.068)\n",
      "unreliably filled values in INFg: 106 (0.049)\n",
      "unreliably filled values in UT: 169 (0.078)\n",
      "unreliably filled values in ALL: 589 (0.068)\n",
      "\n",
      "Status 32 or 8\n",
      "unreliably filled values in ALL: 0.084\n",
      "\n",
      "number of compounds with more than 2 unreliable values in aSYN: 25 (0.116)\n",
      "number of compounds with more than 2 unreliable values in comb: 25 (0.116)\n",
      "number of compounds with more than 2 unreliable values in INFg: 21 (0.097)\n",
      "number of compounds with more than 2 unreliable values in UT: 24 (0.111)\n",
      "\n",
      "Over all reliable values, mean: 18.63559694698104\n",
      "Over all unreliable values (8 and 32), mean: 13.656022618121415\n",
      "Over all GAP 8 values, mean: 15.34160651970268\n",
      "Over all GAP 32 values, mean: 13.266821581423535\n",
      "\n",
      "#####################################\n",
      " mediumRPposGFstatus.csv\n",
      "\n",
      "Number of Values:  34360\n",
      "GAP fill status!=0 in 16770 fields (0.488)\n",
      "GAP fill status==0 in 17590 fields (0.512)\n",
      "\n",
      "Status 8\n",
      "unreliably filled values in aSYN: 186 (0.022)\n",
      "unreliably filled values in comb: 178 (0.021)\n",
      "unreliably filled values in INFg: 168 (0.02)\n",
      "unreliably filled values in UT: 141 (0.016)\n",
      "unreliably filled values in ALL: 673 (0.02)\n",
      "\n",
      "Status 32\n",
      "unreliably filled values in aSYN: 331 (0.039)\n",
      "unreliably filled values in comb: 335 (0.039)\n",
      "unreliably filled values in INFg: 250 (0.029)\n",
      "unreliably filled values in UT: 70 (0.008)\n",
      "unreliably filled values in ALL: 986 (0.029)\n",
      "\n",
      "Status 32 or 8\n",
      "unreliably filled values in ALL: 0.048\n",
      "\n",
      "number of compounds with more than 2 unreliable values in aSYN: 74 (0.086)\n",
      "number of compounds with more than 2 unreliable values in comb: 67 (0.078)\n",
      "number of compounds with more than 2 unreliable values in INFg: 61 (0.071)\n",
      "number of compounds with more than 2 unreliable values in UT: 28 (0.033)\n",
      "\n",
      "Over all reliable values, mean: 19.340354087030978\n",
      "Over all unreliable values (8 and 32), mean: 15.559479204339965\n",
      "Over all GAP 8 values, mean: 16.9561441307578\n",
      "Over all GAP 32 values, mean: 14.606177484787018\n"
     ]
    }
   ],
   "source": [
    "for filenum in range(10):\n",
    "    #filenum = 1\n",
    "    data = pd.read_csv(path + filenames[filenum],sep=';')\n",
    "    print('\\n#####################################\\n',filenames[filenum])\n",
    "    tol=0.3\n",
    "    GAP = data.iloc[2:,88:128].to_numpy(dtype=int)\n",
    "    aSYN=data.iloc[2:,88:98].to_numpy(dtype=int)\n",
    "    comb=data.iloc[2:,98:108].to_numpy(dtype=int)\n",
    "    INFg=data.iloc[2:,108:118].to_numpy(dtype=int)\n",
    "    UT=data.iloc[2:,118:128].to_numpy(dtype=int)\n",
    "    aSYNinds, aSYNbool=unreliable(aSYN, tol=tol)\n",
    "    combinds, combbool=unreliable(comb, tol=tol)\n",
    "    INFginds, INFgbool=unreliable(INFg, tol=tol)\n",
    "    UTinds, UTbool=unreliable(UT, tol=tol)\n",
    "    ALLinds, ALLbool = unreliable(GAP, tol=tol)\n",
    "    N, n=GAP.flatten().shape[0], aSYN.flatten().shape[0]\n",
    "    gap= GAP.flatten()\n",
    "    a=data.iloc[2:,8:48].to_numpy().flatten()\n",
    "\n",
    "    print(\"\\nNumber of Values: \",a.shape[0])\n",
    "    print(\"GAP fill status!=0 in {} fields ({})\".format(np.sum(GAP!=0),np.round((np.sum(GAP!=0))/N,3)))\n",
    "    print(\"GAP fill status==0 in {} fields ({})\".format(np.sum(GAP==0),np.round((np.sum(GAP==0))/N,3)))\n",
    "    \n",
    "    print(\"\\nStatus 8\")\n",
    "    print(\"unreliably filled values in aSYN: {} ({})\".format(np.sum(aSYN==8),np.round((np.sum(aSYN==8))/n,3)))\n",
    "    print(\"unreliably filled values in comb: {} ({})\".format(np.sum(comb==8),np.round((np.sum(comb==8))/n,3)))\n",
    "    print(\"unreliably filled values in INFg: {} ({})\".format(np.sum(INFg==8),np.round((np.sum(INFg==8))/n,3)))\n",
    "    print(\"unreliably filled values in UT: {} ({})\".format(np.sum(UT==8),np.round((np.sum(UT==8))/n,3)))\n",
    "    print(\"unreliably filled values in ALL: {} ({})\".format(np.sum(GAP==8),np.round((np.sum(GAP==8))/N,3)))\n",
    "    \n",
    "    print(\"\\nStatus 32\")\n",
    "    print(\"unreliably filled values in aSYN: {} ({})\".format(np.sum(aSYN==32),np.round((np.sum(aSYN==32))/n,3)))\n",
    "    print(\"unreliably filled values in comb: {} ({})\".format(np.sum(comb==32),np.round((np.sum(comb==32))/n,3)))\n",
    "    print(\"unreliably filled values in INFg: {} ({})\".format(np.sum(INFg==32),np.round((np.sum(INFg==32))/n,3)))\n",
    "    print(\"unreliably filled values in UT: {} ({})\".format(np.sum(UT==32),np.round((np.sum(UT==32))/n,3)))\n",
    "    print(\"unreliably filled values in ALL: {} ({})\".format(np.sum(GAP==32),np.round((np.sum(GAP==32))/N,3)))\n",
    "    \n",
    "    print(\"\\nStatus 32 or 8\")\n",
    "    print(\"unreliably filled values in ALL: {}\".format(np.round((np.sum(GAP==32) + np.sum(GAP==8))/N,3)))\n",
    "    \n",
    "    print(\"\\nnumber of compounds with more than 2 unreliable values in aSYN: {} ({})\".format(aSYNinds.shape[0],np.round(np.mean(aSYNbool),3)))\n",
    "    print(\"number of compounds with more than 2 unreliable values in comb: {} ({})\".format(combinds.shape[0],np.round(np.mean(combbool),3)))\n",
    "    print(\"number of compounds with more than 2 unreliable values in INFg: {} ({})\".format(INFginds.shape[0],np.round(np.mean(INFgbool),3)))\n",
    "    print(\"number of compounds with more than 2 unreliable values in UT: {} ({})\".format(UTinds.shape[0],np.round(np.mean(UTbool),3)))\n",
    "    \n",
    "    temp= np.unique(np.concatenate([np.where(gap==32)[0],np.where(gap==8)[0]]))\n",
    "    ur=np.asarray(a[temp],dtype=float)\n",
    "    r=np.asarray(a[[i for i in range(len(gap)) if i not in temp]],dtype=float)\n",
    "    print(\"\\nOver all reliable values, mean:\",np.mean(r))\n",
    "    print(\"Over all unreliable values (8 and 32), mean:\",np.mean(ur))\n",
    "    \n",
    "    ur=np.asarray(a[np.unique(np.where(gap==8)[0])],dtype=float)\n",
    "    print(\"Over all GAP 8 values, mean:\",np.mean(ur))\n",
    "    \n",
    "    ur=np.asarray(a[np.unique(np.where(gap==32)[0])],dtype=float)\n",
    "    print(\"Over all GAP 32 values, mean:\",np.mean(ur))\n",
    "    \n",
    "    \n",
    "    "
   ]
  },
  {
   "cell_type": "code",
   "execution_count": 390,
   "id": "e2230caf",
   "metadata": {
    "scrolled": false
   },
   "outputs": [
    {
     "name": "stdout",
     "output_type": "stream",
     "text": [
      "aSYN reliable mean: 19.193709489482686\n",
      "aSYN unreliable mean: 13.750574263212073\n"
     ]
    },
    {
     "data": {
      "image/png": "[encoded data removed]",
      "text/plain": [
       "<Figure size 640x480 with 1 Axes>"
      ]
     },
     "metadata": {},
     "output_type": "display_data"
    },
    {
     "name": "stdout",
     "output_type": "stream",
     "text": [
      "comb. reliable mean: 19.221044300186552\n",
      "comb. unreliable mean: 13.633478498366673\n"
     ]
    },
    {
     "data": {
      "image/png": "[encoded data removed]",
      "text/plain": [
       "<Figure size 640x480 with 1 Axes>"
      ]
     },
     "metadata": {},
     "output_type": "display_data"
    },
    {
     "name": "stdout",
     "output_type": "stream",
     "text": [
      "INFg reliable mean: 19.295315877509893\n",
      "INFg unreliable mean: 14.256189016827365\n"
     ]
    },
    {
     "data": {
      "image/png": "[encoded data removed]",
      "text/plain": [
       "<Figure size 640x480 with 1 Axes>"
      ]
     },
     "metadata": {},
     "output_type": "display_data"
    },
    {
     "name": "stdout",
     "output_type": "stream",
     "text": [
      "UT reliable mean: 19.148492207567696\n",
      "UT unreliable mean: nan\n"
     ]
    },
    {
     "name": "stderr",
     "output_type": "stream",
     "text": [
      "/home/paavo/anaconda3/lib/python3.9/site-packages/numpy/core/fromnumeric.py:3440: RuntimeWarning: Mean of empty slice.\n",
      "  return _methods._mean(a, axis=axis, dtype=dtype,\n",
      "/home/paavo/anaconda3/lib/python3.9/site-packages/numpy/core/_methods.py:189: RuntimeWarning: invalid value encountered in double_scalars\n",
      "  ret = ret.dtype.type(ret / rcount)\n",
      "/home/paavo/anaconda3/lib/python3.9/site-packages/numpy/core/_methods.py:262: RuntimeWarning: Degrees of freedom <= 0 for slice\n",
      "  ret = _var(a, axis=axis, dtype=dtype, out=out, ddof=ddof,\n",
      "/home/paavo/anaconda3/lib/python3.9/site-packages/numpy/core/_methods.py:222: RuntimeWarning: invalid value encountered in true_divide\n",
      "  arrmean = um.true_divide(arrmean, div, out=arrmean, casting='unsafe',\n",
      "/home/paavo/anaconda3/lib/python3.9/site-packages/numpy/core/_methods.py:254: RuntimeWarning: invalid value encountered in double_scalars\n",
      "  ret = ret.dtype.type(ret / rcount)\n",
      "/home/paavo/anaconda3/lib/python3.9/site-packages/matplotlib/axes/_base.py:2480: UserWarning: Warning: converting a masked element to nan.\n",
      "  xys = np.asarray(xys)\n"
     ]
    },
    {
     "data": {
      "image/png": "[encoded data removed]",
      "text/plain": [
       "<Figure size 640x480 with 1 Axes>"
      ]
     },
     "metadata": {},
     "output_type": "display_data"
    }
   ],
   "source": [
    "area = data.iloc[2:,8:48]\n",
    "tags = ['aSYN','comb.','INFg','UT']\n",
    "unreliable_inds = [aSYNinds,combinds,INFginds,UTinds]\n",
    "col_inds = [range(0,10),range(10,20),range(20,30),range(30,40)]\n",
    "\n",
    "for i in range(4):\n",
    "    tmp=unreliable_inds[i]\n",
    "    columns=col_inds[i]\n",
    "    reliable_inds = [i for i in range(area.shape[0]) if i not in tmp]\n",
    "    rel=area.iloc[:,columns].iloc[reliable_inds,:].to_numpy(dtype=float).flatten()\n",
    "    unrel=area.iloc[:,columns].iloc[tmp,:].to_numpy(dtype=float).flatten()\n",
    "    \n",
    "    print('{} reliable mean: {}'.format(tags[i],np.mean(rel)))\n",
    "    print('{} unreliable mean: {}'.format(tags[i],np.mean(unrel)))\n",
    "    \n",
    "    it=1000\n",
    "    null = rel.flatten()\n",
    "    stats = []\n",
    "    for i in range(it):\n",
    "        alt = np.random.choice(rel,10, replace=True)\n",
    "        stat, _ = test_stat(null,alt)\n",
    "        stats.append(stat)\n",
    "    mark,_ = test_stat(null, unrel)\n",
    "    plt.hist(stats)\n",
    "    plt.vlines([mark],[0],[it/5],colors='red')\n",
    "    plt.show()"
   ]
  },
  {
   "cell_type": "code",
   "execution_count": 169,
   "id": "6823d67e",
   "metadata": {},
   "outputs": [
    {
     "data": {
      "text/plain": [
       "(4434,)"
      ]
     },
     "execution_count": 169,
     "metadata": {},
     "output_type": "execute_result"
    }
   ],
   "source": [
    "np.concatenate([unrel,null])"
   ]
  },
  {
   "cell_type": "code",
   "execution_count": 226,
   "id": "630ab56f",
   "metadata": {},
   "outputs": [
    {
     "data": {
      "text/plain": [
       "0"
      ]
     },
     "execution_count": 226,
     "metadata": {},
     "output_type": "execute_result"
    }
   ],
   "source": [
    "np.sum(aSYNbool & combbool)"
   ]
  },
  {
   "cell_type": "code",
   "execution_count": 227,
   "id": "a40122d9",
   "metadata": {},
   "outputs": [
    {
     "data": {
      "text/plain": [
       "0"
      ]
     },
     "execution_count": 227,
     "metadata": {},
     "output_type": "execute_result"
    }
   ],
   "source": [
    "np.sum(aSYNbool & INFgbool)"
   ]
  },
  {
   "cell_type": "code",
   "execution_count": 342,
   "id": "77cfe0f3",
   "metadata": {},
   "outputs": [
    {
     "data": {
      "text/plain": [
       "13"
      ]
     },
     "execution_count": 342,
     "metadata": {},
     "output_type": "execute_result"
    }
   ],
   "source": [
    "np.sum(aSYNbool & UTbool)"
   ]
  },
  {
   "cell_type": "code",
   "execution_count": 229,
   "id": "b0d61739",
   "metadata": {},
   "outputs": [
    {
     "data": {
      "text/plain": [
       "0"
      ]
     },
     "execution_count": 229,
     "metadata": {},
     "output_type": "execute_result"
    }
   ],
   "source": [
    "np.sum(combbool & INFgbool)"
   ]
  },
  {
   "cell_type": "code",
   "execution_count": 230,
   "id": "cf3c8d83",
   "metadata": {},
   "outputs": [
    {
     "data": {
      "text/plain": [
       "1"
      ]
     },
     "execution_count": 230,
     "metadata": {},
     "output_type": "execute_result"
    }
   ],
   "source": [
    "np.sum(combbool & UTbool)"
   ]
  }
 ],
 "metadata": {
  "kernelspec": {
   "display_name": "Python 3 (ipykernel)",
   "language": "python",
   "name": "python3"
  },
  "language_info": {
   "codemirror_mode": {
    "name": "ipython",
    "version": 3
   },
   "file_extension": ".py",
   "mimetype": "text/x-python",
   "name": "python",
   "nbconvert_exporter": "python",
   "pygments_lexer": "ipython3",
   "version": "3.10.6"
  }
 },
 "nbformat": 4,
 "nbformat_minor": 5
}
