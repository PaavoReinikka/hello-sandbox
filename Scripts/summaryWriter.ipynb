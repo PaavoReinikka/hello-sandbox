{
 "cells": [
  {
   "cell_type": "code",
   "execution_count": 1,
   "id": "55f52fc9",
   "metadata": {},
   "outputs": [],
   "source": [
    "import pandas as pd\n",
    "import numpy as np\n",
    "from collections import defaultdict\n",
    "import matplotlib.pyplot as plt\n",
    "import warnings\n",
    "warnings.filterwarnings('ignore')"
   ]
  },
  {
   "cell_type": "code",
   "execution_count": 2,
   "id": "39e07971",
   "metadata": {},
   "outputs": [],
   "source": [
    "# 2 most common patterns for np.sign(fc) for each compound with 4 sign. tests\n",
    "PATTERN1=np.array([-1,-1,1,1])\n",
    "PATTERN2=-1*PATTERN1\n",
    "COMMON4 = ['aSYN--comb.', 'aSYN--INFg', 'comb.--UT', 'INFg--UT']\n",
    "\n",
    "# Uncommon pattern\n",
    "PATTERN3 = np.array([-1,-1,-1,-1])\n",
    "UNCOMMON4 = ['aSYN--INFg', 'aSYN--UT',  'comb.--INFg.',  'comb.--UT']\n",
    "\n",
    "ALL=['aSYN--comb.', 'aSYN--INFg', 'aSYN--UT',  'comb.--INFg.', 'comb.--UT', 'INFg--UT']"
   ]
  },
  {
   "cell_type": "code",
   "execution_count": 3,
   "id": "468bfa15",
   "metadata": {},
   "outputs": [],
   "source": [
    "def index_dict(d_obj, ind, dtype):\n",
    "    if dtype==str:\n",
    "        return list(d_obj)[ind]\n",
    "    return np.fromiter(d_obj, dtype=dtype)[ind]\n",
    "\n",
    "def show(D, ind):\n",
    "    for each in np.fromiter(D.values(), dtype=list)[ind]:\n",
    "        print(each)\n",
    "\n",
    "def show_effects(counts, positives):\n",
    "    # counts sould be dict of the form\n",
    "    # TEST: count (test and how many time found overall)\n",
    "    print(\"Number of tests with positive fc in parenthesis\")\n",
    "    for key in counts.keys():\n",
    "        print(\"{}: {} ({})\".format(key, counts[key], positives[key]))\n",
    "    \n",
    "def show_counts(counts):\n",
    "    # counts should be dict of the form\n",
    "    # MTIME: count (compound and how many significant tests it had)\n",
    "    n = max(counts.values())\n",
    "    counts_arr=np.fromiter(counts.values(), dtype=int)\n",
    "    \n",
    "    n = max(counts.values())\n",
    "    n_keys = len(counts.keys())\n",
    "    \n",
    "    print(\"number of compounds (masstime): {}\".format(n_keys))\n",
    "    print(\"max number of tests per compound: {}\".format(n))\n",
    "    \n",
    "    for i in range(1,n+1):\n",
    "        print(\"{} test in {} cases\".format(i, sum(counts_arr==i)))\n",
    "    return n\n",
    "    \n",
    "def counts2indices(counts):\n",
    "    # counts sould be dict of the form\n",
    "    # MTIME: count (compound and how many significant tests it had)\n",
    "    n = max(counts.values())\n",
    "    \n",
    "    counts_arr=np.fromiter(counts.values(), dtype=int)\n",
    "    result = [None]\n",
    "    for i in range(1,n+1):\n",
    "        result.append(np.where(counts_arr==i))\n",
    "    \n",
    "    return result\n",
    "\n",
    "def show_tests(test, fc, inds):\n",
    "    # test should be a dict of the form\n",
    "    # MTIME: test (test is list of all test patterns)\n",
    "    #for i in np.fromiter(test, dtype=list)[inds]:\n",
    "    for num,i in enumerate(test.keys()):\n",
    "        if(num not in inds[0]):\n",
    "            continue\n",
    "        for j in range(len(test[i])):\n",
    "            tmp = test[i][j]\n",
    "            mjono = tmp.split('--')\n",
    "            sign = '+' if fc[i][j]>=0 else '-'\n",
    "            print(\"{}-({})-{}  \".format(mjono[0],sign, mjono[1]),end='')\n",
    "        print(\"({})\".format(i))\n",
    "        \n",
    "def list_tests(test, fc, inds):\n",
    "    # test should be a dict of the form\n",
    "    # MTIME: test (test is list of all test patterns)\n",
    "    result=defaultdict()\n",
    "    #for i in np.fromiter(test, dtype=list)[inds]:\n",
    "    for num, i in enumerate(test.keys()):\n",
    "        if(num not in inds[0]):\n",
    "            continue\n",
    "        result[i]=[]\n",
    "        for j in range(len(test[i])):\n",
    "            tmp = test[i][j]\n",
    "            mjono = tmp.split('--')\n",
    "            sign = '+' if fc[i][j]>=0 else '-'\n",
    "            s = \"{}-({})-{}\".format(mjono[0],sign, mjono[1])\n",
    "            result[i].append(s)\n",
    "    return result\n",
    "        \n",
    "        \n",
    "def count_quad_patterns(counts, fc, tests, PATTERN):\n",
    "    # Returns the number of times a PATTERN is found\n",
    "    # in fc for each compound with 4 significant tests.\n",
    "    # Pattern is a sign function over fold change, and\n",
    "    # the 2 important ones are \n",
    "    # pattern1 = [-1,-1,1,1]\n",
    "    # and\n",
    "    # pattern2 = [1,1,-1,-1]\n",
    "    \n",
    "    common = COMMON4#['aSYN--comb.', 'aSYN--INFg', 'comb.--UT', 'INFg--UT']\n",
    "    s=0\n",
    "    n_compounds=0\n",
    "    n_common=0\n",
    "    \n",
    "    for compound in counts:\n",
    "        if(counts[compound]==4):\n",
    "            n_compounds += 1\n",
    "            if(tests[compound]!=common):\n",
    "                continue\n",
    "            n_common += 1\n",
    "            if (np.sign(fc[compound])==PATTERN).sum() == 4:\n",
    "                s+=1\n",
    "    return s, s/n_common, s/n_compounds\n",
    "\n",
    "\n",
    "def count_quad_outlier(counts, fc, tests):\n",
    "    # Returns the number of times an uncommon pattern is found\n",
    "    # pattern3 = [-1,-1,-1,-1]\n",
    "    common = UNCOMMON4\n",
    "    s=0\n",
    "    n_compounds=0\n",
    "    n_common=0\n",
    "    \n",
    "    for compound in counts:\n",
    "        if(counts[compound]==4):\n",
    "            n_compounds += 1\n",
    "            if(tests[compound]!=common):\n",
    "                continue\n",
    "            n_common += 1\n",
    "            if (np.sign(fc[compound])==PATTERN3).sum() == 4:\n",
    "                s+=1\n",
    "    return s, s/n_common, s/n_compounds\n",
    "\n",
    "def name_quad_outlier(counts, fc, tests, names):\n",
    "    # Returns the number of times an uncommon pattern is found\n",
    "    # pattern3 = [-1,-1,-1,-1]\n",
    "    common = UNCOMMON4\n",
    "    result = []\n",
    "    result2 = []\n",
    "    s=0\n",
    "    for compound in counts:\n",
    "        if(tests[compound]!=common):\n",
    "            continue\n",
    "        if (np.sign(fc[compound])==PATTERN3).sum() == 4:\n",
    "            s+=1\n",
    "            result.append(names[compound])\n",
    "            result2.append(compound)\n",
    "    #print(\"number of uncommon findings: {}\".format(s))\n",
    "    return result,result2\n",
    "\n",
    "\n",
    "def tests2sparse(tests):\n",
    "    full=defaultdict()\n",
    "    \n",
    "    for compound in tests:\n",
    "        #seed = ['aSYN--comb.', 'aSYN--INFg', 'aSYN--UT',  'comb.--INFg.', 'comb.--UT', 'INFg--UT']\n",
    "        TMP = ['aSYN-(-)-comb.', 'aSYN-(-)-INFg', 'aSYN-(-)-UT',  'comb.-(-)-INFg.', 'comb.-(-)-UT', 'INFg-(-)-UT',\\\n",
    "               'aSYN-(+)-comb.', 'aSYN-(+)-INFg', 'aSYN-(+)-UT',  'comb.-(+)-INFg.', 'comb.-(+)-UT', 'INFg-(+)-UT']\n",
    "        seed = ['****None****','****None****','****None****','****None****','****None****','****None****']\n",
    "        for i in range(6):\n",
    "            #if(ALL[i] in tests[compound]):\n",
    "            #    continue\n",
    "            #else:        \n",
    "            #    seed[i]='***None***'\n",
    "            if(TMP[i] in tests[compound]):\n",
    "                seed[i]=TMP[i]\n",
    "            elif(TMP[i+6] in tests[compound]):\n",
    "                seed[i]=TMP[i+6]\n",
    "            \n",
    "        full[compound]=seed\n",
    "        \n",
    "    return full\n",
    "\n",
    "def tests2sparse_unsigned(tests):\n",
    "    full=defaultdict()\n",
    "    \n",
    "    for compound in tests:\n",
    "        seed = ['aSYN--comb.', 'aSYN--INFg', 'aSYN--UT',  'comb.--INFg.', 'comb.--UT', 'INFg--UT']\n",
    "        for i in range(6):\n",
    "            if(ALL[i] in tests[compound]):\n",
    "                continue\n",
    "            else:        \n",
    "                seed[i]='***None***'\n",
    "            \n",
    "        full[compound]=seed\n",
    "        \n",
    "    return full\n",
    "\n"
   ]
  },
  {
   "cell_type": "markdown",
   "id": "46f9c190",
   "metadata": {},
   "source": [
    "### Without GAP fill information"
   ]
  },
  {
   "cell_type": "code",
   "execution_count": 15,
   "id": "5764e3bb",
   "metadata": {},
   "outputs": [
    {
     "data": {
      "text/plain": [
       "['cellshilicneg_log2.csvALPHA0.05FC1.0MINVAR0.125.csv',\n",
       " 'cellshilicpos_log2.csvALPHA0.05FC1.0MINVAR0.125.csv',\n",
       " 'cellslipidomicsneg_log2.csvALPHA0.05FC1.0MINVAR0.125.csv',\n",
       " 'cellslipidomicspos_log2.csvALPHA0.05FC1.0MINVAR0.125.csv',\n",
       " 'cellsRPneg_log2.csvALPHA0.05FC1.0MINVAR0.125.csv',\n",
       " 'cellsRPpos_log2.csvALPHA0.05FC1.0MINVAR0.125.csv',\n",
       " 'mediumHILICneg_log2.csvALPHA0.05FC1.0MINVAR0.125.csv',\n",
       " 'mediumHILICpos_log2.csvALPHA0.05FC1.0MINVAR0.125.csv',\n",
       " 'mediumRPneg_log2.csvALPHA0.05FC1.0MINVAR0.125.csv',\n",
       " 'mediumRPpos_log2.csvALPHA0.05FC1.0MINVAR0.125.csv']"
      ]
     },
     "execution_count": 15,
     "metadata": {},
     "output_type": "execute_result"
    }
   ],
   "source": [
    "#path = '../PDproj/cellresults/ttest/dumps/'\n",
    "path = '../../PDproj/cellresults/ttest/ALPHA0.05FC1.0MINVAR0.125/'\n",
    "filenames = [line.rstrip() for line in open(path +'filenames.txt')]\n",
    "filenames"
   ]
  },
  {
   "cell_type": "markdown",
   "id": "1b24109a",
   "metadata": {},
   "source": [
    "### With GAP fill information"
   ]
  },
  {
   "cell_type": "code",
   "execution_count": 4,
   "id": "bd8860fa",
   "metadata": {},
   "outputs": [
    {
     "data": {
      "text/plain": [
       "['cellshilicnegALPHA0.05FC1.0MINVAR0.125.csv',\n",
       " 'cellshilicposALPHA0.05FC1.0MINVAR0.125.csv',\n",
       " 'cellslipidnegALPHA0.05FC1.0MINVAR0.125.csv',\n",
       " 'cellslipidposALPHA0.05FC1.0MINVAR0.125.csv',\n",
       " 'cellsRPnegALPHA0.05FC1.0MINVAR0.125.csv',\n",
       " 'cellsRPposALPHA0.05FC1.0MINVAR0.125.csv',\n",
       " 'mediumhilicnegALPHA0.05FC1.0MINVAR0.125.csv',\n",
       " 'mediumhilicposALPHA0.05FC1.0MINVAR0.125.csv',\n",
       " 'mediumRPnegALPHA0.05FC1.0MINVAR0.125.csv',\n",
       " 'mediumRPposALPHA0.05FC1.0MINVAR0.125.csv']"
      ]
     },
     "execution_count": 4,
     "metadata": {},
     "output_type": "execute_result"
    }
   ],
   "source": [
    "#path = '../../PDproj/cellresults/ttest/withGF/ALPHA0.05FC1.5MINVAR0.250/'\n",
    "path = '../../PDproj/cellresults/ttest/withGF/ALPHA0.05FC1.0MINVAR0.125/'\n",
    "filenames = [line.rstrip() for line in open(path +'filenames.txt')]\n",
    "filenames"
   ]
  },
  {
   "cell_type": "markdown",
   "id": "11c85e6e",
   "metadata": {},
   "source": [
    "### Extract information to dicts with MTIME as key, and some basic information with TEST as key\n",
    "\n",
    "First define the necessary column names"
   ]
  },
  {
   "cell_type": "code",
   "execution_count": 60,
   "id": "613e631f",
   "metadata": {},
   "outputs": [],
   "source": [
    "col_masstime='masstime'\n",
    "col_test='TEST'\n",
    "col_FC='LOG-FC'\n",
    "col_compound='Name'\n",
    "missing_values=False"
   ]
  },
  {
   "cell_type": "code",
   "execution_count": 5,
   "id": "fe217978",
   "metadata": {},
   "outputs": [],
   "source": [
    "col_masstime=' masstime'\n",
    "col_test=' test'\n",
    "col_FC=' FC'\n",
    "col_compound=' compound'\n",
    "missing_values=False\n",
    "mv_tol=10"
   ]
  },
  {
   "cell_type": "code",
   "execution_count": 8,
   "id": "8e82457c",
   "metadata": {
    "scrolled": false
   },
   "outputs": [
    {
     "name": "stdout",
     "output_type": "stream",
     "text": [
      "----------------------------\n",
      "results for file: \n",
      "cellslipidposALPHA0.05FC1.0MINVAR0.125.csv\n",
      "\n",
      "Number of tests:  1320\n",
      "number of compounds (masstime): 414\n",
      "max number of tests per compound: 4\n",
      "1 test in 46 cases\n",
      "2 test in 78 cases\n",
      "3 test in 42 cases\n",
      "4 test in 248 cases\n",
      "\n",
      "Number of tests with positive fc in parenthesis\n",
      "INFg--UT: 294 (232)\n",
      "aSYN--INFg: 306 (69)\n",
      "aSYN--comb.: 361 (80)\n",
      "comb.--UT: 359 (279)\n",
      "\n",
      "1 test(s) present, mean absolute FC: 1.550342739130435\n",
      "2 test(s) present, mean absolute FC: 1.6825803589743589\n",
      "3 test(s) present, mean absolute FC: 1.6416019206349204\n",
      "4 test(s) present, mean absolute FC: 2.1004659183467744\n",
      "\n",
      "common pattern ['aSYN--comb.', 'aSYN--INFg', 'comb.--UT', 'INFg--UT']\n",
      "Number of [-1 -1  1  1]: 34 (0.137%)\n",
      "Number of [ 1  1 -1 -1]: 12 (0.048%)\n",
      "Number of outliers: 202 (0.815%)\n"
     ]
    }
   ],
   "source": [
    "filenum = 3\n",
    "data = pd.read_csv(path + filenames[filenum], sep=';')\n",
    "#print(filenames[filenum])\n",
    "\n",
    "MTIME_test = defaultdict()\n",
    "MTIME_counts = defaultdict()\n",
    "MTIME_fc = defaultdict()\n",
    "MTIME_name = defaultdict()\n",
    "n_compounds=0\n",
    "for mt in np.unique(data[col_masstime]):\n",
    "    MTIME_test[mt]=[]\n",
    "    MTIME_fc[mt]=[]\n",
    "    MTIME_counts[mt]=0\n",
    "    n_compounds+=1\n",
    "    for i in range(data.shape[0]):\n",
    "        if(data[col_masstime][i]==mt):\n",
    "            MTIME_test[mt].append(data[col_test][i])\n",
    "            MTIME_fc[mt].append(data[col_FC][i])\n",
    "            MTIME_counts[mt]+=1\n",
    "            MTIME_name[mt]=data[col_compound][i]\n",
    "\n",
    "# Collect indices for each different count\n",
    "inds=counts2indices(MTIME_counts)\n",
    "\n",
    "TEST_counts = defaultdict()\n",
    "TEST_pos = defaultdict()\n",
    "for test in np.unique(data[col_test]):\n",
    "    TEST_counts[test]=0\n",
    "    TEST_pos[test]=0\n",
    "    for i in range(data.shape[0]):\n",
    "        if(data[col_test][i]==test):\n",
    "            TEST_counts[test]+=1\n",
    "            if(data[col_FC][i]>=0):\n",
    "                TEST_pos[test]+=1\n",
    "\n",
    "########################################################################\n",
    "# Add count info to dataframe\n",
    "data['count']=np.zeros((data.shape[0],1),dtype=int)\n",
    "for i in range(data.shape[0]):\n",
    "    data['count'][i]=MTIME_counts[data[col_masstime][i]]\n",
    "    \n",
    "########################################################################\n",
    "#MTIME_full_test = tests2sparse(MTIME_test)\n",
    "if missing_values:\n",
    "    mvalues = data[' mv1'] + data[' mv2']\n",
    "\n",
    "    MTIME_mv = defaultdict()\n",
    "    dubious_compounds=[]\n",
    "    for mt in np.unique(data[col_masstime]):\n",
    "        MTIME_mv[mt]=[]\n",
    "        for i in range(data.shape[0]):\n",
    "            if(data[col_masstime][i]==mt):\n",
    "                if data[' mv1'][i] + data[' mv2'][i] >= mv_tol:\n",
    "                    MTIME_mv[mt].append(True)\n",
    "                    dubious_compounds.append(mt)\n",
    "                else:\n",
    "                    MTIME_mv[mt].append(False)\n",
    "        \n",
    "\n",
    "    mv_counts=[]\n",
    "    for each in MTIME_mv.values():\n",
    "        mv_counts.append(np.sum(each))\n",
    "    mv_counts=np.asarray(mv_counts, dtype=int)\n",
    "    mv_bool=mv_counts>=1\n",
    "    dubious_compounds=np.unique(dubious_compounds)\n",
    "    \n",
    "#############################################################################\n",
    "print(\"----------------------------\\nresults for file: \\n{}\\n\".format(filenames[filenum]))\n",
    "\n",
    "print(\"Number of tests: \",data.shape[0])\n",
    "max_tests = show_counts(MTIME_counts)\n",
    "print()\n",
    "show_effects(TEST_counts,TEST_pos)\n",
    "print()\n",
    "for j in range(1,max_tests+1):\n",
    "    FC = data.iloc[np.where(data['count']==j)][col_FC].to_numpy()\n",
    "    #print(\"mean positive FC: {}\".format(FC[FC>=0].mean()))\n",
    "    #print(\"mean negative FC: {}\".format(FC[FC<0].mean()))\n",
    "    print(\"{} test(s) present, mean absolute FC: {}\".format(j,np.abs(FC).mean()))\n",
    "    \n",
    "print()\n",
    "q1 = count_quad_patterns(MTIME_counts, MTIME_fc, MTIME_test, PATTERN1)\n",
    "q2 = count_quad_patterns(MTIME_counts, MTIME_fc, MTIME_test, PATTERN2)\n",
    "r1, r2 = q1[2], q2[2]\n",
    "print('common pattern {}'.format(COMMON4))\n",
    "print(\"Number of {}: {} ({}%)\".format(PATTERN1, q1[0],round(r1,3)))\n",
    "print(\"Number of {}: {} ({}%)\".format(PATTERN2, q2[0],round(r2,3)))\n",
    "print(\"Number of outliers: {} ({}%)\".format(inds[4][0].shape[0]-q1[0]-q2[0], round(1-r1-r2,3)))\n",
    "\n",
    "if missing_values:\n",
    "    print(\"\\nProportion (number) of tests with missing with values: \",np.round(np.mean(mvalues>=mv_tol),3),\\\n",
    "                                                                       \" (\",np.sum(mvalues>=mv_tol),')')\n",
    "\n",
    "    print(\"\\n----------------------------\\nresults for file: \\n{}\".format(filenames[filenum]))\n",
    "    print(\"\\nDubious compounds:\")\n",
    "    for cmp in dubious_compounds:\n",
    "        print(cmp, MTIME_name[cmp])"
   ]
  },
  {
   "cell_type": "code",
   "execution_count": 27,
   "id": "540e974a",
   "metadata": {},
   "outputs": [
    {
     "name": "stdout",
     "output_type": "stream",
     "text": [
      "*uncommon* pattern ['aSYN--INFg', 'aSYN--UT', 'comb.--INFg.', 'comb.--UT']\n",
      "Number of [-1 -1 -1 -1]: 6 (0.214%)]\n",
      "(['[Similar to: Sultamicillin: ΔMass: -435.1099 Da]', 'Indole-3-acetic acid', 'Penicillin G', nan, nan, nan], ['160.04277@6.651', '176.07067@6.651', '335.10592@6.651', '380.1636@6.654', '435.0306@6.654', '515.16911@5.676'])\n"
     ]
    }
   ],
   "source": [
    "q3=count_quad_outlier(MTIME_counts,MTIME_fc,MTIME_test)\n",
    "r3=q3[2]\n",
    "print('*uncommon* pattern {}'.format(UNCOMMON4))\n",
    "print(\"Number of {}: {} ({}%)]\".format(PATTERN3, q3[0], round(r3,3)))\n",
    "print(name_quad_outlier(MTIME_counts,MTIME_fc,MTIME_test,MTIME_name))"
   ]
  },
  {
   "cell_type": "markdown",
   "id": "14c45a93",
   "metadata": {},
   "source": [
    "### Inspect the results"
   ]
  },
  {
   "cell_type": "markdown",
   "id": "270a5856",
   "metadata": {},
   "source": [
    "Common tests:\n",
    "* INFg--UT: \n",
    "* aSYN--INFg: \n",
    "* aSYN--comb.: \n",
    "* comb.--UT: "
   ]
  },
  {
   "cell_type": "code",
   "execution_count": 56,
   "id": "a7e7ccd1",
   "metadata": {
    "scrolled": false
   },
   "outputs": [
    {
     "name": "stdout",
     "output_type": "stream",
     "text": [
      "----------------------------\n",
      "results for file: \n",
      "cellsRPpos_log2.csvALPHA0.05FC1.0MINVAR0.125.csv\n",
      "\n",
      "Number of tests:  453\n",
      "number of compounds (masstime): 180\n",
      "max number of tests per compound: 4\n",
      "1 test in 48 cases\n",
      "2 test in 54 cases\n",
      "3 test in 15 cases\n",
      "4 test in 63 cases\n",
      "\n",
      "Number of tests with positive fc in parenthesis\n",
      "INFg--UT: 99 (77)\n",
      "aSYN--INFg: 75 (12)\n",
      "aSYN--UT: 1 (0)\n",
      "aSYN--comb.: 115 (14)\n",
      "comb.--INFg.: 1 (0)\n",
      "comb.--UT: 162 (135)\n",
      "\n",
      "1 test(s) present, mean absolute FC: 1.0534166666666667\n",
      "2 test(s) present, mean absolute FC: 1.267787037037037\n",
      "3 test(s) present, mean absolute FC: 1.5702888888888884\n",
      "4 test(s) present, mean absolute FC: 2.2801468253968253\n",
      "\n",
      "common pattern ['aSYN--comb.', 'aSYN--INFg', 'comb.--UT', 'INFg--UT']\n",
      "Number of [-1 -1  1  1]: 52 (0.825%)\n",
      "Number of [ 1  1 -1 -1]: 10 (0.159%)\n",
      "Number of outliers: 1 (0.016%)\n",
      "\n",
      "Proportion (number) of tests with missing with values:  0.0  ( 0 )\n",
      "\n",
      "----------------------------\n",
      "results for file: \n",
      "cellsRPpos_log2.csvALPHA0.05FC1.0MINVAR0.125.csv\n",
      "\n",
      "Dubious compounds:\n"
     ]
    }
   ],
   "source": [
    "print(\"----------------------------\\nresults for file: \\n{}\\n\".format(filenames[filenum]))\n",
    "\n",
    "print(\"Number of tests: \",data.shape[0])\n",
    "max_tests = show_counts(MTIME_counts)\n",
    "print()\n",
    "show_effects(TEST_counts,TEST_pos)\n",
    "print()\n",
    "for j in range(1,max_tests+1):\n",
    "    FC = data.iloc[np.where(data['count']==j)][col_FC].to_numpy()\n",
    "    #print(\"mean positive FC: {}\".format(FC[FC>=0].mean()))\n",
    "    #print(\"mean negative FC: {}\".format(FC[FC<0].mean()))\n",
    "    print(\"{} test(s) present, mean absolute FC: {}\".format(j,np.abs(FC).mean()))\n",
    "    \n",
    "print()\n",
    "q1 = count_quad_patterns(MTIME_counts, MTIME_fc, MTIME_test, PATTERN1)\n",
    "q2 = count_quad_patterns(MTIME_counts, MTIME_fc, MTIME_test, PATTERN2)\n",
    "r1, r2 = q1[2], q2[2]\n",
    "print('common pattern {}'.format(COMMON4))\n",
    "print(\"Number of {}: {} ({}%)\".format(PATTERN1, q1[0],round(r1,3)))\n",
    "print(\"Number of {}: {} ({}%)\".format(PATTERN2, q2[0],round(r2,3)))\n",
    "print(\"Number of outliers: {} ({}%)\".format(inds[4][0].shape[0]-q1[0]-q2[0], round(1-r1-r2,3)))\n",
    "\n",
    "print(\"\\nProportion (number) of tests with missing with values: \",np.round(np.mean(mvalues>=mv_tol),3),\\\n",
    "                                                                       \" (\",np.sum(mvalues>=mv_tol),')')\n",
    "\n",
    "print(\"\\n----------------------------\\nresults for file: \\n{}\".format(filenames[filenum]))\n",
    "print(\"\\nDubious compounds:\")\n",
    "for cmp in dubious_compounds:\n",
    "    print(cmp, MTIME_name[cmp])"
   ]
  },
  {
   "cell_type": "code",
   "execution_count": 41,
   "id": "55643e2c",
   "metadata": {},
   "outputs": [
    {
     "ename": "ZeroDivisionError",
     "evalue": "division by zero",
     "output_type": "error",
     "traceback": [
      "\u001b[0;31m---------------------------------------------------------------------------\u001b[0m",
      "\u001b[0;31mZeroDivisionError\u001b[0m                         Traceback (most recent call last)",
      "Cell \u001b[0;32mIn[41], line 1\u001b[0m\n\u001b[0;32m----> 1\u001b[0m q3\u001b[38;5;241m=\u001b[39m\u001b[43mcount_quad_outlier\u001b[49m\u001b[43m(\u001b[49m\u001b[43mMTIME_counts\u001b[49m\u001b[43m,\u001b[49m\u001b[43mMTIME_fc\u001b[49m\u001b[43m,\u001b[49m\u001b[43mMTIME_test\u001b[49m\u001b[43m)\u001b[49m\n\u001b[1;32m      2\u001b[0m r3\u001b[38;5;241m=\u001b[39mq3[\u001b[38;5;241m2\u001b[39m]\n\u001b[1;32m      3\u001b[0m \u001b[38;5;28mprint\u001b[39m(\u001b[38;5;124m'\u001b[39m\u001b[38;5;124m*uncommon* pattern \u001b[39m\u001b[38;5;132;01m{}\u001b[39;00m\u001b[38;5;124m'\u001b[39m\u001b[38;5;241m.\u001b[39mformat(UNCOMMON4))\n",
      "Cell \u001b[0;32mIn[24], line 118\u001b[0m, in \u001b[0;36mcount_quad_outlier\u001b[0;34m(counts, fc, tests)\u001b[0m\n\u001b[1;32m    116\u001b[0m         \u001b[38;5;28;01mif\u001b[39;00m (np\u001b[38;5;241m.\u001b[39msign(fc[compound])\u001b[38;5;241m==\u001b[39mPATTERN3)\u001b[38;5;241m.\u001b[39msum() \u001b[38;5;241m==\u001b[39m \u001b[38;5;241m4\u001b[39m:\n\u001b[1;32m    117\u001b[0m             s\u001b[38;5;241m+\u001b[39m\u001b[38;5;241m=\u001b[39m\u001b[38;5;241m1\u001b[39m\n\u001b[0;32m--> 118\u001b[0m \u001b[38;5;28;01mreturn\u001b[39;00m s, \u001b[43ms\u001b[49m\u001b[38;5;241;43m/\u001b[39;49m\u001b[43mn_common\u001b[49m, s\u001b[38;5;241m/\u001b[39mn_compounds\n",
      "\u001b[0;31mZeroDivisionError\u001b[0m: division by zero"
     ]
    }
   ],
   "source": [
    "q3=count_quad_outlier(MTIME_counts,MTIME_fc,MTIME_test)\n",
    "r3=q3[2]\n",
    "print('*uncommon* pattern {}'.format(UNCOMMON4))\n",
    "print(\"Number of {}: {} ({}%)]\".format(PATTERN3, q3[0], round(r3,3)))\n",
    "print(name_quad_outlier(MTIME_counts,MTIME_fc,MTIME_test,MTIME_name))"
   ]
  },
  {
   "cell_type": "code",
   "execution_count": 244,
   "id": "b1c3a672",
   "metadata": {
    "scrolled": false
   },
   "outputs": [
    {
     "name": "stdout",
     "output_type": "stream",
     "text": [
      "----------------------------\n",
      "results for file: \n",
      "cellsRPnegALPHA0.05FC1.0MINVAR0.125.csv\n",
      "\n",
      "Dubious compounds:\n",
      "323.07971@0.562 nan\n",
      "447.38528@11.182 stigmastane-3beta,5alpha,6beta-triol\n"
     ]
    }
   ],
   "source": [
    "print(\"----------------------------\\nresults for file: \\n{}\".format(filenames[filenum]))\n",
    "print(\"\\nDubious compounds:\")\n",
    "for cmp in dubious_compounds:\n",
    "    print(cmp, MTIME_name[cmp])"
   ]
  },
  {
   "cell_type": "code",
   "execution_count": 136,
   "id": "8beef1b5",
   "metadata": {},
   "outputs": [
    {
     "name": "stdout",
     "output_type": "stream",
     "text": [
      "----------------------------\n",
      "results for file: \n",
      "cellslipidnegALPHA0.05FC1.0MINVAR0.125.csv\n",
      "\n",
      "Dubious compounds:\n",
      "1289.84621@17.639\n",
      "1329.8026@16.62\n",
      "1331.8182@17.725\n",
      "1399.80566@17.726\n",
      "1450.1332@14.64\n",
      "1454.01302@22.421\n",
      "1519.12313@14.645\n",
      "1564.15253@16.206\n",
      "584.52625@16.891\n",
      "584.52628@16.894\n",
      "662.47713@14.948\n",
      "676.5291@17.223\n",
      "686.62299@21.06\n",
      "692.62049@19.31\n",
      "694.63616@20.133\n",
      "702.50845@15.827\n",
      "704.56047@18.389\n",
      "706.48578@16.986\n",
      "706.67261@21.407\n",
      "709.62933@21.058\n",
      "718.53996@17.599\n",
      "721.55095@13.629\n",
      "731.56039@16.493\n",
      "736.51428@13.855\n",
      "741.52771@15.549\n",
      "744.55584@17.692\n",
      "780.59193@18.2\n",
      "786.5661@15.838\n",
      "798.60286@18.725\n",
      "808.51165@15.801\n",
      "808.51177@15.516\n",
      "811.53064@16.518\n",
      "816.4493@16.482\n",
      "819.51905@11.976\n",
      "820.54816@17.392\n",
      "822.56376@17.881\n",
      "824.46729@15.112\n",
      "840.61276@16.474\n",
      "863.55938@15.294\n",
      "870.54829@14.939\n",
      "880.53027@17.69\n",
      "914.53587@16.113\n"
     ]
    }
   ],
   "source": [
    "print(\"----------------------------\\nresults for file: \\n{}\".format(filenames[filenum]))\n",
    "print(\"\\nDubious compounds:\")\n",
    "for cmp in dubious_compounds:\n",
    "    print(cmp)"
   ]
  },
  {
   "cell_type": "markdown",
   "id": "d98e514b",
   "metadata": {},
   "source": [
    "### Uncommon pattern"
   ]
  },
  {
   "cell_type": "code",
   "execution_count": 64,
   "id": "935c0229",
   "metadata": {},
   "outputs": [
    {
     "data": {
      "text/plain": [
       "([], [])"
      ]
     },
     "execution_count": 64,
     "metadata": {},
     "output_type": "execute_result"
    }
   ],
   "source": [
    "name_quad_outlier(MTIME_counts,MTIME_fc,MTIME_test,MTIME_name)"
   ]
  },
  {
   "cell_type": "code",
   "execution_count": 333,
   "id": "c38f2fb8",
   "metadata": {},
   "outputs": [
    {
     "name": "stdout",
     "output_type": "stream",
     "text": [
      "aSYN-(-)-comb.   aSYN-(-)-INFg   ****None****   ****None****   comb.-(+)-UT   INFg-(+)-UT   \n",
      "aSYN-(-)-comb.   aSYN-(-)-INFg   ****None****   ****None****   comb.-(+)-UT   INFg-(+)-UT   \n",
      "****None****   aSYN-(-)-INFg   aSYN-(-)-UT   comb.-(-)-INFg.   comb.-(-)-UT   ****None****   \n",
      "aSYN-(-)-comb.   aSYN-(-)-INFg   ****None****   ****None****   comb.-(+)-UT   INFg-(+)-UT   \n",
      "****None****   aSYN-(-)-INFg   aSYN-(-)-UT   comb.-(-)-INFg.   comb.-(-)-UT   ****None****   \n",
      "****None****   aSYN-(-)-INFg   aSYN-(-)-UT   comb.-(-)-INFg.   comb.-(-)-UT   ****None****   \n",
      "****None****   aSYN-(-)-INFg   aSYN-(-)-UT   comb.-(-)-INFg.   comb.-(-)-UT   ****None****   \n"
     ]
    }
   ],
   "source": [
    "n_tests=4\n",
    "tmp=list_tests(MTIME_test, MTIME_fc, inds[n_tests])\n",
    "for lst in tests2sparse(tmp).values():\n",
    "    for val in lst:\n",
    "        print(\"{}   \".format(val), end='')\n",
    "    print()"
   ]
  },
  {
   "cell_type": "markdown",
   "id": "d2ec9aee",
   "metadata": {},
   "source": [
    "# Manual checks"
   ]
  },
  {
   "cell_type": "code",
   "execution_count": 218,
   "id": "1319285e",
   "metadata": {},
   "outputs": [
    {
     "name": "stdout",
     "output_type": "stream",
     "text": [
      "aSYN-(-)-comb.   aSYN-(-)-INFg   ****None****   ****None****   comb.-(+)-UT   INFg-(+)-UT   \n",
      "aSYN-(-)-comb.   aSYN-(-)-INFg   ****None****   ****None****   comb.-(+)-UT   INFg-(+)-UT   \n",
      "aSYN-(+)-comb.   aSYN-(+)-INFg   ****None****   ****None****   comb.-(-)-UT   INFg-(-)-UT   \n",
      "aSYN-(-)-comb.   aSYN-(-)-INFg   ****None****   ****None****   comb.-(+)-UT   INFg-(+)-UT   \n",
      "aSYN-(-)-comb.   aSYN-(-)-INFg   ****None****   ****None****   comb.-(+)-UT   INFg-(+)-UT   \n",
      "aSYN-(-)-comb.   aSYN-(-)-INFg   ****None****   ****None****   comb.-(+)-UT   INFg-(+)-UT   \n",
      "aSYN-(-)-comb.   aSYN-(-)-INFg   ****None****   ****None****   comb.-(+)-UT   INFg-(+)-UT   \n",
      "aSYN-(-)-comb.   aSYN-(-)-INFg   ****None****   ****None****   comb.-(+)-UT   INFg-(+)-UT   \n",
      "aSYN-(-)-comb.   aSYN-(-)-INFg   ****None****   ****None****   comb.-(+)-UT   INFg-(+)-UT   \n",
      "aSYN-(-)-comb.   aSYN-(-)-INFg   ****None****   ****None****   comb.-(+)-UT   INFg-(+)-UT   \n",
      "aSYN-(-)-comb.   aSYN-(-)-INFg   ****None****   ****None****   comb.-(+)-UT   INFg-(+)-UT   \n",
      "aSYN-(-)-comb.   aSYN-(-)-INFg   ****None****   ****None****   comb.-(+)-UT   INFg-(+)-UT   \n",
      "aSYN-(-)-comb.   aSYN-(-)-INFg   ****None****   ****None****   comb.-(+)-UT   INFg-(+)-UT   \n",
      "aSYN-(-)-comb.   aSYN-(-)-INFg   ****None****   ****None****   comb.-(+)-UT   INFg-(+)-UT   \n"
     ]
    }
   ],
   "source": [
    "n_tests=4\n",
    "tmp=list_tests(MTIME_test, MTIME_fc, inds[n_tests])\n",
    "for lst in tests2sparse(tmp).values():\n",
    "    for val in lst:\n",
    "        print(\"{}   \".format(val), end='')\n",
    "    print()"
   ]
  },
  {
   "cell_type": "code",
   "execution_count": 300,
   "id": "cd369615",
   "metadata": {},
   "outputs": [
    {
     "name": "stdout",
     "output_type": "stream",
     "text": [
      "aSYN--comb.   aSYN--INFg   ***None***   ***None***   comb.--UT   INFg--UT   \n",
      "aSYN--comb.   aSYN--INFg   ***None***   ***None***   comb.--UT   INFg--UT   \n",
      "***None***   aSYN--INFg   aSYN--UT   comb.--INFg.   comb.--UT   ***None***   \n",
      "aSYN--comb.   aSYN--INFg   ***None***   ***None***   comb.--UT   INFg--UT   \n",
      "***None***   aSYN--INFg   ***None***   ***None***   ***None***   ***None***   \n",
      "***None***   aSYN--INFg   aSYN--UT   comb.--INFg.   comb.--UT   ***None***   \n",
      "***None***   aSYN--INFg   aSYN--UT   comb.--INFg.   comb.--UT   ***None***   \n",
      "***None***   aSYN--INFg   aSYN--UT   comb.--INFg.   comb.--UT   ***None***   \n"
     ]
    }
   ],
   "source": [
    "for lst in tests2sparse_unsigned(MTIME_test).values():\n",
    "    for val in lst:\n",
    "        print(\"{}   \".format(val), end='')\n",
    "    print()"
   ]
  },
  {
   "cell_type": "code",
   "execution_count": 171,
   "id": "2129446e",
   "metadata": {
    "scrolled": true
   },
   "outputs": [
    {
     "name": "stdout",
     "output_type": "stream",
     "text": [
      "aSYN-(-)-comb.  aSYN-(-)-INFg  comb.-(+)-UT  INFg-(+)-UT  (1151.70665@12.726)\n",
      "INFg-(+)-UT  comb.-(+)-UT  aSYN-(-)-comb.  aSYN-(-)-INFg  (1153.72215@13.283)\n",
      "aSYN-(-)-comb.  aSYN-(-)-INFg  comb.-(+)-UT  INFg-(+)-UT  (1179.73769@14.233)\n",
      "aSYN-(-)-comb.  aSYN-(-)-INFg  comb.-(+)-UT  INFg-(+)-UT  (1207.76851@15.542)\n",
      "comb.-(+)-UT  INFg-(+)-UT  aSYN-(-)-comb.  aSYN-(-)-INFg  (1219.69346@12.732)\n",
      "comb.-(+)-UT  INFg-(+)-UT  aSYN-(-)-comb.  aSYN-(-)-INFg  (1233.78384@15.494)\n",
      "aSYN-(-)-comb.  aSYN-(-)-INFg  comb.-(+)-UT  INFg-(+)-UT  (1235.79971@16.695)\n",
      "INFg-(+)-UT  aSYN-(-)-INFg  aSYN-(-)-comb.  comb.-(+)-UT  (1237.81503@17.059)\n",
      "aSYN-(-)-comb.  aSYN-(-)-INFg  comb.-(+)-UT  INFg-(+)-UT  (1259.79955@15.672)\n",
      "aSYN-(-)-INFg  aSYN-(-)-comb.  INFg-(+)-UT  comb.-(+)-UT  (1261.81512@16.618)\n",
      "comb.-(+)-UT  INFg-(+)-UT  aSYN-(-)-comb.  aSYN-(-)-INFg  (1261.81555@16.085)\n",
      "aSYN-(-)-comb.  aSYN-(-)-INFg  comb.-(+)-UT  INFg-(+)-UT  (1263.83096@17.724)\n",
      "INFg-(+)-UT  aSYN-(-)-INFg  aSYN-(-)-comb.  comb.-(+)-UT  (1263.83102@16.991)\n",
      "aSYN-(-)-INFg  aSYN-(-)-comb.  INFg-(+)-UT  comb.-(+)-UT  (1265.84698@18.053)\n",
      "aSYN-(-)-comb.  aSYN-(-)-INFg  comb.-(+)-UT  INFg-(+)-UT  (1287.83064@16.762)\n",
      "aSYN-(-)-comb.  aSYN-(-)-INFg  comb.-(+)-UT  INFg-(+)-UT  (1289.84621@17.639)\n",
      "aSYN-(-)-comb.  aSYN-(-)-INFg  comb.-(+)-UT  INFg-(+)-UT  (1291.86188@18.662)\n",
      "aSYN-(-)-comb.  aSYN-(-)-INFg  comb.-(+)-UT  INFg-(+)-UT  (1329.8026@16.62)\n",
      "aSYN-(-)-comb.  aSYN-(-)-INFg  comb.-(+)-UT  INFg-(+)-UT  (1331.8182@17.725)\n",
      "aSYN-(-)-INFg  INFg-(+)-UT  aSYN-(-)-comb.  comb.-(+)-UT  (1333.83398@18.057)\n",
      "comb.-(+)-UT  aSYN-(-)-comb.  INFg-(+)-UT  aSYN-(-)-INFg  (1454.01302@22.421)\n",
      "INFg-(+)-UT  comb.-(+)-UT  aSYN-(-)-INFg  aSYN-(-)-comb.  (1510.12122@16.177)\n",
      "aSYN-(-)-INFg  INFg-(+)-UT  aSYN-(-)-comb.  comb.-(+)-UT  (1590.1678@16.261)\n",
      "aSYN-(-)-comb.  comb.-(+)-UT  aSYN-(-)-INFg  INFg-(+)-UT  (1591.17147@16.274)\n",
      "aSYN-(-)-INFg  INFg-(+)-UT  comb.-(+)-UT  aSYN-(-)-comb.  (574.49736@16.893)\n",
      "aSYN-(-)-INFg  INFg-(+)-UT  comb.-(+)-UT  aSYN-(-)-comb.  (574.49737@16.893)\n",
      "aSYN-(-)-INFg  aSYN-(-)-comb.  comb.-(+)-UT  INFg-(+)-UT  (584.52625@16.891)\n",
      "aSYN-(-)-INFg  aSYN-(-)-comb.  comb.-(+)-UT  INFg-(+)-UT  (584.52628@16.894)\n",
      "aSYN-(-)-INFg  aSYN-(-)-comb.  comb.-(+)-UT  INFg-(+)-UT  (585.52958@16.902)\n",
      "aSYN-(-)-comb.  aSYN-(-)-INFg  comb.-(+)-UT  INFg-(+)-UT  (601.51643@16.888)\n",
      "comb.-(+)-UT  INFg-(+)-UT  aSYN-(-)-INFg  aSYN-(-)-comb.  (612.55758@18.148)\n",
      "INFg-(+)-UT  comb.-(+)-UT  aSYN-(-)-INFg  aSYN-(-)-comb.  (621.52151@16.373)\n",
      "aSYN-(-)-INFg  aSYN-(-)-comb.  comb.-(+)-UT  INFg-(+)-UT  (647.46616@15.413)\n",
      "aSYN-(-)-comb.  aSYN-(-)-INFg  comb.-(+)-UT  INFg-(+)-UT  (652.51394@16.886)\n",
      "aSYN-(-)-comb.  aSYN-(-)-INFg  comb.-(+)-UT  INFg-(+)-UT  (652.51403@16.887)\n",
      "aSYN-(-)-INFg  INFg-(+)-UT  aSYN-(-)-comb.  comb.-(+)-UT  (666.60469@19.201)\n",
      "aSYN-(-)-comb.  comb.-(+)-UT  aSYN-(-)-INFg  INFg-(+)-UT  (668.62065@20.191)\n",
      "comb.-(+)-UT  aSYN-(-)-comb.  INFg-(+)-UT  aSYN-(-)-INFg  (674.51349@16.051)\n",
      "aSYN-(-)-INFg  aSYN-(-)-comb.  comb.-(+)-UT  INFg-(+)-UT  (676.52916@17.219)\n",
      "aSYN-(-)-INFg  aSYN-(-)-comb.  comb.-(+)-UT  INFg-(+)-UT  (676.5291@17.223)\n",
      "INFg-(+)-UT  aSYN-(-)-INFg  comb.-(+)-UT  aSYN-(-)-comb.  (684.6073@20.127)\n",
      "INFg-(+)-UT  aSYN-(-)-INFg  comb.-(+)-UT  aSYN-(-)-comb.  (686.62299@21.06)\n",
      "comb.-(+)-UT  aSYN-(-)-comb.  INFg-(+)-UT  aSYN-(-)-INFg  (688.52921@16.701)\n",
      "aSYN-(-)-INFg  aSYN-(-)-comb.  comb.-(+)-UT  INFg-(+)-UT  (692.62049@19.31)\n",
      "aSYN-(-)-INFg  INFg-(+)-UT  comb.-(+)-UT  aSYN-(-)-comb.  (694.63616@20.133)\n",
      "INFg-(+)-UT  aSYN-(-)-INFg  comb.-(+)-UT  aSYN-(-)-comb.  (696.65192@21.061)\n",
      "aSYN-(-)-comb.  aSYN-(-)-INFg  comb.-(+)-UT  INFg-(+)-UT  (698.50368@16.889)\n",
      "aSYN-(-)-comb.  aSYN-(-)-INFg  comb.-(+)-UT  INFg-(+)-UT  (698.50379@16.89)\n",
      "INFg-(+)-UT  aSYN-(-)-INFg  comb.-(+)-UT  aSYN-(-)-comb.  (702.50844@15.822)\n",
      "INFg-(+)-UT  aSYN-(-)-INFg  aSYN-(-)-comb.  comb.-(+)-UT  (702.50845@15.827)\n",
      "aSYN-(-)-comb.  comb.-(+)-UT  aSYN-(-)-INFg  INFg-(+)-UT  (702.5451@17.28)\n",
      "comb.-(+)-UT  aSYN-(-)-comb.  INFg-(+)-UT  aSYN-(-)-INFg  (704.55109@17.311)\n",
      "aSYN-(-)-INFg  aSYN-(-)-comb.  comb.-(+)-UT  INFg-(+)-UT  (704.56047@18.389)\n",
      "INFg-(+)-UT  aSYN-(-)-INFg  comb.-(+)-UT  aSYN-(-)-comb.  (707.61362@20.132)\n",
      "INFg-(+)-UT  comb.-(+)-UT  aSYN-(-)-INFg  aSYN-(-)-comb.  (709.62933@21.058)\n",
      "INFg-(+)-UT  aSYN-(-)-INFg  comb.-(+)-UT  aSYN-(-)-comb.  (711.62638@20.128)\n",
      "INFg-(+)-UT  comb.-(+)-UT  aSYN-(-)-INFg  aSYN-(-)-comb.  (713.64192@21.06)\n",
      "aSYN-(-)-comb.  aSYN-(-)-INFg  INFg-(+)-UT  comb.-(+)-UT  (721.55095@13.629)\n",
      "comb.-(+)-UT  aSYN-(-)-comb.  INFg-(+)-UT  aSYN-(-)-INFg  (724.52933@15.776)\n",
      "comb.-(+)-UT  aSYN-(-)-comb.  INFg-(+)-UT  aSYN-(-)-INFg  (724.52939@15.776)\n",
      "INFg-(+)-UT  comb.-(+)-UT  aSYN-(-)-INFg  aSYN-(-)-comb.  (726.54517@16.352)\n",
      "comb.-(+)-UT  aSYN-(-)-comb.  INFg-(+)-UT  aSYN-(-)-INFg  (726.54523@16.673)\n",
      "comb.-(+)-UT  INFg-(+)-UT  aSYN-(-)-comb.  aSYN-(-)-INFg  (726.54553@16.336)\n",
      "comb.-(+)-UT  aSYN-(-)-comb.  aSYN-(-)-INFg  INFg-(+)-UT  (727.54846@17.321)\n",
      "comb.-(+)-UT  aSYN-(-)-comb.  INFg-(+)-UT  aSYN-(-)-INFg  (728.52429@15.862)\n",
      "comb.-(+)-UT  aSYN-(-)-comb.  INFg-(+)-UT  aSYN-(-)-INFg  (728.56082@17.585)\n",
      "comb.-(+)-UT  aSYN-(-)-comb.  INFg-(+)-UT  aSYN-(-)-INFg  (728.56084@17.318)\n",
      "comb.-(+)-UT  aSYN-(-)-comb.  INFg-(+)-UT  aSYN-(-)-INFg  (728.56094@17.569)\n",
      "comb.-(+)-UT  INFg-(+)-UT  aSYN-(-)-comb.  aSYN-(-)-INFg  (728.56105@17.463)\n",
      "comb.-(+)-UT  aSYN-(-)-comb.  INFg-(+)-UT  aSYN-(-)-INFg  (728.56122@17.335)\n",
      "comb.-(+)-UT  INFg-(+)-UT  aSYN-(-)-comb.  aSYN-(-)-INFg  (729.56408@18.218)\n",
      "comb.-(+)-UT  aSYN-(-)-comb.  INFg-(+)-UT  aSYN-(-)-INFg  (729.56409@17.32)\n",
      "aSYN-(-)-comb.  aSYN-(-)-INFg  comb.-(+)-UT  INFg-(+)-UT  (730.54005@17.102)\n",
      "aSYN-(-)-comb.  comb.-(+)-UT  aSYN-(-)-INFg  INFg-(+)-UT  (730.54015@17.101)\n",
      "comb.-(+)-UT  aSYN-(-)-comb.  aSYN-(-)-INFg  INFg-(+)-UT  (730.57632@18.393)\n",
      "comb.-(+)-UT  aSYN-(-)-comb.  INFg-(+)-UT  aSYN-(-)-INFg  (731.54324@17.103)\n",
      "comb.-(+)-UT  aSYN-(-)-comb.  INFg-(+)-UT  aSYN-(-)-INFg  (731.57983@18.475)\n",
      "aSYN-(-)-INFg  aSYN-(-)-comb.  comb.-(+)-UT  INFg-(+)-UT  (732.5015@17.032)\n",
      "aSYN-(-)-comb.  aSYN-(-)-INFg  comb.-(+)-UT  INFg-(+)-UT  (732.5015@17.034)\n",
      "aSYN-(-)-comb.  aSYN-(-)-INFg  comb.-(+)-UT  INFg-(+)-UT  (736.51428@13.855)\n",
      "aSYN-(-)-comb.  comb.-(+)-UT  aSYN-(-)-INFg  INFg-(+)-UT  (736.60791@20.182)\n",
      "comb.-(+)-UT  aSYN-(-)-comb.  INFg-(+)-UT  aSYN-(-)-INFg  (742.50111@16.049)\n",
      "comb.-(+)-UT  aSYN-(-)-comb.  INFg-(+)-UT  aSYN-(-)-INFg  (742.50177@16.055)\n",
      "comb.-(+)-UT  aSYN-(-)-comb.  INFg-(+)-UT  aSYN-(-)-INFg  (742.53998@16.539)\n",
      "comb.-(+)-UT  aSYN-(-)-comb.  INFg-(+)-UT  aSYN-(-)-INFg  (742.54018@16.501)\n",
      "aSYN-(-)-comb.  aSYN-(-)-INFg  comb.-(+)-UT  INFg-(+)-UT  (744.51691@17.209)\n",
      "comb.-(+)-UT  aSYN-(-)-comb.  INFg-(+)-UT  aSYN-(-)-INFg  (744.55584@17.692)\n",
      "comb.-(+)-UT  INFg-(+)-UT  aSYN-(-)-comb.  aSYN-(-)-INFg  (745.55914@17.63)\n",
      "comb.-(+)-UT  aSYN-(-)-comb.  INFg-(+)-UT  aSYN-(-)-INFg  (749.58218@15.292)\n",
      "comb.-(+)-UT  aSYN-(-)-comb.  INFg-(+)-UT  aSYN-(-)-INFg  (749.5823@15.285)\n",
      "aSYN-(-)-comb.  aSYN-(-)-INFg  comb.-(+)-UT  INFg-(+)-UT  (752.56063@17.036)\n",
      "aSYN-(-)-INFg  aSYN-(-)-comb.  comb.-(+)-UT  INFg-(+)-UT  (752.56116@16.878)\n",
      "comb.-(+)-UT  aSYN-(-)-comb.  INFg-(+)-UT  aSYN-(-)-INFg  (752.56181@16.695)\n",
      "aSYN-(-)-comb.  aSYN-(-)-INFg  comb.-(+)-UT  INFg-(+)-UT  (754.5679@17.042)\n",
      "comb.-(+)-UT  aSYN-(-)-comb.  INFg-(+)-UT  aSYN-(-)-INFg  (754.57629@17.883)\n",
      "aSYN-(-)-comb.  aSYN-(-)-INFg  comb.-(+)-UT  INFg-(+)-UT  (754.5773@17.706)\n",
      "comb.-(+)-UT  INFg-(+)-UT  aSYN-(-)-comb.  aSYN-(-)-INFg  (758.60759@19.369)\n",
      "comb.-(+)-UT  INFg-(+)-UT  aSYN-(-)-comb.  aSYN-(-)-INFg  (762.62353@20.127)\n",
      "aSYN-(-)-INFg  aSYN-(-)-comb.  comb.-(+)-UT  INFg-(+)-UT  (764.54509@15.129)\n",
      "aSYN-(-)-INFg  aSYN-(-)-comb.  comb.-(+)-UT  INFg-(+)-UT  (764.54545@15.133)\n",
      "comb.-(+)-UT  aSYN-(-)-comb.  INFg-(+)-UT  aSYN-(-)-INFg  (764.63932@21.06)\n",
      "aSYN-(+)-INFg  INFg-(-)-UT  aSYN-(+)-comb.  comb.-(-)-UT  (769.50314@12.04)\n",
      "aSYN-(+)-INFg  INFg-(-)-UT  aSYN-(+)-comb.  comb.-(-)-UT  (769.5032@12.043)\n",
      "comb.-(+)-UT  aSYN-(-)-comb.  INFg-(+)-UT  aSYN-(-)-INFg  (770.53242@17.283)\n",
      "comb.-(+)-UT  aSYN-(-)-comb.  INFg-(+)-UT  aSYN-(-)-INFg  (770.5325@17.233)\n",
      "comb.-(+)-UT  INFg-(+)-UT  aSYN-(-)-comb.  aSYN-(-)-INFg  (770.57106@17.673)\n",
      "aSYN-(-)-comb.  aSYN-(-)-INFg  INFg-(+)-UT  comb.-(+)-UT  (770.57118@17.823)\n",
      "comb.-(+)-UT  aSYN-(-)-comb.  INFg-(+)-UT  aSYN-(-)-INFg  (770.57125@17.962)\n",
      "aSYN-(-)-comb.  aSYN-(-)-INFg  comb.-(+)-UT  INFg-(+)-UT  (772.58669@18.704)\n",
      "comb.-(+)-UT  aSYN-(-)-comb.  INFg-(+)-UT  aSYN-(-)-INFg  (774.52972@15.411)\n",
      "comb.-(+)-UT  aSYN-(-)-comb.  INFg-(+)-UT  aSYN-(-)-INFg  (777.61333@16.79)\n",
      "aSYN-(-)-comb.  aSYN-(-)-INFg  comb.-(+)-UT  INFg-(+)-UT  (780.59193@18.2)\n",
      "aSYN-(-)-comb.  aSYN-(-)-INFg  comb.-(+)-UT  INFg-(+)-UT  (780.59223@17.713)\n",
      "aSYN-(-)-INFg  aSYN-(-)-comb.  INFg-(+)-UT  comb.-(+)-UT  (780.59264@18.046)\n",
      "aSYN-(-)-comb.  aSYN-(-)-INFg  comb.-(+)-UT  INFg-(+)-UT  (780.59275@17.967)\n",
      "aSYN-(-)-comb.  comb.-(+)-UT  aSYN-(-)-INFg  INFg-(+)-UT  (782.59797@20.192)\n",
      "comb.-(+)-UT  aSYN-(-)-comb.  aSYN-(-)-INFg  INFg-(+)-UT  (790.561@15.54)\n",
      "comb.-(+)-UT  aSYN-(-)-comb.  INFg-(+)-UT  aSYN-(-)-INFg  (794.53242@16.675)\n",
      "comb.-(+)-UT  aSYN-(-)-comb.  INFg-(+)-UT  aSYN-(-)-INFg  (794.53254@16.674)\n",
      "INFg-(+)-UT  comb.-(+)-UT  aSYN-(-)-INFg  aSYN-(-)-comb.  (796.54804@17.582)\n",
      "comb.-(+)-UT  INFg-(+)-UT  aSYN-(-)-comb.  aSYN-(-)-INFg  (796.54805@18.227)\n",
      "comb.-(+)-UT  aSYN-(-)-comb.  INFg-(+)-UT  aSYN-(-)-INFg  (796.54818@17.305)\n",
      "INFg-(-)-UT  comb.-(-)-UT  aSYN-(+)-INFg  aSYN-(+)-comb.  (797.53461@13.499)\n",
      "comb.-(+)-UT  aSYN-(-)-comb.  INFg-(+)-UT  aSYN-(-)-INFg  (802.47011@17.303)\n",
      "comb.-(+)-UT  aSYN-(-)-comb.  INFg-(+)-UT  aSYN-(-)-INFg  (805.64504@18.113)\n",
      "aSYN-(-)-INFg  aSYN-(-)-comb.  comb.-(+)-UT  INFg-(+)-UT  (806.59785@19.313)\n",
      "aSYN-(-)-comb.  aSYN-(-)-INFg  comb.-(+)-UT  INFg-(+)-UT  (807.50358@13.112)\n",
      "INFg-(-)-UT  comb.-(-)-UT  aSYN-(+)-INFg  aSYN-(+)-comb.  (808.55044@14.605)\n",
      "INFg-(+)-UT  aSYN-(-)-INFg  comb.-(+)-UT  aSYN-(-)-comb.  (808.6137@20.133)\n",
      "aSYN-(-)-comb.  aSYN-(-)-INFg  comb.-(+)-UT  INFg-(+)-UT  (809.51936@14.381)\n",
      "INFg-(-)-UT  aSYN-(+)-INFg  comb.-(-)-UT  aSYN-(+)-comb.  (810.56609@15.586)\n",
      "INFg-(+)-UT  comb.-(+)-UT  aSYN-(-)-comb.  aSYN-(-)-INFg  (810.62939@21.061)\n",
      "comb.-(+)-UT  aSYN-(-)-comb.  INFg-(+)-UT  aSYN-(-)-INFg  (816.57678@15.637)\n",
      "INFg-(+)-UT  comb.-(+)-UT  aSYN-(-)-INFg  aSYN-(-)-comb.  (816.57725@17.098)\n",
      "aSYN-(+)-comb.  aSYN-(+)-INFg  comb.-(-)-UT  INFg-(-)-UT  (817.50336@11.511)\n",
      "INFg-(+)-UT  aSYN-(-)-INFg  aSYN-(-)-comb.  comb.-(+)-UT  (818.59222@16.601)\n",
      "INFg-(+)-UT  aSYN-(-)-INFg  comb.-(+)-UT  aSYN-(-)-comb.  (818.59235@16.874)\n",
      "aSYN-(+)-INFg  aSYN-(+)-comb.  comb.-(-)-UT  INFg-(-)-UT  (819.51905@11.976)\n",
      "INFg-(+)-UT  aSYN-(-)-INFg  comb.-(+)-UT  aSYN-(-)-comb.  (819.59612@16.873)\n",
      "aSYN-(-)-INFg  aSYN-(-)-comb.  comb.-(+)-UT  INFg-(+)-UT  (820.55431@16.82)\n",
      "aSYN-(+)-INFg  aSYN-(+)-comb.  INFg-(-)-UT  comb.-(-)-UT  (821.5347@13.025)\n",
      "comb.-(+)-UT  aSYN-(-)-comb.  INFg-(+)-UT  aSYN-(-)-INFg  (822.56376@17.881)\n",
      "comb.-(-)-UT  aSYN-(+)-comb.  INFg-(-)-UT  aSYN-(+)-INFg  (830.55384@16.832)\n",
      "aSYN-(-)-comb.  aSYN-(-)-INFg  comb.-(+)-UT  INFg-(+)-UT  (833.51943@13.196)\n",
      "aSYN-(-)-comb.  comb.-(+)-UT  aSYN-(-)-INFg  INFg-(+)-UT  (833.51944@13.447)\n",
      "aSYN-(-)-comb.  comb.-(+)-UT  aSYN-(-)-INFg  INFg-(+)-UT  (834.52998@14.538)\n",
      "aSYN-(-)-INFg  aSYN-(-)-comb.  comb.-(+)-UT  INFg-(+)-UT  (835.53524@14.455)\n",
      "comb.-(-)-UT  INFg-(-)-UT  aSYN-(+)-INFg  aSYN-(+)-comb.  (836.58164@15.665)\n",
      "comb.-(+)-UT  INFg-(+)-UT  aSYN-(-)-comb.  aSYN-(-)-INFg  (838.55843@17.651)\n",
      "INFg-(+)-UT  comb.-(+)-UT  aSYN-(-)-comb.  aSYN-(-)-INFg  (844.48077@17.691)\n",
      "comb.-(+)-UT  aSYN-(-)-comb.  INFg-(+)-UT  aSYN-(-)-INFg  (855.66042@17.276)\n",
      "comb.-(+)-UT  INFg-(+)-UT  aSYN-(-)-comb.  aSYN-(-)-INFg  (856.68911@19.173)\n",
      "comb.-(+)-UT  aSYN-(-)-comb.  aSYN-(-)-INFg  INFg-(+)-UT  (858.62354@17.507)\n",
      "comb.-(+)-UT  aSYN-(-)-comb.  INFg-(+)-UT  aSYN-(-)-INFg  (859.69215@19.18)\n",
      "INFg-(+)-UT  comb.-(+)-UT  aSYN-(-)-INFg  aSYN-(-)-comb.  (860.62994@17.572)\n",
      "comb.-(+)-UT  INFg-(+)-UT  aSYN-(-)-comb.  aSYN-(-)-INFg  (860.6393@18.611)\n",
      "aSYN-(-)-comb.  aSYN-(-)-INFg  comb.-(+)-UT  INFg-(+)-UT  (861.55032@14.857)\n",
      "aSYN-(-)-comb.  aSYN-(-)-INFg  comb.-(+)-UT  INFg-(+)-UT  (861.5504@14.579)\n",
      "aSYN-(-)-comb.  aSYN-(-)-INFg  comb.-(+)-UT  INFg-(+)-UT  (863.56608@15.796)\n",
      "aSYN-(-)-comb.  aSYN-(-)-INFg  INFg-(+)-UT  comb.-(+)-UT  (864.56935@15.774)\n",
      "comb.-(+)-UT  aSYN-(-)-comb.  INFg-(+)-UT  aSYN-(-)-INFg  (885.55066@14.327)\n",
      "aSYN-(-)-comb.  aSYN-(-)-INFg  INFg-(+)-UT  comb.-(+)-UT  (887.56647@14.779)\n",
      "aSYN-(-)-INFg  INFg-(+)-UT  aSYN-(-)-comb.  comb.-(+)-UT  (889.58159@16.126)\n",
      "aSYN-(-)-comb.  aSYN-(-)-INFg  INFg-(+)-UT  comb.-(+)-UT  (889.58173@15.986)\n",
      "aSYN-(-)-comb.  aSYN-(-)-INFg  INFg-(+)-UT  comb.-(+)-UT  (889.58178@15.739)\n",
      "comb.-(+)-UT  aSYN-(-)-comb.  INFg-(+)-UT  aSYN-(-)-INFg  (891.59742@16.843)\n",
      "comb.-(+)-UT  INFg-(+)-UT  aSYN-(-)-comb.  aSYN-(-)-INFg  (898.51144@15.296)\n",
      "comb.-(+)-UT  aSYN-(-)-comb.  INFg-(+)-UT  aSYN-(-)-INFg  (901.66371@19.267)\n",
      "aSYN-(-)-comb.  comb.-(+)-UT  INFg-(+)-UT  aSYN-(-)-INFg  (926.6111@17.489)\n",
      "comb.-(+)-UT  INFg-(+)-UT  aSYN-(-)-comb.  aSYN-(-)-INFg  (927.67967@19.181)\n",
      "aSYN-(-)-comb.  aSYN-(-)-INFg  comb.-(+)-UT  INFg-(+)-UT  (931.55379@15.783)\n",
      "comb.-(+)-UT  aSYN-(-)-comb.  INFg-(+)-UT  aSYN-(-)-INFg  (995.66696@19.181)\n",
      "-------------------------------------\n",
      "comb.-(+)-UT  INFg-(+)-UT  aSYN-(-)-comb.  (1446.12705@17.111)\n",
      "comb.-(+)-UT  aSYN-(-)-comb.  INFg-(+)-UT  (700.52933@16.322)\n",
      "comb.-(+)-UT  aSYN-(-)-comb.  INFg-(+)-UT  (700.52938@16.334)\n",
      "aSYN-(-)-comb.  aSYN-(-)-INFg  comb.-(+)-UT  (706.48578@16.986)\n",
      "aSYN-(-)-comb.  aSYN-(-)-INFg  comb.-(+)-UT  (706.48584@16.983)\n",
      "aSYN-(-)-comb.  comb.-(+)-UT  aSYN-(-)-INFg  (714.50858@15.185)\n",
      "comb.-(+)-UT  INFg-(+)-UT  aSYN-(-)-comb.  (719.48771@12.619)\n",
      "comb.-(+)-UT  aSYN-(-)-comb.  aSYN-(-)-INFg  (743.54327@16.444)\n",
      "comb.-(+)-UT  aSYN-(-)-comb.  INFg-(+)-UT  (746.562@17.628)\n",
      "comb.-(+)-UT  aSYN-(-)-comb.  aSYN-(-)-INFg  (750.56592@16.35)\n",
      "aSYN-(-)-comb.  comb.-(+)-UT  INFg-(+)-UT  (766.53985@16.213)\n",
      "aSYN-(-)-comb.  comb.-(+)-UT  INFg-(+)-UT  (766.54034@16.207)\n",
      "comb.-(+)-UT  INFg-(+)-UT  aSYN-(-)-comb.  (768.51664@16.336)\n",
      "comb.-(+)-UT  INFg-(+)-UT  aSYN-(-)-comb.  (768.51675@16.33)\n",
      "aSYN-(-)-INFg  INFg-(+)-UT  comb.-(+)-UT  (779.57971@17.041)\n",
      "comb.-(+)-UT  aSYN-(-)-comb.  aSYN-(-)-INFg  (790.59754@17.107)\n",
      "comb.-(+)-UT  aSYN-(-)-comb.  aSYN-(-)-INFg  (790.59782@17.109)\n",
      "aSYN-(-)-INFg  INFg-(+)-UT  comb.-(+)-UT  (791.56421@15.468)\n",
      "comb.-(+)-UT  aSYN-(-)-comb.  INFg-(+)-UT  (792.55564@16.618)\n",
      "comb.-(+)-UT  aSYN-(-)-comb.  aSYN-(-)-INFg  (792.60376@17.048)\n",
      "aSYN-(-)-comb.  comb.-(+)-UT  INFg-(+)-UT  (794.57122@17.43)\n",
      "comb.-(+)-UT  INFg-(+)-UT  aSYN-(-)-INFg  (796.54827@18.218)\n",
      "comb.-(+)-UT  INFg-(+)-UT  aSYN-(-)-comb.  (812.54301@17.691)\n",
      "comb.-(+)-UT  INFg-(+)-UT  aSYN-(-)-comb.  (828.51666@17.69)\n",
      "comb.-(+)-UT  aSYN-(-)-comb.  INFg-(+)-UT  (828.51681@17.689)\n",
      "comb.-(+)-UT  aSYN-(-)-comb.  INFg-(+)-UT  (831.66082@18.04)\n",
      "aSYN-(-)-comb.  comb.-(+)-UT  INFg-(+)-UT  (834.67999@19.309)\n",
      "comb.-(+)-UT  aSYN-(-)-comb.  INFg-(+)-UT  (835.61694@17.464)\n",
      "comb.-(-)-UT  aSYN-(+)-comb.  INFg-(-)-UT  (836.58043@14.941)\n",
      "comb.-(+)-UT  aSYN-(-)-comb.  INFg-(+)-UT  (857.5193@12.887)\n",
      "comb.-(+)-UT  INFg-(+)-UT  aSYN-(-)-comb.  (862.51968@16.679)\n",
      "aSYN-(-)-INFg  comb.-(+)-UT  INFg-(+)-UT  (886.65483@18.637)\n",
      "comb.-(+)-UT  aSYN-(-)-comb.  aSYN-(-)-INFg  (891.46927@16.526)\n",
      "comb.-(+)-UT  aSYN-(-)-comb.  INFg-(+)-UT  (892.48632@17.69)\n",
      "comb.-(+)-UT  aSYN-(-)-comb.  INFg-(+)-UT  (893.48537@17.695)\n",
      "comb.-(+)-UT  INFg-(+)-UT  aSYN-(-)-comb.  (897.51281@15.291)\n",
      "-------------------------------------\n",
      "comb.-(+)-UT  INFg-(+)-UT  (1399.80566@17.726)\n",
      "aSYN-(-)-comb.  comb.-(+)-UT  (1427.99724@22.417)\n",
      "comb.-(+)-UT  aSYN-(-)-comb.  (1450.1332@14.64)\n",
      "INFg-(+)-UT  aSYN-(-)-INFg  (554.47899@14.876)\n",
      "INFg-(+)-UT  aSYN-(-)-INFg  (554.479@14.874)\n",
      "aSYN-(-)-INFg  INFg-(+)-UT  (617.58268@16.492)\n",
      "comb.-(+)-UT  aSYN-(-)-comb.  (688.49286@15.122)\n",
      "comb.-(+)-UT  aSYN-(-)-comb.  (688.52915@16.704)\n",
      "comb.-(+)-UT  aSYN-(-)-comb.  (689.49609@15.127)\n",
      "comb.-(+)-UT  aSYN-(-)-comb.  (716.52446@16.468)\n",
      "INFg-(+)-UT  comb.-(+)-UT  (721.50323@13.875)\n",
      "aSYN-(-)-comb.  aSYN-(-)-INFg  (722.49868@13.003)\n",
      "aSYN-(-)-INFg  INFg-(+)-UT  (731.56039@16.493)\n",
      "comb.-(+)-UT  INFg-(+)-UT  (739.55329@15.304)\n",
      "comb.-(+)-UT  aSYN-(-)-comb.  (746.5796@15.708)\n",
      "comb.-(+)-UT  aSYN-(-)-comb.  (756.48021@15.118)\n",
      "comb.-(+)-UT  aSYN-(-)-comb.  (756.48023@15.12)\n",
      "comb.-(+)-UT  aSYN-(-)-comb.  (762.56617@15.801)\n",
      "aSYN-(-)-comb.  comb.-(+)-UT  (768.55583@16.692)\n",
      "INFg-(+)-UT  comb.-(+)-UT  (769.55963@16.671)\n",
      "aSYN-(-)-INFg  INFg-(+)-UT  (778.57687@17.043)\n",
      "comb.-(+)-UT  INFg-(+)-UT  (815.50634@14.016)\n",
      "comb.-(+)-UT  aSYN-(-)-comb.  (816.4493@16.482)\n",
      "comb.-(+)-UT  aSYN-(-)-comb.  (817.56963@15.293)\n",
      "comb.-(+)-UT  INFg-(+)-UT  (818.62866@18.391)\n",
      "comb.-(+)-UT  aSYN-(-)-comb.  (820.64489@19.249)\n",
      "aSYN-(-)-comb.  comb.-(+)-UT  (824.46729@15.112)\n",
      "aSYN-(-)-comb.  comb.-(+)-UT  (830.55373@15.794)\n",
      "comb.-(+)-UT  INFg-(+)-UT  (831.5568@15.84)\n",
      "comb.-(+)-UT  INFg-(+)-UT  (844.48063@17.69)\n",
      "comb.-(+)-UT  aSYN-(-)-comb.  (863.55938@15.294)\n",
      "comb.-(+)-UT  INFg-(+)-UT  (929.69538@20.326)\n",
      "comb.-(+)-UT  aSYN-(-)-comb.  (944.65051@19.249)\n",
      "-------------------------------------\n",
      "aSYN-(-)-comb.  (1369.91793@20.877)\n",
      "aSYN-(-)-comb.  (1453.09651@14.652)\n",
      "aSYN-(-)-comb.  (1454.09947@14.654)\n",
      "aSYN-(-)-comb.  (1518.11986@14.639)\n",
      "comb.-(+)-UT  (674.51364@15.992)\n",
      "comb.-(+)-UT  (686.51345@16.501)\n",
      "comb.-(+)-UT  (714.50867@15.187)\n",
      "aSYN-(-)-comb.  (722.49856@13.011)\n",
      "comb.-(+)-UT  (740.52439@15.802)\n",
      "comb.-(+)-UT  (742.54024@16.764)\n",
      "comb.-(+)-UT  (745.50337@12.78)\n",
      "comb.-(+)-UT  (747.51896@14.023)\n",
      "comb.-(+)-UT  (747.51911@14.011)\n",
      "comb.-(+)-UT  (750.54489@16.665)\n",
      "comb.-(+)-UT  (767.54311@16.736)\n",
      "comb.-(+)-UT  (773.53441@14.142)\n",
      "INFg-(+)-UT  (774.56619@16.733)\n",
      "INFg-(+)-UT  (776.5606@16.7)\n",
      "comb.-(+)-UT  (778.57634@17.423)\n",
      "comb.-(+)-UT  (789.54892@16.236)\n",
      "comb.-(+)-UT  (798.60286@18.725)\n",
      "comb.-(+)-UT  (801.5654@15.325)\n",
      "comb.-(+)-UT  (820.54831@17.033)\n",
      "comb.-(-)-UT  (840.61276@16.474)\n",
      "comb.-(+)-UT  (841.52167@14.137)\n",
      "comb.-(+)-UT  (848.45966@16.329)\n",
      "comb.-(+)-UT  (850.47113@16.176)\n",
      "comb.-(+)-UT  (861.70802@20.327)\n",
      "aSYN-(-)-comb.  (862.5582@17.429)\n",
      "comb.-(+)-UT  (863.43795@15.438)\n",
      "comb.-(+)-UT  (864.45483@16.485)\n",
      "aSYN-(-)-comb.  (864.53529@17.581)\n",
      "comb.-(+)-UT  (865.45333@16.485)\n",
      "comb.-(+)-UT  (898.54119@15.796)\n",
      "aSYN-(-)-comb.  (924.67664@19.189)\n",
      "aSYN-(-)-comb.  (926.52119@17.693)\n",
      "aSYN-(-)-comb.  (939.52693@17.156)\n",
      "comb.-(+)-UT  (961.47242@17.695)\n",
      "-------------------------------------\n"
     ]
    }
   ],
   "source": [
    "for i in range(max_tests,0,-1):\n",
    "    show_tests(MTIME_test, MTIME_fc, inds[i])\n",
    "    print(\"-------------------------------------\")"
   ]
  },
  {
   "cell_type": "code",
   "execution_count": 501,
   "id": "4a8adaea",
   "metadata": {},
   "outputs": [
    {
     "data": {
      "text/plain": [
       "'[Similar to: Sultamicillin: ΔMass: -435.1099 Da]'"
      ]
     },
     "execution_count": 501,
     "metadata": {},
     "output_type": "execute_result"
    }
   ],
   "source": [
    "MTIME_name['160.04277@6.651']"
   ]
  },
  {
   "cell_type": "code",
   "execution_count": 502,
   "id": "77130d81",
   "metadata": {},
   "outputs": [
    {
     "data": {
      "text/plain": [
       "'Indole-3-acetic acid'"
      ]
     },
     "execution_count": 502,
     "metadata": {},
     "output_type": "execute_result"
    }
   ],
   "source": [
    "MTIME_name['176.07067@6.651']"
   ]
  },
  {
   "cell_type": "code",
   "execution_count": 503,
   "id": "4f330249",
   "metadata": {},
   "outputs": [
    {
     "data": {
      "text/plain": [
       "nan"
      ]
     },
     "execution_count": 503,
     "metadata": {},
     "output_type": "execute_result"
    }
   ],
   "source": [
    "MTIME_name['189.06927@6.649']"
   ]
  },
  {
   "cell_type": "code",
   "execution_count": 504,
   "id": "f9ba1509",
   "metadata": {},
   "outputs": [
    {
     "data": {
      "text/plain": [
       "'Penicillin G'"
      ]
     },
     "execution_count": 504,
     "metadata": {},
     "output_type": "execute_result"
    }
   ],
   "source": [
    "MTIME_name['335.10592@6.651']"
   ]
  },
  {
   "cell_type": "code",
   "execution_count": 505,
   "id": "1dbcff70",
   "metadata": {},
   "outputs": [
    {
     "data": {
      "text/plain": [
       "nan"
      ]
     },
     "execution_count": 505,
     "metadata": {},
     "output_type": "execute_result"
    }
   ],
   "source": [
    "MTIME_name['380.1636@6.654']"
   ]
  },
  {
   "cell_type": "code",
   "execution_count": 500,
   "id": "bebcdd1c",
   "metadata": {},
   "outputs": [
    {
     "name": "stdout",
     "output_type": "stream",
     "text": [
      "nan\n",
      "nan\n",
      "nan\n",
      "nan\n"
     ]
    }
   ],
   "source": [
    "print(MTIME_name['419.05785@6.651'])\n",
    "print(MTIME_name['434.03366@6.651'])\n",
    "print(MTIME_name['435.0306@6.654'])\n",
    "print(MTIME_name['515.16911@5.676'])"
   ]
  },
  {
   "cell_type": "code",
   "execution_count": null,
   "id": "c350b3d2",
   "metadata": {},
   "outputs": [],
   "source": [
    "MTIME_name['']"
   ]
  },
  {
   "cell_type": "code",
   "execution_count": 506,
   "id": "76194b8e",
   "metadata": {},
   "outputs": [
    {
     "name": "stdout",
     "output_type": "stream",
     "text": [
      "aSYN-(+)-comb.  aSYN-(+)-INFg  comb.-(-)-UT  (298.27399@10.969)\n",
      "aSYN-(-)-comb.  comb.-(+)-UT  INFg-(+)-UT  (774.655@6.207)\n",
      "aSYN-(-)-comb.  comb.-(+)-UT  INFg-(+)-UT  (926.85226@6.246)\n",
      "\n"
     ]
    }
   ],
   "source": [
    "i=3\n",
    "show_tests(MTIME_test,MTIME_fc,inds[i])\n",
    "print()\n",
    "#show_tests(MTIME_fc,inds[i])"
   ]
  },
  {
   "cell_type": "code",
   "execution_count": 473,
   "id": "6fc48bb8",
   "metadata": {},
   "outputs": [
    {
     "name": "stdout",
     "output_type": "stream",
     "text": [
      "['aSYN--comb.', 'aSYN--INFg', 'comb.--UT', 'INFg--UT']\n",
      "['aSYN--comb.', 'aSYN--INFg', 'comb.--UT', 'INFg--UT']\n",
      "['aSYN--INFg', 'aSYN--UT', 'comb.--INFg.', 'comb.--UT']\n",
      "['aSYN--comb.', 'aSYN--INFg', 'comb.--UT', 'INFg--UT']\n",
      "['aSYN--INFg', 'aSYN--UT', 'comb.--INFg.', 'comb.--UT']\n",
      "['aSYN--INFg', 'aSYN--UT', 'comb.--INFg.', 'comb.--UT']\n",
      "['aSYN--INFg', 'aSYN--UT', 'comb.--INFg.', 'comb.--UT']\n",
      "\n",
      "[-1.833, -1.886, 1.814, 1.866]\n",
      "[-4.029, -4.049, 3.997, 4.017]\n",
      "[-4.574, -4.037, -4.544, -4.007]\n",
      "[-5.3, -5.247, 5.315, 5.261]\n",
      "[-4.759, -4.172, -4.73, -4.143]\n",
      "[-4.696, -4.359, -4.437, -4.1]\n",
      "[-4.612, -4.32, -4.337, -4.045]\n"
     ]
    }
   ],
   "source": [
    "show(MTIME_test,inds[i])\n",
    "print()\n",
    "show(MTIME_fc,inds[i])"
   ]
  },
  {
   "cell_type": "code",
   "execution_count": 43,
   "id": "6bd52218",
   "metadata": {},
   "outputs": [
    {
     "data": {
      "text/plain": [
       "defaultdict(None,\n",
       "            {'116.07097@4.86': 'Proline',\n",
       "             '118.06147@5.74': 'Guanidineacetic acid',\n",
       "             '123.05559@0.665': 'Nicotinamide',\n",
       "             '123.05561@0.592': 'Nicotinamide',\n",
       "             '127.05048@5.447': 'Imidazoleacetic acid',\n",
       "             '144.10208@5.123': '1-Aminocyclohexanecarboxylic acid',\n",
       "             '144.10209@4.64': 'Stachydrine',\n",
       "             '146.09257@3.718': '4-Guanidinobutyric acid',\n",
       "             '179.04861@6.716': 'L-Cysteinylglycine',\n",
       "             '204.12317@3.219': 'Diethyl glutamate',\n",
       "             '204.1232@2.791': 'Acetyl-L-carnitine',\n",
       "             '205.09724@4.043': 'DL-Tryptophan',\n",
       "             '209.09228@4.045': 'Kynurenine',\n",
       "             '219.11294@0.719': 'N-Acetylserotonin',\n",
       "             '248.14927@4.052': 'N1-(1,3,5-Trimethyl-1H-pyrazol-4-yl)-2-cyano-3-(dimethylamino)acrylamide',\n",
       "             '300.12062@5.099': '3-Acetoxy-2-hydroxypropyl 2-(trimethylammonio)ethyl phosphate',\n",
       "             '308.091@6.716': 'L-Glutathione (reduced)',\n",
       "             '349.0542@6.887': \"Inosine-5'-monophosphate (IMP)\",\n",
       "             '405.3727@0.378': 'MFCD09743629',\n",
       "             '463.37813@0.386': nan,\n",
       "             '496.436@0.372': nan,\n",
       "             '496.436@0.373': nan,\n",
       "             '512.31706@0.815': nan,\n",
       "             '560.07883@7.739': nan,\n",
       "             '675.54347@0.954': 'N-myristoylsphingosine-1-phosphocholine',\n",
       "             '677.55857@0.874': nan,\n",
       "             '705.59037@0.85': '(2R,3S)-3-Hydroxy-2-(palmitoylamino)octadecyl 2-(trimethylammonio)ethyl phosphate',\n",
       "             '720.553@0.687': 'MFCD00042876',\n",
       "             '746.56849@0.459': nan,\n",
       "             '746.56936@0.683': nan,\n",
       "             '85.02891@2.788': nan})"
      ]
     },
     "execution_count": 43,
     "metadata": {},
     "output_type": "execute_result"
    }
   ],
   "source": [
    "MTIME_name"
   ]
  },
  {
   "cell_type": "markdown",
   "id": "270bc538",
   "metadata": {},
   "source": [
    "### Check if same compounds present in multiple modes"
   ]
  },
  {
   "cell_type": "code",
   "execution_count": 8,
   "id": "02b62fad",
   "metadata": {},
   "outputs": [
    {
     "name": "stdout",
     "output_type": "stream",
     "text": [
      "cellshilicnegALPHA0.05FC1.5MINVAR0.250.csv\n",
      "cellshilicposALPHA0.05FC1.5MINVAR0.250.csv\n",
      "cellsRPnegALPHA0.05FC1.5MINVAR0.250.csv\n",
      "cellsRPposALPHA0.05FC1.5MINVAR0.250.csv\n",
      "cellslipidnegALPHA0.05FC1.5MINVAR0.250.csv\n",
      "cellslipidposALPHA0.05FC1.5MINVAR0.250.csv\n",
      "mediumhilicnegALPHA0.05FC1.5MINVAR0.250.csv\n",
      "mediumhilicposALPHA0.05FC1.5MINVAR0.250.csv\n",
      "mediumRPnegALPHA0.05FC1.5MINVAR0.250.csv\n",
      "mediumRPposALPHA0.05FC1.5MINVAR0.250.csv\n"
     ]
    }
   ],
   "source": [
    "allNames4=defaultdict()\n",
    "allNames=defaultdict()\n",
    "n_global_compounds=0\n",
    "\n",
    "for filenum in range(10):\n",
    "\n",
    "    data = pd.read_csv(path + filenames[filenum], sep=';')\n",
    "    print(filenames[filenum])\n",
    "\n",
    "    \n",
    "    MTIME_counts = defaultdict()\n",
    "    n_compounds=0\n",
    "    for mt in np.unique(data[' masstime']):\n",
    "        MTIME_counts[mt]=0\n",
    "        n_compounds+=1\n",
    "        for i in range(data.shape[0]):\n",
    "            if(data[' masstime'][i]==mt):\n",
    "                MTIME_counts[mt]+=1\n",
    "                \n",
    "    n_global_compounds += n_compounds\n",
    "\n",
    "\n",
    "    names = []\n",
    "    for compound in MTIME_counts:\n",
    "        names.append(compound)\n",
    "\n",
    "    for compound in names:\n",
    "        if (compound in allNames.keys()):\n",
    "            allNames[compound]+=1\n",
    "        else:\n",
    "            allNames[compound]=1\n",
    "\n",
    "    names4 = []\n",
    "    for compound in MTIME_counts:\n",
    "        if(MTIME_counts[compound]==4):\n",
    "            names4.append(compound)\n",
    "\n",
    "    for compound in names4:\n",
    "        if (compound in allNames4.keys()):\n",
    "            allNames4[compound]+=1\n",
    "        else:\n",
    "            allNames4[compound]=1\n",
    "            \n",
    "            \n"
   ]
  },
  {
   "cell_type": "code",
   "execution_count": 9,
   "id": "84d9738c",
   "metadata": {},
   "outputs": [
    {
     "data": {
      "text/plain": [
       "831"
      ]
     },
     "execution_count": 9,
     "metadata": {},
     "output_type": "execute_result"
    }
   ],
   "source": [
    "len(allNames)"
   ]
  },
  {
   "cell_type": "code",
   "execution_count": 10,
   "id": "147d3e5c",
   "metadata": {},
   "outputs": [
    {
     "data": {
      "text/plain": [
       "832"
      ]
     },
     "execution_count": 10,
     "metadata": {},
     "output_type": "execute_result"
    }
   ],
   "source": [
    "n_global_compounds"
   ]
  },
  {
   "cell_type": "code",
   "execution_count": 11,
   "id": "9812fcce",
   "metadata": {},
   "outputs": [
    {
     "data": {
      "text/plain": [
       "1"
      ]
     },
     "execution_count": 11,
     "metadata": {},
     "output_type": "execute_result"
    }
   ],
   "source": [
    "sum(np.fromiter(allNames.values(), dtype=int)!=1)"
   ]
  },
  {
   "cell_type": "code",
   "execution_count": 12,
   "id": "4e3e8b37",
   "metadata": {},
   "outputs": [
    {
     "data": {
      "text/plain": [
       "468"
      ]
     },
     "execution_count": 12,
     "metadata": {},
     "output_type": "execute_result"
    }
   ],
   "source": [
    "len(allNames4)"
   ]
  },
  {
   "cell_type": "code",
   "execution_count": 13,
   "id": "36bf2bc5",
   "metadata": {},
   "outputs": [
    {
     "data": {
      "text/plain": [
       "1"
      ]
     },
     "execution_count": 13,
     "metadata": {},
     "output_type": "execute_result"
    }
   ],
   "source": [
    "sum(np.fromiter(allNames4.values(), dtype=int)!=1)"
   ]
  },
  {
   "cell_type": "code",
   "execution_count": 14,
   "id": "63809a23",
   "metadata": {},
   "outputs": [
    {
     "data": {
      "text/plain": [
       "(array([2]),)"
      ]
     },
     "execution_count": 14,
     "metadata": {},
     "output_type": "execute_result"
    }
   ],
   "source": [
    "np.where(np.fromiter(allNames4.values(), dtype=int)!=1)"
   ]
  },
  {
   "cell_type": "code",
   "execution_count": 17,
   "id": "4f543ae8",
   "metadata": {},
   "outputs": [
    {
     "name": "stdout",
     "output_type": "stream",
     "text": [
      "123.05559@0.665\n",
      "123.05561@0.592\n",
      "205.09724@4.043\n"
     ]
    }
   ],
   "source": [
    "i=0\n",
    "for elem in allNames4:\n",
    "    print(elem)\n",
    "    i+=1\n",
    "    if i==3:\n",
    "        break"
   ]
  },
  {
   "cell_type": "code",
   "execution_count": null,
   "id": "a389a96a",
   "metadata": {},
   "outputs": [],
   "source": []
  }
 ],
 "metadata": {
  "kernelspec": {
   "display_name": "Python 3 (ipykernel)",
   "language": "python",
   "name": "python3"
  },
  "language_info": {
   "codemirror_mode": {
    "name": "ipython",
    "version": 3
   },
   "file_extension": ".py",
   "mimetype": "text/x-python",
   "name": "python",
   "nbconvert_exporter": "python",
   "pygments_lexer": "ipython3",
   "version": "3.10.9"
  }
 },
 "nbformat": 4,
 "nbformat_minor": 5
}
