{
 "cells": [
  {
   "cell_type": "code",
   "execution_count": 3,
   "id": "91a6525f",
   "metadata": {},
   "outputs": [],
   "source": [
    "library(tidyverse)\n",
    "library(brms)"
   ]
  },
  {
   "cell_type": "code",
   "execution_count": 80,
   "id": "dee0cb9e",
   "metadata": {},
   "outputs": [],
   "source": [
    "path <- \"../../../PDproj/celldata/clean/\"\n",
    "filenames <- readLines(paste(path,\"filenames.txt\", sep=''))[-1]"
   ]
  },
  {
   "cell_type": "code",
   "execution_count": 81,
   "id": "4c71d50c",
   "metadata": {},
   "outputs": [
    {
     "data": {
      "text/html": [
       "<style>\n",
       ".list-inline {list-style: none; margin:0; padding: 0}\n",
       ".list-inline>li {display: inline-block}\n",
       ".list-inline>li:not(:last-child)::after {content: \"\\00b7\"; padding: 0 .5ex}\n",
       "</style>\n",
       "<ol class=list-inline><li>'cellshilicneg_log2.csv'</li><li>'cellshilicpos_log2.csv'</li><li>'cellslipidomicsneg_log2.csv'</li><li>'cellslipidomicspos_log2.csv'</li><li>'cellsRPneg_log2.csv'</li><li>'cellsRPpos_log2.csv'</li><li>'mediumHILICneg_log2.csv'</li><li>'mediumHILICpos_log2.csv'</li><li>'mediumRPneg_log2.csv'</li><li>'mediumRPpos_log2.csv'</li></ol>\n"
      ],
      "text/latex": [
       "\\begin{enumerate*}\n",
       "\\item 'cellshilicneg\\_log2.csv'\n",
       "\\item 'cellshilicpos\\_log2.csv'\n",
       "\\item 'cellslipidomicsneg\\_log2.csv'\n",
       "\\item 'cellslipidomicspos\\_log2.csv'\n",
       "\\item 'cellsRPneg\\_log2.csv'\n",
       "\\item 'cellsRPpos\\_log2.csv'\n",
       "\\item 'mediumHILICneg\\_log2.csv'\n",
       "\\item 'mediumHILICpos\\_log2.csv'\n",
       "\\item 'mediumRPneg\\_log2.csv'\n",
       "\\item 'mediumRPpos\\_log2.csv'\n",
       "\\end{enumerate*}\n"
      ],
      "text/markdown": [
       "1. 'cellshilicneg_log2.csv'\n",
       "2. 'cellshilicpos_log2.csv'\n",
       "3. 'cellslipidomicsneg_log2.csv'\n",
       "4. 'cellslipidomicspos_log2.csv'\n",
       "5. 'cellsRPneg_log2.csv'\n",
       "6. 'cellsRPpos_log2.csv'\n",
       "7. 'mediumHILICneg_log2.csv'\n",
       "8. 'mediumHILICpos_log2.csv'\n",
       "9. 'mediumRPneg_log2.csv'\n",
       "10. 'mediumRPpos_log2.csv'\n",
       "\n",
       "\n"
      ],
      "text/plain": [
       " [1] \"cellshilicneg_log2.csv\"      \"cellshilicpos_log2.csv\"     \n",
       " [3] \"cellslipidomicsneg_log2.csv\" \"cellslipidomicspos_log2.csv\"\n",
       " [5] \"cellsRPneg_log2.csv\"         \"cellsRPpos_log2.csv\"        \n",
       " [7] \"mediumHILICneg_log2.csv\"     \"mediumHILICpos_log2.csv\"    \n",
       " [9] \"mediumRPneg_log2.csv\"        \"mediumRPpos_log2.csv\"       "
      ]
     },
     "metadata": {},
     "output_type": "display_data"
    }
   ],
   "source": [
    "filenames"
   ]
  },
  {
   "cell_type": "code",
   "execution_count": 163,
   "id": "12356023",
   "metadata": {},
   "outputs": [
    {
     "name": "stderr",
     "output_type": "stream",
     "text": [
      "\u001b[36mℹ\u001b[39m Using \u001b[34m\u001b[34m\"','\"\u001b[34m\u001b[39m as decimal and \u001b[34m\u001b[34m\"'.'\"\u001b[34m\u001b[39m as grouping mark. Use `read_delim()` for more control.\n",
      "\n",
      "\u001b[1m\u001b[22mNew names:\n",
      "\u001b[36m•\u001b[39m `` -> `...1`\n",
      "\u001b[36m•\u001b[39m `` -> `...2`\n",
      "\u001b[36m•\u001b[39m `` -> `...3`\n",
      "\u001b[36m•\u001b[39m `` -> `...4`\n",
      "\u001b[36m•\u001b[39m `` -> `...5`\n",
      "\u001b[36m•\u001b[39m `` -> `...6`\n",
      "\u001b[36m•\u001b[39m `` -> `...7`\n",
      "\u001b[36m•\u001b[39m `` -> `...8`\n",
      "\u001b[36m•\u001b[39m `aSYN` -> `aSYN...9`\n",
      "\u001b[36m•\u001b[39m `aSYN` -> `aSYN...10`\n",
      "\u001b[36m•\u001b[39m `aSYN` -> `aSYN...11`\n",
      "\u001b[36m•\u001b[39m `aSYN` -> `aSYN...12`\n",
      "\u001b[36m•\u001b[39m `aSYN` -> `aSYN...13`\n",
      "\u001b[36m•\u001b[39m `aSYN` -> `aSYN...14`\n",
      "\u001b[36m•\u001b[39m `aSYN` -> `aSYN...15`\n",
      "\u001b[36m•\u001b[39m `aSYN` -> `aSYN...16`\n",
      "\u001b[36m•\u001b[39m `aSYN` -> `aSYN...17`\n",
      "\u001b[36m•\u001b[39m `aSYN` -> `aSYN...18`\n",
      "\u001b[36m•\u001b[39m `comb.` -> `comb....19`\n",
      "\u001b[36m•\u001b[39m `comb.` -> `comb....20`\n",
      "\u001b[36m•\u001b[39m `comb.` -> `comb....21`\n",
      "\u001b[36m•\u001b[39m `comb.` -> `comb....22`\n",
      "\u001b[36m•\u001b[39m `comb.` -> `comb....23`\n",
      "\u001b[36m•\u001b[39m `comb.` -> `comb....24`\n",
      "\u001b[36m•\u001b[39m `comb.` -> `comb....25`\n",
      "\u001b[36m•\u001b[39m `comb.` -> `comb....26`\n",
      "\u001b[36m•\u001b[39m `comb.` -> `comb....27`\n",
      "\u001b[36m•\u001b[39m `comb.` -> `comb....28`\n",
      "\u001b[36m•\u001b[39m `INFg` -> `INFg...29`\n",
      "\u001b[36m•\u001b[39m `INFg` -> `INFg...30`\n",
      "\u001b[36m•\u001b[39m `INFg` -> `INFg...31`\n",
      "\u001b[36m•\u001b[39m `INFg` -> `INFg...32`\n",
      "\u001b[36m•\u001b[39m `INFg` -> `INFg...33`\n",
      "\u001b[36m•\u001b[39m `INFg` -> `INFg...34`\n",
      "\u001b[36m•\u001b[39m `INFg` -> `INFg...35`\n",
      "\u001b[36m•\u001b[39m `INFg` -> `INFg...36`\n",
      "\u001b[36m•\u001b[39m `INFg` -> `INFg...37`\n",
      "\u001b[36m•\u001b[39m `INFg` -> `INFg...38`\n",
      "\u001b[36m•\u001b[39m `UT` -> `UT...39`\n",
      "\u001b[36m•\u001b[39m `UT` -> `UT...40`\n",
      "\u001b[36m•\u001b[39m `UT` -> `UT...41`\n",
      "\u001b[36m•\u001b[39m `UT` -> `UT...42`\n",
      "\u001b[36m•\u001b[39m `UT` -> `UT...43`\n",
      "\u001b[36m•\u001b[39m `UT` -> `UT...44`\n",
      "\u001b[36m•\u001b[39m `UT` -> `UT...45`\n",
      "\u001b[36m•\u001b[39m `UT` -> `UT...46`\n",
      "\u001b[36m•\u001b[39m `UT` -> `UT...47`\n",
      "\u001b[36m•\u001b[39m `UT` -> `UT...48`\n"
     ]
    },
    {
     "name": "stdout",
     "output_type": "stream",
     "text": [
      "[1] \"../../../PDproj/celldata/clean/cellshilicpos_log2.csv\"\n"
     ]
    }
   ],
   "source": [
    "fnum <- 2\n",
    "df <- read_csv2(paste(path, filenames[fnum], sep=''), show_col_types = FALSE)\n",
    "print(paste(path, filenames[fnum], sep=''))"
   ]
  },
  {
   "cell_type": "code",
   "execution_count": 79,
   "id": "56e5905e",
   "metadata": {},
   "outputs": [],
   "source": [
    "#head(df)"
   ]
  },
  {
   "cell_type": "markdown",
   "id": "c0d911af",
   "metadata": {},
   "source": [
    "### Get numerical features (P x N matrix, P features/peaks and N samples)"
   ]
  },
  {
   "cell_type": "code",
   "execution_count": 165,
   "id": "62db02b3",
   "metadata": {},
   "outputs": [],
   "source": [
    "#data <- df[-c(1,2),-(1:8)] %>% unlist() %>% as.numeric() %>% matrix(., nrow=nrow(data))\n",
    "Area <- df[-c(1,2),-(1:8)] %>% unlist() %>% as.numeric() %>% matrix(., nrow=nrow(data)) %>% t()\n",
    "groups <- c(rep(\"aSYN\",10),rep(\"comb.\",10),rep(\"INFg\",10),rep(\"UT\",10))"
   ]
  },
  {
   "cell_type": "code",
   "execution_count": 131,
   "id": "fb76ca56",
   "metadata": {},
   "outputs": [],
   "source": [
    "aSYN <- Area[1:10,]\n",
    "comb <- Area[11:20,]\n",
    "INFg <- Area[21:30,]\n",
    "UT <- Area[31:40,]"
   ]
  },
  {
   "cell_type": "code",
   "execution_count": 133,
   "id": "fea78687",
   "metadata": {},
   "outputs": [],
   "source": [
    "aSYN <- data[,1:10]\n",
    "comb <- data[,11:20]\n",
    "INFg <- data[,21:30]\n",
    "UT <- data[,31:40]"
   ]
  },
  {
   "cell_type": "code",
   "execution_count": 167,
   "id": "1374f69f",
   "metadata": {},
   "outputs": [
    {
     "data": {
      "text/html": [
       "<table class=\"dataframe\">\n",
       "<caption>A data.frame: 6 × 2</caption>\n",
       "<thead>\n",
       "\t<tr><th></th><th scope=col>area</th><th scope=col>group</th></tr>\n",
       "\t<tr><th></th><th scope=col>&lt;dbl&gt;</th><th scope=col>&lt;dbl&gt;</th></tr>\n",
       "</thead>\n",
       "<tbody>\n",
       "\t<tr><th scope=row>1</th><td>20.69992</td><td>1</td></tr>\n",
       "\t<tr><th scope=row>2</th><td>20.34658</td><td>1</td></tr>\n",
       "\t<tr><th scope=row>3</th><td>20.01113</td><td>1</td></tr>\n",
       "\t<tr><th scope=row>4</th><td>19.95199</td><td>1</td></tr>\n",
       "\t<tr><th scope=row>5</th><td>19.78653</td><td>1</td></tr>\n",
       "\t<tr><th scope=row>6</th><td>20.23891</td><td>1</td></tr>\n",
       "</tbody>\n",
       "</table>\n"
      ],
      "text/latex": [
       "A data.frame: 6 × 2\n",
       "\\begin{tabular}{r|ll}\n",
       "  & area & group\\\\\n",
       "  & <dbl> & <dbl>\\\\\n",
       "\\hline\n",
       "\t1 & 20.69992 & 1\\\\\n",
       "\t2 & 20.34658 & 1\\\\\n",
       "\t3 & 20.01113 & 1\\\\\n",
       "\t4 & 19.95199 & 1\\\\\n",
       "\t5 & 19.78653 & 1\\\\\n",
       "\t6 & 20.23891 & 1\\\\\n",
       "\\end{tabular}\n"
      ],
      "text/markdown": [
       "\n",
       "A data.frame: 6 × 2\n",
       "\n",
       "| <!--/--> | area &lt;dbl&gt; | group &lt;dbl&gt; |\n",
       "|---|---|---|\n",
       "| 1 | 20.69992 | 1 |\n",
       "| 2 | 20.34658 | 1 |\n",
       "| 3 | 20.01113 | 1 |\n",
       "| 4 | 19.95199 | 1 |\n",
       "| 5 | 19.78653 | 1 |\n",
       "| 6 | 20.23891 | 1 |\n",
       "\n"
      ],
      "text/plain": [
       "  area     group\n",
       "1 20.69992 1    \n",
       "2 20.34658 1    \n",
       "3 20.01113 1    \n",
       "4 19.95199 1    \n",
       "5 19.78653 1    \n",
       "6 20.23891 1    "
      ]
     },
     "metadata": {},
     "output_type": "display_data"
    }
   ],
   "source": [
    "testunit <- cbind(Area[,49],factor(groups)) %>% as.data.frame()\n",
    "colnames(testunit) <- c('area','group')\n",
    "head(testunit)"
   ]
  },
  {
   "cell_type": "code",
   "execution_count": 170,
   "id": "258f5be1",
   "metadata": {},
   "outputs": [
    {
     "name": "stderr",
     "output_type": "stream",
     "text": [
      "Compiling Stan program...\n",
      "\n",
      "Start sampling\n",
      "\n"
     ]
    }
   ],
   "source": [
    "mod_eqvar <- brm(\n",
    "  area ~ group,\n",
    "  data = testunit,\n",
    "  cores = 6\n",
    ")"
   ]
  },
  {
   "cell_type": "code",
   "execution_count": 171,
   "id": "3c357f3b",
   "metadata": {},
   "outputs": [
    {
     "data": {
      "text/plain": [
       " Family: gaussian \n",
       "  Links: mu = identity; sigma = identity \n",
       "Formula: area ~ group \n",
       "   Data: testunit (Number of observations: 40) \n",
       "  Draws: 4 chains, each with iter = 2000; warmup = 1000; thin = 1;\n",
       "         total post-warmup draws = 4000\n",
       "\n",
       "Population-Level Effects: \n",
       "          Estimate Est.Error l-95% CI u-95% CI Rhat Bulk_ESS Tail_ESS\n",
       "Intercept    20.32      0.10    20.12    20.53 1.00     3827     2646\n",
       "group        -0.09      0.04    -0.16    -0.01 1.00     3695     2364\n",
       "\n",
       "Family Specific Parameters: \n",
       "      Estimate Est.Error l-95% CI u-95% CI Rhat Bulk_ESS Tail_ESS\n",
       "sigma     0.26      0.03     0.20     0.32 1.00     4008     3035\n",
       "\n",
       "Draws were sampled using sampling(NUTS). For each parameter, Bulk_ESS\n",
       "and Tail_ESS are effective sample size measures, and Rhat is the potential\n",
       "scale reduction factor on split chains (at convergence, Rhat = 1)."
      ]
     },
     "metadata": {},
     "output_type": "display_data"
    }
   ],
   "source": [
    "summary(mod_eqvar)"
   ]
  },
  {
   "cell_type": "code",
   "execution_count": null,
   "id": "7a9c5b74",
   "metadata": {},
   "outputs": [],
   "source": []
  }
 ],
 "metadata": {
  "kernelspec": {
   "display_name": "R",
   "language": "R",
   "name": "ir"
  },
  "language_info": {
   "codemirror_mode": "r",
   "file_extension": ".r",
   "mimetype": "text/x-r-source",
   "name": "R",
   "pygments_lexer": "r",
   "version": "4.2.2"
  }
 },
 "nbformat": 4,
 "nbformat_minor": 5
}
