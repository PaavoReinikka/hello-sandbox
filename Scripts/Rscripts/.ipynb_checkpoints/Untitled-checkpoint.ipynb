{
 "cells": [
  {
   "cell_type": "code",
   "execution_count": 3,
   "id": "b6a14291",
   "metadata": {},
   "outputs": [],
   "source": [
    "library(tidyverse)\n",
    "library(brms)"
   ]
  },
  {
   "cell_type": "code",
   "execution_count": 80,
   "id": "8246a9f4",
   "metadata": {},
   "outputs": [],
   "source": [
    "path <- \"../../../PDproj/celldata/clean/\"\n",
    "filenames <- readLines(paste(path,\"filenames.txt\", sep=''))[-1]"
   ]
  },
  {
   "cell_type": "code",
   "execution_count": 81,
   "id": "bdd20e06",
   "metadata": {},
   "outputs": [
    {
     "data": {
      "text/html": [
       "<style>\n",
       ".list-inline {list-style: none; margin:0; padding: 0}\n",
       ".list-inline>li {display: inline-block}\n",
       ".list-inline>li:not(:last-child)::after {content: \"\\00b7\"; padding: 0 .5ex}\n",
       "</style>\n",
       "<ol class=list-inline><li>'cellshilicneg_log2.csv'</li><li>'cellshilicpos_log2.csv'</li><li>'cellslipidomicsneg_log2.csv'</li><li>'cellslipidomicspos_log2.csv'</li><li>'cellsRPneg_log2.csv'</li><li>'cellsRPpos_log2.csv'</li><li>'mediumHILICneg_log2.csv'</li><li>'mediumHILICpos_log2.csv'</li><li>'mediumRPneg_log2.csv'</li><li>'mediumRPpos_log2.csv'</li></ol>\n"
      ],
      "text/latex": [
       "\\begin{enumerate*}\n",
       "\\item 'cellshilicneg\\_log2.csv'\n",
       "\\item 'cellshilicpos\\_log2.csv'\n",
       "\\item 'cellslipidomicsneg\\_log2.csv'\n",
       "\\item 'cellslipidomicspos\\_log2.csv'\n",
       "\\item 'cellsRPneg\\_log2.csv'\n",
       "\\item 'cellsRPpos\\_log2.csv'\n",
       "\\item 'mediumHILICneg\\_log2.csv'\n",
       "\\item 'mediumHILICpos\\_log2.csv'\n",
       "\\item 'mediumRPneg\\_log2.csv'\n",
       "\\item 'mediumRPpos\\_log2.csv'\n",
       "\\end{enumerate*}\n"
      ],
      "text/markdown": [
       "1. 'cellshilicneg_log2.csv'\n",
       "2. 'cellshilicpos_log2.csv'\n",
       "3. 'cellslipidomicsneg_log2.csv'\n",
       "4. 'cellslipidomicspos_log2.csv'\n",
       "5. 'cellsRPneg_log2.csv'\n",
       "6. 'cellsRPpos_log2.csv'\n",
       "7. 'mediumHILICneg_log2.csv'\n",
       "8. 'mediumHILICpos_log2.csv'\n",
       "9. 'mediumRPneg_log2.csv'\n",
       "10. 'mediumRPpos_log2.csv'\n",
       "\n",
       "\n"
      ],
      "text/plain": [
       " [1] \"cellshilicneg_log2.csv\"      \"cellshilicpos_log2.csv\"     \n",
       " [3] \"cellslipidomicsneg_log2.csv\" \"cellslipidomicspos_log2.csv\"\n",
       " [5] \"cellsRPneg_log2.csv\"         \"cellsRPpos_log2.csv\"        \n",
       " [7] \"mediumHILICneg_log2.csv\"     \"mediumHILICpos_log2.csv\"    \n",
       " [9] \"mediumRPneg_log2.csv\"        \"mediumRPpos_log2.csv\"       "
      ]
     },
     "metadata": {},
     "output_type": "display_data"
    }
   ],
   "source": [
    "filenames"
   ]
  },
  {
   "cell_type": "code",
   "execution_count": 83,
   "id": "3857e351",
   "metadata": {},
   "outputs": [
    {
     "name": "stderr",
     "output_type": "stream",
     "text": [
      "\u001b[36mℹ\u001b[39m Using \u001b[34m\u001b[34m\"','\"\u001b[34m\u001b[39m as decimal and \u001b[34m\u001b[34m\"'.'\"\u001b[34m\u001b[39m as grouping mark. Use `read_delim()` for more control.\n",
      "\n",
      "\u001b[1m\u001b[22mNew names:\n",
      "\u001b[36m•\u001b[39m `` -> `...1`\n",
      "\u001b[36m•\u001b[39m `` -> `...2`\n",
      "\u001b[36m•\u001b[39m `` -> `...3`\n",
      "\u001b[36m•\u001b[39m `` -> `...4`\n",
      "\u001b[36m•\u001b[39m `` -> `...5`\n",
      "\u001b[36m•\u001b[39m `` -> `...6`\n",
      "\u001b[36m•\u001b[39m `` -> `...7`\n",
      "\u001b[36m•\u001b[39m `` -> `...8`\n",
      "\u001b[36m•\u001b[39m `aSYN` -> `aSYN...9`\n",
      "\u001b[36m•\u001b[39m `aSYN` -> `aSYN...10`\n",
      "\u001b[36m•\u001b[39m `aSYN` -> `aSYN...11`\n",
      "\u001b[36m•\u001b[39m `aSYN` -> `aSYN...12`\n",
      "\u001b[36m•\u001b[39m `aSYN` -> `aSYN...13`\n",
      "\u001b[36m•\u001b[39m `aSYN` -> `aSYN...14`\n",
      "\u001b[36m•\u001b[39m `aSYN` -> `aSYN...15`\n",
      "\u001b[36m•\u001b[39m `aSYN` -> `aSYN...16`\n",
      "\u001b[36m•\u001b[39m `aSYN` -> `aSYN...17`\n",
      "\u001b[36m•\u001b[39m `aSYN` -> `aSYN...18`\n",
      "\u001b[36m•\u001b[39m `comb.` -> `comb....19`\n",
      "\u001b[36m•\u001b[39m `comb.` -> `comb....20`\n",
      "\u001b[36m•\u001b[39m `comb.` -> `comb....21`\n",
      "\u001b[36m•\u001b[39m `comb.` -> `comb....22`\n",
      "\u001b[36m•\u001b[39m `comb.` -> `comb....23`\n",
      "\u001b[36m•\u001b[39m `comb.` -> `comb....24`\n",
      "\u001b[36m•\u001b[39m `comb.` -> `comb....25`\n",
      "\u001b[36m•\u001b[39m `comb.` -> `comb....26`\n",
      "\u001b[36m•\u001b[39m `comb.` -> `comb....27`\n",
      "\u001b[36m•\u001b[39m `comb.` -> `comb....28`\n",
      "\u001b[36m•\u001b[39m `INFg` -> `INFg...29`\n",
      "\u001b[36m•\u001b[39m `INFg` -> `INFg...30`\n",
      "\u001b[36m•\u001b[39m `INFg` -> `INFg...31`\n",
      "\u001b[36m•\u001b[39m `INFg` -> `INFg...32`\n",
      "\u001b[36m•\u001b[39m `INFg` -> `INFg...33`\n",
      "\u001b[36m•\u001b[39m `INFg` -> `INFg...34`\n",
      "\u001b[36m•\u001b[39m `INFg` -> `INFg...35`\n",
      "\u001b[36m•\u001b[39m `INFg` -> `INFg...36`\n",
      "\u001b[36m•\u001b[39m `INFg` -> `INFg...37`\n",
      "\u001b[36m•\u001b[39m `INFg` -> `INFg...38`\n",
      "\u001b[36m•\u001b[39m `UT` -> `UT...39`\n",
      "\u001b[36m•\u001b[39m `UT` -> `UT...40`\n",
      "\u001b[36m•\u001b[39m `UT` -> `UT...41`\n",
      "\u001b[36m•\u001b[39m `UT` -> `UT...42`\n",
      "\u001b[36m•\u001b[39m `UT` -> `UT...43`\n",
      "\u001b[36m•\u001b[39m `UT` -> `UT...44`\n",
      "\u001b[36m•\u001b[39m `UT` -> `UT...45`\n",
      "\u001b[36m•\u001b[39m `UT` -> `UT...46`\n",
      "\u001b[36m•\u001b[39m `UT` -> `UT...47`\n",
      "\u001b[36m•\u001b[39m `UT` -> `UT...48`\n"
     ]
    },
    {
     "name": "stdout",
     "output_type": "stream",
     "text": [
      "[1] \"../../../PDproj/celldata/clean/cellshilicneg_log2.csv\"\n"
     ]
    }
   ],
   "source": [
    "fnum <- 1\n",
    "df <- read_csv2(paste(path, filenames[fnum], sep=''), show_col_types = FALSE)\n",
    "print(paste(path, filenames[fnum], sep=''))"
   ]
  },
  {
   "cell_type": "markdown",
   "id": "48d80e28",
   "metadata": {},
   "source": [
    "fnum <- 1\n",
    "df <- read_csv2(paste(path, filenames[fnum], sep=''))\n",
    "print(paste(path, filenames[fnum], sep=''))"
   ]
  },
  {
   "cell_type": "code",
   "execution_count": 79,
   "id": "07c0679f",
   "metadata": {},
   "outputs": [],
   "source": [
    "#head(df)"
   ]
  },
  {
   "cell_type": "markdown",
   "id": "4fbd83d7",
   "metadata": {},
   "source": [
    "### Get numerical features (P x N matrix, P features/peaks and N samples)"
   ]
  },
  {
   "cell_type": "code",
   "execution_count": 77,
   "id": "51eddd97",
   "metadata": {},
   "outputs": [],
   "source": [
    "data <- df[-c(1,2),-(1:8)] %>% unlist() %>% as.numeric() %>% matrix(., nrow=nrow(data))\n",
    "groups <- c(rep(\"aSYN\",10),rep(\"comb.\",10),rep(\"INFg\",10),rep(\"UT\",10))"
   ]
  },
  {
   "cell_type": "code",
   "execution_count": null,
   "id": "57de6e32",
   "metadata": {},
   "outputs": [],
   "source": []
  }
 ],
 "metadata": {
  "kernelspec": {
   "display_name": "R",
   "language": "R",
   "name": "ir"
  },
  "language_info": {
   "codemirror_mode": "r",
   "file_extension": ".r",
   "mimetype": "text/x-r-source",
   "name": "R",
   "pygments_lexer": "r",
   "version": "4.2.2"
  }
 },
 "nbformat": 4,
 "nbformat_minor": 5
}
